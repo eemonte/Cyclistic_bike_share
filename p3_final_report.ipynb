{
 "cells": [
  {
   "cell_type": "markdown",
   "metadata": {},
   "source": [
    "<h2 align='center'> Cyclistic: a bike-share program </h2>\n",
    "\n",
    "<h4 align='center'> (Part 3: Final Report) </h4>"
   ]
  },
  {
   "cell_type": "markdown",
   "metadata": {},
   "source": [
    "### Scenario:\n",
    "    \n",
    "You are a junior data analyst working in the marketing analyst team at Cyclistic, a bike-share company in Chicago. The director of marketing believes the company's future success depends on maximizing the number of annual memberships. Therefore, your team wants to understand how casual riders and annual members use Cyclistic bikes differently. \n",
    "\n",
    "From these insights, your team will design a new marketing strategy to convert casual riders into annual members. But first, Cyclistic executives must approve your recommendations, so they must be backed up with compelling data insights and professional data visualizations."
   ]
  },
  {
   "cell_type": "markdown",
   "metadata": {},
   "source": [
    "### Characters and teams:\n",
    "\n",
    "- #### Cyclistic:\n",
    "A bike-share program that features more than 5,800 bicycles and 600 docking stations. Cyclistic sets itself apart by also offering reclining bikes, hand tricycles, and cargo bikes, making bike-share more inclusive to people  with disabilities and riders who can't use a standard two-wheeled bike. The majority of riders opt for traditional bikes; about 8% of riders use the assistive options. Cyclistic users are more likely to rider for leisure, but about 30% use them to commute to work each day.\n",
    "\n",
    "- #### Lily Moreno:\n",
    "The director of marketing and your manager. Moreno is reponsible for the development of campaigns and initiatives to promote the bike-share program. These may include mail, social media, and other channels.\n",
    "\n",
    "- #### Cyclistic marketing analytics team:\n",
    "A team of data analysts who are responsible for collecting, analyzing, and reporting data that helps guide Cyclistic marketing strategy. You joined this team six months ago and have been busy learning about Cyclistic's mission and business goals -- as well as how you, as a junior data analyst, can help Cyclistic achieve them.\n",
    "\n",
    "- #### Cyclistic executive team:\n",
    "The notoriously detail-oriented executive team will decide whether to approve the recommended marketing program."
   ]
  },
  {
   "cell_type": "markdown",
   "metadata": {},
   "source": [
    "### About the company\n",
    "\n",
    "In 2016, Cyclistic launched a successful bike-share offering. Since then, the program has grown to a fleet of 5,824 bicycles that are geotracked and locked into a network of 692 stations across Chicago. The bikes can be unlocked from one station and returned to any other station in the system anytime.\n",
    "\n",
    "Until now, Cyclistic's marketing strategy relied on building general awareness and appealing to broad consumer segments. One approach that helped make these things possible was the flexibility of its pricing plans: single-ride passes, full-day passes, and annual memberships. Customers who purchase single-ride or full-day passes are referred to as casual riders. Customers who purchase annual memberships are Cyclistic members.\n",
    "\n",
    "Cyclistic's finance analysts have concluded that annual members are much more profitable than casual riders. Although the pricing flexibility helps Cyclistic attract more customers, Moreno believes that maximizing the number of annual members will be key to future growth. Rather than creating a marketing campaign that targets all-new customers, Moreno believes there is a very good chance to convert casual riders into members. She notes that casual riders are already aware of the Cyclistic program and have chosen Cyclistic for their mobility needs.\n",
    "\n",
    "Moreno has set a clear goal: Design marketing strategies aimed at converting casual riders into annual members. In order to do that, however, the marketing analyst team needs to better understand how annual members and casual riders differ, why casual riders would buy a membership, and how digital media could affect their marketing tactics. Moreno and her team are interested in analyzing the Cyclistic historical bike trip data to identify trends."
   ]
  },
  {
   "cell_type": "markdown",
   "metadata": {},
   "source": [
    "## Ask\n",
    "\n",
    "#### Business task:\n",
    "\n",
    "> In this case study, I analyze Cyclistic's historical bike trip data from April 2020 to March 2021 to identify trends for better understanding how annual members and casual riders use Cyclistic bikes differently; Then, I generate 3 recommendations based on this analysis for Cyclistic's marketing team to design marketing strategies for converting casual riders into annual members.\n",
    "\n",
    "#### Key stakeholders:\n",
    "\n",
    "> - Lily Moreno -- the director of Cyclistic marketing team\n",
    "> - Cyclistic marketing analytics team\n",
    "> - Cyclistic executive team"
   ]
  },
  {
   "cell_type": "markdown",
   "metadata": {},
   "source": [
    "### Prepare:\n",
    "\n",
    "#### The data I used in this case study is located __[here.](https://divvy-tripdata.s3.amazonaws.com/index.html)__\n",
    "\n",
    "> **Note:** the datasets have a different name because Cyclistic is a fictional company. For the purpose of this case study, the datasets are appropriate and will enable to answer the business questions. \n",
    "\n",
    "#### The data contains 12 datasets in total; Each dataset is represented of a monthly summary of bike trip data from April 2020 to March 2021, and it is consisted of 13 columns described as below:\n",
    "> - **ride_id:** unique id of each bike ride initiated\n",
    "> - **rideable_type:** 3 types of bikes used by Cycslistic -- docked_bike, electric_bike, classic_bike\n",
    "> - **started_at:** start date and time of each bike ride\n",
    "> - **ended_at:** end date and time of each bike ride\\\n",
    "> - **start_station_name:** bike station name where each bike ride starts\n",
    "> - **start_station_id:** bike station id where each bike ride starts\n",
    "> - **end_station_name:** bike station name where each bike ride ends\n",
    "> - **end_station_id:** bike station id where each bike ride ends\n",
    "> - **start_lat:** latitude of bike station where each bike ride starts\n",
    "> - **start_lng:** longitude of biek station where each bike ride starts\n",
    "> - **end_lat:** latitude of bike station where each bike ride ends\n",
    "> - **end_lng:** longitude of bike station where each bike ride ends\n",
    "> - **member_casual:** whether a bike rider is a member of Cyclistic program or not\n",
    "\n",
    "#### After examining the data, I believe the data meets the ROCCC standard:\n",
    "> The data is reliable, comprehensive, and cited -- it has been made available under this __[license](https://www.divvybikes.com/data-license-agreement)__ by Motivate International Inc under permissions from the City of Chicago's Divvy bicycle sharing service; The data is original because it is owned by the City of Chicago.; The data is current because it is updated by Motivate International Inc on a monthly basis.\n",
    "\n",
    "#### The potential problems with the data:\n",
    "> The data is provided \"as-is\" by Motivated International Inc, therefore, there are certain amount of invalid data in the data. As a result, the data requires some cleaning and transformation before it can be applied for further analysis."
   ]
  },
  {
   "cell_type": "markdown",
   "metadata": {},
   "source": [
    "### Process:\n",
    "\n",
    "#### The data is downloaded and stored on Google Drive and locally on my desktop."
   ]
  },
  {
   "cell_type": "code",
   "execution_count": null,
   "metadata": {},
   "outputs": [],
   "source": []
  },
  {
   "cell_type": "markdown",
   "metadata": {},
   "source": [
    "### Analyze:\n",
    "\n",
    "Now that your data is stored appropriately and has been prepared for analysis, start putting it to work.\n",
    "\n",
    "**Follow these steps for using spreadsheets:**\n",
    "1. Where relevant, make columns consistent and combine them into a single worksheet.\n",
    "2. Clean and transform your data to prepare for analysis.\n",
    "3. Conduct descriptive analysis.\n",
    "4. Run a few calculations in one file to get a better sense of the data layout. Options:\n",
    " - calculate the mean of ride_length\n",
    " - calculate the max ride_length\n",
    " - calculate the mode of day_of_week\n",
    "5. Create a pivot table to quickly calculate and visualize the data. Options:\n",
    " - calculate the average ride_length for members and casual riders. Try rows=member_casual; Values = Average of ride_length.\n",
    " - calculate the average ride_length for users by day_of_week. Try columns = day_of_week; Rows = member_casual; Values = Average of ride_length.\n",
    " - calculate the number of riders for users by day_of_week by adding Count of trip_id to Values\n",
    "6. Open another file and perform the same descriptive analysis steps. Explore different seasons to make some initial observations.\n",
    "7. Once you have spent some time working with the individual spreadsheets, merge them into a full-year view. Do this with the tool you have chosen to use to perform your final anaysis, either a spreadsheet, a database and SQL, or RStudio.\n",
    "8. Export a summary file for further analysis.\n",
    "\n",
    "**Follow these steps for using SQL:**\n",
    "1. Import your data.\n",
    "2. Explore your data, perhaps looking at the total number of rows, distinct values, maximum, minimum, or mean values.\n",
    "3. Where relevant, use JOIN statements to combine your relevant data into one table.\n",
    "4. Create summary staistics.\n",
    "5. Investigate interesting trends and save that information to a table.\n",
    "\n",
    "**Follow these steps for using R:**\n",
    "1. Import your data.\n",
    "2. Make columns consistent and merge them into a single dataframe.\n",
    "3. Clean up and add data to prepare for analysis.\n",
    "4. Conduct descriptive analysis.\n",
    "5. Export a summary file for further analysis."
   ]
  },
  {
   "cell_type": "markdown",
   "metadata": {},
   "source": [
    "### <font color='green'>Case Study Roadmap - Analyze</font>\n",
    "# <font color='crimson'>Dataquest Guided Project 1:</font>\n",
    "# <div align=\"center\"><b> Dataquest Guided Project 1: </b></div>\n",
    "\n",
    "\n",
    "**Guiding questions:**\n",
    "- How should you organize your data to perform analysis on it?\n",
    "- Has your data been properly formatted?\n",
    "- What surprises did you discover in the data?\n",
    "- What trends or relationships did you find in the data?\n",
    "- How will these insights help answer your business questions?\n",
    "\n",
    "**Key tasks:**\n",
    "1. Aggregate your data so it's useful and accessible.\n",
    "2. Organize and format your data.\n",
    "3. Perform calculations.\n",
    "4. Identify trends and relationships.\n",
    "\n",
    "**Deliverable:**\n",
    "- A summary of your analysis."
   ]
  },
  {
   "cell_type": "code",
   "execution_count": null,
   "metadata": {},
   "outputs": [],
   "source": []
  },
  {
   "cell_type": "markdown",
   "metadata": {},
   "source": [
    "### Share:\n",
    "\n",
    "Now that you have performed your analysis and gained some insights into your data, create visualizations to share your findings. Moreno has reminded you that they should be sophisticated and polished in order to effectively communicate to the executive team.\n",
    "\n",
    "Follow these steps:\n",
    "1. Take out a piece of paper and a pen and sketch some ideas for how you will visualize the data.\n",
    "2. Once you choose a visual form, open your tool of choice to create your visualization. Use a presentation software, such as PowerPoint or Google Slides; your spreadsheet program; Tableau; or R.\n",
    "3. Create your data visualization, remembering that contrast should be used to draw your audience's attention to the most important insights. Use artistic principles including size, color, and shape.\n",
    "4. Ensure clear meaning through the proper use of common elements, such as headlines, subtitles, and labels.\n",
    "5. Refine your data visualization by applying deep attention to detail."
   ]
  },
  {
   "cell_type": "markdown",
   "metadata": {},
   "source": [
    "### <font color='green'>Case Study Roadmap - Share</font>\n",
    "\n",
    "**Guiding questions:**\n",
    "- Were you able to answer the question of how annual members and casual riders use Cyclistic bikes differently?\n",
    "- What story does your data tell?\n",
    "- How do your findings relate to your original question?\n",
    "- Who is your audience? What is the best way to communicate with them?\n",
    "- Can data visualization help you share your findings?\n",
    "- Is your presentation accessible to your audience?\n",
    "\n",
    "**Key tasks:**\n",
    "1. Determine the best way to share your findings.\n",
    "2. Create effective data visualizations.\n",
    "3. Present your findings.\n",
    "4. Ensure your work is accessible.\n",
    "\n",
    "**Deliverable:**\n",
    "- Supporting visualizations and key findings."
   ]
  },
  {
   "cell_type": "code",
   "execution_count": null,
   "metadata": {},
   "outputs": [],
   "source": []
  },
  {
   "cell_type": "markdown",
   "metadata": {},
   "source": [
    "### Act:\n",
    "\n",
    "Now that you have finished creating your visualizations, act on your findings. Prepare the deliverables Morena asked you to create, including the three top recommendations based on your analysis.\n",
    "\n",
    "Follow these steps:\n",
    "1. If you do not have one already, create an online portfolio. (Use __[Creating an Interactive Portfolio with Google Sites](https://sites.google.com/site/eportfolioapps/online-tutorials-sites/sites-how-to)__ or __[Build a Portfolio with Google Sites](https://applieddigitalskills.withgoogle.com/c/middle-and-high-school/en/build-a-portfolio-with-google-sites/build-a-portfolio-with-google-sites/introduction-to-build-a-portfolio-with-google-sites.html)__\n",
    "2. Consider how you want to feature your case study in your portfolio.\n",
    "3. Upload or link your case study findings to your portfolio.\n",
    "4. Write a brief paragraph describing the case study, your process, and your discoveries.\n",
    "5. Add the paragraph to introduce your case study in your portfolio."
   ]
  },
  {
   "cell_type": "markdown",
   "metadata": {},
   "source": [
    "### <font color='green'>Case Study Roadmap - Act</font>\n",
    "\n",
    "**Guiding questions:**\n",
    "- What is your final conclusion based on your analysis?\n",
    "- How could your team and business apply your insights?\n",
    "- What next steps would you or your stakeholders take based on your findings?\n",
    "- Is there additional data you could use to expand on your findings?\n",
    "\n",
    "**Key tasks:**\n",
    "1. Create your portfolio.\n",
    "2. Add your case study.\n",
    "3. Practice presenting your case study to a friend or family member.\n",
    "\n",
    "**Deliverable:**\n",
    "- Your top three recommendations based on your analysis."
   ]
  },
  {
   "cell_type": "code",
   "execution_count": null,
   "metadata": {},
   "outputs": [],
   "source": []
  }
 ],
 "metadata": {
  "kernelspec": {
   "display_name": "Python 3",
   "language": "python",
   "name": "python3"
  },
  "language_info": {
   "codemirror_mode": {
    "name": "ipython",
    "version": 3
   },
   "file_extension": ".py",
   "mimetype": "text/x-python",
   "name": "python",
   "nbconvert_exporter": "python",
   "pygments_lexer": "ipython3",
   "version": "3.8.2"
  }
 },
 "nbformat": 4,
 "nbformat_minor": 4
}
