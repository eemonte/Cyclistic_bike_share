{
 "cells": [
  {
   "cell_type": "markdown",
   "metadata": {},
   "source": [
    "<h2 align='center'> Cyclistic: a bike-share program </h2>\n",
    "\n",
    "<h4 align='center'> (Part 1: Data Cleaning & Transformation) </h4>"
   ]
  },
  {
   "cell_type": "markdown",
   "metadata": {},
   "source": [
    "### 1. Import libraries and datasets"
   ]
  },
  {
   "cell_type": "code",
   "execution_count": 1,
   "metadata": {},
   "outputs": [],
   "source": [
    "import pandas as pd"
   ]
  },
  {
   "cell_type": "code",
   "execution_count": 2,
   "metadata": {},
   "outputs": [],
   "source": [
    "bt_202004 = pd.read_csv('/home/eemonte/00_PROJECTS/cs_1_bike_share/original_datasets/202004-divvy-tripdata.csv')\n",
    "bt_202005 = pd.read_csv('/home/eemonte/00_PROJECTS/cs_1_bike_share/original_datasets/202005-divvy-tripdata.csv')\n",
    "bt_202006 = pd.read_csv('/home/eemonte/00_PROJECTS/cs_1_bike_share/original_datasets/202006-divvy-tripdata.csv')\n",
    "bt_202007 = pd.read_csv('/home/eemonte/00_PROJECTS/cs_1_bike_share/original_datasets/202007-divvy-tripdata.csv')\n",
    "bt_202008 = pd.read_csv('/home/eemonte/00_PROJECTS/cs_1_bike_share/original_datasets/202008-divvy-tripdata.csv')\n",
    "bt_202009 = pd.read_csv('/home/eemonte/00_PROJECTS/cs_1_bike_share/original_datasets/202009-divvy-tripdata.csv')\n",
    "bt_202010 = pd.read_csv('/home/eemonte/00_PROJECTS/cs_1_bike_share/original_datasets/202010-divvy-tripdata.csv')\n",
    "bt_202011 = pd.read_csv('/home/eemonte/00_PROJECTS/cs_1_bike_share/original_datasets/202011-divvy-tripdata.csv')\n",
    "bt_202012 = pd.read_csv('/home/eemonte/00_PROJECTS/cs_1_bike_share/original_datasets/202012-divvy-tripdata.csv')\n",
    "bt_202101 = pd.read_csv('/home/eemonte/00_PROJECTS/cs_1_bike_share/original_datasets/202101-divvy-tripdata.csv')\n",
    "bt_202102 = pd.read_csv('/home/eemonte/00_PROJECTS/cs_1_bike_share/original_datasets/202102-divvy-tripdata.csv')\n",
    "bt_202103 = pd.read_csv('/home/eemonte/00_PROJECTS/cs_1_bike_share/original_datasets/202103-divvy-tripdata.csv')"
   ]
  },
  {
   "cell_type": "markdown",
   "metadata": {},
   "source": [
    "### 2. Examine datasets"
   ]
  },
  {
   "cell_type": "markdown",
   "metadata": {},
   "source": [
    "<span style=\"color:Green;\">(2-1) dataset: bike trips of April 2020 </span>"
   ]
  },
  {
   "cell_type": "code",
   "execution_count": 3,
   "metadata": {},
   "outputs": [
    {
     "data": {
      "text/html": [
       "<div>\n",
       "<style scoped>\n",
       "    .dataframe tbody tr th:only-of-type {\n",
       "        vertical-align: middle;\n",
       "    }\n",
       "\n",
       "    .dataframe tbody tr th {\n",
       "        vertical-align: top;\n",
       "    }\n",
       "\n",
       "    .dataframe thead th {\n",
       "        text-align: right;\n",
       "    }\n",
       "</style>\n",
       "<table border=\"1\" class=\"dataframe\">\n",
       "  <thead>\n",
       "    <tr style=\"text-align: right;\">\n",
       "      <th></th>\n",
       "      <th>ride_id</th>\n",
       "      <th>rideable_type</th>\n",
       "      <th>started_at</th>\n",
       "      <th>ended_at</th>\n",
       "      <th>start_station_name</th>\n",
       "      <th>start_station_id</th>\n",
       "      <th>end_station_name</th>\n",
       "      <th>end_station_id</th>\n",
       "      <th>start_lat</th>\n",
       "      <th>start_lng</th>\n",
       "      <th>end_lat</th>\n",
       "      <th>end_lng</th>\n",
       "      <th>member_casual</th>\n",
       "    </tr>\n",
       "  </thead>\n",
       "  <tbody>\n",
       "    <tr>\n",
       "      <th>0</th>\n",
       "      <td>A847FADBBC638E45</td>\n",
       "      <td>docked_bike</td>\n",
       "      <td>2020-04-26 17:45:14</td>\n",
       "      <td>2020-04-26 18:12:03</td>\n",
       "      <td>Eckhart Park</td>\n",
       "      <td>86</td>\n",
       "      <td>Lincoln Ave &amp; Diversey Pkwy</td>\n",
       "      <td>152.0</td>\n",
       "      <td>41.8964</td>\n",
       "      <td>-87.6610</td>\n",
       "      <td>41.9322</td>\n",
       "      <td>-87.6586</td>\n",
       "      <td>member</td>\n",
       "    </tr>\n",
       "    <tr>\n",
       "      <th>1</th>\n",
       "      <td>5405B80E996FF60D</td>\n",
       "      <td>docked_bike</td>\n",
       "      <td>2020-04-17 17:08:54</td>\n",
       "      <td>2020-04-17 17:17:03</td>\n",
       "      <td>Drake Ave &amp; Fullerton Ave</td>\n",
       "      <td>503</td>\n",
       "      <td>Kosciuszko Park</td>\n",
       "      <td>499.0</td>\n",
       "      <td>41.9244</td>\n",
       "      <td>-87.7154</td>\n",
       "      <td>41.9306</td>\n",
       "      <td>-87.7238</td>\n",
       "      <td>member</td>\n",
       "    </tr>\n",
       "    <tr>\n",
       "      <th>2</th>\n",
       "      <td>5DD24A79A4E006F4</td>\n",
       "      <td>docked_bike</td>\n",
       "      <td>2020-04-01 17:54:13</td>\n",
       "      <td>2020-04-01 18:08:36</td>\n",
       "      <td>McClurg Ct &amp; Erie St</td>\n",
       "      <td>142</td>\n",
       "      <td>Indiana Ave &amp; Roosevelt Rd</td>\n",
       "      <td>255.0</td>\n",
       "      <td>41.8945</td>\n",
       "      <td>-87.6179</td>\n",
       "      <td>41.8679</td>\n",
       "      <td>-87.6230</td>\n",
       "      <td>member</td>\n",
       "    </tr>\n",
       "    <tr>\n",
       "      <th>3</th>\n",
       "      <td>2A59BBDF5CDBA725</td>\n",
       "      <td>docked_bike</td>\n",
       "      <td>2020-04-07 12:50:19</td>\n",
       "      <td>2020-04-07 13:02:31</td>\n",
       "      <td>California Ave &amp; Division St</td>\n",
       "      <td>216</td>\n",
       "      <td>Wood St &amp; Augusta Blvd</td>\n",
       "      <td>657.0</td>\n",
       "      <td>41.9030</td>\n",
       "      <td>-87.6975</td>\n",
       "      <td>41.8992</td>\n",
       "      <td>-87.6722</td>\n",
       "      <td>member</td>\n",
       "    </tr>\n",
       "    <tr>\n",
       "      <th>4</th>\n",
       "      <td>27AD306C119C6158</td>\n",
       "      <td>docked_bike</td>\n",
       "      <td>2020-04-18 10:22:59</td>\n",
       "      <td>2020-04-18 11:15:54</td>\n",
       "      <td>Rush St &amp; Hubbard St</td>\n",
       "      <td>125</td>\n",
       "      <td>Sheridan Rd &amp; Lawrence Ave</td>\n",
       "      <td>323.0</td>\n",
       "      <td>41.8902</td>\n",
       "      <td>-87.6262</td>\n",
       "      <td>41.9695</td>\n",
       "      <td>-87.6547</td>\n",
       "      <td>casual</td>\n",
       "    </tr>\n",
       "  </tbody>\n",
       "</table>\n",
       "</div>"
      ],
      "text/plain": [
       "            ride_id rideable_type           started_at             ended_at  \\\n",
       "0  A847FADBBC638E45   docked_bike  2020-04-26 17:45:14  2020-04-26 18:12:03   \n",
       "1  5405B80E996FF60D   docked_bike  2020-04-17 17:08:54  2020-04-17 17:17:03   \n",
       "2  5DD24A79A4E006F4   docked_bike  2020-04-01 17:54:13  2020-04-01 18:08:36   \n",
       "3  2A59BBDF5CDBA725   docked_bike  2020-04-07 12:50:19  2020-04-07 13:02:31   \n",
       "4  27AD306C119C6158   docked_bike  2020-04-18 10:22:59  2020-04-18 11:15:54   \n",
       "\n",
       "             start_station_name  start_station_id  \\\n",
       "0                  Eckhart Park                86   \n",
       "1     Drake Ave & Fullerton Ave               503   \n",
       "2          McClurg Ct & Erie St               142   \n",
       "3  California Ave & Division St               216   \n",
       "4          Rush St & Hubbard St               125   \n",
       "\n",
       "              end_station_name  end_station_id  start_lat  start_lng  end_lat  \\\n",
       "0  Lincoln Ave & Diversey Pkwy           152.0    41.8964   -87.6610  41.9322   \n",
       "1              Kosciuszko Park           499.0    41.9244   -87.7154  41.9306   \n",
       "2   Indiana Ave & Roosevelt Rd           255.0    41.8945   -87.6179  41.8679   \n",
       "3       Wood St & Augusta Blvd           657.0    41.9030   -87.6975  41.8992   \n",
       "4   Sheridan Rd & Lawrence Ave           323.0    41.8902   -87.6262  41.9695   \n",
       "\n",
       "   end_lng member_casual  \n",
       "0 -87.6586        member  \n",
       "1 -87.7238        member  \n",
       "2 -87.6230        member  \n",
       "3 -87.6722        member  \n",
       "4 -87.6547        casual  "
      ]
     },
     "execution_count": 3,
     "metadata": {},
     "output_type": "execute_result"
    }
   ],
   "source": [
    "bt_202004.head()"
   ]
  },
  {
   "cell_type": "code",
   "execution_count": 4,
   "metadata": {},
   "outputs": [
    {
     "data": {
      "text/plain": [
       "ride_id                object\n",
       "rideable_type          object\n",
       "started_at             object\n",
       "ended_at               object\n",
       "start_station_name     object\n",
       "start_station_id        int64\n",
       "end_station_name       object\n",
       "end_station_id        float64\n",
       "start_lat             float64\n",
       "start_lng             float64\n",
       "end_lat               float64\n",
       "end_lng               float64\n",
       "member_casual          object\n",
       "dtype: object"
      ]
     },
     "execution_count": 4,
     "metadata": {},
     "output_type": "execute_result"
    }
   ],
   "source": [
    "bt_202004.dtypes"
   ]
  },
  {
   "cell_type": "code",
   "execution_count": 5,
   "metadata": {},
   "outputs": [
    {
     "data": {
      "text/plain": [
       "ride_id                0\n",
       "rideable_type          0\n",
       "started_at             0\n",
       "ended_at               0\n",
       "start_station_name     0\n",
       "start_station_id       0\n",
       "end_station_name      99\n",
       "end_station_id        99\n",
       "start_lat              0\n",
       "start_lng              0\n",
       "end_lat               99\n",
       "end_lng               99\n",
       "member_casual          0\n",
       "dtype: int64"
      ]
     },
     "execution_count": 5,
     "metadata": {},
     "output_type": "execute_result"
    }
   ],
   "source": [
    "bt_202004.isna().sum()"
   ]
  },
  {
   "cell_type": "code",
   "execution_count": 6,
   "metadata": {
    "scrolled": true
   },
   "outputs": [],
   "source": [
    "# drop all NAN values in bt_202004\n",
    "bt_202004.dropna(inplace=True)"
   ]
  },
  {
   "cell_type": "code",
   "execution_count": 7,
   "metadata": {},
   "outputs": [],
   "source": [
    "# convert 'end_station_id' column from floating points to integers\n",
    "bt_202004['end_station_id'] = bt_202004['end_station_id'].astype('int64')"
   ]
  },
  {
   "cell_type": "markdown",
   "metadata": {},
   "source": [
    "<h4 style=\"color:Blue;\">The \"started_at\" column and the \"ended_at\" column are objects which they should be datetimes. However, I will leave them as-is for now (in fact, I will leave these two columns in all datasets) since my goal for the initial data cleaning is mainly clean out invalid and incorrect data.</h4>"
   ]
  },
  {
   "cell_type": "markdown",
   "metadata": {},
   "source": [
    "<h4 style=\"color:Green;\">(2-2) dataset: bike trips of May 2020</h4>"
   ]
  },
  {
   "cell_type": "code",
   "execution_count": 14,
   "metadata": {},
   "outputs": [
    {
     "data": {
      "text/html": [
       "<div>\n",
       "<style scoped>\n",
       "    .dataframe tbody tr th:only-of-type {\n",
       "        vertical-align: middle;\n",
       "    }\n",
       "\n",
       "    .dataframe tbody tr th {\n",
       "        vertical-align: top;\n",
       "    }\n",
       "\n",
       "    .dataframe thead th {\n",
       "        text-align: right;\n",
       "    }\n",
       "</style>\n",
       "<table border=\"1\" class=\"dataframe\">\n",
       "  <thead>\n",
       "    <tr style=\"text-align: right;\">\n",
       "      <th></th>\n",
       "      <th>ride_id</th>\n",
       "      <th>rideable_type</th>\n",
       "      <th>started_at</th>\n",
       "      <th>ended_at</th>\n",
       "      <th>start_station_name</th>\n",
       "      <th>start_station_id</th>\n",
       "      <th>end_station_name</th>\n",
       "      <th>end_station_id</th>\n",
       "      <th>start_lat</th>\n",
       "      <th>start_lng</th>\n",
       "      <th>end_lat</th>\n",
       "      <th>end_lng</th>\n",
       "      <th>member_casual</th>\n",
       "    </tr>\n",
       "  </thead>\n",
       "  <tbody>\n",
       "    <tr>\n",
       "      <th>0</th>\n",
       "      <td>02668AD35674B983</td>\n",
       "      <td>docked_bike</td>\n",
       "      <td>2020-05-27 10:03:52</td>\n",
       "      <td>2020-05-27 10:16:49</td>\n",
       "      <td>Franklin St &amp; Jackson Blvd</td>\n",
       "      <td>36</td>\n",
       "      <td>Wabash Ave &amp; Grand Ave</td>\n",
       "      <td>199</td>\n",
       "      <td>41.8777</td>\n",
       "      <td>-87.6353</td>\n",
       "      <td>41.8915</td>\n",
       "      <td>-87.6268</td>\n",
       "      <td>member</td>\n",
       "    </tr>\n",
       "    <tr>\n",
       "      <th>1</th>\n",
       "      <td>7A50CCAF1EDDB28F</td>\n",
       "      <td>docked_bike</td>\n",
       "      <td>2020-05-25 10:47:11</td>\n",
       "      <td>2020-05-25 11:05:40</td>\n",
       "      <td>Clark St &amp; Wrightwood Ave</td>\n",
       "      <td>340</td>\n",
       "      <td>Clark St &amp; Leland Ave</td>\n",
       "      <td>326</td>\n",
       "      <td>41.9295</td>\n",
       "      <td>-87.6431</td>\n",
       "      <td>41.9671</td>\n",
       "      <td>-87.6674</td>\n",
       "      <td>casual</td>\n",
       "    </tr>\n",
       "    <tr>\n",
       "      <th>2</th>\n",
       "      <td>2FFCDFDB91FE9A52</td>\n",
       "      <td>docked_bike</td>\n",
       "      <td>2020-05-02 14:11:03</td>\n",
       "      <td>2020-05-02 15:48:21</td>\n",
       "      <td>Kedzie Ave &amp; Milwaukee Ave</td>\n",
       "      <td>260</td>\n",
       "      <td>Kedzie Ave &amp; Milwaukee Ave</td>\n",
       "      <td>260</td>\n",
       "      <td>41.9296</td>\n",
       "      <td>-87.7079</td>\n",
       "      <td>41.9296</td>\n",
       "      <td>-87.7079</td>\n",
       "      <td>casual</td>\n",
       "    </tr>\n",
       "    <tr>\n",
       "      <th>3</th>\n",
       "      <td>58991CF1DB75BA84</td>\n",
       "      <td>docked_bike</td>\n",
       "      <td>2020-05-02 16:25:36</td>\n",
       "      <td>2020-05-02 16:39:28</td>\n",
       "      <td>Clarendon Ave &amp; Leland Ave</td>\n",
       "      <td>251</td>\n",
       "      <td>Lake Shore Dr &amp; Wellington Ave</td>\n",
       "      <td>157</td>\n",
       "      <td>41.9680</td>\n",
       "      <td>-87.6500</td>\n",
       "      <td>41.9367</td>\n",
       "      <td>-87.6368</td>\n",
       "      <td>casual</td>\n",
       "    </tr>\n",
       "    <tr>\n",
       "      <th>4</th>\n",
       "      <td>A79651EFECC268CD</td>\n",
       "      <td>docked_bike</td>\n",
       "      <td>2020-05-29 12:49:54</td>\n",
       "      <td>2020-05-29 13:27:11</td>\n",
       "      <td>Hermitage Ave &amp; Polk St</td>\n",
       "      <td>261</td>\n",
       "      <td>Halsted St &amp; Archer Ave</td>\n",
       "      <td>206</td>\n",
       "      <td>41.8715</td>\n",
       "      <td>-87.6699</td>\n",
       "      <td>41.8472</td>\n",
       "      <td>-87.6468</td>\n",
       "      <td>member</td>\n",
       "    </tr>\n",
       "  </tbody>\n",
       "</table>\n",
       "</div>"
      ],
      "text/plain": [
       "            ride_id rideable_type           started_at             ended_at  \\\n",
       "0  02668AD35674B983   docked_bike  2020-05-27 10:03:52  2020-05-27 10:16:49   \n",
       "1  7A50CCAF1EDDB28F   docked_bike  2020-05-25 10:47:11  2020-05-25 11:05:40   \n",
       "2  2FFCDFDB91FE9A52   docked_bike  2020-05-02 14:11:03  2020-05-02 15:48:21   \n",
       "3  58991CF1DB75BA84   docked_bike  2020-05-02 16:25:36  2020-05-02 16:39:28   \n",
       "4  A79651EFECC268CD   docked_bike  2020-05-29 12:49:54  2020-05-29 13:27:11   \n",
       "\n",
       "           start_station_name  start_station_id  \\\n",
       "0  Franklin St & Jackson Blvd                36   \n",
       "1   Clark St & Wrightwood Ave               340   \n",
       "2  Kedzie Ave & Milwaukee Ave               260   \n",
       "3  Clarendon Ave & Leland Ave               251   \n",
       "4     Hermitage Ave & Polk St               261   \n",
       "\n",
       "                 end_station_name  end_station_id  start_lat  start_lng  \\\n",
       "0          Wabash Ave & Grand Ave             199    41.8777   -87.6353   \n",
       "1           Clark St & Leland Ave             326    41.9295   -87.6431   \n",
       "2      Kedzie Ave & Milwaukee Ave             260    41.9296   -87.7079   \n",
       "3  Lake Shore Dr & Wellington Ave             157    41.9680   -87.6500   \n",
       "4         Halsted St & Archer Ave             206    41.8715   -87.6699   \n",
       "\n",
       "   end_lat  end_lng member_casual  \n",
       "0  41.8915 -87.6268        member  \n",
       "1  41.9671 -87.6674        casual  \n",
       "2  41.9296 -87.7079        casual  \n",
       "3  41.9367 -87.6368        casual  \n",
       "4  41.8472 -87.6468        member  "
      ]
     },
     "execution_count": 14,
     "metadata": {},
     "output_type": "execute_result"
    }
   ],
   "source": [
    "bt_202005.head()"
   ]
  },
  {
   "cell_type": "code",
   "execution_count": 8,
   "metadata": {},
   "outputs": [
    {
     "data": {
      "text/plain": [
       "ride_id                object\n",
       "rideable_type          object\n",
       "started_at             object\n",
       "ended_at               object\n",
       "start_station_name     object\n",
       "start_station_id        int64\n",
       "end_station_name       object\n",
       "end_station_id        float64\n",
       "start_lat             float64\n",
       "start_lng             float64\n",
       "end_lat               float64\n",
       "end_lng               float64\n",
       "member_casual          object\n",
       "dtype: object"
      ]
     },
     "execution_count": 8,
     "metadata": {},
     "output_type": "execute_result"
    }
   ],
   "source": [
    "bt_202005.dtypes"
   ]
  },
  {
   "cell_type": "code",
   "execution_count": 9,
   "metadata": {},
   "outputs": [
    {
     "data": {
      "text/plain": [
       "ride_id                 0\n",
       "rideable_type           0\n",
       "started_at              0\n",
       "ended_at                0\n",
       "start_station_name      0\n",
       "start_station_id        0\n",
       "end_station_name      321\n",
       "end_station_id        321\n",
       "start_lat               0\n",
       "start_lng               0\n",
       "end_lat               321\n",
       "end_lng               321\n",
       "member_casual           0\n",
       "dtype: int64"
      ]
     },
     "execution_count": 9,
     "metadata": {},
     "output_type": "execute_result"
    }
   ],
   "source": [
    "bt_202005.isna().sum()"
   ]
  },
  {
   "cell_type": "code",
   "execution_count": 10,
   "metadata": {},
   "outputs": [],
   "source": [
    "# drop all NAN values in bt_202005\n",
    "bt_202005.dropna(inplace=True)"
   ]
  },
  {
   "cell_type": "code",
   "execution_count": 11,
   "metadata": {},
   "outputs": [],
   "source": [
    "# convert 'end_station_id' from floating points to integers\n",
    "bt_202005['end_station_id'] = bt_202005['end_station_id'].astype('int64')"
   ]
  },
  {
   "cell_type": "markdown",
   "metadata": {},
   "source": [
    "<h4 style=\"color:Green;\">(2-3) dataset: bike trips of June 2020</h4>"
   ]
  },
  {
   "cell_type": "code",
   "execution_count": 15,
   "metadata": {},
   "outputs": [
    {
     "data": {
      "text/html": [
       "<div>\n",
       "<style scoped>\n",
       "    .dataframe tbody tr th:only-of-type {\n",
       "        vertical-align: middle;\n",
       "    }\n",
       "\n",
       "    .dataframe tbody tr th {\n",
       "        vertical-align: top;\n",
       "    }\n",
       "\n",
       "    .dataframe thead th {\n",
       "        text-align: right;\n",
       "    }\n",
       "</style>\n",
       "<table border=\"1\" class=\"dataframe\">\n",
       "  <thead>\n",
       "    <tr style=\"text-align: right;\">\n",
       "      <th></th>\n",
       "      <th>ride_id</th>\n",
       "      <th>rideable_type</th>\n",
       "      <th>started_at</th>\n",
       "      <th>ended_at</th>\n",
       "      <th>start_station_name</th>\n",
       "      <th>start_station_id</th>\n",
       "      <th>end_station_name</th>\n",
       "      <th>end_station_id</th>\n",
       "      <th>start_lat</th>\n",
       "      <th>start_lng</th>\n",
       "      <th>end_lat</th>\n",
       "      <th>end_lng</th>\n",
       "      <th>member_casual</th>\n",
       "    </tr>\n",
       "  </thead>\n",
       "  <tbody>\n",
       "    <tr>\n",
       "      <th>0</th>\n",
       "      <td>8CD5DE2C2B6C4CFC</td>\n",
       "      <td>docked_bike</td>\n",
       "      <td>2020-06-13 23:24:48</td>\n",
       "      <td>2020-06-13 23:36:55</td>\n",
       "      <td>Wilton Ave &amp; Belmont Ave</td>\n",
       "      <td>117</td>\n",
       "      <td>Damen Ave &amp; Clybourn Ave</td>\n",
       "      <td>163.0</td>\n",
       "      <td>41.940180</td>\n",
       "      <td>-87.653040</td>\n",
       "      <td>41.931931</td>\n",
       "      <td>-87.677856</td>\n",
       "      <td>casual</td>\n",
       "    </tr>\n",
       "    <tr>\n",
       "      <th>1</th>\n",
       "      <td>9A191EB2C751D85D</td>\n",
       "      <td>docked_bike</td>\n",
       "      <td>2020-06-26 07:26:10</td>\n",
       "      <td>2020-06-26 07:31:58</td>\n",
       "      <td>Federal St &amp; Polk St</td>\n",
       "      <td>41</td>\n",
       "      <td>Daley Center Plaza</td>\n",
       "      <td>81.0</td>\n",
       "      <td>41.872077</td>\n",
       "      <td>-87.629543</td>\n",
       "      <td>41.884241</td>\n",
       "      <td>-87.629634</td>\n",
       "      <td>member</td>\n",
       "    </tr>\n",
       "    <tr>\n",
       "      <th>2</th>\n",
       "      <td>F37D14B0B5659BCF</td>\n",
       "      <td>docked_bike</td>\n",
       "      <td>2020-06-23 17:12:41</td>\n",
       "      <td>2020-06-23 17:21:14</td>\n",
       "      <td>Daley Center Plaza</td>\n",
       "      <td>81</td>\n",
       "      <td>State St &amp; Harrison St</td>\n",
       "      <td>5.0</td>\n",
       "      <td>41.884241</td>\n",
       "      <td>-87.629634</td>\n",
       "      <td>41.874053</td>\n",
       "      <td>-87.627716</td>\n",
       "      <td>member</td>\n",
       "    </tr>\n",
       "    <tr>\n",
       "      <th>3</th>\n",
       "      <td>C41237B506E85FA1</td>\n",
       "      <td>docked_bike</td>\n",
       "      <td>2020-06-20 01:09:35</td>\n",
       "      <td>2020-06-20 01:28:24</td>\n",
       "      <td>Broadway &amp; Cornelia Ave</td>\n",
       "      <td>303</td>\n",
       "      <td>Broadway &amp; Berwyn Ave</td>\n",
       "      <td>294.0</td>\n",
       "      <td>41.945529</td>\n",
       "      <td>-87.646439</td>\n",
       "      <td>41.978353</td>\n",
       "      <td>-87.659753</td>\n",
       "      <td>casual</td>\n",
       "    </tr>\n",
       "    <tr>\n",
       "      <th>4</th>\n",
       "      <td>4B51B3B0BDA7787C</td>\n",
       "      <td>docked_bike</td>\n",
       "      <td>2020-06-25 16:59:25</td>\n",
       "      <td>2020-06-25 17:08:48</td>\n",
       "      <td>Sheffield Ave &amp; Webster Ave</td>\n",
       "      <td>327</td>\n",
       "      <td>Wilton Ave &amp; Belmont Ave</td>\n",
       "      <td>117.0</td>\n",
       "      <td>41.921540</td>\n",
       "      <td>-87.653818</td>\n",
       "      <td>41.940180</td>\n",
       "      <td>-87.653040</td>\n",
       "      <td>casual</td>\n",
       "    </tr>\n",
       "  </tbody>\n",
       "</table>\n",
       "</div>"
      ],
      "text/plain": [
       "            ride_id rideable_type           started_at             ended_at  \\\n",
       "0  8CD5DE2C2B6C4CFC   docked_bike  2020-06-13 23:24:48  2020-06-13 23:36:55   \n",
       "1  9A191EB2C751D85D   docked_bike  2020-06-26 07:26:10  2020-06-26 07:31:58   \n",
       "2  F37D14B0B5659BCF   docked_bike  2020-06-23 17:12:41  2020-06-23 17:21:14   \n",
       "3  C41237B506E85FA1   docked_bike  2020-06-20 01:09:35  2020-06-20 01:28:24   \n",
       "4  4B51B3B0BDA7787C   docked_bike  2020-06-25 16:59:25  2020-06-25 17:08:48   \n",
       "\n",
       "            start_station_name  start_station_id          end_station_name  \\\n",
       "0     Wilton Ave & Belmont Ave               117  Damen Ave & Clybourn Ave   \n",
       "1         Federal St & Polk St                41        Daley Center Plaza   \n",
       "2           Daley Center Plaza                81    State St & Harrison St   \n",
       "3      Broadway & Cornelia Ave               303     Broadway & Berwyn Ave   \n",
       "4  Sheffield Ave & Webster Ave               327  Wilton Ave & Belmont Ave   \n",
       "\n",
       "   end_station_id  start_lat  start_lng    end_lat    end_lng member_casual  \n",
       "0           163.0  41.940180 -87.653040  41.931931 -87.677856        casual  \n",
       "1            81.0  41.872077 -87.629543  41.884241 -87.629634        member  \n",
       "2             5.0  41.884241 -87.629634  41.874053 -87.627716        member  \n",
       "3           294.0  41.945529 -87.646439  41.978353 -87.659753        casual  \n",
       "4           117.0  41.921540 -87.653818  41.940180 -87.653040        casual  "
      ]
     },
     "execution_count": 15,
     "metadata": {},
     "output_type": "execute_result"
    }
   ],
   "source": [
    "bt_202006.head()"
   ]
  },
  {
   "cell_type": "code",
   "execution_count": 12,
   "metadata": {},
   "outputs": [
    {
     "data": {
      "text/plain": [
       "ride_id                object\n",
       "rideable_type          object\n",
       "started_at             object\n",
       "ended_at               object\n",
       "start_station_name     object\n",
       "start_station_id        int64\n",
       "end_station_name       object\n",
       "end_station_id        float64\n",
       "start_lat             float64\n",
       "start_lng             float64\n",
       "end_lat               float64\n",
       "end_lng               float64\n",
       "member_casual          object\n",
       "dtype: object"
      ]
     },
     "execution_count": 12,
     "metadata": {},
     "output_type": "execute_result"
    }
   ],
   "source": [
    "bt_202006.dtypes"
   ]
  },
  {
   "cell_type": "code",
   "execution_count": 13,
   "metadata": {},
   "outputs": [
    {
     "data": {
      "text/plain": [
       "ride_id                 0\n",
       "rideable_type           0\n",
       "started_at              0\n",
       "ended_at                0\n",
       "start_station_name      0\n",
       "start_station_id        0\n",
       "end_station_name      468\n",
       "end_station_id        468\n",
       "start_lat               0\n",
       "start_lng               0\n",
       "end_lat               468\n",
       "end_lng               468\n",
       "member_casual           0\n",
       "dtype: int64"
      ]
     },
     "execution_count": 13,
     "metadata": {},
     "output_type": "execute_result"
    }
   ],
   "source": [
    "bt_202006.isna().sum()"
   ]
  },
  {
   "cell_type": "code",
   "execution_count": 16,
   "metadata": {},
   "outputs": [],
   "source": [
    "# drop all NAN values in bt_202006\n",
    "bt_202006.dropna(inplace=True)"
   ]
  },
  {
   "cell_type": "code",
   "execution_count": 17,
   "metadata": {},
   "outputs": [],
   "source": [
    "# convert 'end_station_id' from floating points to integers\n",
    "bt_202006['end_station_id'] = bt_202006['end_station_id'].astype('int64')"
   ]
  },
  {
   "cell_type": "markdown",
   "metadata": {},
   "source": [
    "<h4 style=\"color:Green;\">(2-4) dataset: bike trips of July 2020</h4>"
   ]
  },
  {
   "cell_type": "code",
   "execution_count": 18,
   "metadata": {},
   "outputs": [
    {
     "data": {
      "text/html": [
       "<div>\n",
       "<style scoped>\n",
       "    .dataframe tbody tr th:only-of-type {\n",
       "        vertical-align: middle;\n",
       "    }\n",
       "\n",
       "    .dataframe tbody tr th {\n",
       "        vertical-align: top;\n",
       "    }\n",
       "\n",
       "    .dataframe thead th {\n",
       "        text-align: right;\n",
       "    }\n",
       "</style>\n",
       "<table border=\"1\" class=\"dataframe\">\n",
       "  <thead>\n",
       "    <tr style=\"text-align: right;\">\n",
       "      <th></th>\n",
       "      <th>ride_id</th>\n",
       "      <th>rideable_type</th>\n",
       "      <th>started_at</th>\n",
       "      <th>ended_at</th>\n",
       "      <th>start_station_name</th>\n",
       "      <th>start_station_id</th>\n",
       "      <th>end_station_name</th>\n",
       "      <th>end_station_id</th>\n",
       "      <th>start_lat</th>\n",
       "      <th>start_lng</th>\n",
       "      <th>end_lat</th>\n",
       "      <th>end_lng</th>\n",
       "      <th>member_casual</th>\n",
       "    </tr>\n",
       "  </thead>\n",
       "  <tbody>\n",
       "    <tr>\n",
       "      <th>0</th>\n",
       "      <td>762198876D69004D</td>\n",
       "      <td>docked_bike</td>\n",
       "      <td>2020-07-09 15:22:02</td>\n",
       "      <td>2020-07-09 15:25:52</td>\n",
       "      <td>Ritchie Ct &amp; Banks St</td>\n",
       "      <td>180.0</td>\n",
       "      <td>Wells St &amp; Evergreen Ave</td>\n",
       "      <td>291.0</td>\n",
       "      <td>41.906866</td>\n",
       "      <td>-87.626217</td>\n",
       "      <td>41.906724</td>\n",
       "      <td>-87.634830</td>\n",
       "      <td>member</td>\n",
       "    </tr>\n",
       "    <tr>\n",
       "      <th>1</th>\n",
       "      <td>BEC9C9FBA0D4CF1B</td>\n",
       "      <td>docked_bike</td>\n",
       "      <td>2020-07-24 23:56:30</td>\n",
       "      <td>2020-07-25 00:20:17</td>\n",
       "      <td>Halsted St &amp; Roscoe St</td>\n",
       "      <td>299.0</td>\n",
       "      <td>Broadway &amp; Ridge Ave</td>\n",
       "      <td>461.0</td>\n",
       "      <td>41.943670</td>\n",
       "      <td>-87.648950</td>\n",
       "      <td>41.984045</td>\n",
       "      <td>-87.660274</td>\n",
       "      <td>member</td>\n",
       "    </tr>\n",
       "    <tr>\n",
       "      <th>2</th>\n",
       "      <td>D2FD8EA432C77EC1</td>\n",
       "      <td>docked_bike</td>\n",
       "      <td>2020-07-08 19:49:07</td>\n",
       "      <td>2020-07-08 19:56:22</td>\n",
       "      <td>Lake Shore Dr &amp; Diversey Pkwy</td>\n",
       "      <td>329.0</td>\n",
       "      <td>Clark St &amp; Wellington Ave</td>\n",
       "      <td>156.0</td>\n",
       "      <td>41.932588</td>\n",
       "      <td>-87.636427</td>\n",
       "      <td>41.936497</td>\n",
       "      <td>-87.647539</td>\n",
       "      <td>casual</td>\n",
       "    </tr>\n",
       "    <tr>\n",
       "      <th>3</th>\n",
       "      <td>54AE594E20B35881</td>\n",
       "      <td>docked_bike</td>\n",
       "      <td>2020-07-17 19:06:42</td>\n",
       "      <td>2020-07-17 19:27:38</td>\n",
       "      <td>LaSalle St &amp; Illinois St</td>\n",
       "      <td>181.0</td>\n",
       "      <td>Clark St &amp; Armitage Ave</td>\n",
       "      <td>94.0</td>\n",
       "      <td>41.890762</td>\n",
       "      <td>-87.631697</td>\n",
       "      <td>41.918306</td>\n",
       "      <td>-87.636282</td>\n",
       "      <td>casual</td>\n",
       "    </tr>\n",
       "    <tr>\n",
       "      <th>4</th>\n",
       "      <td>54025FDC7440B56F</td>\n",
       "      <td>docked_bike</td>\n",
       "      <td>2020-07-04 10:39:57</td>\n",
       "      <td>2020-07-04 10:45:05</td>\n",
       "      <td>Lake Shore Dr &amp; North Blvd</td>\n",
       "      <td>268.0</td>\n",
       "      <td>Clark St &amp; Schiller St</td>\n",
       "      <td>301.0</td>\n",
       "      <td>41.911722</td>\n",
       "      <td>-87.626804</td>\n",
       "      <td>41.907993</td>\n",
       "      <td>-87.631501</td>\n",
       "      <td>member</td>\n",
       "    </tr>\n",
       "  </tbody>\n",
       "</table>\n",
       "</div>"
      ],
      "text/plain": [
       "            ride_id rideable_type           started_at             ended_at  \\\n",
       "0  762198876D69004D   docked_bike  2020-07-09 15:22:02  2020-07-09 15:25:52   \n",
       "1  BEC9C9FBA0D4CF1B   docked_bike  2020-07-24 23:56:30  2020-07-25 00:20:17   \n",
       "2  D2FD8EA432C77EC1   docked_bike  2020-07-08 19:49:07  2020-07-08 19:56:22   \n",
       "3  54AE594E20B35881   docked_bike  2020-07-17 19:06:42  2020-07-17 19:27:38   \n",
       "4  54025FDC7440B56F   docked_bike  2020-07-04 10:39:57  2020-07-04 10:45:05   \n",
       "\n",
       "              start_station_name  start_station_id           end_station_name  \\\n",
       "0          Ritchie Ct & Banks St             180.0   Wells St & Evergreen Ave   \n",
       "1         Halsted St & Roscoe St             299.0       Broadway & Ridge Ave   \n",
       "2  Lake Shore Dr & Diversey Pkwy             329.0  Clark St & Wellington Ave   \n",
       "3       LaSalle St & Illinois St             181.0    Clark St & Armitage Ave   \n",
       "4     Lake Shore Dr & North Blvd             268.0     Clark St & Schiller St   \n",
       "\n",
       "   end_station_id  start_lat  start_lng    end_lat    end_lng member_casual  \n",
       "0           291.0  41.906866 -87.626217  41.906724 -87.634830        member  \n",
       "1           461.0  41.943670 -87.648950  41.984045 -87.660274        member  \n",
       "2           156.0  41.932588 -87.636427  41.936497 -87.647539        casual  \n",
       "3            94.0  41.890762 -87.631697  41.918306 -87.636282        casual  \n",
       "4           301.0  41.911722 -87.626804  41.907993 -87.631501        member  "
      ]
     },
     "execution_count": 18,
     "metadata": {},
     "output_type": "execute_result"
    }
   ],
   "source": [
    "bt_202007.head()"
   ]
  },
  {
   "cell_type": "code",
   "execution_count": 19,
   "metadata": {},
   "outputs": [
    {
     "data": {
      "text/plain": [
       "ride_id                object\n",
       "rideable_type          object\n",
       "started_at             object\n",
       "ended_at               object\n",
       "start_station_name     object\n",
       "start_station_id      float64\n",
       "end_station_name       object\n",
       "end_station_id        float64\n",
       "start_lat             float64\n",
       "start_lng             float64\n",
       "end_lat               float64\n",
       "end_lng               float64\n",
       "member_casual          object\n",
       "dtype: object"
      ]
     },
     "execution_count": 19,
     "metadata": {},
     "output_type": "execute_result"
    }
   ],
   "source": [
    "bt_202007.dtypes"
   ]
  },
  {
   "cell_type": "code",
   "execution_count": 20,
   "metadata": {
    "scrolled": true
   },
   "outputs": [
    {
     "data": {
      "text/plain": [
       "ride_id                 0\n",
       "rideable_type           0\n",
       "started_at              0\n",
       "ended_at                0\n",
       "start_station_name    149\n",
       "start_station_id      152\n",
       "end_station_name      967\n",
       "end_station_id        969\n",
       "start_lat               0\n",
       "start_lng               0\n",
       "end_lat               770\n",
       "end_lng               770\n",
       "member_casual           0\n",
       "dtype: int64"
      ]
     },
     "execution_count": 20,
     "metadata": {},
     "output_type": "execute_result"
    }
   ],
   "source": [
    "bt_202007.isna().sum()"
   ]
  },
  {
   "cell_type": "code",
   "execution_count": 21,
   "metadata": {},
   "outputs": [],
   "source": [
    "# drop all NAN values in bt_202007\n",
    "bt_202007.dropna(inplace=True)"
   ]
  },
  {
   "cell_type": "code",
   "execution_count": 22,
   "metadata": {},
   "outputs": [],
   "source": [
    "# convert 'start_station_id' column from floating points to integers\n",
    "bt_202007['start_station_id'] = bt_202007['start_station_id'].astype('int64')\n",
    "\n",
    "# convert 'end_station_id' column from floating points to integers\n",
    "bt_202007['end_station_id'] = bt_202007['end_station_id'].astype('int64')"
   ]
  },
  {
   "cell_type": "markdown",
   "metadata": {},
   "source": [
    "<h4 style=\"color:Green;\">(2-5) dataset: bike trips of August 2020</h4>"
   ]
  },
  {
   "cell_type": "code",
   "execution_count": 23,
   "metadata": {},
   "outputs": [
    {
     "data": {
      "text/html": [
       "<div>\n",
       "<style scoped>\n",
       "    .dataframe tbody tr th:only-of-type {\n",
       "        vertical-align: middle;\n",
       "    }\n",
       "\n",
       "    .dataframe tbody tr th {\n",
       "        vertical-align: top;\n",
       "    }\n",
       "\n",
       "    .dataframe thead th {\n",
       "        text-align: right;\n",
       "    }\n",
       "</style>\n",
       "<table border=\"1\" class=\"dataframe\">\n",
       "  <thead>\n",
       "    <tr style=\"text-align: right;\">\n",
       "      <th></th>\n",
       "      <th>ride_id</th>\n",
       "      <th>rideable_type</th>\n",
       "      <th>started_at</th>\n",
       "      <th>ended_at</th>\n",
       "      <th>start_station_name</th>\n",
       "      <th>start_station_id</th>\n",
       "      <th>end_station_name</th>\n",
       "      <th>end_station_id</th>\n",
       "      <th>start_lat</th>\n",
       "      <th>start_lng</th>\n",
       "      <th>end_lat</th>\n",
       "      <th>end_lng</th>\n",
       "      <th>member_casual</th>\n",
       "    </tr>\n",
       "  </thead>\n",
       "  <tbody>\n",
       "    <tr>\n",
       "      <th>0</th>\n",
       "      <td>322BD23D287743ED</td>\n",
       "      <td>docked_bike</td>\n",
       "      <td>2020-08-20 18:08:14</td>\n",
       "      <td>2020-08-20 18:17:51</td>\n",
       "      <td>Lake Shore Dr &amp; Diversey Pkwy</td>\n",
       "      <td>329.0</td>\n",
       "      <td>Clark St &amp; Lincoln Ave</td>\n",
       "      <td>141.0</td>\n",
       "      <td>41.932588</td>\n",
       "      <td>-87.636427</td>\n",
       "      <td>41.915689</td>\n",
       "      <td>-87.634600</td>\n",
       "      <td>member</td>\n",
       "    </tr>\n",
       "    <tr>\n",
       "      <th>1</th>\n",
       "      <td>2A3AEF1AB9054D8B</td>\n",
       "      <td>electric_bike</td>\n",
       "      <td>2020-08-27 18:46:04</td>\n",
       "      <td>2020-08-27 19:54:51</td>\n",
       "      <td>Michigan Ave &amp; 14th St</td>\n",
       "      <td>168.0</td>\n",
       "      <td>Michigan Ave &amp; 14th St</td>\n",
       "      <td>168.0</td>\n",
       "      <td>41.864379</td>\n",
       "      <td>-87.623681</td>\n",
       "      <td>41.864221</td>\n",
       "      <td>-87.623439</td>\n",
       "      <td>casual</td>\n",
       "    </tr>\n",
       "    <tr>\n",
       "      <th>2</th>\n",
       "      <td>67DC1D133E8B5816</td>\n",
       "      <td>electric_bike</td>\n",
       "      <td>2020-08-26 19:44:14</td>\n",
       "      <td>2020-08-26 21:53:07</td>\n",
       "      <td>Columbus Dr &amp; Randolph St</td>\n",
       "      <td>195.0</td>\n",
       "      <td>State St &amp; Randolph St</td>\n",
       "      <td>44.0</td>\n",
       "      <td>41.884641</td>\n",
       "      <td>-87.619549</td>\n",
       "      <td>41.884971</td>\n",
       "      <td>-87.627574</td>\n",
       "      <td>casual</td>\n",
       "    </tr>\n",
       "    <tr>\n",
       "      <th>3</th>\n",
       "      <td>C79FBBD412E578A7</td>\n",
       "      <td>electric_bike</td>\n",
       "      <td>2020-08-27 12:05:41</td>\n",
       "      <td>2020-08-27 12:53:45</td>\n",
       "      <td>Daley Center Plaza</td>\n",
       "      <td>81.0</td>\n",
       "      <td>State St &amp; Kinzie St</td>\n",
       "      <td>47.0</td>\n",
       "      <td>41.884093</td>\n",
       "      <td>-87.629639</td>\n",
       "      <td>41.889583</td>\n",
       "      <td>-87.627540</td>\n",
       "      <td>casual</td>\n",
       "    </tr>\n",
       "    <tr>\n",
       "      <th>4</th>\n",
       "      <td>13814D3D661ECADB</td>\n",
       "      <td>electric_bike</td>\n",
       "      <td>2020-08-27 16:49:02</td>\n",
       "      <td>2020-08-27 16:59:49</td>\n",
       "      <td>Leavitt St &amp; Division St</td>\n",
       "      <td>658.0</td>\n",
       "      <td>Leavitt St &amp; Division St</td>\n",
       "      <td>658.0</td>\n",
       "      <td>41.902989</td>\n",
       "      <td>-87.683767</td>\n",
       "      <td>41.903002</td>\n",
       "      <td>-87.683844</td>\n",
       "      <td>casual</td>\n",
       "    </tr>\n",
       "  </tbody>\n",
       "</table>\n",
       "</div>"
      ],
      "text/plain": [
       "            ride_id  rideable_type           started_at             ended_at  \\\n",
       "0  322BD23D287743ED    docked_bike  2020-08-20 18:08:14  2020-08-20 18:17:51   \n",
       "1  2A3AEF1AB9054D8B  electric_bike  2020-08-27 18:46:04  2020-08-27 19:54:51   \n",
       "2  67DC1D133E8B5816  electric_bike  2020-08-26 19:44:14  2020-08-26 21:53:07   \n",
       "3  C79FBBD412E578A7  electric_bike  2020-08-27 12:05:41  2020-08-27 12:53:45   \n",
       "4  13814D3D661ECADB  electric_bike  2020-08-27 16:49:02  2020-08-27 16:59:49   \n",
       "\n",
       "              start_station_name  start_station_id          end_station_name  \\\n",
       "0  Lake Shore Dr & Diversey Pkwy             329.0    Clark St & Lincoln Ave   \n",
       "1         Michigan Ave & 14th St             168.0    Michigan Ave & 14th St   \n",
       "2      Columbus Dr & Randolph St             195.0    State St & Randolph St   \n",
       "3             Daley Center Plaza              81.0      State St & Kinzie St   \n",
       "4       Leavitt St & Division St             658.0  Leavitt St & Division St   \n",
       "\n",
       "   end_station_id  start_lat  start_lng    end_lat    end_lng member_casual  \n",
       "0           141.0  41.932588 -87.636427  41.915689 -87.634600        member  \n",
       "1           168.0  41.864379 -87.623681  41.864221 -87.623439        casual  \n",
       "2            44.0  41.884641 -87.619549  41.884971 -87.627574        casual  \n",
       "3            47.0  41.884093 -87.629639  41.889583 -87.627540        casual  \n",
       "4           658.0  41.902989 -87.683767  41.903002 -87.683844        casual  "
      ]
     },
     "execution_count": 23,
     "metadata": {},
     "output_type": "execute_result"
    }
   ],
   "source": [
    "bt_202008.head()"
   ]
  },
  {
   "cell_type": "code",
   "execution_count": 24,
   "metadata": {},
   "outputs": [
    {
     "data": {
      "text/plain": [
       "ride_id                object\n",
       "rideable_type          object\n",
       "started_at             object\n",
       "ended_at               object\n",
       "start_station_name     object\n",
       "start_station_id      float64\n",
       "end_station_name       object\n",
       "end_station_id        float64\n",
       "start_lat             float64\n",
       "start_lng             float64\n",
       "end_lat               float64\n",
       "end_lng               float64\n",
       "member_casual          object\n",
       "dtype: object"
      ]
     },
     "execution_count": 24,
     "metadata": {},
     "output_type": "execute_result"
    }
   ],
   "source": [
    "bt_202008.dtypes"
   ]
  },
  {
   "cell_type": "code",
   "execution_count": 25,
   "metadata": {},
   "outputs": [
    {
     "data": {
      "text/plain": [
       "ride_id                   0\n",
       "rideable_type             0\n",
       "started_at                0\n",
       "ended_at                  0\n",
       "start_station_name     7595\n",
       "start_station_id       7691\n",
       "end_station_name      10035\n",
       "end_station_id        10110\n",
       "start_lat                 0\n",
       "start_lng                 0\n",
       "end_lat                 938\n",
       "end_lng                 938\n",
       "member_casual             0\n",
       "dtype: int64"
      ]
     },
     "execution_count": 25,
     "metadata": {},
     "output_type": "execute_result"
    }
   ],
   "source": [
    "bt_202008.isna().sum()"
   ]
  },
  {
   "cell_type": "code",
   "execution_count": 26,
   "metadata": {},
   "outputs": [],
   "source": [
    "# drop all NAN values in bt_202008\n",
    "bt_202008.dropna(inplace=True)"
   ]
  },
  {
   "cell_type": "code",
   "execution_count": 27,
   "metadata": {},
   "outputs": [],
   "source": [
    "# convert 'start_station_id' column from floating points to integers\n",
    "bt_202008['start_station_id'] = bt_202008['start_station_id'].astype('int64')\n",
    "\n",
    "# convert 'end_station_id' column from floating points to integers\n",
    "bt_202008['end_station_id'] = bt_202008['end_station_id'].astype('int64')"
   ]
  },
  {
   "cell_type": "markdown",
   "metadata": {},
   "source": [
    "<h4 style=\"color:Green;\">(2-6) dataset: bike trips of September 2020</h4>"
   ]
  },
  {
   "cell_type": "code",
   "execution_count": 28,
   "metadata": {},
   "outputs": [
    {
     "data": {
      "text/html": [
       "<div>\n",
       "<style scoped>\n",
       "    .dataframe tbody tr th:only-of-type {\n",
       "        vertical-align: middle;\n",
       "    }\n",
       "\n",
       "    .dataframe tbody tr th {\n",
       "        vertical-align: top;\n",
       "    }\n",
       "\n",
       "    .dataframe thead th {\n",
       "        text-align: right;\n",
       "    }\n",
       "</style>\n",
       "<table border=\"1\" class=\"dataframe\">\n",
       "  <thead>\n",
       "    <tr style=\"text-align: right;\">\n",
       "      <th></th>\n",
       "      <th>ride_id</th>\n",
       "      <th>rideable_type</th>\n",
       "      <th>started_at</th>\n",
       "      <th>ended_at</th>\n",
       "      <th>start_station_name</th>\n",
       "      <th>start_station_id</th>\n",
       "      <th>end_station_name</th>\n",
       "      <th>end_station_id</th>\n",
       "      <th>start_lat</th>\n",
       "      <th>start_lng</th>\n",
       "      <th>end_lat</th>\n",
       "      <th>end_lng</th>\n",
       "      <th>member_casual</th>\n",
       "    </tr>\n",
       "  </thead>\n",
       "  <tbody>\n",
       "    <tr>\n",
       "      <th>0</th>\n",
       "      <td>2B22BD5F95FB2629</td>\n",
       "      <td>electric_bike</td>\n",
       "      <td>2020-09-17 14:27:11</td>\n",
       "      <td>2020-09-17 14:44:24</td>\n",
       "      <td>Michigan Ave &amp; Lake St</td>\n",
       "      <td>52.0</td>\n",
       "      <td>Green St &amp; Randolph St</td>\n",
       "      <td>112.0</td>\n",
       "      <td>41.886692</td>\n",
       "      <td>-87.623561</td>\n",
       "      <td>41.883571</td>\n",
       "      <td>-87.648731</td>\n",
       "      <td>casual</td>\n",
       "    </tr>\n",
       "    <tr>\n",
       "      <th>1</th>\n",
       "      <td>A7FB70B4AFC6CAF2</td>\n",
       "      <td>electric_bike</td>\n",
       "      <td>2020-09-17 15:07:31</td>\n",
       "      <td>2020-09-17 15:07:45</td>\n",
       "      <td>W Oakdale Ave &amp; N Broadway</td>\n",
       "      <td>NaN</td>\n",
       "      <td>W Oakdale Ave &amp; N Broadway</td>\n",
       "      <td>NaN</td>\n",
       "      <td>41.940000</td>\n",
       "      <td>-87.640000</td>\n",
       "      <td>41.940000</td>\n",
       "      <td>-87.640000</td>\n",
       "      <td>casual</td>\n",
       "    </tr>\n",
       "    <tr>\n",
       "      <th>2</th>\n",
       "      <td>86057FA01BAC778E</td>\n",
       "      <td>electric_bike</td>\n",
       "      <td>2020-09-17 15:09:04</td>\n",
       "      <td>2020-09-17 15:09:35</td>\n",
       "      <td>W Oakdale Ave &amp; N Broadway</td>\n",
       "      <td>NaN</td>\n",
       "      <td>W Oakdale Ave &amp; N Broadway</td>\n",
       "      <td>NaN</td>\n",
       "      <td>41.940000</td>\n",
       "      <td>-87.640000</td>\n",
       "      <td>41.940000</td>\n",
       "      <td>-87.640000</td>\n",
       "      <td>casual</td>\n",
       "    </tr>\n",
       "    <tr>\n",
       "      <th>3</th>\n",
       "      <td>57F6DC9A153DB98C</td>\n",
       "      <td>electric_bike</td>\n",
       "      <td>2020-09-17 18:10:46</td>\n",
       "      <td>2020-09-17 18:35:49</td>\n",
       "      <td>Ashland Ave &amp; Belle Plaine Ave</td>\n",
       "      <td>246.0</td>\n",
       "      <td>Montrose Harbor</td>\n",
       "      <td>249.0</td>\n",
       "      <td>41.956060</td>\n",
       "      <td>-87.668917</td>\n",
       "      <td>41.963985</td>\n",
       "      <td>-87.638216</td>\n",
       "      <td>casual</td>\n",
       "    </tr>\n",
       "    <tr>\n",
       "      <th>4</th>\n",
       "      <td>B9C4712F78C1AE68</td>\n",
       "      <td>electric_bike</td>\n",
       "      <td>2020-09-17 15:16:13</td>\n",
       "      <td>2020-09-17 15:52:55</td>\n",
       "      <td>Fairbanks Ct &amp; Grand Ave</td>\n",
       "      <td>24.0</td>\n",
       "      <td>Fairbanks Ct &amp; Grand Ave</td>\n",
       "      <td>24.0</td>\n",
       "      <td>41.891859</td>\n",
       "      <td>-87.621008</td>\n",
       "      <td>41.891346</td>\n",
       "      <td>-87.620325</td>\n",
       "      <td>casual</td>\n",
       "    </tr>\n",
       "  </tbody>\n",
       "</table>\n",
       "</div>"
      ],
      "text/plain": [
       "            ride_id  rideable_type           started_at             ended_at  \\\n",
       "0  2B22BD5F95FB2629  electric_bike  2020-09-17 14:27:11  2020-09-17 14:44:24   \n",
       "1  A7FB70B4AFC6CAF2  electric_bike  2020-09-17 15:07:31  2020-09-17 15:07:45   \n",
       "2  86057FA01BAC778E  electric_bike  2020-09-17 15:09:04  2020-09-17 15:09:35   \n",
       "3  57F6DC9A153DB98C  electric_bike  2020-09-17 18:10:46  2020-09-17 18:35:49   \n",
       "4  B9C4712F78C1AE68  electric_bike  2020-09-17 15:16:13  2020-09-17 15:52:55   \n",
       "\n",
       "               start_station_name  start_station_id  \\\n",
       "0          Michigan Ave & Lake St              52.0   \n",
       "1      W Oakdale Ave & N Broadway               NaN   \n",
       "2      W Oakdale Ave & N Broadway               NaN   \n",
       "3  Ashland Ave & Belle Plaine Ave             246.0   \n",
       "4        Fairbanks Ct & Grand Ave              24.0   \n",
       "\n",
       "             end_station_name  end_station_id  start_lat  start_lng  \\\n",
       "0      Green St & Randolph St           112.0  41.886692 -87.623561   \n",
       "1  W Oakdale Ave & N Broadway             NaN  41.940000 -87.640000   \n",
       "2  W Oakdale Ave & N Broadway             NaN  41.940000 -87.640000   \n",
       "3             Montrose Harbor           249.0  41.956060 -87.668917   \n",
       "4    Fairbanks Ct & Grand Ave            24.0  41.891859 -87.621008   \n",
       "\n",
       "     end_lat    end_lng member_casual  \n",
       "0  41.883571 -87.648731        casual  \n",
       "1  41.940000 -87.640000        casual  \n",
       "2  41.940000 -87.640000        casual  \n",
       "3  41.963985 -87.638216        casual  \n",
       "4  41.891346 -87.620325        casual  "
      ]
     },
     "execution_count": 28,
     "metadata": {},
     "output_type": "execute_result"
    }
   ],
   "source": [
    "bt_202009.head()"
   ]
  },
  {
   "cell_type": "code",
   "execution_count": 29,
   "metadata": {},
   "outputs": [
    {
     "data": {
      "text/plain": [
       "ride_id                object\n",
       "rideable_type          object\n",
       "started_at             object\n",
       "ended_at               object\n",
       "start_station_name     object\n",
       "start_station_id      float64\n",
       "end_station_name       object\n",
       "end_station_id        float64\n",
       "start_lat             float64\n",
       "start_lng             float64\n",
       "end_lat               float64\n",
       "end_lng               float64\n",
       "member_casual          object\n",
       "dtype: object"
      ]
     },
     "execution_count": 29,
     "metadata": {},
     "output_type": "execute_result"
    }
   ],
   "source": [
    "bt_202009.dtypes"
   ]
  },
  {
   "cell_type": "code",
   "execution_count": 30,
   "metadata": {
    "scrolled": true
   },
   "outputs": [
    {
     "data": {
      "text/plain": [
       "ride_id                   0\n",
       "rideable_type             0\n",
       "started_at                0\n",
       "ended_at                  0\n",
       "start_station_name    19691\n",
       "start_station_id      19901\n",
       "end_station_name      23373\n",
       "end_station_id        23524\n",
       "start_lat                 0\n",
       "start_lng                 0\n",
       "end_lat                 789\n",
       "end_lng                 789\n",
       "member_casual             0\n",
       "dtype: int64"
      ]
     },
     "execution_count": 30,
     "metadata": {},
     "output_type": "execute_result"
    }
   ],
   "source": [
    "bt_202009.isna().sum()"
   ]
  },
  {
   "cell_type": "code",
   "execution_count": 31,
   "metadata": {},
   "outputs": [],
   "source": [
    "# drop all NAN values in bt_202009\n",
    "bt_202009.dropna(inplace=True)"
   ]
  },
  {
   "cell_type": "code",
   "execution_count": 32,
   "metadata": {},
   "outputs": [],
   "source": [
    "# convert 'start_station_id' column from floating points to integers\n",
    "bt_202009['start_station_id'] = bt_202009['start_station_id'].astype('int64')\n",
    "\n",
    "# convert 'end_station_id' column from floating points to integers\n",
    "bt_202009['end_station_id'] = bt_202009['end_station_id'].astype('int64')"
   ]
  },
  {
   "cell_type": "markdown",
   "metadata": {},
   "source": [
    "<h4 style=\"color:Green;\">(2-7) dataset: bike trips of October 2020</h4>"
   ]
  },
  {
   "cell_type": "code",
   "execution_count": 33,
   "metadata": {},
   "outputs": [
    {
     "data": {
      "text/html": [
       "<div>\n",
       "<style scoped>\n",
       "    .dataframe tbody tr th:only-of-type {\n",
       "        vertical-align: middle;\n",
       "    }\n",
       "\n",
       "    .dataframe tbody tr th {\n",
       "        vertical-align: top;\n",
       "    }\n",
       "\n",
       "    .dataframe thead th {\n",
       "        text-align: right;\n",
       "    }\n",
       "</style>\n",
       "<table border=\"1\" class=\"dataframe\">\n",
       "  <thead>\n",
       "    <tr style=\"text-align: right;\">\n",
       "      <th></th>\n",
       "      <th>ride_id</th>\n",
       "      <th>rideable_type</th>\n",
       "      <th>started_at</th>\n",
       "      <th>ended_at</th>\n",
       "      <th>start_station_name</th>\n",
       "      <th>start_station_id</th>\n",
       "      <th>end_station_name</th>\n",
       "      <th>end_station_id</th>\n",
       "      <th>start_lat</th>\n",
       "      <th>start_lng</th>\n",
       "      <th>end_lat</th>\n",
       "      <th>end_lng</th>\n",
       "      <th>member_casual</th>\n",
       "    </tr>\n",
       "  </thead>\n",
       "  <tbody>\n",
       "    <tr>\n",
       "      <th>0</th>\n",
       "      <td>ACB6B40CF5B9044C</td>\n",
       "      <td>electric_bike</td>\n",
       "      <td>2020-10-31 19:39:43</td>\n",
       "      <td>2020-10-31 19:57:12</td>\n",
       "      <td>Lakeview Ave &amp; Fullerton Pkwy</td>\n",
       "      <td>313.0</td>\n",
       "      <td>Rush St &amp; Hubbard St</td>\n",
       "      <td>125.0</td>\n",
       "      <td>41.926101</td>\n",
       "      <td>-87.638977</td>\n",
       "      <td>41.890345</td>\n",
       "      <td>-87.626068</td>\n",
       "      <td>casual</td>\n",
       "    </tr>\n",
       "    <tr>\n",
       "      <th>1</th>\n",
       "      <td>DF450C72FD109C01</td>\n",
       "      <td>electric_bike</td>\n",
       "      <td>2020-10-31 23:50:08</td>\n",
       "      <td>2020-11-01 00:04:16</td>\n",
       "      <td>Southport Ave &amp; Waveland Ave</td>\n",
       "      <td>227.0</td>\n",
       "      <td>Kedzie Ave &amp; Milwaukee Ave</td>\n",
       "      <td>260.0</td>\n",
       "      <td>41.948172</td>\n",
       "      <td>-87.663911</td>\n",
       "      <td>41.929528</td>\n",
       "      <td>-87.707818</td>\n",
       "      <td>casual</td>\n",
       "    </tr>\n",
       "    <tr>\n",
       "      <th>2</th>\n",
       "      <td>B6396B54A15AC0DF</td>\n",
       "      <td>electric_bike</td>\n",
       "      <td>2020-10-31 23:00:01</td>\n",
       "      <td>2020-10-31 23:08:22</td>\n",
       "      <td>Stony Island Ave &amp; 67th St</td>\n",
       "      <td>102.0</td>\n",
       "      <td>University Ave &amp; 57th St</td>\n",
       "      <td>423.0</td>\n",
       "      <td>41.773462</td>\n",
       "      <td>-87.585372</td>\n",
       "      <td>41.791455</td>\n",
       "      <td>-87.600050</td>\n",
       "      <td>casual</td>\n",
       "    </tr>\n",
       "    <tr>\n",
       "      <th>3</th>\n",
       "      <td>44A4AEE261B9E854</td>\n",
       "      <td>electric_bike</td>\n",
       "      <td>2020-10-31 22:16:43</td>\n",
       "      <td>2020-10-31 22:19:35</td>\n",
       "      <td>Clark St &amp; Grace St</td>\n",
       "      <td>165.0</td>\n",
       "      <td>Broadway &amp; Sheridan Rd</td>\n",
       "      <td>256.0</td>\n",
       "      <td>41.950855</td>\n",
       "      <td>-87.659244</td>\n",
       "      <td>41.952809</td>\n",
       "      <td>-87.650103</td>\n",
       "      <td>casual</td>\n",
       "    </tr>\n",
       "    <tr>\n",
       "      <th>4</th>\n",
       "      <td>10B7DD76A6A2EB95</td>\n",
       "      <td>electric_bike</td>\n",
       "      <td>2020-10-31 19:38:19</td>\n",
       "      <td>2020-10-31 19:54:32</td>\n",
       "      <td>Southport Ave &amp; Wrightwood Ave</td>\n",
       "      <td>190.0</td>\n",
       "      <td>Stave St &amp; Armitage Ave</td>\n",
       "      <td>185.0</td>\n",
       "      <td>41.928857</td>\n",
       "      <td>-87.663962</td>\n",
       "      <td>41.917777</td>\n",
       "      <td>-87.691434</td>\n",
       "      <td>casual</td>\n",
       "    </tr>\n",
       "  </tbody>\n",
       "</table>\n",
       "</div>"
      ],
      "text/plain": [
       "            ride_id  rideable_type           started_at             ended_at  \\\n",
       "0  ACB6B40CF5B9044C  electric_bike  2020-10-31 19:39:43  2020-10-31 19:57:12   \n",
       "1  DF450C72FD109C01  electric_bike  2020-10-31 23:50:08  2020-11-01 00:04:16   \n",
       "2  B6396B54A15AC0DF  electric_bike  2020-10-31 23:00:01  2020-10-31 23:08:22   \n",
       "3  44A4AEE261B9E854  electric_bike  2020-10-31 22:16:43  2020-10-31 22:19:35   \n",
       "4  10B7DD76A6A2EB95  electric_bike  2020-10-31 19:38:19  2020-10-31 19:54:32   \n",
       "\n",
       "               start_station_name  start_station_id  \\\n",
       "0   Lakeview Ave & Fullerton Pkwy             313.0   \n",
       "1    Southport Ave & Waveland Ave             227.0   \n",
       "2      Stony Island Ave & 67th St             102.0   \n",
       "3             Clark St & Grace St             165.0   \n",
       "4  Southport Ave & Wrightwood Ave             190.0   \n",
       "\n",
       "             end_station_name  end_station_id  start_lat  start_lng  \\\n",
       "0        Rush St & Hubbard St           125.0  41.926101 -87.638977   \n",
       "1  Kedzie Ave & Milwaukee Ave           260.0  41.948172 -87.663911   \n",
       "2    University Ave & 57th St           423.0  41.773462 -87.585372   \n",
       "3      Broadway & Sheridan Rd           256.0  41.950855 -87.659244   \n",
       "4     Stave St & Armitage Ave           185.0  41.928857 -87.663962   \n",
       "\n",
       "     end_lat    end_lng member_casual  \n",
       "0  41.890345 -87.626068        casual  \n",
       "1  41.929528 -87.707818        casual  \n",
       "2  41.791455 -87.600050        casual  \n",
       "3  41.952809 -87.650103        casual  \n",
       "4  41.917777 -87.691434        casual  "
      ]
     },
     "execution_count": 33,
     "metadata": {},
     "output_type": "execute_result"
    }
   ],
   "source": [
    "bt_202010.head()"
   ]
  },
  {
   "cell_type": "code",
   "execution_count": 34,
   "metadata": {},
   "outputs": [
    {
     "data": {
      "text/plain": [
       "ride_id                object\n",
       "rideable_type          object\n",
       "started_at             object\n",
       "ended_at               object\n",
       "start_station_name     object\n",
       "start_station_id      float64\n",
       "end_station_name       object\n",
       "end_station_id        float64\n",
       "start_lat             float64\n",
       "start_lng             float64\n",
       "end_lat               float64\n",
       "end_lng               float64\n",
       "member_casual          object\n",
       "dtype: object"
      ]
     },
     "execution_count": 34,
     "metadata": {},
     "output_type": "execute_result"
    }
   ],
   "source": [
    "bt_202010.dtypes"
   ]
  },
  {
   "cell_type": "code",
   "execution_count": 35,
   "metadata": {},
   "outputs": [
    {
     "data": {
      "text/plain": [
       "ride_id                   0\n",
       "rideable_type             0\n",
       "started_at                0\n",
       "ended_at                  0\n",
       "start_station_name    31198\n",
       "start_station_id      31405\n",
       "end_station_name      35631\n",
       "end_station_id        35787\n",
       "start_lat                 0\n",
       "start_lng                 0\n",
       "end_lat                 474\n",
       "end_lng                 474\n",
       "member_casual             0\n",
       "dtype: int64"
      ]
     },
     "execution_count": 35,
     "metadata": {},
     "output_type": "execute_result"
    }
   ],
   "source": [
    "bt_202010.isna().sum()"
   ]
  },
  {
   "cell_type": "code",
   "execution_count": 36,
   "metadata": {},
   "outputs": [],
   "source": [
    "# drop all NAN values in bt_202010\n",
    "bt_202010.dropna(inplace=True)"
   ]
  },
  {
   "cell_type": "code",
   "execution_count": 37,
   "metadata": {},
   "outputs": [],
   "source": [
    "# convert 'start_station_id' column from floating points to integers\n",
    "bt_202010['start_station_id'] = bt_202010['start_station_id'].astype('int64')\n",
    "\n",
    "# convert 'end_station_id' column from floating points to integers\n",
    "bt_202010['end_station_id'] = bt_202010['end_station_id'].astype('int64')"
   ]
  },
  {
   "cell_type": "markdown",
   "metadata": {},
   "source": [
    "<h4 style=\"color:Green;\">(2-8) dataset: bike trips of November 2020</h4>"
   ]
  },
  {
   "cell_type": "code",
   "execution_count": 38,
   "metadata": {},
   "outputs": [
    {
     "data": {
      "text/html": [
       "<div>\n",
       "<style scoped>\n",
       "    .dataframe tbody tr th:only-of-type {\n",
       "        vertical-align: middle;\n",
       "    }\n",
       "\n",
       "    .dataframe tbody tr th {\n",
       "        vertical-align: top;\n",
       "    }\n",
       "\n",
       "    .dataframe thead th {\n",
       "        text-align: right;\n",
       "    }\n",
       "</style>\n",
       "<table border=\"1\" class=\"dataframe\">\n",
       "  <thead>\n",
       "    <tr style=\"text-align: right;\">\n",
       "      <th></th>\n",
       "      <th>ride_id</th>\n",
       "      <th>rideable_type</th>\n",
       "      <th>started_at</th>\n",
       "      <th>ended_at</th>\n",
       "      <th>start_station_name</th>\n",
       "      <th>start_station_id</th>\n",
       "      <th>end_station_name</th>\n",
       "      <th>end_station_id</th>\n",
       "      <th>start_lat</th>\n",
       "      <th>start_lng</th>\n",
       "      <th>end_lat</th>\n",
       "      <th>end_lng</th>\n",
       "      <th>member_casual</th>\n",
       "    </tr>\n",
       "  </thead>\n",
       "  <tbody>\n",
       "    <tr>\n",
       "      <th>0</th>\n",
       "      <td>BD0A6FF6FFF9B921</td>\n",
       "      <td>electric_bike</td>\n",
       "      <td>2020-11-01 13:36:00</td>\n",
       "      <td>2020-11-01 13:45:40</td>\n",
       "      <td>Dearborn St &amp; Erie St</td>\n",
       "      <td>110.0</td>\n",
       "      <td>St. Clair St &amp; Erie St</td>\n",
       "      <td>211.0</td>\n",
       "      <td>41.894177</td>\n",
       "      <td>-87.629127</td>\n",
       "      <td>41.894434</td>\n",
       "      <td>-87.623379</td>\n",
       "      <td>casual</td>\n",
       "    </tr>\n",
       "    <tr>\n",
       "      <th>1</th>\n",
       "      <td>96A7A7A4BDE4F82D</td>\n",
       "      <td>electric_bike</td>\n",
       "      <td>2020-11-01 10:03:26</td>\n",
       "      <td>2020-11-01 10:14:45</td>\n",
       "      <td>Franklin St &amp; Illinois St</td>\n",
       "      <td>672.0</td>\n",
       "      <td>Noble St &amp; Milwaukee Ave</td>\n",
       "      <td>29.0</td>\n",
       "      <td>41.890959</td>\n",
       "      <td>-87.635343</td>\n",
       "      <td>41.900675</td>\n",
       "      <td>-87.662480</td>\n",
       "      <td>casual</td>\n",
       "    </tr>\n",
       "    <tr>\n",
       "      <th>2</th>\n",
       "      <td>C61526D06582BDC5</td>\n",
       "      <td>electric_bike</td>\n",
       "      <td>2020-11-01 00:34:05</td>\n",
       "      <td>2020-11-01 01:03:06</td>\n",
       "      <td>Lake Shore Dr &amp; Monroe St</td>\n",
       "      <td>76.0</td>\n",
       "      <td>Federal St &amp; Polk St</td>\n",
       "      <td>41.0</td>\n",
       "      <td>41.880983</td>\n",
       "      <td>-87.616754</td>\n",
       "      <td>41.872054</td>\n",
       "      <td>-87.629550</td>\n",
       "      <td>casual</td>\n",
       "    </tr>\n",
       "    <tr>\n",
       "      <th>3</th>\n",
       "      <td>E533E89C32080B9E</td>\n",
       "      <td>electric_bike</td>\n",
       "      <td>2020-11-01 00:45:16</td>\n",
       "      <td>2020-11-01 00:54:31</td>\n",
       "      <td>Leavitt St &amp; Chicago Ave</td>\n",
       "      <td>659.0</td>\n",
       "      <td>Stave St &amp; Armitage Ave</td>\n",
       "      <td>185.0</td>\n",
       "      <td>41.895499</td>\n",
       "      <td>-87.682013</td>\n",
       "      <td>41.917744</td>\n",
       "      <td>-87.691392</td>\n",
       "      <td>casual</td>\n",
       "    </tr>\n",
       "    <tr>\n",
       "      <th>4</th>\n",
       "      <td>1C9F4EF18C168C60</td>\n",
       "      <td>electric_bike</td>\n",
       "      <td>2020-11-01 15:43:25</td>\n",
       "      <td>2020-11-01 16:16:52</td>\n",
       "      <td>Buckingham Fountain</td>\n",
       "      <td>2.0</td>\n",
       "      <td>Buckingham Fountain</td>\n",
       "      <td>2.0</td>\n",
       "      <td>41.876497</td>\n",
       "      <td>-87.620358</td>\n",
       "      <td>41.876448</td>\n",
       "      <td>-87.620338</td>\n",
       "      <td>casual</td>\n",
       "    </tr>\n",
       "  </tbody>\n",
       "</table>\n",
       "</div>"
      ],
      "text/plain": [
       "            ride_id  rideable_type           started_at             ended_at  \\\n",
       "0  BD0A6FF6FFF9B921  electric_bike  2020-11-01 13:36:00  2020-11-01 13:45:40   \n",
       "1  96A7A7A4BDE4F82D  electric_bike  2020-11-01 10:03:26  2020-11-01 10:14:45   \n",
       "2  C61526D06582BDC5  electric_bike  2020-11-01 00:34:05  2020-11-01 01:03:06   \n",
       "3  E533E89C32080B9E  electric_bike  2020-11-01 00:45:16  2020-11-01 00:54:31   \n",
       "4  1C9F4EF18C168C60  electric_bike  2020-11-01 15:43:25  2020-11-01 16:16:52   \n",
       "\n",
       "          start_station_name  start_station_id          end_station_name  \\\n",
       "0      Dearborn St & Erie St             110.0    St. Clair St & Erie St   \n",
       "1  Franklin St & Illinois St             672.0  Noble St & Milwaukee Ave   \n",
       "2  Lake Shore Dr & Monroe St              76.0      Federal St & Polk St   \n",
       "3   Leavitt St & Chicago Ave             659.0   Stave St & Armitage Ave   \n",
       "4        Buckingham Fountain               2.0       Buckingham Fountain   \n",
       "\n",
       "   end_station_id  start_lat  start_lng    end_lat    end_lng member_casual  \n",
       "0           211.0  41.894177 -87.629127  41.894434 -87.623379        casual  \n",
       "1            29.0  41.890959 -87.635343  41.900675 -87.662480        casual  \n",
       "2            41.0  41.880983 -87.616754  41.872054 -87.629550        casual  \n",
       "3           185.0  41.895499 -87.682013  41.917744 -87.691392        casual  \n",
       "4             2.0  41.876497 -87.620358  41.876448 -87.620338        casual  "
      ]
     },
     "execution_count": 38,
     "metadata": {},
     "output_type": "execute_result"
    }
   ],
   "source": [
    "bt_202011.head()"
   ]
  },
  {
   "cell_type": "code",
   "execution_count": 39,
   "metadata": {},
   "outputs": [
    {
     "data": {
      "text/plain": [
       "ride_id                object\n",
       "rideable_type          object\n",
       "started_at             object\n",
       "ended_at               object\n",
       "start_station_name     object\n",
       "start_station_id      float64\n",
       "end_station_name       object\n",
       "end_station_id        float64\n",
       "start_lat             float64\n",
       "start_lng             float64\n",
       "end_lat               float64\n",
       "end_lng               float64\n",
       "member_casual          object\n",
       "dtype: object"
      ]
     },
     "execution_count": 39,
     "metadata": {},
     "output_type": "execute_result"
    }
   ],
   "source": [
    "bt_202011.dtypes"
   ]
  },
  {
   "cell_type": "code",
   "execution_count": 40,
   "metadata": {},
   "outputs": [
    {
     "data": {
      "text/plain": [
       "ride_id                   0\n",
       "rideable_type             0\n",
       "started_at                0\n",
       "ended_at                  0\n",
       "start_station_name    24324\n",
       "start_station_id      24434\n",
       "end_station_name      26749\n",
       "end_station_id        26826\n",
       "start_lat                 0\n",
       "start_lng                 0\n",
       "end_lat                 284\n",
       "end_lng                 284\n",
       "member_casual             0\n",
       "dtype: int64"
      ]
     },
     "execution_count": 40,
     "metadata": {},
     "output_type": "execute_result"
    }
   ],
   "source": [
    "bt_202011.isna().sum()"
   ]
  },
  {
   "cell_type": "code",
   "execution_count": 41,
   "metadata": {},
   "outputs": [],
   "source": [
    "# drop all NAN values in bt_202011\n",
    "bt_202011.dropna(inplace=True)"
   ]
  },
  {
   "cell_type": "code",
   "execution_count": 42,
   "metadata": {},
   "outputs": [],
   "source": [
    "# convert 'start_station_id' column from floating points to integers\n",
    "bt_202011['start_station_id'] = bt_202011['start_station_id'].astype('int64')\n",
    "\n",
    "# convert 'end_station_id' column from floating points to integers\n",
    "bt_202011['end_station_id'] = bt_202011['end_station_id'].astype('int64')"
   ]
  },
  {
   "cell_type": "markdown",
   "metadata": {},
   "source": [
    "<h4 style=\"color:Green;\">(2-9) dataset: bike trips of December 2020</h4>"
   ]
  },
  {
   "cell_type": "code",
   "execution_count": 43,
   "metadata": {},
   "outputs": [
    {
     "data": {
      "text/html": [
       "<div>\n",
       "<style scoped>\n",
       "    .dataframe tbody tr th:only-of-type {\n",
       "        vertical-align: middle;\n",
       "    }\n",
       "\n",
       "    .dataframe tbody tr th {\n",
       "        vertical-align: top;\n",
       "    }\n",
       "\n",
       "    .dataframe thead th {\n",
       "        text-align: right;\n",
       "    }\n",
       "</style>\n",
       "<table border=\"1\" class=\"dataframe\">\n",
       "  <thead>\n",
       "    <tr style=\"text-align: right;\">\n",
       "      <th></th>\n",
       "      <th>ride_id</th>\n",
       "      <th>rideable_type</th>\n",
       "      <th>started_at</th>\n",
       "      <th>ended_at</th>\n",
       "      <th>start_station_name</th>\n",
       "      <th>start_station_id</th>\n",
       "      <th>end_station_name</th>\n",
       "      <th>end_station_id</th>\n",
       "      <th>start_lat</th>\n",
       "      <th>start_lng</th>\n",
       "      <th>end_lat</th>\n",
       "      <th>end_lng</th>\n",
       "      <th>member_casual</th>\n",
       "    </tr>\n",
       "  </thead>\n",
       "  <tbody>\n",
       "    <tr>\n",
       "      <th>0</th>\n",
       "      <td>70B6A9A437D4C30D</td>\n",
       "      <td>classic_bike</td>\n",
       "      <td>2020-12-27 12:44:29</td>\n",
       "      <td>2020-12-27 12:55:06</td>\n",
       "      <td>Aberdeen St &amp; Jackson Blvd</td>\n",
       "      <td>13157</td>\n",
       "      <td>Desplaines St &amp; Kinzie St</td>\n",
       "      <td>TA1306000003</td>\n",
       "      <td>41.877726</td>\n",
       "      <td>-87.654787</td>\n",
       "      <td>41.888716</td>\n",
       "      <td>-87.644448</td>\n",
       "      <td>member</td>\n",
       "    </tr>\n",
       "    <tr>\n",
       "      <th>1</th>\n",
       "      <td>158A465D4E74C54A</td>\n",
       "      <td>electric_bike</td>\n",
       "      <td>2020-12-18 17:37:15</td>\n",
       "      <td>2020-12-18 17:44:19</td>\n",
       "      <td>NaN</td>\n",
       "      <td>NaN</td>\n",
       "      <td>NaN</td>\n",
       "      <td>NaN</td>\n",
       "      <td>41.930000</td>\n",
       "      <td>-87.700000</td>\n",
       "      <td>41.910000</td>\n",
       "      <td>-87.700000</td>\n",
       "      <td>member</td>\n",
       "    </tr>\n",
       "    <tr>\n",
       "      <th>2</th>\n",
       "      <td>5262016E0F1F2F9A</td>\n",
       "      <td>electric_bike</td>\n",
       "      <td>2020-12-15 15:04:33</td>\n",
       "      <td>2020-12-15 15:11:28</td>\n",
       "      <td>NaN</td>\n",
       "      <td>NaN</td>\n",
       "      <td>NaN</td>\n",
       "      <td>NaN</td>\n",
       "      <td>41.910000</td>\n",
       "      <td>-87.690000</td>\n",
       "      <td>41.930000</td>\n",
       "      <td>-87.700000</td>\n",
       "      <td>member</td>\n",
       "    </tr>\n",
       "    <tr>\n",
       "      <th>3</th>\n",
       "      <td>BE119628E44F871E</td>\n",
       "      <td>electric_bike</td>\n",
       "      <td>2020-12-15 15:54:18</td>\n",
       "      <td>2020-12-15 16:00:11</td>\n",
       "      <td>NaN</td>\n",
       "      <td>NaN</td>\n",
       "      <td>NaN</td>\n",
       "      <td>NaN</td>\n",
       "      <td>41.920000</td>\n",
       "      <td>-87.700000</td>\n",
       "      <td>41.910000</td>\n",
       "      <td>-87.700000</td>\n",
       "      <td>member</td>\n",
       "    </tr>\n",
       "    <tr>\n",
       "      <th>4</th>\n",
       "      <td>69AF78D57854E110</td>\n",
       "      <td>electric_bike</td>\n",
       "      <td>2020-12-22 12:08:17</td>\n",
       "      <td>2020-12-22 12:10:59</td>\n",
       "      <td>NaN</td>\n",
       "      <td>NaN</td>\n",
       "      <td>NaN</td>\n",
       "      <td>NaN</td>\n",
       "      <td>41.800000</td>\n",
       "      <td>-87.590000</td>\n",
       "      <td>41.800000</td>\n",
       "      <td>-87.590000</td>\n",
       "      <td>member</td>\n",
       "    </tr>\n",
       "  </tbody>\n",
       "</table>\n",
       "</div>"
      ],
      "text/plain": [
       "            ride_id  rideable_type           started_at             ended_at  \\\n",
       "0  70B6A9A437D4C30D   classic_bike  2020-12-27 12:44:29  2020-12-27 12:55:06   \n",
       "1  158A465D4E74C54A  electric_bike  2020-12-18 17:37:15  2020-12-18 17:44:19   \n",
       "2  5262016E0F1F2F9A  electric_bike  2020-12-15 15:04:33  2020-12-15 15:11:28   \n",
       "3  BE119628E44F871E  electric_bike  2020-12-15 15:54:18  2020-12-15 16:00:11   \n",
       "4  69AF78D57854E110  electric_bike  2020-12-22 12:08:17  2020-12-22 12:10:59   \n",
       "\n",
       "           start_station_name start_station_id           end_station_name  \\\n",
       "0  Aberdeen St & Jackson Blvd            13157  Desplaines St & Kinzie St   \n",
       "1                         NaN              NaN                        NaN   \n",
       "2                         NaN              NaN                        NaN   \n",
       "3                         NaN              NaN                        NaN   \n",
       "4                         NaN              NaN                        NaN   \n",
       "\n",
       "  end_station_id  start_lat  start_lng    end_lat    end_lng member_casual  \n",
       "0   TA1306000003  41.877726 -87.654787  41.888716 -87.644448        member  \n",
       "1            NaN  41.930000 -87.700000  41.910000 -87.700000        member  \n",
       "2            NaN  41.910000 -87.690000  41.930000 -87.700000        member  \n",
       "3            NaN  41.920000 -87.700000  41.910000 -87.700000        member  \n",
       "4            NaN  41.800000 -87.590000  41.800000 -87.590000        member  "
      ]
     },
     "execution_count": 43,
     "metadata": {},
     "output_type": "execute_result"
    }
   ],
   "source": [
    "bt_202012.head()"
   ]
  },
  {
   "cell_type": "code",
   "execution_count": 44,
   "metadata": {},
   "outputs": [
    {
     "data": {
      "text/plain": [
       "ride_id                object\n",
       "rideable_type          object\n",
       "started_at             object\n",
       "ended_at               object\n",
       "start_station_name     object\n",
       "start_station_id       object\n",
       "end_station_name       object\n",
       "end_station_id         object\n",
       "start_lat             float64\n",
       "start_lng             float64\n",
       "end_lat               float64\n",
       "end_lng               float64\n",
       "member_casual          object\n",
       "dtype: object"
      ]
     },
     "execution_count": 44,
     "metadata": {},
     "output_type": "execute_result"
    }
   ],
   "source": [
    "bt_202012.dtypes"
   ]
  },
  {
   "cell_type": "code",
   "execution_count": 45,
   "metadata": {},
   "outputs": [
    {
     "data": {
      "text/plain": [
       "ride_id                   0\n",
       "rideable_type             0\n",
       "started_at                0\n",
       "ended_at                  0\n",
       "start_station_name    11699\n",
       "start_station_id      11699\n",
       "end_station_name      13237\n",
       "end_station_id        13237\n",
       "start_lat                 0\n",
       "start_lng                 0\n",
       "end_lat                 111\n",
       "end_lng                 111\n",
       "member_casual             0\n",
       "dtype: int64"
      ]
     },
     "execution_count": 45,
     "metadata": {},
     "output_type": "execute_result"
    }
   ],
   "source": [
    "bt_202012.isna().sum()"
   ]
  },
  {
   "cell_type": "code",
   "execution_count": 46,
   "metadata": {},
   "outputs": [],
   "source": [
    "# drop all NAN values in bt_202012\n",
    "bt_202012.dropna(inplace=True)"
   ]
  },
  {
   "cell_type": "markdown",
   "metadata": {},
   "source": [
    "<h4 style=\"color:Red;\"> After examinging the 'start_station_id' column and 'end_station_id' in this dataset, I found an inconsistency issue between station ids and their corresponding names. Specifically, if a start or end station's name is \"Rhodes Ave & 32nd St\", then its corresponding id is 263 in all previous nine datasets, but in this dataset it is associated with id 13215. </h4>\n",
    "    \n",
    "<h4 style=\"color:Red;\"> Therefore, I will re-validate the correct ids from cross-referecing all previous datasets, and then cast these two columns into integer datatype. </h4>"
   ]
  },
  {
   "cell_type": "code",
   "execution_count": 47,
   "metadata": {},
   "outputs": [],
   "source": [
    "# get all pairs of station names and ids from previous 8 datasets\n",
    "\n",
    "station_id = dict(zip(bt_202004['start_station_name'], bt_202004['start_station_id']))\n",
    "station_id.update(zip(bt_202004['end_station_name'], bt_202004['end_station_id']))\n",
    "\n",
    "station_id.update(zip(bt_202005['start_station_name'], bt_202005['start_station_id']))\n",
    "station_id.update(zip(bt_202005['end_station_name'], bt_202005['end_station_id']))\n",
    "\n",
    "station_id.update(zip(bt_202006['start_station_name'], bt_202006['start_station_id']))\n",
    "station_id.update(zip(bt_202006['end_station_name'], bt_202006['end_station_id']))\n",
    "\n",
    "station_id.update(zip(bt_202007['start_station_name'], bt_202007['start_station_id']))\n",
    "station_id.update(zip(bt_202007['end_station_name'], bt_202007['end_station_id']))\n",
    "\n",
    "station_id.update(zip(bt_202008['start_station_name'], bt_202008['start_station_id']))\n",
    "station_id.update(zip(bt_202008['end_station_name'], bt_202005['end_station_id']))\n",
    "\n",
    "station_id.update(zip(bt_202009['start_station_name'], bt_202009['start_station_id']))\n",
    "station_id.update(zip(bt_202009['end_station_name'], bt_202009['end_station_id']))\n",
    "\n",
    "station_id.update(zip(bt_202010['start_station_name'], bt_202010['start_station_id']))\n",
    "station_id.update(zip(bt_202010['end_station_name'], bt_202010['end_station_id']))\n",
    "\n",
    "station_id.update(zip(bt_202011['start_station_name'], bt_202011['start_station_id']))\n",
    "station_id.update(zip(bt_202011['end_station_name'], bt_202011['end_station_id']))"
   ]
  },
  {
   "cell_type": "markdown",
   "metadata": {},
   "source": [
    "<h4 style=\"color:Blue;\"> The function 'correct_station_name_id' below will grab all start station names and end station names from the input dataframe, determine if each station's name appears in the previous 8 datasets: </h4>\n",
    "\n",
    "- <p style=\"color:Blue;\"> if it does exist, update its corresponding id from the input dataframe to the correct one; </p>\n",
    "- <p style=\"color:Blue;\"> if it does not exist, mark the station's name in a list 'not_changed' for further cleaning.</p>"
   ]
  },
  {
   "cell_type": "code",
   "execution_count": 48,
   "metadata": {},
   "outputs": [],
   "source": [
    "not_changed = list()\n",
    "\n",
    "def correct_station_name_id(dataframe):\n",
    "    start_station_names = set(dataframe['start_station_name'])\n",
    "    end_station_names = set(dataframe['end_station_name'])\n",
    "    \n",
    "    # correct start_station_ids in the dataset\n",
    "    for name in start_station_names:\n",
    "        if name not in station_id.keys():\n",
    "            not_changed.append(name) # catch exceptions in case any station name haven't appeared in previous 8 datasets\n",
    "        else:\n",
    "            dataframe.loc[dataframe['start_station_name'] == name, 'start_station_id'] = station_id[name]\n",
    "    \n",
    "    # correct end_station_ids in the dataset\n",
    "    for name in end_station_names:\n",
    "        if name in not_changed:\n",
    "            continue\n",
    "        elif name not in station_id.keys():\n",
    "            not_changed.append(name) # catch exceptions in case any station name haven't appeared in previous 8 datasets\n",
    "        else:\n",
    "            dataframe.loc[dataframe['end_station_name'] == name, 'end_station_id'] = station_id[name]\n",
    "    \n",
    "    print('These stations below are not existed in the previous 8 datasets:')\n",
    "    return not_changed"
   ]
  },
  {
   "cell_type": "code",
   "execution_count": 49,
   "metadata": {
    "scrolled": false
   },
   "outputs": [
    {
     "name": "stdout",
     "output_type": "stream",
     "text": [
      "These stations below are not existed in the previous 8 datasets:\n"
     ]
    },
    {
     "data": {
      "text/plain": [
       "['W Armitage Ave & N Sheffield Ave',\n",
       " 'Base - 2132 W Hubbard Warehouse',\n",
       " 'W Oakdale Ave & N Broadway',\n",
       " 'N Green St & W Lake St',\n",
       " 'N Carpenter St & W Lake St']"
      ]
     },
     "execution_count": 49,
     "metadata": {},
     "output_type": "execute_result"
    }
   ],
   "source": [
    "# update stations' ids in bt_202012 and catch stations that're not existed from previous 8 datasets\n",
    "correct_station_name_id(bt_202012)"
   ]
  },
  {
   "cell_type": "markdown",
   "metadata": {},
   "source": [
    "<h4 style=\"color:Red;\"> As showed above, 5 station names were caught as exceptions in the list not_changed </h4>\n",
    "    \n",
    "<h4 style=\"color:Red;\"> Meanwhile, I've examined the rest 3 datasets, and I found in these 3 datasets these 5 station names and their corresponding ids are not correct as well. </h4>\n",
    "\n",
    "<h4 style=\"color:Blue;\"> Therefore, I've found the official dataset of all Divvy Bicycle Stations at <a href=\"https://data.cityofchicago.org/d/bbyy-e7gq?category=Transportation&view_name=Divvy-Bicycle-Stations\"> here </a> on <a href=\"httP://data.cityofchicago.org\"> The Chicago Data Portal website </a></h4>\n",
    "\n",
    "<h4 style=\"color:Blue;\"> I will download this dataset and import it below as the official reference to get the correct station names and/or corresponding ids.</h4>"
   ]
  },
  {
   "cell_type": "code",
   "execution_count": 50,
   "metadata": {
    "scrolled": false
   },
   "outputs": [],
   "source": [
    "# import the official bike stations information dataset\n",
    "official_station_info = pd.read_csv('/home/eemonte/00_PROJECTS/cs_1_bike_share/original_datasets/official_bike_stations_info.csv')\n",
    "\n",
    "# get the station name and id in pairs from the official station information dataset\n",
    "official_station_name_id = dict(zip(official_station_info['Station Name'], official_station_info['ID']))"
   ]
  },
  {
   "cell_type": "code",
   "execution_count": 51,
   "metadata": {
    "scrolled": true
   },
   "outputs": [],
   "source": [
    "# get the correct id of each station that're not existed in the previous 8 datasets from the official stations information dataset\n",
    "def get_correct_id():\n",
    "    cannot_find_this_station = []\n",
    "    for name in not_changed:\n",
    "        if name not in official_station_name_id.keys():\n",
    "            if name not in cannot_find_this_station:\n",
    "                cannot_find_this_station.append(name)\n",
    "        else:\n",
    "            correct_id = official_station_name_id[name]\n",
    "            print(name, ': ', correct_id)\n",
    "            #print('and its correct id found in the official stations information dataset is: ', correct_id)\n",
    "            print()\n",
    "    \n",
    "    print('These stations below cannot be found in the official stations information dataset:')\n",
    "    return cannot_find_this_station"
   ]
  },
  {
   "cell_type": "code",
   "execution_count": 52,
   "metadata": {},
   "outputs": [
    {
     "name": "stdout",
     "output_type": "stream",
     "text": [
      "W Armitage Ave & N Sheffield Ave :  1436495105198659242\n",
      "\n",
      "W Oakdale Ave & N Broadway :  1436495100903691938\n",
      "\n",
      "N Green St & W Lake St :  1436495109493626546\n",
      "\n",
      "N Carpenter St & W Lake St :  1436495105198659246\n",
      "\n",
      "These stations below cannot be found in the official stations information dataset:\n"
     ]
    },
    {
     "data": {
      "text/plain": [
       "['Base - 2132 W Hubbard Warehouse']"
      ]
     },
     "execution_count": 52,
     "metadata": {},
     "output_type": "execute_result"
    }
   ],
   "source": [
    "# get the correct ids of exceptional stations in list not_changed\n",
    "get_correct_id()"
   ]
  },
  {
   "cell_type": "markdown",
   "metadata": {},
   "source": [
    "<h4 style=\"color:red;\"> The station 'Base - 2132 W Hubbard Warehouse' cannot be found in the official station information dataset. Due to lack of information, I will drop these records. </h4>"
   ]
  },
  {
   "cell_type": "code",
   "execution_count": 53,
   "metadata": {},
   "outputs": [],
   "source": [
    "# drop records with start_station_name as 'Base - 2132 W Hubbard Warehouse'\n",
    "bt_202012.drop(bt_202012[bt_202012['start_station_name'] == 'Base - 2132 W Hubbard Warehouse'].index, inplace=True)\n",
    "\n",
    "# drop records with end_station_name as 'Base - 2132 W Hubbard Warehouse'\n",
    "bt_202012.drop(bt_202012[bt_202012['end_station_name'] == 'Base - 2132 W Hubbard Warehouse'].index, inplace=True)"
   ]
  },
  {
   "cell_type": "markdown",
   "metadata": {},
   "source": [
    "<h4 style=\"color:blue;\"> For the other 4 stations, I will manually update the ids in bt_202012 </h4>"
   ]
  },
  {
   "cell_type": "code",
   "execution_count": 54,
   "metadata": {},
   "outputs": [],
   "source": [
    "# update station's id with name of 'N Green St & W Lake St'\n",
    "filt_a1 = (bt_202012['start_station_name'] == 'N Green St & W Lake St')\n",
    "bt_202012.loc[filt_a1, 'start_station_id'] = 1436495109493626546\n",
    "\n",
    "filt_a2 = (bt_202012['end_station_name'] == 'N Green St & W Lake St')\n",
    "bt_202012.loc[filt_a2, 'end_station_id'] = 1436495109493626546"
   ]
  },
  {
   "cell_type": "code",
   "execution_count": 55,
   "metadata": {},
   "outputs": [],
   "source": [
    "# update station's id with name of 'W Oakdale Ave & N Broadway'\n",
    "filt_b1 = (bt_202012['start_station_name'] == 'W Oakdale Ave & N Broadway')\n",
    "bt_202012.loc[filt_b1, 'start_station_id'] = 1436495100903691938\n",
    "\n",
    "filt_b2 = (bt_202012['end_station_name'] == 'W Oakdale Ave & N Broadway')\n",
    "bt_202012.loc[filt_b2, 'end_station_id'] = 1436495100903691938"
   ]
  },
  {
   "cell_type": "code",
   "execution_count": 56,
   "metadata": {},
   "outputs": [],
   "source": [
    "# update station's id with name of 'W Armitage Ave & N Sheffield Ave'\n",
    "filt_c1 = (bt_202012['start_station_name'] == 'W Armitage Ave & N Sheffield Ave')\n",
    "bt_202012.loc[filt_c1, 'start_station_id'] = 1436495105198659242\n",
    "\n",
    "filt_c2 = (bt_202012['end_station_name'] == 'W Armitage Ave & N Sheffield Ave')\n",
    "bt_202012.loc[filt_c2, 'end_station_id'] = 1436495105198659242"
   ]
  },
  {
   "cell_type": "code",
   "execution_count": 57,
   "metadata": {},
   "outputs": [],
   "source": [
    "# update station's id with name of 'N Carpenter St & W Lake St'\n",
    "filt_d1 = (bt_202012['start_station_name'] == 'N Carpenter St & W Lake St')\n",
    "bt_202012.loc[filt_d1, 'start_station_id'] = 1436495105198659246\n",
    "\n",
    "filt_d2 = (bt_202012['end_station_name'] == 'N Carpenter St & W Lake St')\n",
    "bt_202012.loc[filt_d2, 'end_station_id'] = 1436495105198659246"
   ]
  },
  {
   "cell_type": "markdown",
   "metadata": {},
   "source": [
    "<h4 style=\"color:green;\"> (2-10) dataset: bike trips of January 2021 </h4>"
   ]
  },
  {
   "cell_type": "code",
   "execution_count": 58,
   "metadata": {},
   "outputs": [
    {
     "data": {
      "text/html": [
       "<div>\n",
       "<style scoped>\n",
       "    .dataframe tbody tr th:only-of-type {\n",
       "        vertical-align: middle;\n",
       "    }\n",
       "\n",
       "    .dataframe tbody tr th {\n",
       "        vertical-align: top;\n",
       "    }\n",
       "\n",
       "    .dataframe thead th {\n",
       "        text-align: right;\n",
       "    }\n",
       "</style>\n",
       "<table border=\"1\" class=\"dataframe\">\n",
       "  <thead>\n",
       "    <tr style=\"text-align: right;\">\n",
       "      <th></th>\n",
       "      <th>ride_id</th>\n",
       "      <th>rideable_type</th>\n",
       "      <th>started_at</th>\n",
       "      <th>ended_at</th>\n",
       "      <th>start_station_name</th>\n",
       "      <th>start_station_id</th>\n",
       "      <th>end_station_name</th>\n",
       "      <th>end_station_id</th>\n",
       "      <th>start_lat</th>\n",
       "      <th>start_lng</th>\n",
       "      <th>end_lat</th>\n",
       "      <th>end_lng</th>\n",
       "      <th>member_casual</th>\n",
       "    </tr>\n",
       "  </thead>\n",
       "  <tbody>\n",
       "    <tr>\n",
       "      <th>0</th>\n",
       "      <td>E19E6F1B8D4C42ED</td>\n",
       "      <td>electric_bike</td>\n",
       "      <td>2021-01-23 16:14:19</td>\n",
       "      <td>2021-01-23 16:24:44</td>\n",
       "      <td>California Ave &amp; Cortez St</td>\n",
       "      <td>17660</td>\n",
       "      <td>NaN</td>\n",
       "      <td>NaN</td>\n",
       "      <td>41.900341</td>\n",
       "      <td>-87.696743</td>\n",
       "      <td>41.89</td>\n",
       "      <td>-87.72</td>\n",
       "      <td>member</td>\n",
       "    </tr>\n",
       "    <tr>\n",
       "      <th>1</th>\n",
       "      <td>DC88F20C2C55F27F</td>\n",
       "      <td>electric_bike</td>\n",
       "      <td>2021-01-27 18:43:08</td>\n",
       "      <td>2021-01-27 18:47:12</td>\n",
       "      <td>California Ave &amp; Cortez St</td>\n",
       "      <td>17660</td>\n",
       "      <td>NaN</td>\n",
       "      <td>NaN</td>\n",
       "      <td>41.900333</td>\n",
       "      <td>-87.696707</td>\n",
       "      <td>41.90</td>\n",
       "      <td>-87.69</td>\n",
       "      <td>member</td>\n",
       "    </tr>\n",
       "    <tr>\n",
       "      <th>2</th>\n",
       "      <td>EC45C94683FE3F27</td>\n",
       "      <td>electric_bike</td>\n",
       "      <td>2021-01-21 22:35:54</td>\n",
       "      <td>2021-01-21 22:37:14</td>\n",
       "      <td>California Ave &amp; Cortez St</td>\n",
       "      <td>17660</td>\n",
       "      <td>NaN</td>\n",
       "      <td>NaN</td>\n",
       "      <td>41.900313</td>\n",
       "      <td>-87.696643</td>\n",
       "      <td>41.90</td>\n",
       "      <td>-87.70</td>\n",
       "      <td>member</td>\n",
       "    </tr>\n",
       "    <tr>\n",
       "      <th>3</th>\n",
       "      <td>4FA453A75AE377DB</td>\n",
       "      <td>electric_bike</td>\n",
       "      <td>2021-01-07 13:31:13</td>\n",
       "      <td>2021-01-07 13:42:55</td>\n",
       "      <td>California Ave &amp; Cortez St</td>\n",
       "      <td>17660</td>\n",
       "      <td>NaN</td>\n",
       "      <td>NaN</td>\n",
       "      <td>41.900399</td>\n",
       "      <td>-87.696662</td>\n",
       "      <td>41.92</td>\n",
       "      <td>-87.69</td>\n",
       "      <td>member</td>\n",
       "    </tr>\n",
       "    <tr>\n",
       "      <th>4</th>\n",
       "      <td>BE5E8EB4E7263A0B</td>\n",
       "      <td>electric_bike</td>\n",
       "      <td>2021-01-23 02:24:02</td>\n",
       "      <td>2021-01-23 02:24:45</td>\n",
       "      <td>California Ave &amp; Cortez St</td>\n",
       "      <td>17660</td>\n",
       "      <td>NaN</td>\n",
       "      <td>NaN</td>\n",
       "      <td>41.900326</td>\n",
       "      <td>-87.696697</td>\n",
       "      <td>41.90</td>\n",
       "      <td>-87.70</td>\n",
       "      <td>casual</td>\n",
       "    </tr>\n",
       "  </tbody>\n",
       "</table>\n",
       "</div>"
      ],
      "text/plain": [
       "            ride_id  rideable_type           started_at             ended_at  \\\n",
       "0  E19E6F1B8D4C42ED  electric_bike  2021-01-23 16:14:19  2021-01-23 16:24:44   \n",
       "1  DC88F20C2C55F27F  electric_bike  2021-01-27 18:43:08  2021-01-27 18:47:12   \n",
       "2  EC45C94683FE3F27  electric_bike  2021-01-21 22:35:54  2021-01-21 22:37:14   \n",
       "3  4FA453A75AE377DB  electric_bike  2021-01-07 13:31:13  2021-01-07 13:42:55   \n",
       "4  BE5E8EB4E7263A0B  electric_bike  2021-01-23 02:24:02  2021-01-23 02:24:45   \n",
       "\n",
       "           start_station_name start_station_id end_station_name  \\\n",
       "0  California Ave & Cortez St            17660              NaN   \n",
       "1  California Ave & Cortez St            17660              NaN   \n",
       "2  California Ave & Cortez St            17660              NaN   \n",
       "3  California Ave & Cortez St            17660              NaN   \n",
       "4  California Ave & Cortez St            17660              NaN   \n",
       "\n",
       "  end_station_id  start_lat  start_lng  end_lat  end_lng member_casual  \n",
       "0            NaN  41.900341 -87.696743    41.89   -87.72        member  \n",
       "1            NaN  41.900333 -87.696707    41.90   -87.69        member  \n",
       "2            NaN  41.900313 -87.696643    41.90   -87.70        member  \n",
       "3            NaN  41.900399 -87.696662    41.92   -87.69        member  \n",
       "4            NaN  41.900326 -87.696697    41.90   -87.70        casual  "
      ]
     },
     "execution_count": 58,
     "metadata": {},
     "output_type": "execute_result"
    }
   ],
   "source": [
    "bt_202101.head()"
   ]
  },
  {
   "cell_type": "code",
   "execution_count": 59,
   "metadata": {},
   "outputs": [
    {
     "data": {
      "text/plain": [
       "ride_id                object\n",
       "rideable_type          object\n",
       "started_at             object\n",
       "ended_at               object\n",
       "start_station_name     object\n",
       "start_station_id       object\n",
       "end_station_name       object\n",
       "end_station_id         object\n",
       "start_lat             float64\n",
       "start_lng             float64\n",
       "end_lat               float64\n",
       "end_lng               float64\n",
       "member_casual          object\n",
       "dtype: object"
      ]
     },
     "execution_count": 59,
     "metadata": {},
     "output_type": "execute_result"
    }
   ],
   "source": [
    "bt_202101.dtypes"
   ]
  },
  {
   "cell_type": "code",
   "execution_count": 60,
   "metadata": {},
   "outputs": [
    {
     "data": {
      "text/plain": [
       "ride_id                   0\n",
       "rideable_type             0\n",
       "started_at                0\n",
       "ended_at                  0\n",
       "start_station_name     8625\n",
       "start_station_id       8625\n",
       "end_station_name      10277\n",
       "end_station_id        10277\n",
       "start_lat                 0\n",
       "start_lng                 0\n",
       "end_lat                 103\n",
       "end_lng                 103\n",
       "member_casual             0\n",
       "dtype: int64"
      ]
     },
     "execution_count": 60,
     "metadata": {},
     "output_type": "execute_result"
    }
   ],
   "source": [
    "bt_202101.isna().sum()"
   ]
  },
  {
   "cell_type": "code",
   "execution_count": 61,
   "metadata": {},
   "outputs": [],
   "source": [
    "# drop all NAN values in bt_202101\n",
    "bt_202101.dropna(inplace=True)"
   ]
  },
  {
   "cell_type": "markdown",
   "metadata": {},
   "source": [
    "<h4 style=\"color:red;\"> After examinging the 'start_station_id' column and 'end_station_id' in this dataset, I found the same inconsistency issue between station ids and their corresponding names as before. </h4>\n",
    "    \n",
    "<h4 style=\"color:blue;\"> Therefore, I will re-run the whole process of validating station names with corresponding ids as before using: </h4>\n",
    "\n",
    "- <p style=\"color:blue;\"> the official stations information dataset from Chicago Data Portral website;</p>\n",
    "- <p style=\"color:blue;\"> the dictionary \"station_id\" of all stations and ids existed in the previous 8 datasets;</p>\n",
    "- <p style=\"color:blue;\"> the function \"correct_station_name_id\" to either update ids or catch exceptions;</p>\n",
    "- <p style=\"color:blue;\"> the function \"get_correct_id\" to grab the correct ids for exceptions.</p>"
   ]
  },
  {
   "cell_type": "code",
   "execution_count": 62,
   "metadata": {},
   "outputs": [
    {
     "name": "stdout",
     "output_type": "stream",
     "text": [
      "These stations below are not existed in the previous 8 datasets:\n"
     ]
    },
    {
     "data": {
      "text/plain": [
       "['Malcolm X College Vaccination Site',\n",
       " 'N Sheffield Ave & W Wellington Ave',\n",
       " 'N Southport Ave & W Newport Ave',\n",
       " 'W Armitage Ave & N Sheffield Ave',\n",
       " 'N Paulina St & Lincoln Ave',\n",
       " 'Base - 2132 W Hubbard Warehouse',\n",
       " 'W Oakdale Ave & N Broadway',\n",
       " 'Broadway & Wilson - Truman College Vaccination Site',\n",
       " 'N Green St & W Lake St',\n",
       " 'N Carpenter St & W Lake St',\n",
       " 'N Damen Ave & W Wabansia St',\n",
       " 'Western & 28th - Velasquez Institute Vaccination Site',\n",
       " 'W Washington Blvd & N Peoria St',\n",
       " 'Avenue L & 114th St']"
      ]
     },
     "execution_count": 62,
     "metadata": {},
     "output_type": "execute_result"
    }
   ],
   "source": [
    "# reset the not_changed list to empty\n",
    "not_changed = []\n",
    "\n",
    "# update stations' ids in bt_202101 or catch stations that're not existed from previous 8 datasets\n",
    "correct_station_name_id(bt_202101)"
   ]
  },
  {
   "cell_type": "code",
   "execution_count": 63,
   "metadata": {
    "scrolled": false
   },
   "outputs": [
    {
     "name": "stdout",
     "output_type": "stream",
     "text": [
      "Malcolm X College Vaccination Site :  631\n",
      "\n",
      "N Sheffield Ave & W Wellington Ave :  1436495118083561146\n",
      "\n",
      "N Southport Ave & W Newport Ave :  1436495115557663136\n",
      "\n",
      "W Armitage Ave & N Sheffield Ave :  1436495105198659242\n",
      "\n",
      "N Paulina St & Lincoln Ave :  1436495122378528446\n",
      "\n",
      "W Oakdale Ave & N Broadway :  1436495100903691938\n",
      "\n",
      "Broadway & Wilson - Truman College Vaccination Site :  293\n",
      "\n",
      "N Green St & W Lake St :  1436495109493626546\n",
      "\n",
      "N Carpenter St & W Lake St :  1436495105198659246\n",
      "\n",
      "Western & 28th - Velasquez Institute Vaccination Site :  446\n",
      "\n",
      "W Washington Blvd & N Peoria St :  1436495109493626544\n",
      "\n",
      "Avenue L & 114th St :  1448642175142467184\n",
      "\n",
      "These stations below cannot be found in the official stations information dataset:\n"
     ]
    },
    {
     "data": {
      "text/plain": [
       "['Base - 2132 W Hubbard Warehouse', 'N Damen Ave & W Wabansia St']"
      ]
     },
     "execution_count": 63,
     "metadata": {},
     "output_type": "execute_result"
    }
   ],
   "source": [
    "# get the correct ids of exceptional stations in list not_changed\n",
    "get_correct_id()"
   ]
  },
  {
   "cell_type": "markdown",
   "metadata": {},
   "source": [
    "<h4 style=\"color:red;\"> The stations 'Base - 2132 W Hubbard Warehouse' and 'N Damen Ave & W Wabansia St' cannot be found in the official station information dataset. Due to lack of information, I will drop these records. </h4>"
   ]
  },
  {
   "cell_type": "code",
   "execution_count": 64,
   "metadata": {},
   "outputs": [],
   "source": [
    "# drop records with start_station_name as 'Base - 2132 W Hubbard Warehouse'\n",
    "bt_202101.drop(bt_202101[bt_202101['start_station_name'] == 'Base - 2132 W Hubbard Warehouse'].index, inplace=True)\n",
    "\n",
    "# drop records with end_station_name as 'Base - 2132 W Hubbard Warehouse'\n",
    "bt_202101.drop(bt_202101[bt_202101['end_station_name'] == 'Base - 2132 W Hubbard Warehouse'].index, inplace=True)\n",
    "\n",
    "# drop records with start_station_name as 'N Damen Ave & W Wabansia St'\n",
    "bt_202101.drop(bt_202101[bt_202101['start_station_name'] == 'N Damen Ave & W Wabansia St'].index, inplace=True)\n",
    "\n",
    "# drop records with end_station_name as 'N Damen Ave & W Wabansia St'\n",
    "bt_202101.drop(bt_202101[bt_202101['end_station_name'] == 'N Damen Ave & W Wabansia St'].index, inplace=True)"
   ]
  },
  {
   "cell_type": "markdown",
   "metadata": {},
   "source": [
    "<h4 style=\"color:blue;\"> For the other 12 stations, I will manually update the ids in bt_202101 </h4>"
   ]
  },
  {
   "cell_type": "code",
   "execution_count": 65,
   "metadata": {},
   "outputs": [],
   "source": [
    "# update station's id with name of 'Malcolm X College Vaccination Site'\n",
    "filt_a1 = (bt_202101['start_station_name'] == 'Malcolm X College Vaccination Site')\n",
    "bt_202101.loc[filt_a1, 'start_station_id'] = 631\n",
    "\n",
    "filt_a2 = (bt_202101['end_station_name'] == 'Malcolm X College Vaccination Site')\n",
    "bt_202101.loc[filt_a2, 'end_station_id'] = 631"
   ]
  },
  {
   "cell_type": "code",
   "execution_count": 66,
   "metadata": {},
   "outputs": [],
   "source": [
    "# update station's id with name of 'N Southport Ave & W Newport Ave'\n",
    "filt_b1 = (bt_202101['start_station_name'] == 'N Southport Ave & W Newport Ave')\n",
    "bt_202101.loc[filt_b1, 'start_station_id'] = 1436495115557663136\n",
    "\n",
    "filt_b2 = (bt_202101['end_station_name'] == 'N Southport Ave & W Newport Ave')\n",
    "bt_202101.loc[filt_b2, 'end_station_id'] = 1436495115557663136"
   ]
  },
  {
   "cell_type": "code",
   "execution_count": 67,
   "metadata": {},
   "outputs": [],
   "source": [
    "# update station's id with name of 'N Sheffield Ave & W Wellington Ave'\n",
    "filt_c1 = (bt_202101['start_station_name'] == 'N Sheffield Ave & W Wellington Ave')\n",
    "bt_202101.loc[filt_c1, 'start_station_id'] = 1436495118083561146\n",
    "\n",
    "filt_c2 = (bt_202101['end_station_name'] == 'N Sheffield Ave & W Wellington Ave')\n",
    "bt_202101.loc[filt_c2, 'end_station_id'] = 1436495115557663136"
   ]
  },
  {
   "cell_type": "code",
   "execution_count": 68,
   "metadata": {},
   "outputs": [],
   "source": [
    "# update station's id with name of 'N Paulina St & Lincoln Ave'\n",
    "filt_d1 = (bt_202101['start_station_name'] == 'N Paulina St & Lincoln Ave')\n",
    "bt_202101.loc[filt_d1, 'start_station_id'] = 1436495122378528446"
   ]
  },
  {
   "cell_type": "code",
   "execution_count": 69,
   "metadata": {},
   "outputs": [],
   "source": [
    "# update station's id with name of 'N Green St & W Lake St'\n",
    "filt_e1 = (bt_202101['start_station_name'] == 'N Green St & W Lake St')\n",
    "bt_202101.loc[filt_e1, 'start_station_id'] = 1436495109493626546\n",
    "\n",
    "filt_e2 = (bt_202101['end_station_name'] == 'N Green St & W Lake St')\n",
    "bt_202101.loc[filt_e2, 'end_station_id'] = 1436495109493626546"
   ]
  },
  {
   "cell_type": "code",
   "execution_count": 70,
   "metadata": {},
   "outputs": [],
   "source": [
    "# update station's id with name of 'W Oakdale Ave & N Broadway'\n",
    "filt_f1 = (bt_202101['start_station_name'] == 'W Oakdale Ave & N Broadway')\n",
    "bt_202101.loc[filt_f1, 'start_station_id'] = 1436495100903691938\n",
    "\n",
    "filt_f2 = (bt_202101['end_station_name'] == 'W Oakdale Ave & N Broadway')\n",
    "bt_202101.loc[filt_f2, 'end_station_id'] = 1436495100903691938"
   ]
  },
  {
   "cell_type": "code",
   "execution_count": 71,
   "metadata": {},
   "outputs": [],
   "source": [
    "# update station's id with name of 'W Armitage Ave & N Sheffield Ave'\n",
    "filt_g1 = (bt_202101['start_station_name'] == 'W Armitage Ave & N Sheffield Ave')\n",
    "bt_202101.loc[filt_g1, 'start_station_id'] = 1436495105198659242\n",
    "\n",
    "filt_g2 = (bt_202101['end_station_name'] == 'W Armitage Ave & N Sheffield Ave')\n",
    "bt_202101.loc[filt_g2, 'end_station_id'] = 1436495105198659242"
   ]
  },
  {
   "cell_type": "code",
   "execution_count": 72,
   "metadata": {},
   "outputs": [],
   "source": [
    "# update station's id with name of 'Broadway & Wilson - Truman College Vaccination Site'\n",
    "filt_h1 = (bt_202101['start_station_name'] == 'Broadway & Wilson - Truman College Vaccination Site')\n",
    "bt_202101.loc[filt_h1, 'start_station_id'] = 293\n",
    "\n",
    "filt_h2 = (bt_202101['end_station_name'] == 'Broadway & Wilson - Truman College Vaccination Site')\n",
    "bt_202101.loc[filt_h2, 'end_station_id'] = 293"
   ]
  },
  {
   "cell_type": "code",
   "execution_count": 73,
   "metadata": {},
   "outputs": [],
   "source": [
    "# update station's id with name of 'N Carpenter St & W Lake St'\n",
    "filt_i1 = (bt_202101['end_station_name'] == 'N Carpenter St & W Lake St')\n",
    "bt_202101.loc[filt_i1, 'end_station_id'] = 1436495105198659246"
   ]
  },
  {
   "cell_type": "code",
   "execution_count": 74,
   "metadata": {},
   "outputs": [],
   "source": [
    "# update station's id with name of 'Western & 28th - Velasquez Institute Vaccination Site'\n",
    "filt_j1 = (bt_202101['end_station_name'] == 'Western & 28th - Velasquez Institute Vaccination Site')\n",
    "bt_202101.loc[filt_j1, 'end_station_id'] = 446"
   ]
  },
  {
   "cell_type": "code",
   "execution_count": 75,
   "metadata": {},
   "outputs": [],
   "source": [
    "# update station's id with name of 'W Washington Blvd & N Peoria St'\n",
    "filt_k1 = (bt_202101['end_station_name'] == 'W Washington Blvd & N Peoria St')\n",
    "bt_202101.loc[filt_k1, 'end_station_id'] = 1436495109493626544"
   ]
  },
  {
   "cell_type": "code",
   "execution_count": 76,
   "metadata": {},
   "outputs": [],
   "source": [
    "# update station's id with name of 'Avenue L & 114th St'\n",
    "filt_l1 = (bt_202101['end_station_name'] == 'Avenue L & 114th St')\n",
    "bt_202101.loc[filt_l1, 'end_station_id'] = 1448642175142467184"
   ]
  },
  {
   "cell_type": "markdown",
   "metadata": {},
   "source": [
    "<h4 style=\"color:green;\"> (2-11) dataset: bike trips of Feburary 2021 </h4>"
   ]
  },
  {
   "cell_type": "code",
   "execution_count": 77,
   "metadata": {},
   "outputs": [
    {
     "data": {
      "text/html": [
       "<div>\n",
       "<style scoped>\n",
       "    .dataframe tbody tr th:only-of-type {\n",
       "        vertical-align: middle;\n",
       "    }\n",
       "\n",
       "    .dataframe tbody tr th {\n",
       "        vertical-align: top;\n",
       "    }\n",
       "\n",
       "    .dataframe thead th {\n",
       "        text-align: right;\n",
       "    }\n",
       "</style>\n",
       "<table border=\"1\" class=\"dataframe\">\n",
       "  <thead>\n",
       "    <tr style=\"text-align: right;\">\n",
       "      <th></th>\n",
       "      <th>ride_id</th>\n",
       "      <th>rideable_type</th>\n",
       "      <th>started_at</th>\n",
       "      <th>ended_at</th>\n",
       "      <th>start_station_name</th>\n",
       "      <th>start_station_id</th>\n",
       "      <th>end_station_name</th>\n",
       "      <th>end_station_id</th>\n",
       "      <th>start_lat</th>\n",
       "      <th>start_lng</th>\n",
       "      <th>end_lat</th>\n",
       "      <th>end_lng</th>\n",
       "      <th>member_casual</th>\n",
       "    </tr>\n",
       "  </thead>\n",
       "  <tbody>\n",
       "    <tr>\n",
       "      <th>0</th>\n",
       "      <td>89E7AA6C29227EFF</td>\n",
       "      <td>classic_bike</td>\n",
       "      <td>2021-02-12 16:14:56</td>\n",
       "      <td>2021-02-12 16:21:43</td>\n",
       "      <td>Glenwood Ave &amp; Touhy Ave</td>\n",
       "      <td>525</td>\n",
       "      <td>Sheridan Rd &amp; Columbia Ave</td>\n",
       "      <td>660</td>\n",
       "      <td>42.012701</td>\n",
       "      <td>-87.666058</td>\n",
       "      <td>42.004583</td>\n",
       "      <td>-87.661406</td>\n",
       "      <td>member</td>\n",
       "    </tr>\n",
       "    <tr>\n",
       "      <th>1</th>\n",
       "      <td>0FEFDE2603568365</td>\n",
       "      <td>classic_bike</td>\n",
       "      <td>2021-02-14 17:52:38</td>\n",
       "      <td>2021-02-14 18:12:09</td>\n",
       "      <td>Glenwood Ave &amp; Touhy Ave</td>\n",
       "      <td>525</td>\n",
       "      <td>Bosworth Ave &amp; Howard St</td>\n",
       "      <td>16806</td>\n",
       "      <td>42.012701</td>\n",
       "      <td>-87.666058</td>\n",
       "      <td>42.019537</td>\n",
       "      <td>-87.669563</td>\n",
       "      <td>casual</td>\n",
       "    </tr>\n",
       "    <tr>\n",
       "      <th>2</th>\n",
       "      <td>E6159D746B2DBB91</td>\n",
       "      <td>electric_bike</td>\n",
       "      <td>2021-02-09 19:10:18</td>\n",
       "      <td>2021-02-09 19:19:10</td>\n",
       "      <td>Clark St &amp; Lake St</td>\n",
       "      <td>KA1503000012</td>\n",
       "      <td>State St &amp; Randolph St</td>\n",
       "      <td>TA1305000029</td>\n",
       "      <td>41.885795</td>\n",
       "      <td>-87.631101</td>\n",
       "      <td>41.884866</td>\n",
       "      <td>-87.627498</td>\n",
       "      <td>member</td>\n",
       "    </tr>\n",
       "    <tr>\n",
       "      <th>3</th>\n",
       "      <td>B32D3199F1C2E75B</td>\n",
       "      <td>classic_bike</td>\n",
       "      <td>2021-02-02 17:49:41</td>\n",
       "      <td>2021-02-02 17:54:06</td>\n",
       "      <td>Wood St &amp; Chicago Ave</td>\n",
       "      <td>637</td>\n",
       "      <td>Honore St &amp; Division St</td>\n",
       "      <td>TA1305000034</td>\n",
       "      <td>41.895634</td>\n",
       "      <td>-87.672069</td>\n",
       "      <td>41.903119</td>\n",
       "      <td>-87.673935</td>\n",
       "      <td>member</td>\n",
       "    </tr>\n",
       "    <tr>\n",
       "      <th>4</th>\n",
       "      <td>83E463F23575F4BF</td>\n",
       "      <td>electric_bike</td>\n",
       "      <td>2021-02-23 15:07:23</td>\n",
       "      <td>2021-02-23 15:22:37</td>\n",
       "      <td>State St &amp; 33rd St</td>\n",
       "      <td>13216</td>\n",
       "      <td>Emerald Ave &amp; 31st St</td>\n",
       "      <td>TA1309000055</td>\n",
       "      <td>41.834733</td>\n",
       "      <td>-87.625827</td>\n",
       "      <td>41.838163</td>\n",
       "      <td>-87.645123</td>\n",
       "      <td>member</td>\n",
       "    </tr>\n",
       "  </tbody>\n",
       "</table>\n",
       "</div>"
      ],
      "text/plain": [
       "            ride_id  rideable_type           started_at             ended_at  \\\n",
       "0  89E7AA6C29227EFF   classic_bike  2021-02-12 16:14:56  2021-02-12 16:21:43   \n",
       "1  0FEFDE2603568365   classic_bike  2021-02-14 17:52:38  2021-02-14 18:12:09   \n",
       "2  E6159D746B2DBB91  electric_bike  2021-02-09 19:10:18  2021-02-09 19:19:10   \n",
       "3  B32D3199F1C2E75B   classic_bike  2021-02-02 17:49:41  2021-02-02 17:54:06   \n",
       "4  83E463F23575F4BF  electric_bike  2021-02-23 15:07:23  2021-02-23 15:22:37   \n",
       "\n",
       "         start_station_name start_station_id            end_station_name  \\\n",
       "0  Glenwood Ave & Touhy Ave              525  Sheridan Rd & Columbia Ave   \n",
       "1  Glenwood Ave & Touhy Ave              525    Bosworth Ave & Howard St   \n",
       "2        Clark St & Lake St     KA1503000012      State St & Randolph St   \n",
       "3     Wood St & Chicago Ave              637     Honore St & Division St   \n",
       "4        State St & 33rd St            13216       Emerald Ave & 31st St   \n",
       "\n",
       "  end_station_id  start_lat  start_lng    end_lat    end_lng member_casual  \n",
       "0            660  42.012701 -87.666058  42.004583 -87.661406        member  \n",
       "1          16806  42.012701 -87.666058  42.019537 -87.669563        casual  \n",
       "2   TA1305000029  41.885795 -87.631101  41.884866 -87.627498        member  \n",
       "3   TA1305000034  41.895634 -87.672069  41.903119 -87.673935        member  \n",
       "4   TA1309000055  41.834733 -87.625827  41.838163 -87.645123        member  "
      ]
     },
     "execution_count": 77,
     "metadata": {},
     "output_type": "execute_result"
    }
   ],
   "source": [
    "bt_202102.head()"
   ]
  },
  {
   "cell_type": "code",
   "execution_count": 78,
   "metadata": {},
   "outputs": [
    {
     "data": {
      "text/plain": [
       "ride_id                object\n",
       "rideable_type          object\n",
       "started_at             object\n",
       "ended_at               object\n",
       "start_station_name     object\n",
       "start_station_id       object\n",
       "end_station_name       object\n",
       "end_station_id         object\n",
       "start_lat             float64\n",
       "start_lng             float64\n",
       "end_lat               float64\n",
       "end_lng               float64\n",
       "member_casual          object\n",
       "dtype: object"
      ]
     },
     "execution_count": 78,
     "metadata": {},
     "output_type": "execute_result"
    }
   ],
   "source": [
    "bt_202102.dtypes"
   ]
  },
  {
   "cell_type": "code",
   "execution_count": 79,
   "metadata": {},
   "outputs": [
    {
     "data": {
      "text/plain": [
       "ride_id                  0\n",
       "rideable_type            0\n",
       "started_at               0\n",
       "ended_at                 0\n",
       "start_station_name    4046\n",
       "start_station_id      4046\n",
       "end_station_name      5358\n",
       "end_station_id        5358\n",
       "start_lat                0\n",
       "start_lng                0\n",
       "end_lat                214\n",
       "end_lng                214\n",
       "member_casual            0\n",
       "dtype: int64"
      ]
     },
     "execution_count": 79,
     "metadata": {},
     "output_type": "execute_result"
    }
   ],
   "source": [
    "bt_202102.isna().sum()"
   ]
  },
  {
   "cell_type": "code",
   "execution_count": 80,
   "metadata": {},
   "outputs": [],
   "source": [
    "# drop all NAN values in bt_202102\n",
    "bt_202102.dropna(inplace=True)"
   ]
  },
  {
   "cell_type": "markdown",
   "metadata": {},
   "source": [
    "<h4 style=\"color:red;\"> After examinging the 'start_station_id' column and 'end_station_id' in this dataset, I found the same inconsistency issue between station ids and their corresponding names as before. </h4>\n",
    "    \n",
    "<h4 style=\"color:blue;\"> Therefore, I will re-run the whole process of validating station names with corresponding ids as before using: </h4>\n",
    "\n",
    "- <p style=\"color:blue;\"> the official stations information dataset from Chicago Data Portral website;</p>\n",
    "- <p style=\"color:blue;\"> the dictionary \"station_id\" of all stations and ids existed in the previous 8 datasets;</p>\n",
    "- <p style=\"color:blue;\"> the function \"correct_station_name_id\" to either update ids or catch exceptions;</p>\n",
    "- <p style=\"color:blue;\"> the function \"get_correct_id\" to grab the correct ids for exceptions.</p>"
   ]
  },
  {
   "cell_type": "code",
   "execution_count": 81,
   "metadata": {},
   "outputs": [
    {
     "name": "stdout",
     "output_type": "stream",
     "text": [
      "These stations below are not existed in the previous 8 datasets:\n"
     ]
    },
    {
     "data": {
      "text/plain": [
       "['Malcolm X College Vaccination Site',\n",
       " 'W Armitage Ave & N Sheffield Ave',\n",
       " 'N Paulina St & Lincoln Ave',\n",
       " 'W Washington Blvd & N Peoria St',\n",
       " 'Base - 2132 W Hubbard Warehouse',\n",
       " 'W Oakdale Ave & N Broadway',\n",
       " 'Broadway & Wilson - Truman College Vaccination Site',\n",
       " 'N Sheffield Ave & W Wellington Ave',\n",
       " 'N Carpenter St & W Lake St',\n",
       " 'Western & 28th - Velasquez Institute Vaccination Site',\n",
       " 'N Hampden Ct & W Diversey Ave',\n",
       " 'N Green St & W Lake St']"
      ]
     },
     "execution_count": 81,
     "metadata": {},
     "output_type": "execute_result"
    }
   ],
   "source": [
    "# reset the not_changed list to empty\n",
    "not_changed = []\n",
    "\n",
    "# update stations' ids in bt_202102 or catch stations that're not existed from previous 8 datasets\n",
    "correct_station_name_id(bt_202102)"
   ]
  },
  {
   "cell_type": "code",
   "execution_count": 82,
   "metadata": {
    "scrolled": false
   },
   "outputs": [
    {
     "name": "stdout",
     "output_type": "stream",
     "text": [
      "Malcolm X College Vaccination Site :  631\n",
      "\n",
      "W Armitage Ave & N Sheffield Ave :  1436495105198659242\n",
      "\n",
      "N Paulina St & Lincoln Ave :  1436495122378528446\n",
      "\n",
      "W Washington Blvd & N Peoria St :  1436495109493626544\n",
      "\n",
      "W Oakdale Ave & N Broadway :  1436495100903691938\n",
      "\n",
      "Broadway & Wilson - Truman College Vaccination Site :  293\n",
      "\n",
      "N Sheffield Ave & W Wellington Ave :  1436495118083561146\n",
      "\n",
      "N Carpenter St & W Lake St :  1436495105198659246\n",
      "\n",
      "Western & 28th - Velasquez Institute Vaccination Site :  446\n",
      "\n",
      "N Green St & W Lake St :  1436495109493626546\n",
      "\n",
      "These stations below cannot be found in the official stations information dataset:\n"
     ]
    },
    {
     "data": {
      "text/plain": [
       "['Base - 2132 W Hubbard Warehouse', 'N Hampden Ct & W Diversey Ave']"
      ]
     },
     "execution_count": 82,
     "metadata": {},
     "output_type": "execute_result"
    }
   ],
   "source": [
    "# get the correct ids of exceptional stations in list not_changed\n",
    "get_correct_id()"
   ]
  },
  {
   "cell_type": "markdown",
   "metadata": {},
   "source": [
    "<h4 style=\"color:red;\"> The stations 'Base - 2132 W Hubbard Warehouse' and 'N Hampden Ct & W Diversey Ave' cannot be found in the official station information dataset. Due to lack of information, I will drop these records. </h4>"
   ]
  },
  {
   "cell_type": "code",
   "execution_count": 83,
   "metadata": {},
   "outputs": [],
   "source": [
    "# drop records with start_station_name as 'Base - 2132 W Hubbard Warehouse'\n",
    "bt_202102.drop(bt_202102[bt_202102['start_station_name'] == 'Base - 2132 W Hubbard Warehouse'].index, inplace=True)\n",
    "\n",
    "# drop records with end_station_name as 'Base - 2132 W Hubbard Warehouse'\n",
    "bt_202102.drop(bt_202102[bt_202102['end_station_name'] == 'Base - 2132 W Hubbard Warehouse'].index, inplace=True)\n",
    "\n",
    "# drop records with start_station_name as 'N Hampden Ct & W Diversey Ave'\n",
    "bt_202102.drop(bt_202102[bt_202102['start_station_name'] == 'N Hampden Ct & W Diversey Ave'].index, inplace=True)\n",
    "\n",
    "# drop records with end_station_name as 'N Hampden Ct & W Diversey Ave'\n",
    "bt_202102.drop(bt_202102[bt_202102['end_station_name'] == 'N Hampden Ct & W Diversey Ave'].index, inplace=True)"
   ]
  },
  {
   "cell_type": "markdown",
   "metadata": {},
   "source": [
    "<h4 style=\"color:blue;\"> For the other 10 stations, I will manually update the ids in bt_202102 </h4>"
   ]
  },
  {
   "cell_type": "code",
   "execution_count": 84,
   "metadata": {},
   "outputs": [],
   "source": [
    "# update station's id with name of 'Malcolm X College Vaccination Site'\n",
    "filt_a1 = (bt_202102['start_station_name'] == 'Malcolm X College Vaccination Site')\n",
    "bt_202102.loc[filt_a1, 'start_station_id'] = 631\n",
    "\n",
    "filt_a2 = (bt_202102['end_station_name'] == 'Malcolm X College Vaccination Site')\n",
    "bt_202102.loc[filt_a2, 'end_station_id'] = 631"
   ]
  },
  {
   "cell_type": "code",
   "execution_count": 85,
   "metadata": {},
   "outputs": [],
   "source": [
    "# update station's id with name of 'N Paulina St & Lincoln Ave'\n",
    "filt_b1 = (bt_202102['start_station_name'] == 'N Paulina St & Lincoln Ave')\n",
    "bt_202102.loc[filt_b1, 'start_station_id'] = 1436495122378528446\n",
    "\n",
    "filt_b2 = (bt_202102['end_station_name'] == 'N Paulina St & Lincoln Ave')\n",
    "bt_202102.loc[filt_b2, 'end_station_id'] = 1436495122378528446"
   ]
  },
  {
   "cell_type": "code",
   "execution_count": 86,
   "metadata": {},
   "outputs": [],
   "source": [
    "# update station's id with name of 'W Oakdale Ave & N Broadway'\n",
    "filt_c1 = (bt_202102['start_station_name'] == 'W Oakdale Ave & N Broadway')\n",
    "bt_202102.loc[filt_c1, 'start_station_id'] = 1436495100903691938\n",
    "\n",
    "filt_c2 = (bt_202102['end_station_name'] == 'W Oakdale Ave & N Broadway')\n",
    "bt_202102.loc[filt_c2, 'end_station_id'] = 1436495100903691938"
   ]
  },
  {
   "cell_type": "code",
   "execution_count": 87,
   "metadata": {},
   "outputs": [],
   "source": [
    "# update station's id with name of 'W Washington Blvd & N Peoria St'\n",
    "filt_d1 = (bt_202102['start_station_name'] == 'W Washington Blvd & N Peoria St')\n",
    "bt_202102.loc[filt_d1, 'start_station_id'] = 1436495109493626544\n",
    "\n",
    "filt_d2 = (bt_202102['end_station_name'] == 'W Washington Blvd & N Peoria St')\n",
    "bt_202102.loc[filt_d2, 'end_station_id'] = 1436495109493626544"
   ]
  },
  {
   "cell_type": "code",
   "execution_count": 88,
   "metadata": {},
   "outputs": [],
   "source": [
    "# update station's id with name of 'W Armitage Ave & N Sheffield Ave'\n",
    "filt_e1 = (bt_202102['start_station_name'] == 'W Armitage Ave & N Sheffield Ave')\n",
    "bt_202102.loc[filt_e1, 'start_station_id'] = 1436495105198659242\n",
    "\n",
    "filt_e2 = (bt_202102['end_station_name'] == 'W Armitage Ave & N Sheffield Ave')\n",
    "bt_202102.loc[filt_e2, 'end_station_id'] = 1436495105198659242"
   ]
  },
  {
   "cell_type": "code",
   "execution_count": 89,
   "metadata": {},
   "outputs": [],
   "source": [
    "# update station's id with name of 'Broadway & Wilson - Truman College Vaccination Site'\n",
    "filt_f1 = (bt_202102['start_station_name'] == 'Broadway & Wilson - Truman College Vaccination Site')\n",
    "bt_202102.loc[filt_f1, 'start_station_id'] = 293\n",
    "\n",
    "filt_f2 = (bt_202102['end_station_name'] == 'Broadway & Wilson - Truman College Vaccination Site')\n",
    "bt_202102.loc[filt_f2, 'end_station_id'] = 293"
   ]
  },
  {
   "cell_type": "code",
   "execution_count": 90,
   "metadata": {},
   "outputs": [],
   "source": [
    "# update station's id with name of 'N Carpenter St & W Lake St'\n",
    "filt_g1 = (bt_202102['end_station_name'] == 'N Carpenter St & W Lake St')\n",
    "bt_202102.loc[filt_g1, 'end_station_id'] = 1436495105198659246"
   ]
  },
  {
   "cell_type": "code",
   "execution_count": 91,
   "metadata": {},
   "outputs": [],
   "source": [
    "# update station's id with name of 'Western & 28th - Velasquez Institute Vaccination Site'\n",
    "filt_h1 = (bt_202102['end_station_name'] == 'Western & 28th - Velasquez Institute Vaccination Site')\n",
    "bt_202102.loc[filt_h1, 'end_station_id'] = 446"
   ]
  },
  {
   "cell_type": "code",
   "execution_count": 92,
   "metadata": {},
   "outputs": [],
   "source": [
    "# update station's id with name of 'N Sheffield Ave & W Wellington Ave'\n",
    "filt_i1 = (bt_202102['end_station_name'] == 'N Sheffield Ave & W Wellington Ave')\n",
    "bt_202102.loc[filt_i1, 'end_station_id'] = 1436495118083561146"
   ]
  },
  {
   "cell_type": "code",
   "execution_count": 93,
   "metadata": {},
   "outputs": [],
   "source": [
    "# update station's id with name of 'N Green St & W Lake St'\n",
    "filt_j1 = (bt_202102['end_station_name'] == 'N Green St & W Lake St')\n",
    "bt_202102.loc[filt_j1, 'end_station_id'] = 1436495109493626546"
   ]
  },
  {
   "cell_type": "markdown",
   "metadata": {},
   "source": [
    "<h4 style=\"color:green;\"> (2-12) dataset: bike trips of March 2021 </h4> "
   ]
  },
  {
   "cell_type": "code",
   "execution_count": 94,
   "metadata": {},
   "outputs": [
    {
     "data": {
      "text/html": [
       "<div>\n",
       "<style scoped>\n",
       "    .dataframe tbody tr th:only-of-type {\n",
       "        vertical-align: middle;\n",
       "    }\n",
       "\n",
       "    .dataframe tbody tr th {\n",
       "        vertical-align: top;\n",
       "    }\n",
       "\n",
       "    .dataframe thead th {\n",
       "        text-align: right;\n",
       "    }\n",
       "</style>\n",
       "<table border=\"1\" class=\"dataframe\">\n",
       "  <thead>\n",
       "    <tr style=\"text-align: right;\">\n",
       "      <th></th>\n",
       "      <th>ride_id</th>\n",
       "      <th>rideable_type</th>\n",
       "      <th>started_at</th>\n",
       "      <th>ended_at</th>\n",
       "      <th>start_station_name</th>\n",
       "      <th>start_station_id</th>\n",
       "      <th>end_station_name</th>\n",
       "      <th>end_station_id</th>\n",
       "      <th>start_lat</th>\n",
       "      <th>start_lng</th>\n",
       "      <th>end_lat</th>\n",
       "      <th>end_lng</th>\n",
       "      <th>member_casual</th>\n",
       "    </tr>\n",
       "  </thead>\n",
       "  <tbody>\n",
       "    <tr>\n",
       "      <th>0</th>\n",
       "      <td>CFA86D4455AA1030</td>\n",
       "      <td>classic_bike</td>\n",
       "      <td>2021-03-16 08:32:30</td>\n",
       "      <td>2021-03-16 08:36:34</td>\n",
       "      <td>Humboldt Blvd &amp; Armitage Ave</td>\n",
       "      <td>15651</td>\n",
       "      <td>Stave St &amp; Armitage Ave</td>\n",
       "      <td>13266</td>\n",
       "      <td>41.917513</td>\n",
       "      <td>-87.701809</td>\n",
       "      <td>41.917741</td>\n",
       "      <td>-87.691392</td>\n",
       "      <td>casual</td>\n",
       "    </tr>\n",
       "    <tr>\n",
       "      <th>1</th>\n",
       "      <td>30D9DC61227D1AF3</td>\n",
       "      <td>classic_bike</td>\n",
       "      <td>2021-03-28 01:26:28</td>\n",
       "      <td>2021-03-28 01:36:55</td>\n",
       "      <td>Humboldt Blvd &amp; Armitage Ave</td>\n",
       "      <td>15651</td>\n",
       "      <td>Central Park Ave &amp; Bloomingdale Ave</td>\n",
       "      <td>18017</td>\n",
       "      <td>41.917513</td>\n",
       "      <td>-87.701809</td>\n",
       "      <td>41.914166</td>\n",
       "      <td>-87.716755</td>\n",
       "      <td>casual</td>\n",
       "    </tr>\n",
       "    <tr>\n",
       "      <th>2</th>\n",
       "      <td>846D87A15682A284</td>\n",
       "      <td>classic_bike</td>\n",
       "      <td>2021-03-11 21:17:29</td>\n",
       "      <td>2021-03-11 21:33:53</td>\n",
       "      <td>Shields Ave &amp; 28th Pl</td>\n",
       "      <td>15443</td>\n",
       "      <td>Halsted St &amp; 35th St</td>\n",
       "      <td>TA1308000043</td>\n",
       "      <td>41.842733</td>\n",
       "      <td>-87.635491</td>\n",
       "      <td>41.830661</td>\n",
       "      <td>-87.647172</td>\n",
       "      <td>casual</td>\n",
       "    </tr>\n",
       "    <tr>\n",
       "      <th>3</th>\n",
       "      <td>994D05AA75A168F2</td>\n",
       "      <td>classic_bike</td>\n",
       "      <td>2021-03-11 13:26:42</td>\n",
       "      <td>2021-03-11 13:55:41</td>\n",
       "      <td>Winthrop Ave &amp; Lawrence Ave</td>\n",
       "      <td>TA1308000021</td>\n",
       "      <td>Broadway &amp; Sheridan Rd</td>\n",
       "      <td>13323</td>\n",
       "      <td>41.968812</td>\n",
       "      <td>-87.657659</td>\n",
       "      <td>41.952833</td>\n",
       "      <td>-87.649993</td>\n",
       "      <td>casual</td>\n",
       "    </tr>\n",
       "    <tr>\n",
       "      <th>4</th>\n",
       "      <td>DF7464FBE92D8308</td>\n",
       "      <td>classic_bike</td>\n",
       "      <td>2021-03-21 09:09:37</td>\n",
       "      <td>2021-03-21 09:27:33</td>\n",
       "      <td>Glenwood Ave &amp; Touhy Ave</td>\n",
       "      <td>525</td>\n",
       "      <td>Chicago Ave &amp; Sheridan Rd</td>\n",
       "      <td>E008</td>\n",
       "      <td>42.012701</td>\n",
       "      <td>-87.666058</td>\n",
       "      <td>42.050491</td>\n",
       "      <td>-87.677821</td>\n",
       "      <td>casual</td>\n",
       "    </tr>\n",
       "  </tbody>\n",
       "</table>\n",
       "</div>"
      ],
      "text/plain": [
       "            ride_id rideable_type           started_at             ended_at  \\\n",
       "0  CFA86D4455AA1030  classic_bike  2021-03-16 08:32:30  2021-03-16 08:36:34   \n",
       "1  30D9DC61227D1AF3  classic_bike  2021-03-28 01:26:28  2021-03-28 01:36:55   \n",
       "2  846D87A15682A284  classic_bike  2021-03-11 21:17:29  2021-03-11 21:33:53   \n",
       "3  994D05AA75A168F2  classic_bike  2021-03-11 13:26:42  2021-03-11 13:55:41   \n",
       "4  DF7464FBE92D8308  classic_bike  2021-03-21 09:09:37  2021-03-21 09:27:33   \n",
       "\n",
       "             start_station_name start_station_id  \\\n",
       "0  Humboldt Blvd & Armitage Ave            15651   \n",
       "1  Humboldt Blvd & Armitage Ave            15651   \n",
       "2         Shields Ave & 28th Pl            15443   \n",
       "3   Winthrop Ave & Lawrence Ave     TA1308000021   \n",
       "4      Glenwood Ave & Touhy Ave              525   \n",
       "\n",
       "                      end_station_name end_station_id  start_lat  start_lng  \\\n",
       "0              Stave St & Armitage Ave          13266  41.917513 -87.701809   \n",
       "1  Central Park Ave & Bloomingdale Ave          18017  41.917513 -87.701809   \n",
       "2                 Halsted St & 35th St   TA1308000043  41.842733 -87.635491   \n",
       "3               Broadway & Sheridan Rd          13323  41.968812 -87.657659   \n",
       "4            Chicago Ave & Sheridan Rd           E008  42.012701 -87.666058   \n",
       "\n",
       "     end_lat    end_lng member_casual  \n",
       "0  41.917741 -87.691392        casual  \n",
       "1  41.914166 -87.716755        casual  \n",
       "2  41.830661 -87.647172        casual  \n",
       "3  41.952833 -87.649993        casual  \n",
       "4  42.050491 -87.677821        casual  "
      ]
     },
     "execution_count": 94,
     "metadata": {},
     "output_type": "execute_result"
    }
   ],
   "source": [
    "bt_202103.head()"
   ]
  },
  {
   "cell_type": "code",
   "execution_count": 95,
   "metadata": {},
   "outputs": [
    {
     "data": {
      "text/plain": [
       "ride_id                object\n",
       "rideable_type          object\n",
       "started_at             object\n",
       "ended_at               object\n",
       "start_station_name     object\n",
       "start_station_id       object\n",
       "end_station_name       object\n",
       "end_station_id         object\n",
       "start_lat             float64\n",
       "start_lng             float64\n",
       "end_lat               float64\n",
       "end_lng               float64\n",
       "member_casual          object\n",
       "dtype: object"
      ]
     },
     "execution_count": 95,
     "metadata": {},
     "output_type": "execute_result"
    }
   ],
   "source": [
    "bt_202103.dtypes"
   ]
  },
  {
   "cell_type": "code",
   "execution_count": 96,
   "metadata": {},
   "outputs": [
    {
     "data": {
      "text/plain": [
       "ride_id                   0\n",
       "rideable_type             0\n",
       "started_at                0\n",
       "ended_at                  0\n",
       "start_station_name    14848\n",
       "start_station_id      14848\n",
       "end_station_name      16727\n",
       "end_station_id        16727\n",
       "start_lat                 0\n",
       "start_lng                 0\n",
       "end_lat                 167\n",
       "end_lng                 167\n",
       "member_casual             0\n",
       "dtype: int64"
      ]
     },
     "execution_count": 96,
     "metadata": {},
     "output_type": "execute_result"
    }
   ],
   "source": [
    "bt_202103.isna().sum()"
   ]
  },
  {
   "cell_type": "code",
   "execution_count": 97,
   "metadata": {},
   "outputs": [],
   "source": [
    "# drop all NAN values in bt_202103\n",
    "bt_202103.dropna(inplace=True)"
   ]
  },
  {
   "cell_type": "markdown",
   "metadata": {},
   "source": [
    "<h4 style=\"color:red;\"> After examinging the 'start_station_id' column and 'end_station_id' in this dataset, I found the same inconsistency issue between station ids and their corresponding names as before. </h4>\n",
    "    \n",
    "<h4 style=\"color:blue;\"> Therefore, I will re-run the whole process of validating station names with corresponding ids as before using: </h4>\n",
    "\n",
    "- <p style=\"color:blue;\"> the official stations information dataset from Chicago Data Portral website;</p>\n",
    "- <p style=\"color:blue;\"> the dictionary \"station_id\" of all stations and ids existed in the previous 8 datasets;</p>\n",
    "- <p style=\"color:blue;\"> the function \"correct_station_name_id\" to either update ids or catch exceptions;</p>\n",
    "- <p style=\"color:blue;\"> the function \"get_correct_id\" to grab the correct ids for exceptions.</p>"
   ]
  },
  {
   "cell_type": "code",
   "execution_count": 98,
   "metadata": {},
   "outputs": [
    {
     "name": "stdout",
     "output_type": "stream",
     "text": [
      "These stations below are not existed in the previous 8 datasets:\n"
     ]
    },
    {
     "data": {
      "text/plain": [
       "['Halsted & 63rd - Kennedy-King Vaccination Site',\n",
       " 'Malcolm X College Vaccination Site',\n",
       " 'N Sheffield Ave & W Wellington Ave',\n",
       " 'N Carpenter St & W Lake St',\n",
       " 'Western & 28th - Velasquez Institute Vaccination Site',\n",
       " 'N Southport Ave & W Newport Ave',\n",
       " 'W Armitage Ave & N Sheffield Ave',\n",
       " 'N Paulina St & Lincoln Ave',\n",
       " 'W Washington Blvd & N Peoria St',\n",
       " 'Base - 2132 W Hubbard Warehouse',\n",
       " 'Damen Ave & Wabansia Ave',\n",
       " 'W Oakdale Ave & N Broadway',\n",
       " 'N Hampden Ct & W Diversey Ave',\n",
       " 'Broadway & Wilson - Truman College Vaccination Site',\n",
       " 'Chicago State University',\n",
       " 'N Green St & W Lake St',\n",
       " 'Kedzie Ave & 110th St',\n",
       " 'N Damen Ave & W Wabansia St']"
      ]
     },
     "execution_count": 98,
     "metadata": {},
     "output_type": "execute_result"
    }
   ],
   "source": [
    "# reset the not_changed list to empty\n",
    "not_changed = []\n",
    "\n",
    "# update stations' ids in bt_202103 or catch stations that're not existed from previous 8 datasets\n",
    "correct_station_name_id(bt_202103)"
   ]
  },
  {
   "cell_type": "code",
   "execution_count": 99,
   "metadata": {},
   "outputs": [
    {
     "name": "stdout",
     "output_type": "stream",
     "text": [
      "Halsted & 63rd - Kennedy-King Vaccination Site :  388\n",
      "\n",
      "Malcolm X College Vaccination Site :  631\n",
      "\n",
      "N Sheffield Ave & W Wellington Ave :  1436495118083561146\n",
      "\n",
      "N Carpenter St & W Lake St :  1436495105198659246\n",
      "\n",
      "Western & 28th - Velasquez Institute Vaccination Site :  446\n",
      "\n",
      "N Southport Ave & W Newport Ave :  1436495115557663136\n",
      "\n",
      "W Armitage Ave & N Sheffield Ave :  1436495105198659242\n",
      "\n",
      "N Paulina St & Lincoln Ave :  1436495122378528446\n",
      "\n",
      "W Washington Blvd & N Peoria St :  1436495109493626544\n",
      "\n",
      "Damen Ave & Wabansia Ave :  1521686986436309688\n",
      "\n",
      "W Oakdale Ave & N Broadway :  1436495100903691938\n",
      "\n",
      "Broadway & Wilson - Truman College Vaccination Site :  293\n",
      "\n",
      "Chicago State University :  737\n",
      "\n",
      "N Green St & W Lake St :  1436495109493626546\n",
      "\n",
      "Kedzie Ave & 110th St :  736\n",
      "\n",
      "These stations below cannot be found in the official stations information dataset:\n"
     ]
    },
    {
     "data": {
      "text/plain": [
       "['Base - 2132 W Hubbard Warehouse',\n",
       " 'N Hampden Ct & W Diversey Ave',\n",
       " 'N Damen Ave & W Wabansia St']"
      ]
     },
     "execution_count": 99,
     "metadata": {},
     "output_type": "execute_result"
    }
   ],
   "source": [
    "# get the correct ids of exceptional stations in list not_changed\n",
    "get_correct_id()"
   ]
  },
  {
   "cell_type": "markdown",
   "metadata": {},
   "source": [
    "<h4 style=\"color:red;\"> The stations 'Base - 2132 W Hubbard Warehouse', 'N Hampden Ct & W Diversey Ave', and 'N Damen Ave & W Wabansia St' cannot be found in the official station information dataset. Due to lack of information, I will drop these records. </h4>"
   ]
  },
  {
   "cell_type": "code",
   "execution_count": 100,
   "metadata": {},
   "outputs": [],
   "source": [
    "# drop records with start_station_name as 'Base - 2132 W Hubbard Warehouse'\n",
    "bt_202103.drop(bt_202103[bt_202103['start_station_name'] == 'Base - 2132 W Hubbard Warehouse'].index, inplace=True)\n",
    "\n",
    "# drop records with end_station_name as 'Base - 2132 W Hubbard Warehouse'\n",
    "bt_202103.drop(bt_202103[bt_202103['end_station_name'] == 'Base - 2132 W Hubbard Warehouse'].index, inplace=True)\n",
    "\n",
    "# drop records with start_station_name as 'N Hampden Ct & W Diversey Ave'\n",
    "bt_202103.drop(bt_202103[bt_202103['start_station_name'] == 'N Hampden Ct & W Diversey Ave'].index, inplace=True)\n",
    "\n",
    "# drop records with end_station_name as 'N Hampden Ct & W Diversey Ave'\n",
    "bt_202103.drop(bt_202103[bt_202103['end_station_name'] == 'N Hampden Ct & W Diversey Ave'].index, inplace=True)\n",
    "\n",
    "# drop records with start_station_name as 'N Damen Ave & W Wabansia St'\n",
    "bt_202103.drop(bt_202103[bt_202103['start_station_name'] == 'N Damen Ave & W Wabansia St'].index, inplace=True)\n",
    "\n",
    "# drop records with end_station_name as 'N Damen Ave & W Wabansia St'\n",
    "bt_202103.drop(bt_202103[bt_202103['end_station_name'] == 'N Damen Ave & W Wabansia St'].index, inplace=True)"
   ]
  },
  {
   "cell_type": "markdown",
   "metadata": {},
   "source": [
    "<h4 style=\"color:blue;\"> For the other 15 stations, I will manually update the ids in bt_202102 </h4>"
   ]
  },
  {
   "cell_type": "code",
   "execution_count": 101,
   "metadata": {},
   "outputs": [],
   "source": [
    "# update station's id with name of 'Broadway & Wilson - Truman College Vaccination Site'\n",
    "filt_a1 = (bt_202103['start_station_name'] == 'Broadway & Wilson - Truman College Vaccination Site')\n",
    "bt_202103.loc[filt_a1, 'start_station_id'] = 293\n",
    "\n",
    "filt_a2 = (bt_202103['end_station_name'] == 'Broadway & Wilson - Truman College Vaccination Site')\n",
    "bt_202103.loc[filt_a2, 'end_station_id'] = 293"
   ]
  },
  {
   "cell_type": "code",
   "execution_count": 102,
   "metadata": {},
   "outputs": [],
   "source": [
    "# update station's id with name of 'Damen Ave & Wabansia Ave'\n",
    "filt_b1 = (bt_202103['start_station_name'] == 'Damen Ave & Wabansia Ave')\n",
    "bt_202103.loc[filt_b1, 'start_station_id'] = 1521686986436309688\n",
    "\n",
    "filt_b2 = (bt_202103['end_station_name'] == 'Damen Ave & Wabansia Ave')\n",
    "bt_202103.loc[filt_b2, 'end_station_id'] = 1521686986436309688"
   ]
  },
  {
   "cell_type": "code",
   "execution_count": 103,
   "metadata": {},
   "outputs": [],
   "source": [
    "# update station's id with name of 'Western & 28th - Velasquez Institute Vaccination Site'\n",
    "filt_c1 = (bt_202103['start_station_name'] == 'Western & 28th - Velasquez Institute Vaccination Site')\n",
    "bt_202103.loc[filt_c1, 'start_station_id'] = 446\n",
    "\n",
    "filt_c2 = (bt_202103['end_station_name'] == 'Western & 28th - Velasquez Institute Vaccination Site')\n",
    "bt_202103.loc[filt_c2, 'end_station_id'] = 446"
   ]
  },
  {
   "cell_type": "code",
   "execution_count": 104,
   "metadata": {},
   "outputs": [],
   "source": [
    "# update station's id with name of 'Chicago State University'\n",
    "filt_d1 = (bt_202103['start_station_name'] == 'Chicago State University')\n",
    "bt_202103.loc[filt_d1, 'start_station_id'] = 737\n",
    "\n",
    "filt_d2 = (bt_202103['end_station_name'] == 'Chicago State University')\n",
    "bt_202103.loc[filt_d2, 'end_station_id'] = 737"
   ]
  },
  {
   "cell_type": "code",
   "execution_count": 105,
   "metadata": {},
   "outputs": [],
   "source": [
    "# update station's id with name of 'W Armitage Ave & N Sheffield Ave'\n",
    "filt_e1 = (bt_202103['start_station_name'] == 'W Armitage Ave & N Sheffield Ave')\n",
    "bt_202103.loc[filt_e1, 'start_station_id'] = 1436495105198659242\n",
    "\n",
    "filt_e2 = (bt_202103['end_station_name'] == 'W Armitage Ave & N Sheffield Ave')\n",
    "bt_202103.loc[filt_e2, 'end_station_id'] = 1436495105198659242"
   ]
  },
  {
   "cell_type": "code",
   "execution_count": 106,
   "metadata": {},
   "outputs": [],
   "source": [
    "# update station's id with name of 'W Washington Blvd & N Peoria St'\n",
    "filt_f1 = (bt_202103['start_station_name'] == 'W Washington Blvd & N Peoria St')\n",
    "bt_202103.loc[filt_f1, 'start_station_id'] = 1436495109493626544\n",
    "\n",
    "filt_f2 = (bt_202103['end_station_name'] == 'W Washington Blvd & N Peoria St')\n",
    "bt_202103.loc[filt_f2, 'end_station_id'] = 1436495109493626544"
   ]
  },
  {
   "cell_type": "code",
   "execution_count": 107,
   "metadata": {},
   "outputs": [],
   "source": [
    "# update station's id with name of 'N Paulina St & Lincoln Ave'\n",
    "filt_g1 = (bt_202103['start_station_name'] == 'N Paulina St & Lincoln Ave')\n",
    "bt_202103.loc[filt_g1, 'start_station_id'] = 1436495122378528446\n",
    "              \n",
    "filt_g2 = (bt_202103['end_station_name'] == 'N Paulina St & Lincoln Ave')\n",
    "bt_202103.loc[filt_g2, 'end_station_id'] = 1436495122378528446"
   ]
  },
  {
   "cell_type": "code",
   "execution_count": 108,
   "metadata": {},
   "outputs": [],
   "source": [
    "# update station's id with name of 'Halsted & 63rd - Kennedy-King Vaccination Site'\n",
    "filt_h1 = (bt_202103['start_station_name'] == 'Halsted & 63rd - Kennedy-King Vaccination Site')\n",
    "bt_202103.loc[filt_h1, 'start_station_id'] = 388\n",
    "\n",
    "filt_h2 = (bt_202103['end_station_name'] == 'Halsted & 63rd - Kennedy-King Vaccination Site')\n",
    "bt_202103.loc[filt_h2, 'end_station_id'] = 388"
   ]
  },
  {
   "cell_type": "code",
   "execution_count": 109,
   "metadata": {},
   "outputs": [],
   "source": [
    "# update station's id with name of 'Kedzie Ave & 110th St'\n",
    "filt_i1 = (bt_202103['start_station_name'] == 'Kedzie Ave & 110th St')\n",
    "bt_202103.loc[filt_i1, 'start_station_id'] = 736\n",
    "\n",
    "filt_i2 = (bt_202103['end_station_name'] == 'Kedzie Ave & 110th St')\n",
    "bt_202103.loc[filt_i2, 'end_station_id'] = 736"
   ]
  },
  {
   "cell_type": "code",
   "execution_count": 110,
   "metadata": {},
   "outputs": [],
   "source": [
    "# update station's id with name of 'N Carpenter St & W Lake St'\n",
    "filt_j1 = (bt_202103['start_station_name'] == 'N Carpenter St & W Lake St')\n",
    "bt_202103.loc[filt_j1, 'start_station_id'] = 1436495105198659246\n",
    "\n",
    "filt_j2 = (bt_202103['end_station_name'] == 'N Carpenter St & W Lake St')\n",
    "bt_202103.loc[filt_j2, 'end_station_id'] = 1436495105198659246"
   ]
  },
  {
   "cell_type": "code",
   "execution_count": 111,
   "metadata": {},
   "outputs": [],
   "source": [
    "# update station's id with name of 'Malcolm X College Vaccination Site'\n",
    "filt_k1 = (bt_202103['start_station_name'] == 'Malcolm X College Vaccination Site')\n",
    "bt_202103.loc[filt_k1, 'start_station_id'] = 631\n",
    "\n",
    "filt_k2 = (bt_202103['end_station_name'] == 'Malcolm X College Vaccination Site')\n",
    "bt_202103.loc[filt_k2, 'end_station_id'] = 631"
   ]
  },
  {
   "cell_type": "code",
   "execution_count": 112,
   "metadata": {},
   "outputs": [],
   "source": [
    "# update station's id with name of 'N Sheffield Ave & W Wellington Ave'\n",
    "filt_l1 = (bt_202103['start_station_name'] == 'N Sheffield Ave & W Wellington Ave')\n",
    "bt_202103.loc[filt_l1, 'start_station_id'] = 1436495118083561146\n",
    "\n",
    "filt_l2 = (bt_202103['end_station_name'] == 'N Sheffield Ave & W Wellington Ave')\n",
    "bt_202103.loc[filt_l2, 'end_station_id'] = 1436495118083561146"
   ]
  },
  {
   "cell_type": "code",
   "execution_count": 113,
   "metadata": {},
   "outputs": [],
   "source": [
    "# update station's id with name of 'W Oakdale Ave & N Broadway'\n",
    "filt_m1 = (bt_202103['start_station_name'] == 'W Oakdale Ave & N Broadway')\n",
    "bt_202103.loc[filt_m1, 'start_station_id'] = 1436495100903691938\n",
    "\n",
    "filt_m2 = (bt_202103['end_station_name'] == 'W Oakdale Ave & N Broadway')\n",
    "bt_202103.loc[filt_m2, 'end_station_id'] = 1436495100903691938"
   ]
  },
  {
   "cell_type": "code",
   "execution_count": 114,
   "metadata": {},
   "outputs": [],
   "source": [
    "# update station's id with name of 'N Southport Ave & W Newport Ave'\n",
    "filt_n1 = (bt_202103['start_station_name'] == 'N Southport Ave & W Newport Ave')\n",
    "bt_202103.loc[filt_n1, 'start_station_id'] = 1436495115557663136\n",
    "\n",
    "filt_n2 = (bt_202103['end_station_name'] == 'N Southport Ave & W Newport Ave')\n",
    "bt_202103.loc[filt_n2, 'end_station_id'] = 1436495115557663136"
   ]
  },
  {
   "cell_type": "code",
   "execution_count": 115,
   "metadata": {},
   "outputs": [],
   "source": [
    "# update station's id with name of 'N Green St & W Lake St'\n",
    "filt_o1 = (bt_202103['start_station_name'] == 'N Green St & W Lake St')\n",
    "bt_202103.loc[filt_o1, 'start_station_id'] = 1436495109493626546\n",
    "\n",
    "filt_o2 = (bt_202103['end_station_name'] == 'N Green St & W Lake St')\n",
    "bt_202103.loc[filt_o2, 'end_station_id'] = 1436495109493626546"
   ]
  },
  {
   "cell_type": "markdown",
   "metadata": {},
   "source": [
    "### 3. Save cleaned datasets"
   ]
  },
  {
   "cell_type": "code",
   "execution_count": 116,
   "metadata": {},
   "outputs": [],
   "source": [
    "bt_202004.to_csv('/home/eemonte/00_PROJECTS/cs_1_bike_share/cleaned_datasets/bt_202004.csv', index=False)\n",
    "bt_202005.to_csv('/home/eemonte/00_PROJECTS/cs_1_bike_share/cleaned_datasets/bt_202005.csv', index=False)\n",
    "bt_202006.to_csv('/home/eemonte/00_PROJECTS/cs_1_bike_share/cleaned_datasets/bt_202006.csv', index=False)\n",
    "bt_202007.to_csv('/home/eemonte/00_PROJECTS/cs_1_bike_share/cleaned_datasets/bt_202007.csv', index=False)\n",
    "bt_202008.to_csv('/home/eemonte/00_PROJECTS/cs_1_bike_share/cleaned_datasets/bt_202008.csv', index=False)\n",
    "bt_202009.to_csv('/home/eemonte/00_PROJECTS/cs_1_bike_share/cleaned_datasets/bt_202009.csv', index=False)\n",
    "bt_202010.to_csv('/home/eemonte/00_PROJECTS/cs_1_bike_share/cleaned_datasets/bt_202010.csv', index=False)\n",
    "bt_202011.to_csv('/home/eemonte/00_PROJECTS/cs_1_bike_share/cleaned_datasets/bt_202011.csv', index=False)\n",
    "bt_202012.to_csv('/home/eemonte/00_PROJECTS/cs_1_bike_share/cleaned_datasets/bt_202012.csv', index=False)\n",
    "bt_202101.to_csv('/home/eemonte/00_PROJECTS/cs_1_bike_share/cleaned_datasets/bt_202101.csv', index=False)\n",
    "bt_202102.to_csv('/home/eemonte/00_PROJECTS/cs_1_bike_share/cleaned_datasets/bt_202102.csv', index=False)\n",
    "bt_202103.to_csv('/home/eemonte/00_PROJECTS/cs_1_bike_share/cleaned_datasets/bt_202103.csv', index=False)"
   ]
  }
 ],
 "metadata": {
  "kernelspec": {
   "display_name": "Python 3",
   "language": "python",
   "name": "python3"
  },
  "language_info": {
   "codemirror_mode": {
    "name": "ipython",
    "version": 3
   },
   "file_extension": ".py",
   "mimetype": "text/x-python",
   "name": "python",
   "nbconvert_exporter": "python",
   "pygments_lexer": "ipython3",
   "version": "3.8.5"
  }
 },
 "nbformat": 4,
 "nbformat_minor": 4
}
