{
 "cells": [
  {
   "cell_type": "markdown",
   "metadata": {},
   "source": [
    "<h2><center>Cyclistic: a bike-share program</center></h2>\n",
    "<center>(Part 1: Data Cleaning & Transformation)</center>"
   ]
  },
  {
   "cell_type": "markdown",
   "metadata": {},
   "source": [
    "### 1. Import libraries and datasets"
   ]
  },
  {
   "cell_type": "code",
   "execution_count": 1,
   "metadata": {},
   "outputs": [],
   "source": [
    "import pandas as pd"
   ]
  },
  {
   "cell_type": "code",
   "execution_count": 9,
   "metadata": {},
   "outputs": [],
   "source": [
    "bt_202004 = pd.read_csv('/home/eemonte/00_PROJECTS/cs_1_bike_share/original_datasets/202004-divvy-tripdata.csv')\n",
    "bt_202005 = pd.read_csv('/home/eemonte/00_PROJECTS/cs_1_bike_share/original_datasets/202005-divvy-tripdata.csv')\n",
    "bt_202006 = pd.read_csv('/home/eemonte/00_PROJECTS/cs_1_bike_share/original_datasets/202006-divvy-tripdata.csv')\n",
    "bt_202007 = pd.read_csv('/home/eemonte/00_PROJECTS/cs_1_bike_share/original_datasets/202007-divvy-tripdata.csv')\n",
    "bt_202008 = pd.read_csv('/home/eemonte/00_PROJECTS/cs_1_bike_share/original_datasets/202008-divvy-tripdata.csv')\n",
    "bt_202009 = pd.read_csv('/home/eemonte/00_PROJECTS/cs_1_bike_share/original_datasets/202009-divvy-tripdata.csv')\n",
    "bt_202010 = pd.read_csv('/home/eemonte/00_PROJECTS/cs_1_bike_share/original_datasets/202010-divvy-tripdata.csv')\n",
    "bt_202011 = pd.read_csv('/home/eemonte/00_PROJECTS/cs_1_bike_share/original_datasets/202011-divvy-tripdata.csv')\n",
    "bt_202012 = pd.read_csv('/home/eemonte/00_PROJECTS/cs_1_bike_share/original_datasets/202012-divvy-tripdata.csv')\n",
    "bt_202101 = pd.read_csv('/home/eemonte/00_PROJECTS/cs_1_bike_share/original_datasets/202101-divvy-tripdata.csv')\n",
    "bt_202102 = pd.read_csv('/home/eemonte/00_PROJECTS/cs_1_bike_share/original_datasets/202102-divvy-tripdata.csv')\n",
    "bt_202103 = pd.read_csv('/home/eemonte/00_PROJECTS/cs_1_bike_share/original_datasets/202103-divvy-tripdata.csv')"
   ]
  },
  {
   "cell_type": "markdown",
   "metadata": {},
   "source": [
    "### 2. Examine datasets"
   ]
  },
  {
   "cell_type": "markdown",
   "metadata": {},
   "source": [
    "<h4><font color='green'>2-1 dataset: bike trips of April 2020 </font></h4>"
   ]
  },
  {
   "cell_type": "code",
   "execution_count": 9,
   "metadata": {},
   "outputs": [
    {
     "data": {
      "text/html": [
       "<div>\n",
       "<style scoped>\n",
       "    .dataframe tbody tr th:only-of-type {\n",
       "        vertical-align: middle;\n",
       "    }\n",
       "\n",
       "    .dataframe tbody tr th {\n",
       "        vertical-align: top;\n",
       "    }\n",
       "\n",
       "    .dataframe thead th {\n",
       "        text-align: right;\n",
       "    }\n",
       "</style>\n",
       "<table border=\"1\" class=\"dataframe\">\n",
       "  <thead>\n",
       "    <tr style=\"text-align: right;\">\n",
       "      <th></th>\n",
       "      <th>ride_id</th>\n",
       "      <th>rideable_type</th>\n",
       "      <th>started_at</th>\n",
       "      <th>ended_at</th>\n",
       "      <th>start_station_name</th>\n",
       "      <th>start_station_id</th>\n",
       "      <th>end_station_name</th>\n",
       "      <th>end_station_id</th>\n",
       "      <th>start_lat</th>\n",
       "      <th>start_lng</th>\n",
       "      <th>end_lat</th>\n",
       "      <th>end_lng</th>\n",
       "      <th>member_casual</th>\n",
       "    </tr>\n",
       "  </thead>\n",
       "  <tbody>\n",
       "    <tr>\n",
       "      <th>0</th>\n",
       "      <td>A847FADBBC638E45</td>\n",
       "      <td>docked_bike</td>\n",
       "      <td>2020-04-26 17:45:14</td>\n",
       "      <td>2020-04-26 18:12:03</td>\n",
       "      <td>Eckhart Park</td>\n",
       "      <td>86</td>\n",
       "      <td>Lincoln Ave &amp; Diversey Pkwy</td>\n",
       "      <td>152.0</td>\n",
       "      <td>41.8964</td>\n",
       "      <td>-87.6610</td>\n",
       "      <td>41.9322</td>\n",
       "      <td>-87.6586</td>\n",
       "      <td>member</td>\n",
       "    </tr>\n",
       "    <tr>\n",
       "      <th>1</th>\n",
       "      <td>5405B80E996FF60D</td>\n",
       "      <td>docked_bike</td>\n",
       "      <td>2020-04-17 17:08:54</td>\n",
       "      <td>2020-04-17 17:17:03</td>\n",
       "      <td>Drake Ave &amp; Fullerton Ave</td>\n",
       "      <td>503</td>\n",
       "      <td>Kosciuszko Park</td>\n",
       "      <td>499.0</td>\n",
       "      <td>41.9244</td>\n",
       "      <td>-87.7154</td>\n",
       "      <td>41.9306</td>\n",
       "      <td>-87.7238</td>\n",
       "      <td>member</td>\n",
       "    </tr>\n",
       "    <tr>\n",
       "      <th>2</th>\n",
       "      <td>5DD24A79A4E006F4</td>\n",
       "      <td>docked_bike</td>\n",
       "      <td>2020-04-01 17:54:13</td>\n",
       "      <td>2020-04-01 18:08:36</td>\n",
       "      <td>McClurg Ct &amp; Erie St</td>\n",
       "      <td>142</td>\n",
       "      <td>Indiana Ave &amp; Roosevelt Rd</td>\n",
       "      <td>255.0</td>\n",
       "      <td>41.8945</td>\n",
       "      <td>-87.6179</td>\n",
       "      <td>41.8679</td>\n",
       "      <td>-87.6230</td>\n",
       "      <td>member</td>\n",
       "    </tr>\n",
       "    <tr>\n",
       "      <th>3</th>\n",
       "      <td>2A59BBDF5CDBA725</td>\n",
       "      <td>docked_bike</td>\n",
       "      <td>2020-04-07 12:50:19</td>\n",
       "      <td>2020-04-07 13:02:31</td>\n",
       "      <td>California Ave &amp; Division St</td>\n",
       "      <td>216</td>\n",
       "      <td>Wood St &amp; Augusta Blvd</td>\n",
       "      <td>657.0</td>\n",
       "      <td>41.9030</td>\n",
       "      <td>-87.6975</td>\n",
       "      <td>41.8992</td>\n",
       "      <td>-87.6722</td>\n",
       "      <td>member</td>\n",
       "    </tr>\n",
       "    <tr>\n",
       "      <th>4</th>\n",
       "      <td>27AD306C119C6158</td>\n",
       "      <td>docked_bike</td>\n",
       "      <td>2020-04-18 10:22:59</td>\n",
       "      <td>2020-04-18 11:15:54</td>\n",
       "      <td>Rush St &amp; Hubbard St</td>\n",
       "      <td>125</td>\n",
       "      <td>Sheridan Rd &amp; Lawrence Ave</td>\n",
       "      <td>323.0</td>\n",
       "      <td>41.8902</td>\n",
       "      <td>-87.6262</td>\n",
       "      <td>41.9695</td>\n",
       "      <td>-87.6547</td>\n",
       "      <td>casual</td>\n",
       "    </tr>\n",
       "  </tbody>\n",
       "</table>\n",
       "</div>"
      ],
      "text/plain": [
       "            ride_id rideable_type          started_at            ended_at  \\\n",
       "0  A847FADBBC638E45   docked_bike 2020-04-26 17:45:14 2020-04-26 18:12:03   \n",
       "1  5405B80E996FF60D   docked_bike 2020-04-17 17:08:54 2020-04-17 17:17:03   \n",
       "2  5DD24A79A4E006F4   docked_bike 2020-04-01 17:54:13 2020-04-01 18:08:36   \n",
       "3  2A59BBDF5CDBA725   docked_bike 2020-04-07 12:50:19 2020-04-07 13:02:31   \n",
       "4  27AD306C119C6158   docked_bike 2020-04-18 10:22:59 2020-04-18 11:15:54   \n",
       "\n",
       "             start_station_name  start_station_id  \\\n",
       "0                  Eckhart Park                86   \n",
       "1     Drake Ave & Fullerton Ave               503   \n",
       "2          McClurg Ct & Erie St               142   \n",
       "3  California Ave & Division St               216   \n",
       "4          Rush St & Hubbard St               125   \n",
       "\n",
       "              end_station_name  end_station_id  start_lat  start_lng  end_lat  \\\n",
       "0  Lincoln Ave & Diversey Pkwy           152.0    41.8964   -87.6610  41.9322   \n",
       "1              Kosciuszko Park           499.0    41.9244   -87.7154  41.9306   \n",
       "2   Indiana Ave & Roosevelt Rd           255.0    41.8945   -87.6179  41.8679   \n",
       "3       Wood St & Augusta Blvd           657.0    41.9030   -87.6975  41.8992   \n",
       "4   Sheridan Rd & Lawrence Ave           323.0    41.8902   -87.6262  41.9695   \n",
       "\n",
       "   end_lng member_casual  \n",
       "0 -87.6586        member  \n",
       "1 -87.7238        member  \n",
       "2 -87.6230        member  \n",
       "3 -87.6722        member  \n",
       "4 -87.6547        casual  "
      ]
     },
     "execution_count": 9,
     "metadata": {},
     "output_type": "execute_result"
    }
   ],
   "source": [
    "bt_202004.head()"
   ]
  },
  {
   "cell_type": "code",
   "execution_count": 11,
   "metadata": {},
   "outputs": [
    {
     "data": {
      "text/plain": [
       "ride_id                object\n",
       "rideable_type          object\n",
       "started_at             object\n",
       "ended_at               object\n",
       "start_station_name     object\n",
       "start_station_id        int64\n",
       "end_station_name       object\n",
       "end_station_id        float64\n",
       "start_lat             float64\n",
       "start_lng             float64\n",
       "end_lat               float64\n",
       "end_lng               float64\n",
       "member_casual          object\n",
       "dtype: object"
      ]
     },
     "execution_count": 11,
     "metadata": {},
     "output_type": "execute_result"
    }
   ],
   "source": [
    "bt_202004.dtypes"
   ]
  },
  {
   "cell_type": "code",
   "execution_count": 12,
   "metadata": {},
   "outputs": [
    {
     "data": {
      "text/plain": [
       "ride_id                0\n",
       "rideable_type          0\n",
       "started_at             0\n",
       "ended_at               0\n",
       "start_station_name     0\n",
       "start_station_id       0\n",
       "end_station_name      99\n",
       "end_station_id        99\n",
       "start_lat              0\n",
       "start_lng              0\n",
       "end_lat               99\n",
       "end_lng               99\n",
       "member_casual          0\n",
       "dtype: int64"
      ]
     },
     "execution_count": 12,
     "metadata": {},
     "output_type": "execute_result"
    }
   ],
   "source": [
    "bt_202004.isna().sum()"
   ]
  },
  {
   "cell_type": "code",
   "execution_count": 13,
   "metadata": {
    "scrolled": true
   },
   "outputs": [],
   "source": [
    "# drop all NAN values in bt_202004\n",
    "bt_202004.dropna(inplace=True)"
   ]
  },
  {
   "cell_type": "code",
   "execution_count": 14,
   "metadata": {},
   "outputs": [],
   "source": [
    "# convert 'end_station_id' column from floating points to integers\n",
    "bt_202004['end_station_id'] = bt_202004['end_station_id'].astype('int64')"
   ]
  },
  {
   "cell_type": "markdown",
   "metadata": {},
   "source": [
    "<h4><font color='green'>2.2 bike trips of May 2020 </font></h4>"
   ]
  },
  {
   "cell_type": "code",
   "execution_count": 15,
   "metadata": {},
   "outputs": [
    {
     "data": {
      "text/plain": [
       "ride_id                object\n",
       "rideable_type          object\n",
       "started_at             object\n",
       "ended_at               object\n",
       "start_station_name     object\n",
       "start_station_id        int64\n",
       "end_station_name       object\n",
       "end_station_id        float64\n",
       "start_lat             float64\n",
       "start_lng             float64\n",
       "end_lat               float64\n",
       "end_lng               float64\n",
       "member_casual          object\n",
       "dtype: object"
      ]
     },
     "execution_count": 15,
     "metadata": {},
     "output_type": "execute_result"
    }
   ],
   "source": [
    "bt_202005.dtypes"
   ]
  },
  {
   "cell_type": "code",
   "execution_count": 16,
   "metadata": {},
   "outputs": [
    {
     "data": {
      "text/plain": [
       "ride_id                 0\n",
       "rideable_type           0\n",
       "started_at              0\n",
       "ended_at                0\n",
       "start_station_name      0\n",
       "start_station_id        0\n",
       "end_station_name      321\n",
       "end_station_id        321\n",
       "start_lat               0\n",
       "start_lng               0\n",
       "end_lat               321\n",
       "end_lng               321\n",
       "member_casual           0\n",
       "dtype: int64"
      ]
     },
     "execution_count": 16,
     "metadata": {},
     "output_type": "execute_result"
    }
   ],
   "source": [
    "bt_202005.isna().sum()"
   ]
  },
  {
   "cell_type": "code",
   "execution_count": 17,
   "metadata": {},
   "outputs": [],
   "source": [
    "# drop all NAN values in bt_202005\n",
    "bt_202005.dropna(inplace=True)"
   ]
  },
  {
   "cell_type": "code",
   "execution_count": 18,
   "metadata": {},
   "outputs": [],
   "source": [
    "# convert 'started_at' column from strings to datetimes\n",
    "bt_202005['started_at'] = pd.to_datetime(bt_202005['started_at'], format = '%Y-%m-%d %H:%M:%S')\n",
    "\n",
    "# convert 'ended_at' column from strings to datetimes\n",
    "bt_202005['ended_at'] = pd.to_datetime(bt_202005['ended_at'], format = '%Y-%m-%d %H:%M:%S')\n",
    "\n",
    "# convert 'end_station_id' from floating points to integers\n",
    "bt_202005['end_station_id'] = bt_202005['end_station_id'].astype('int64')"
   ]
  },
  {
   "cell_type": "markdown",
   "metadata": {},
   "source": [
    "<h4><font color='green'>2.3 bike trips of June 2020 </font></h4>"
   ]
  },
  {
   "cell_type": "code",
   "execution_count": 19,
   "metadata": {},
   "outputs": [
    {
     "data": {
      "text/plain": [
       "ride_id                object\n",
       "rideable_type          object\n",
       "started_at             object\n",
       "ended_at               object\n",
       "start_station_name     object\n",
       "start_station_id        int64\n",
       "end_station_name       object\n",
       "end_station_id        float64\n",
       "start_lat             float64\n",
       "start_lng             float64\n",
       "end_lat               float64\n",
       "end_lng               float64\n",
       "member_casual          object\n",
       "dtype: object"
      ]
     },
     "execution_count": 19,
     "metadata": {},
     "output_type": "execute_result"
    }
   ],
   "source": [
    "bt_202006.dtypes"
   ]
  },
  {
   "cell_type": "code",
   "execution_count": 20,
   "metadata": {},
   "outputs": [
    {
     "data": {
      "text/plain": [
       "ride_id                 0\n",
       "rideable_type           0\n",
       "started_at              0\n",
       "ended_at                0\n",
       "start_station_name      0\n",
       "start_station_id        0\n",
       "end_station_name      468\n",
       "end_station_id        468\n",
       "start_lat               0\n",
       "start_lng               0\n",
       "end_lat               468\n",
       "end_lng               468\n",
       "member_casual           0\n",
       "dtype: int64"
      ]
     },
     "execution_count": 20,
     "metadata": {},
     "output_type": "execute_result"
    }
   ],
   "source": [
    "bt_202006.isna().sum()"
   ]
  },
  {
   "cell_type": "code",
   "execution_count": 21,
   "metadata": {},
   "outputs": [],
   "source": [
    "# drop all NAN values in bt_202006\n",
    "bt_202006.dropna(inplace=True)"
   ]
  },
  {
   "cell_type": "code",
   "execution_count": 22,
   "metadata": {},
   "outputs": [],
   "source": [
    "# convert 'started_at' column from strings to datetimes\n",
    "bt_202006['started_at'] = pd.to_datetime(bt_202006['started_at'], format = \"%Y-%m-%d %H:%M:%S\")\n",
    "\n",
    "# convert 'ended_at' column from strings to datetimes\n",
    "bt_202006['ended_at'] = pd.to_datetime(bt_202006['ended_at'], format = \"%Y-%m-%d %H:%M:%S\")\n",
    "\n",
    "# convert 'end_station_id' from floating points to integers\n",
    "bt_202006['end_station_id'] = bt_202006['end_station_id'].astype('int64')"
   ]
  },
  {
   "cell_type": "markdown",
   "metadata": {},
   "source": [
    "<h4><font color='green'>2.4 bike trips of July 2020</font></h4>"
   ]
  },
  {
   "cell_type": "code",
   "execution_count": 23,
   "metadata": {},
   "outputs": [
    {
     "data": {
      "text/plain": [
       "ride_id                object\n",
       "rideable_type          object\n",
       "started_at             object\n",
       "ended_at               object\n",
       "start_station_name     object\n",
       "start_station_id      float64\n",
       "end_station_name       object\n",
       "end_station_id        float64\n",
       "start_lat             float64\n",
       "start_lng             float64\n",
       "end_lat               float64\n",
       "end_lng               float64\n",
       "member_casual          object\n",
       "dtype: object"
      ]
     },
     "execution_count": 23,
     "metadata": {},
     "output_type": "execute_result"
    }
   ],
   "source": [
    "bt_202007.dtypes"
   ]
  },
  {
   "cell_type": "code",
   "execution_count": 24,
   "metadata": {
    "scrolled": true
   },
   "outputs": [
    {
     "data": {
      "text/plain": [
       "ride_id                 0\n",
       "rideable_type           0\n",
       "started_at              0\n",
       "ended_at                0\n",
       "start_station_name    149\n",
       "start_station_id      152\n",
       "end_station_name      967\n",
       "end_station_id        969\n",
       "start_lat               0\n",
       "start_lng               0\n",
       "end_lat               770\n",
       "end_lng               770\n",
       "member_casual           0\n",
       "dtype: int64"
      ]
     },
     "execution_count": 24,
     "metadata": {},
     "output_type": "execute_result"
    }
   ],
   "source": [
    "bt_202007.isna().sum()"
   ]
  },
  {
   "cell_type": "code",
   "execution_count": 25,
   "metadata": {},
   "outputs": [],
   "source": [
    "# drop all NAN values in bt_202007\n",
    "bt_202007.dropna(inplace=True)"
   ]
  },
  {
   "cell_type": "code",
   "execution_count": 26,
   "metadata": {},
   "outputs": [],
   "source": [
    "# convert 'started_at' column from strings to datetimes\n",
    "bt_202007['started_at'] = pd.to_datetime(bt_202007['started_at'], format = \"%Y-%m-%d %H:%M:%S\")\n",
    "\n",
    "# convert 'ended_at' column from strings to datetimes\n",
    "bt_202007['ended_at'] = pd.to_datetime(bt_202007['ended_at'], format = \"%Y-%m-%d %H:%M:%S\")\n",
    "\n",
    "# convert 'start_station_id' column from floating points to integers\n",
    "bt_202007['start_station_id'] = bt_202007['start_station_id'].astype('int64')\n",
    "\n",
    "# convert 'end_station_id' column from floating points to integers\n",
    "bt_202007['end_station_id'] = bt_202007['end_station_id'].astype('int64')"
   ]
  },
  {
   "cell_type": "markdown",
   "metadata": {},
   "source": [
    "<h4><font color='green'>2.5 bike trips of August 2020</font></h4>"
   ]
  },
  {
   "cell_type": "code",
   "execution_count": 27,
   "metadata": {},
   "outputs": [
    {
     "data": {
      "text/plain": [
       "ride_id                object\n",
       "rideable_type          object\n",
       "started_at             object\n",
       "ended_at               object\n",
       "start_station_name     object\n",
       "start_station_id      float64\n",
       "end_station_name       object\n",
       "end_station_id        float64\n",
       "start_lat             float64\n",
       "start_lng             float64\n",
       "end_lat               float64\n",
       "end_lng               float64\n",
       "member_casual          object\n",
       "dtype: object"
      ]
     },
     "execution_count": 27,
     "metadata": {},
     "output_type": "execute_result"
    }
   ],
   "source": [
    "bt_202008.dtypes"
   ]
  },
  {
   "cell_type": "code",
   "execution_count": 28,
   "metadata": {},
   "outputs": [
    {
     "data": {
      "text/plain": [
       "ride_id                   0\n",
       "rideable_type             0\n",
       "started_at                0\n",
       "ended_at                  0\n",
       "start_station_name     7595\n",
       "start_station_id       7691\n",
       "end_station_name      10035\n",
       "end_station_id        10110\n",
       "start_lat                 0\n",
       "start_lng                 0\n",
       "end_lat                 938\n",
       "end_lng                 938\n",
       "member_casual             0\n",
       "dtype: int64"
      ]
     },
     "execution_count": 28,
     "metadata": {},
     "output_type": "execute_result"
    }
   ],
   "source": [
    "bt_202008.isna().sum()"
   ]
  },
  {
   "cell_type": "code",
   "execution_count": 29,
   "metadata": {},
   "outputs": [],
   "source": [
    "# drop all NAN values in bt_202008\n",
    "bt_202008.dropna(inplace=True)"
   ]
  },
  {
   "cell_type": "code",
   "execution_count": 30,
   "metadata": {},
   "outputs": [],
   "source": [
    "# convert 'started_at' column from strings to datetimes\n",
    "bt_202008['started_at'] = pd.to_datetime(bt_202008['started_at'], format = \"%Y-%m-%d %H:%M:%S\")\n",
    "\n",
    "# convert 'ended_at' column from strings to datetimes\n",
    "bt_202008['ended_at'] = pd.to_datetime(bt_202008['ended_at'], format = \"%Y-%m-%d %H:%M:%S\")\n",
    "\n",
    "# convert 'start_station_id' column from floating points to integers\n",
    "bt_202008['start_station_id'] = bt_202008['start_station_id'].astype('int64')\n",
    "\n",
    "# convert 'end_station_id' column from floating points to integers\n",
    "bt_202008['end_station_id'] = bt_202008['end_station_id'].astype('int64')"
   ]
  },
  {
   "cell_type": "markdown",
   "metadata": {},
   "source": [
    "<h4><font color='green'>2.6 bike trips of September 2020</font></h4>"
   ]
  },
  {
   "cell_type": "code",
   "execution_count": 31,
   "metadata": {},
   "outputs": [
    {
     "data": {
      "text/plain": [
       "ride_id                object\n",
       "rideable_type          object\n",
       "started_at             object\n",
       "ended_at               object\n",
       "start_station_name     object\n",
       "start_station_id      float64\n",
       "end_station_name       object\n",
       "end_station_id        float64\n",
       "start_lat             float64\n",
       "start_lng             float64\n",
       "end_lat               float64\n",
       "end_lng               float64\n",
       "member_casual          object\n",
       "dtype: object"
      ]
     },
     "execution_count": 31,
     "metadata": {},
     "output_type": "execute_result"
    }
   ],
   "source": [
    "bt_202009.dtypes"
   ]
  },
  {
   "cell_type": "code",
   "execution_count": 32,
   "metadata": {
    "scrolled": true
   },
   "outputs": [
    {
     "data": {
      "text/plain": [
       "ride_id                   0\n",
       "rideable_type             0\n",
       "started_at                0\n",
       "ended_at                  0\n",
       "start_station_name    19691\n",
       "start_station_id      19901\n",
       "end_station_name      23373\n",
       "end_station_id        23524\n",
       "start_lat                 0\n",
       "start_lng                 0\n",
       "end_lat                 789\n",
       "end_lng                 789\n",
       "member_casual             0\n",
       "dtype: int64"
      ]
     },
     "execution_count": 32,
     "metadata": {},
     "output_type": "execute_result"
    }
   ],
   "source": [
    "bt_202009.isna().sum()"
   ]
  },
  {
   "cell_type": "code",
   "execution_count": 33,
   "metadata": {},
   "outputs": [],
   "source": [
    "# drop all NAN values in bt_202009\n",
    "bt_202009.dropna(inplace=True)"
   ]
  },
  {
   "cell_type": "code",
   "execution_count": 34,
   "metadata": {},
   "outputs": [],
   "source": [
    "# convert 'started_at' column from strings to datetimes\n",
    "bt_202009['started_at'] = pd.to_datetime(bt_202009['started_at'], format = \"%Y-%m-%d %H:%M:%S\")\n",
    "\n",
    "# convert 'ended_at' column from strings to datetimes\n",
    "bt_202009['ended_at'] = pd.to_datetime(bt_202009['ended_at'], format = \"%Y-%m-%d %H:%M:%S\")\n",
    "\n",
    "# convert 'start_station_id' column from floating points to integers\n",
    "bt_202009['start_station_id'] = bt_202009['start_station_id'].astype('int64')\n",
    "\n",
    "# convert 'end_station_id' column from floating points to integers\n",
    "bt_202009['end_station_id'] = bt_202009['end_station_id'].astype('int64')"
   ]
  },
  {
   "cell_type": "markdown",
   "metadata": {},
   "source": [
    "<font color='green'><h4>2.7 bike trips of October 2020</h4></font>"
   ]
  },
  {
   "cell_type": "code",
   "execution_count": 35,
   "metadata": {},
   "outputs": [
    {
     "data": {
      "text/plain": [
       "ride_id                object\n",
       "rideable_type          object\n",
       "started_at             object\n",
       "ended_at               object\n",
       "start_station_name     object\n",
       "start_station_id      float64\n",
       "end_station_name       object\n",
       "end_station_id        float64\n",
       "start_lat             float64\n",
       "start_lng             float64\n",
       "end_lat               float64\n",
       "end_lng               float64\n",
       "member_casual          object\n",
       "dtype: object"
      ]
     },
     "execution_count": 35,
     "metadata": {},
     "output_type": "execute_result"
    }
   ],
   "source": [
    "bt_202010.dtypes"
   ]
  },
  {
   "cell_type": "code",
   "execution_count": 36,
   "metadata": {},
   "outputs": [
    {
     "data": {
      "text/plain": [
       "ride_id                   0\n",
       "rideable_type             0\n",
       "started_at                0\n",
       "ended_at                  0\n",
       "start_station_name    31198\n",
       "start_station_id      31405\n",
       "end_station_name      35631\n",
       "end_station_id        35787\n",
       "start_lat                 0\n",
       "start_lng                 0\n",
       "end_lat                 474\n",
       "end_lng                 474\n",
       "member_casual             0\n",
       "dtype: int64"
      ]
     },
     "execution_count": 36,
     "metadata": {},
     "output_type": "execute_result"
    }
   ],
   "source": [
    "bt_202010.isna().sum()"
   ]
  },
  {
   "cell_type": "code",
   "execution_count": 37,
   "metadata": {},
   "outputs": [],
   "source": [
    "# drop all NAN values in bt_202010\n",
    "bt_202010.dropna(inplace=True)"
   ]
  },
  {
   "cell_type": "code",
   "execution_count": 38,
   "metadata": {},
   "outputs": [],
   "source": [
    "# convert 'started_at' column from strings to datetimes\n",
    "bt_202010['started_at'] = pd.to_datetime(bt_202010['started_at'], format = \"%Y-%m-%d %H:%M:%S\")\n",
    "\n",
    "# convert 'ended_at' column from strings to datetimes\n",
    "bt_202010['ended_at'] = pd.to_datetime(bt_202010['ended_at'], format = \"%Y-%m-%d %H:%M:%S\")\n",
    "\n",
    "# convert 'start_station_id' column from floating points to integers\n",
    "bt_202010['start_station_id'] = bt_202010['start_station_id'].astype('int64')\n",
    "\n",
    "# convert 'end_station_id' column from floating points to integers\n",
    "bt_202010['end_station_id'] = bt_202010['end_station_id'].astype('int64')"
   ]
  },
  {
   "cell_type": "markdown",
   "metadata": {},
   "source": [
    "<font color='green'><h4>2.8 bike trips of November 2020</h4></font>"
   ]
  },
  {
   "cell_type": "code",
   "execution_count": 39,
   "metadata": {},
   "outputs": [
    {
     "data": {
      "text/plain": [
       "ride_id                object\n",
       "rideable_type          object\n",
       "started_at             object\n",
       "ended_at               object\n",
       "start_station_name     object\n",
       "start_station_id      float64\n",
       "end_station_name       object\n",
       "end_station_id        float64\n",
       "start_lat             float64\n",
       "start_lng             float64\n",
       "end_lat               float64\n",
       "end_lng               float64\n",
       "member_casual          object\n",
       "dtype: object"
      ]
     },
     "execution_count": 39,
     "metadata": {},
     "output_type": "execute_result"
    }
   ],
   "source": [
    "bt_202011.dtypes"
   ]
  },
  {
   "cell_type": "code",
   "execution_count": 40,
   "metadata": {},
   "outputs": [
    {
     "data": {
      "text/plain": [
       "ride_id                   0\n",
       "rideable_type             0\n",
       "started_at                0\n",
       "ended_at                  0\n",
       "start_station_name    24324\n",
       "start_station_id      24434\n",
       "end_station_name      26749\n",
       "end_station_id        26826\n",
       "start_lat                 0\n",
       "start_lng                 0\n",
       "end_lat                 284\n",
       "end_lng                 284\n",
       "member_casual             0\n",
       "dtype: int64"
      ]
     },
     "execution_count": 40,
     "metadata": {},
     "output_type": "execute_result"
    }
   ],
   "source": [
    "bt_202011.isna().sum()"
   ]
  },
  {
   "cell_type": "code",
   "execution_count": 41,
   "metadata": {},
   "outputs": [],
   "source": [
    "# drop all NAN values in bt_202011\n",
    "bt_202011.dropna(inplace=True)"
   ]
  },
  {
   "cell_type": "code",
   "execution_count": 42,
   "metadata": {},
   "outputs": [],
   "source": [
    "# convert 'started_at' column from strings to datetimes\n",
    "bt_202011['started_at'] = pd.to_datetime(bt_202011['started_at'], format = \"%Y-%m-%d %H:%M:%S\")\n",
    "\n",
    "# convert 'ended_at' column from strings to datetimes\n",
    "bt_202011['ended_at'] = pd.to_datetime(bt_202011['ended_at'], format = \"%Y-%m-%d %H:%M:%S\")\n",
    "\n",
    "# convert 'start_station_id' column from floating points to integers\n",
    "bt_202011['start_station_id'] = bt_202011['start_station_id'].astype('int64')\n",
    "\n",
    "# convert 'end_station_id' column from floating points to integers\n",
    "bt_202011['end_station_id'] = bt_202011['end_station_id'].astype('int64')"
   ]
  },
  {
   "cell_type": "markdown",
   "metadata": {},
   "source": [
    "<font color='green'><h4>2.9 bike trips of December 2020</h4></font>"
   ]
  },
  {
   "cell_type": "code",
   "execution_count": 43,
   "metadata": {},
   "outputs": [
    {
     "data": {
      "text/plain": [
       "ride_id                object\n",
       "rideable_type          object\n",
       "started_at             object\n",
       "ended_at               object\n",
       "start_station_name     object\n",
       "start_station_id       object\n",
       "end_station_name       object\n",
       "end_station_id         object\n",
       "start_lat             float64\n",
       "start_lng             float64\n",
       "end_lat               float64\n",
       "end_lng               float64\n",
       "member_casual          object\n",
       "dtype: object"
      ]
     },
     "execution_count": 43,
     "metadata": {},
     "output_type": "execute_result"
    }
   ],
   "source": [
    "bt_202012.dtypes"
   ]
  },
  {
   "cell_type": "code",
   "execution_count": 44,
   "metadata": {},
   "outputs": [
    {
     "data": {
      "text/plain": [
       "ride_id                   0\n",
       "rideable_type             0\n",
       "started_at                0\n",
       "ended_at                  0\n",
       "start_station_name    11699\n",
       "start_station_id      11699\n",
       "end_station_name      13237\n",
       "end_station_id        13237\n",
       "start_lat                 0\n",
       "start_lng                 0\n",
       "end_lat                 111\n",
       "end_lng                 111\n",
       "member_casual             0\n",
       "dtype: int64"
      ]
     },
     "execution_count": 44,
     "metadata": {},
     "output_type": "execute_result"
    }
   ],
   "source": [
    "bt_202012.isna().sum()"
   ]
  },
  {
   "cell_type": "code",
   "execution_count": 45,
   "metadata": {},
   "outputs": [],
   "source": [
    "# drop all NAN values in bt_202012\n",
    "bt_202012.dropna(inplace=True)"
   ]
  },
  {
   "cell_type": "code",
   "execution_count": 46,
   "metadata": {},
   "outputs": [],
   "source": [
    "# convert 'started_at' column from strings to datetimes\n",
    "bt_202012['started_at'] = pd.to_datetime(bt_202012['started_at'], format = \"%Y-%m-%d %H:%M:%S\")\n",
    "\n",
    "# convert 'ended_at' column from strings to datetimes\n",
    "bt_202012['ended_at'] = pd.to_datetime(bt_202012['ended_at'], format = \"%Y-%m-%d %H:%M:%S\")"
   ]
  },
  {
   "cell_type": "markdown",
   "metadata": {},
   "source": [
    "<h4><font color='red'>After examinging the 'start_station_id' column and 'end_station_id' in this dataset, I found an inconsistency issue between station ids and their corresponding names. Specifically, if a start or end station's name is \"Rhodes Ave & 32nd St\", then its corresponding id is 263 in all previous nine datasets, but in this dataset it is associated with id 13215.</font></h4>\n",
    "    \n",
    "<h4><font color='red'>Therefore, I will re-validate the correct ids from cross-referecing all previous datasets, and then cast these two columns into integer datatype.</font></h4>"
   ]
  },
  {
   "cell_type": "code",
   "execution_count": 47,
   "metadata": {},
   "outputs": [],
   "source": [
    "# get all pairs of station names and ids from previous 8 datasets\n",
    "\n",
    "station_id = dict(zip(bt_202004['start_station_name'], bt_202004['start_station_id']))\n",
    "station_id.update(zip(bt_202004['end_station_name'], bt_202004['end_station_id']))\n",
    "\n",
    "station_id.update(zip(bt_202005['start_station_name'], bt_202005['start_station_id']))\n",
    "station_id.update(zip(bt_202005['end_station_name'], bt_202005['end_station_id']))\n",
    "\n",
    "station_id.update(zip(bt_202006['start_station_name'], bt_202006['start_station_id']))\n",
    "station_id.update(zip(bt_202006['end_station_name'], bt_202006['end_station_id']))\n",
    "\n",
    "station_id.update(zip(bt_202007['start_station_name'], bt_202007['start_station_id']))\n",
    "station_id.update(zip(bt_202007['end_station_name'], bt_202007['end_station_id']))\n",
    "\n",
    "station_id.update(zip(bt_202008['start_station_name'], bt_202008['start_station_id']))\n",
    "station_id.update(zip(bt_202008['end_station_name'], bt_202005['end_station_id']))\n",
    "\n",
    "station_id.update(zip(bt_202009['start_station_name'], bt_202009['start_station_id']))\n",
    "station_id.update(zip(bt_202009['end_station_name'], bt_202009['end_station_id']))\n",
    "\n",
    "station_id.update(zip(bt_202010['start_station_name'], bt_202010['start_station_id']))\n",
    "station_id.update(zip(bt_202010['end_station_name'], bt_202010['end_station_id']))\n",
    "\n",
    "station_id.update(zip(bt_202011['start_station_name'], bt_202011['start_station_id']))\n",
    "station_id.update(zip(bt_202011['end_station_name'], bt_202011['end_station_id']))"
   ]
  },
  {
   "cell_type": "markdown",
   "metadata": {},
   "source": [
    "<h4><font color='blue'> The function 'correct_station_name_id' below will grab all start station names and end station names from the input dataframe, determine if each station's name appears in the previous 8 datasets:</font></h4>\n",
    "\n",
    "- <font color='blue'>if it does exist, update its corresponding id from the input dataframe to the correct one;</font>\n",
    "- <font color='blue'>if it does not exist, mark the station's name in a list 'not_changed' for further cleaning.</font>"
   ]
  },
  {
   "cell_type": "code",
   "execution_count": 48,
   "metadata": {},
   "outputs": [],
   "source": [
    "not_changed = list()\n",
    "\n",
    "def correct_station_name_id(dataframe):\n",
    "    start_station_names = set(dataframe['start_station_name'])\n",
    "    end_station_names = set(dataframe['end_station_name'])\n",
    "    \n",
    "    # correct start_station_ids in the dataset\n",
    "    for name in start_station_names:\n",
    "        if name not in station_id.keys():\n",
    "            not_changed.append(name) # catch exceptions in case any station name haven't appeared in previous 8 datasets\n",
    "        else:\n",
    "            dataframe.loc[dataframe['start_station_name'] == name, 'start_station_id'] = station_id[name]\n",
    "    \n",
    "    # correct end_station_ids in the dataset\n",
    "    for name in end_station_names:\n",
    "        if name in not_changed:\n",
    "            continue\n",
    "        elif name not in station_id.keys():\n",
    "            not_changed.append(name) # catch exceptions in case any station name haven't appeared in previous 8 datasets\n",
    "        else:\n",
    "            dataframe.loc[dataframe['end_station_name'] == name, 'end_station_id'] = station_id[name]\n",
    "    \n",
    "    print('These stations below are not existed in the previous 8 datasets:')\n",
    "    return not_changed"
   ]
  },
  {
   "cell_type": "code",
   "execution_count": 49,
   "metadata": {
    "scrolled": false
   },
   "outputs": [
    {
     "name": "stdout",
     "output_type": "stream",
     "text": [
      "These stations below are not existed in the previous 8 datasets:\n"
     ]
    },
    {
     "data": {
      "text/plain": [
       "['W Oakdale Ave & N Broadway',\n",
       " 'N Green St & W Lake St',\n",
       " 'Base - 2132 W Hubbard Warehouse',\n",
       " 'W Armitage Ave & N Sheffield Ave',\n",
       " 'N Carpenter St & W Lake St']"
      ]
     },
     "execution_count": 49,
     "metadata": {},
     "output_type": "execute_result"
    }
   ],
   "source": [
    "# update stations' ids in bt_202012 and catch stations that're not existed from previous 8 datasets\n",
    "\n",
    "correct_station_name_id(bt_202012)"
   ]
  },
  {
   "cell_type": "markdown",
   "metadata": {},
   "source": [
    "<font color='red'><h4>As showed above, 5 station names were caught as exceptions in the list not_changed</h4></font>\n",
    "    \n",
    "<font color='red'><h4>Meanwhile, I've examined the rest 3 datasets, and I found in these 3 datasets these 5 station names and their corresponding ids are not correct as well.</h4></font>\n",
    "\n",
    "#### <font color='blue'> Therefore, I've found the official dataset of all Divvy Bicycle Stations at __[here](https://data.cityofchicago.org/d/bbyy-e7gq?category=Transportation&view_name=Divvy-Bicycle-Stations)__ on __[The Chicago Data Portal website](httP://data.cityofchicago.org)__ </font>\n",
    "\n",
    "#### <font color='blue'>I will download this dataset and import it below as the official reference to get the correct station names and/or corresponding ids.</font>"
   ]
  },
  {
   "cell_type": "code",
   "execution_count": 50,
   "metadata": {
    "scrolled": false
   },
   "outputs": [],
   "source": [
    "# import the official bike stations information dataset\n",
    "official_station_info = pd.read_csv('/home/eemonte/00_PROJECTS/cs_1_bike_share/original_datasets/official_bike_stations_info.csv')\n",
    "\n",
    "# get the station name and id in pairs from the official station information dataset\n",
    "official_station_name_id = dict(zip(official_station_info['Station Name'], official_station_info['ID']))"
   ]
  },
  {
   "cell_type": "code",
   "execution_count": 51,
   "metadata": {
    "scrolled": true
   },
   "outputs": [],
   "source": [
    "# get the correct id of each station that're not existed in the previous 8 datasets from the official stations information dataset\n",
    "def get_correct_id():\n",
    "    cannot_find_this_station = []\n",
    "    for name in not_changed:\n",
    "        if name not in official_station_name_id.keys():\n",
    "            if name not in cannot_find_this_station:\n",
    "                cannot_find_this_station.append(name)\n",
    "        else:\n",
    "            correct_id = official_station_name_id[name]\n",
    "            print(name, ': ', correct_id)\n",
    "            #print('and its correct id found in the official stations information dataset is: ', correct_id)\n",
    "            print()\n",
    "    \n",
    "    print('These stations below cannot be found in the official stations information dataset:')\n",
    "    return cannot_find_this_station"
   ]
  },
  {
   "cell_type": "code",
   "execution_count": 52,
   "metadata": {},
   "outputs": [
    {
     "name": "stdout",
     "output_type": "stream",
     "text": [
      "W Oakdale Ave & N Broadway :  1436495100903691938\n",
      "\n",
      "N Green St & W Lake St :  1436495109493626546\n",
      "\n",
      "W Armitage Ave & N Sheffield Ave :  1436495105198659242\n",
      "\n",
      "N Carpenter St & W Lake St :  1436495105198659246\n",
      "\n",
      "These stations below cannot be found in the official stations information dataset:\n"
     ]
    },
    {
     "data": {
      "text/plain": [
       "['Base - 2132 W Hubbard Warehouse']"
      ]
     },
     "execution_count": 52,
     "metadata": {},
     "output_type": "execute_result"
    }
   ],
   "source": [
    "# get the correct ids of exceptional stations in list not_changed\n",
    "get_correct_id()"
   ]
  },
  {
   "cell_type": "markdown",
   "metadata": {},
   "source": [
    "<h4><font color='red'> The station 'Base - 2132 W Hubbard Warehouse' cannot be found in the official station information dataset. Due to lack of information, I will drop these records.</font></h4>"
   ]
  },
  {
   "cell_type": "code",
   "execution_count": 53,
   "metadata": {},
   "outputs": [],
   "source": [
    "# drop records with start_station_name as 'Base - 2132 W Hubbard Warehouse'\n",
    "bt_202012.drop(bt_202012[bt_202012['start_station_name'] == 'Base - 2132 W Hubbard Warehouse'].index, inplace=True)\n",
    "\n",
    "# drop records with end_station_name as 'Base - 2132 W Hubbard Warehouse'\n",
    "bt_202012.drop(bt_202012[bt_202012['end_station_name'] == 'Base - 2132 W Hubbard Warehouse'].index, inplace=True)"
   ]
  },
  {
   "cell_type": "markdown",
   "metadata": {},
   "source": [
    "<h4><font color='blue'> For the other 4 stations, I will manually update the ids in bt_202012</font></h4>"
   ]
  },
  {
   "cell_type": "code",
   "execution_count": 54,
   "metadata": {},
   "outputs": [],
   "source": [
    "# update station's id with name of 'N Green St & W Lake St'\n",
    "filt_a1 = (bt_202012['start_station_name'] == 'N Green St & W Lake St')\n",
    "bt_202012.loc[filt_a1, 'start_station_id'] = 1436495109493626546\n",
    "\n",
    "filt_a2 = (bt_202012['end_station_name'] == 'N Green St & W Lake St')\n",
    "bt_202012.loc[filt_a2, 'end_station_id'] = 1436495109493626546"
   ]
  },
  {
   "cell_type": "code",
   "execution_count": 55,
   "metadata": {},
   "outputs": [],
   "source": [
    "# update station's id with name of 'W Oakdale Ave & N Broadway'\n",
    "filt_b1 = (bt_202012['start_station_name'] == 'W Oakdale Ave & N Broadway')\n",
    "bt_202012.loc[filt_b1, 'start_station_id'] = 1436495100903691938\n",
    "\n",
    "filt_b2 = (bt_202012['end_station_name'] == 'W Oakdale Ave & N Broadway')\n",
    "bt_202012.loc[filt_b2, 'end_station_id'] = 1436495100903691938"
   ]
  },
  {
   "cell_type": "code",
   "execution_count": 56,
   "metadata": {},
   "outputs": [],
   "source": [
    "# update station's id with name of 'W Armitage Ave & N Sheffield Ave'\n",
    "filt_c1 = (bt_202012['start_station_name'] == 'W Armitage Ave & N Sheffield Ave')\n",
    "bt_202012.loc[filt_c1, 'start_station_id'] = 1436495105198659242\n",
    "\n",
    "filt_c2 = (bt_202012['end_station_name'] == 'W Armitage Ave & N Sheffield Ave')\n",
    "bt_202012.loc[filt_c2, 'end_station_id'] = 1436495105198659242"
   ]
  },
  {
   "cell_type": "code",
   "execution_count": 57,
   "metadata": {},
   "outputs": [],
   "source": [
    "# update station's id with name of 'N Carpenter St & W Lake St'\n",
    "filt_d1 = (bt_202012['start_station_name'] == 'N Carpenter St & W Lake St')\n",
    "bt_202012.loc[filt_d1, 'start_station_id'] = 1436495105198659246\n",
    "\n",
    "filt_d2 = (bt_202012['end_station_name'] == 'N Carpenter St & W Lake St')\n",
    "bt_202012.loc[filt_d2, 'end_station_id'] = 1436495105198659246"
   ]
  },
  {
   "cell_type": "markdown",
   "metadata": {},
   "source": [
    "<font color='green'><h4>2.10 bike trips of January 2021</h4></font>"
   ]
  },
  {
   "cell_type": "code",
   "execution_count": 58,
   "metadata": {},
   "outputs": [
    {
     "data": {
      "text/plain": [
       "ride_id                object\n",
       "rideable_type          object\n",
       "started_at             object\n",
       "ended_at               object\n",
       "start_station_name     object\n",
       "start_station_id       object\n",
       "end_station_name       object\n",
       "end_station_id         object\n",
       "start_lat             float64\n",
       "start_lng             float64\n",
       "end_lat               float64\n",
       "end_lng               float64\n",
       "member_casual          object\n",
       "dtype: object"
      ]
     },
     "execution_count": 58,
     "metadata": {},
     "output_type": "execute_result"
    }
   ],
   "source": [
    "bt_202101.dtypes"
   ]
  },
  {
   "cell_type": "code",
   "execution_count": 59,
   "metadata": {},
   "outputs": [
    {
     "data": {
      "text/plain": [
       "ride_id                   0\n",
       "rideable_type             0\n",
       "started_at                0\n",
       "ended_at                  0\n",
       "start_station_name     8625\n",
       "start_station_id       8625\n",
       "end_station_name      10277\n",
       "end_station_id        10277\n",
       "start_lat                 0\n",
       "start_lng                 0\n",
       "end_lat                 103\n",
       "end_lng                 103\n",
       "member_casual             0\n",
       "dtype: int64"
      ]
     },
     "execution_count": 59,
     "metadata": {},
     "output_type": "execute_result"
    }
   ],
   "source": [
    "bt_202101.isna().sum()"
   ]
  },
  {
   "cell_type": "code",
   "execution_count": 60,
   "metadata": {},
   "outputs": [],
   "source": [
    "# drop all NAN values in bt_202101\n",
    "bt_202101.dropna(inplace=True)"
   ]
  },
  {
   "cell_type": "code",
   "execution_count": 61,
   "metadata": {},
   "outputs": [],
   "source": [
    "# convert 'started_at' column from strings to datetimes\n",
    "bt_202101['started_at'] = pd.to_datetime(bt_202101['started_at'], format = \"%Y-%m-%d %H:%M:%S\")\n",
    "\n",
    "# convert 'ended_at' column from strings to datetimes\n",
    "bt_202101['ended_at'] = pd.to_datetime(bt_202101['ended_at'], format = \"%Y-%m-%d %H:%M:%S\")"
   ]
  },
  {
   "cell_type": "markdown",
   "metadata": {},
   "source": [
    "<h4><font color='red'>After examinging the 'start_station_id' column and 'end_station_id' in this dataset, I found the same inconsistency issue between station ids and their corresponding names as before. </font></h4>\n",
    "    \n",
    "<h4><font color='blue'>Therefore, I will re-run the whole process of validating station names with corresponding ids as before using:</font></h4>\n",
    "\n",
    "- <font color='blue'> the official stations information dataset from Chicago Data Portral website;</font>\n",
    "- <font color='blue'> the dictionary \"station_id\" of all stations and ids existed in the previous 8 datasets;</font>\n",
    "- <font color='blue'> the function \"correct_station_name_id\" to either update ids or catch exceptions;</font>\n",
    "- <font color='blue'> the function \"get_correct_id\" to grab the correct ids for exceptions.</font>"
   ]
  },
  {
   "cell_type": "code",
   "execution_count": 62,
   "metadata": {},
   "outputs": [
    {
     "name": "stdout",
     "output_type": "stream",
     "text": [
      "These stations below are not existed in the previous 8 datasets:\n"
     ]
    },
    {
     "data": {
      "text/plain": [
       "['W Oakdale Ave & N Broadway',\n",
       " 'N Sheffield Ave & W Wellington Ave',\n",
       " 'N Green St & W Lake St',\n",
       " 'N Paulina St & Lincoln Ave',\n",
       " 'Broadway & Wilson - Truman College Vaccination Site',\n",
       " 'Base - 2132 W Hubbard Warehouse',\n",
       " 'N Southport Ave & W Newport Ave',\n",
       " 'W Armitage Ave & N Sheffield Ave',\n",
       " 'Malcolm X College Vaccination Site',\n",
       " 'Avenue L & 114th St',\n",
       " 'W Washington Blvd & N Peoria St',\n",
       " 'N Damen Ave & W Wabansia St',\n",
       " 'Western & 28th - Velasquez Institute Vaccination Site',\n",
       " 'N Carpenter St & W Lake St']"
      ]
     },
     "execution_count": 62,
     "metadata": {},
     "output_type": "execute_result"
    }
   ],
   "source": [
    "# reset the not_changed list to empty\n",
    "not_changed = []\n",
    "\n",
    "# update stations' ids in bt_202101 or catch stations that're not existed from previous 8 datasets\n",
    "correct_station_name_id(bt_202101)"
   ]
  },
  {
   "cell_type": "code",
   "execution_count": 63,
   "metadata": {
    "scrolled": false
   },
   "outputs": [
    {
     "name": "stdout",
     "output_type": "stream",
     "text": [
      "W Oakdale Ave & N Broadway :  1436495100903691938\n",
      "\n",
      "N Sheffield Ave & W Wellington Ave :  1436495118083561146\n",
      "\n",
      "N Green St & W Lake St :  1436495109493626546\n",
      "\n",
      "N Paulina St & Lincoln Ave :  1436495122378528446\n",
      "\n",
      "Broadway & Wilson - Truman College Vaccination Site :  293\n",
      "\n",
      "N Southport Ave & W Newport Ave :  1436495115557663136\n",
      "\n",
      "W Armitage Ave & N Sheffield Ave :  1436495105198659242\n",
      "\n",
      "Malcolm X College Vaccination Site :  631\n",
      "\n",
      "Avenue L & 114th St :  1448642175142467184\n",
      "\n",
      "W Washington Blvd & N Peoria St :  1436495109493626544\n",
      "\n",
      "Western & 28th - Velasquez Institute Vaccination Site :  446\n",
      "\n",
      "N Carpenter St & W Lake St :  1436495105198659246\n",
      "\n",
      "These stations below cannot be found in the official stations information dataset:\n"
     ]
    },
    {
     "data": {
      "text/plain": [
       "['Base - 2132 W Hubbard Warehouse', 'N Damen Ave & W Wabansia St']"
      ]
     },
     "execution_count": 63,
     "metadata": {},
     "output_type": "execute_result"
    }
   ],
   "source": [
    "# get the correct ids of exceptional stations in list not_changed\n",
    "get_correct_id()"
   ]
  },
  {
   "cell_type": "markdown",
   "metadata": {},
   "source": [
    "<h4><font color='red'> The stations 'Base - 2132 W Hubbard Warehouse' and 'N Damen Ave & W Wabansia St' cannot be found in the official station information dataset. Due to lack of information, I will drop these records.</font></h4>"
   ]
  },
  {
   "cell_type": "code",
   "execution_count": 64,
   "metadata": {},
   "outputs": [],
   "source": [
    "# drop records with start_station_name as 'Base - 2132 W Hubbard Warehouse'\n",
    "bt_202101.drop(bt_202101[bt_202101['start_station_name'] == 'Base - 2132 W Hubbard Warehouse'].index, inplace=True)\n",
    "\n",
    "# drop records with end_station_name as 'Base - 2132 W Hubbard Warehouse'\n",
    "bt_202101.drop(bt_202101[bt_202101['end_station_name'] == 'Base - 2132 W Hubbard Warehouse'].index, inplace=True)\n",
    "\n",
    "# drop records with start_station_name as 'N Damen Ave & W Wabansia St'\n",
    "bt_202101.drop(bt_202101[bt_202101['start_station_name'] == 'N Damen Ave & W Wabansia St'].index, inplace=True)\n",
    "\n",
    "# drop records with end_station_name as 'N Damen Ave & W Wabansia St'\n",
    "bt_202101.drop(bt_202101[bt_202101['end_station_name'] == 'N Damen Ave & W Wabansia St'].index, inplace=True)"
   ]
  },
  {
   "cell_type": "markdown",
   "metadata": {},
   "source": [
    "<h4><font color='blue'> For the other 12 stations, I will manually update the ids in bt_202101</font></h4>"
   ]
  },
  {
   "cell_type": "code",
   "execution_count": 65,
   "metadata": {},
   "outputs": [],
   "source": [
    "# update station's id with name of 'Malcolm X College Vaccination Site'\n",
    "filt_a1 = (bt_202101['start_station_name'] == 'Malcolm X College Vaccination Site')\n",
    "bt_202101.loc[filt_a1, 'start_station_id'] = 631\n",
    "\n",
    "filt_a2 = (bt_202101['end_station_name'] == 'Malcolm X College Vaccination Site')\n",
    "bt_202101.loc[filt_a2, 'end_station_id'] = 631"
   ]
  },
  {
   "cell_type": "code",
   "execution_count": 66,
   "metadata": {},
   "outputs": [],
   "source": [
    "# update station's id with name of 'N Southport Ave & W Newport Ave'\n",
    "filt_b1 = (bt_202101['start_station_name'] == 'N Southport Ave & W Newport Ave')\n",
    "bt_202101.loc[filt_b1, 'start_station_id'] = 1436495115557663136\n",
    "\n",
    "filt_b2 = (bt_202101['end_station_name'] == 'N Southport Ave & W Newport Ave')\n",
    "bt_202101.loc[filt_b2, 'end_station_id'] = 1436495115557663136"
   ]
  },
  {
   "cell_type": "code",
   "execution_count": 67,
   "metadata": {},
   "outputs": [],
   "source": [
    "# update station's id with name of 'N Sheffield Ave & W Wellington Ave'\n",
    "filt_c1 = (bt_202101['start_station_name'] == 'N Sheffield Ave & W Wellington Ave')\n",
    "bt_202101.loc[filt_c1, 'start_station_id'] = 1436495118083561146\n",
    "\n",
    "filt_c2 = (bt_202101['end_station_name'] == 'N Sheffield Ave & W Wellington Ave')\n",
    "bt_202101.loc[filt_c2, 'end_station_id'] = 1436495115557663136"
   ]
  },
  {
   "cell_type": "code",
   "execution_count": 68,
   "metadata": {},
   "outputs": [],
   "source": [
    "# update station's id with name of 'N Paulina St & Lincoln Ave'\n",
    "filt_d1 = (bt_202101['start_station_name'] == 'N Paulina St & Lincoln Ave')\n",
    "bt_202101.loc[filt_d1, 'start_station_id'] = 1436495122378528446"
   ]
  },
  {
   "cell_type": "code",
   "execution_count": 69,
   "metadata": {},
   "outputs": [],
   "source": [
    "# update station's id with name of 'N Green St & W Lake St'\n",
    "filt_e1 = (bt_202101['start_station_name'] == 'N Green St & W Lake St')\n",
    "bt_202101.loc[filt_e1, 'start_station_id'] = 1436495109493626546\n",
    "\n",
    "filt_e2 = (bt_202101['end_station_name'] == 'N Green St & W Lake St')\n",
    "bt_202101.loc[filt_e2, 'end_station_id'] = 1436495109493626546"
   ]
  },
  {
   "cell_type": "code",
   "execution_count": 70,
   "metadata": {},
   "outputs": [],
   "source": [
    "# update station's id with name of 'W Oakdale Ave & N Broadway'\n",
    "filt_f1 = (bt_202101['start_station_name'] == 'W Oakdale Ave & N Broadway')\n",
    "bt_202101.loc[filt_f1, 'start_station_id'] = 1436495100903691938\n",
    "\n",
    "filt_f2 = (bt_202101['end_station_name'] == 'W Oakdale Ave & N Broadway')\n",
    "bt_202101.loc[filt_f2, 'end_station_id'] = 1436495100903691938"
   ]
  },
  {
   "cell_type": "code",
   "execution_count": 71,
   "metadata": {},
   "outputs": [],
   "source": [
    "# update station's id with name of 'W Armitage Ave & N Sheffield Ave'\n",
    "filt_g1 = (bt_202101['start_station_name'] == 'W Armitage Ave & N Sheffield Ave')\n",
    "bt_202101.loc[filt_g1, 'start_station_id'] = 1436495105198659242\n",
    "\n",
    "filt_g2 = (bt_202101['end_station_name'] == 'W Armitage Ave & N Sheffield Ave')\n",
    "bt_202101.loc[filt_g2, 'end_station_id'] = 1436495105198659242"
   ]
  },
  {
   "cell_type": "code",
   "execution_count": 72,
   "metadata": {},
   "outputs": [],
   "source": [
    "# update station's id with name of 'Broadway & Wilson - Truman College Vaccination Site'\n",
    "filt_h1 = (bt_202101['start_station_name'] == 'Broadway & Wilson - Truman College Vaccination Site')\n",
    "bt_202101.loc[filt_h1, 'start_station_id'] = 293\n",
    "\n",
    "filt_h2 = (bt_202101['end_station_name'] == 'Broadway & Wilson - Truman College Vaccination Site')\n",
    "bt_202101.loc[filt_h2, 'end_station_id'] = 293"
   ]
  },
  {
   "cell_type": "code",
   "execution_count": 73,
   "metadata": {},
   "outputs": [],
   "source": [
    "# update station's id with name of 'N Carpenter St & W Lake St'\n",
    "filt_i1 = (bt_202101['end_station_name'] == 'N Carpenter St & W Lake St')\n",
    "bt_202101.loc[filt_i1, 'end_station_id'] = 1436495105198659246"
   ]
  },
  {
   "cell_type": "code",
   "execution_count": 74,
   "metadata": {},
   "outputs": [],
   "source": [
    "# update station's id with name of 'Western & 28th - Velasquez Institute Vaccination Site'\n",
    "filt_j1 = (bt_202101['end_station_name'] == 'Western & 28th - Velasquez Institute Vaccination Site')\n",
    "bt_202101.loc[filt_j1, 'end_station_id'] = 446"
   ]
  },
  {
   "cell_type": "code",
   "execution_count": 75,
   "metadata": {},
   "outputs": [],
   "source": [
    "# update station's id with name of 'W Washington Blvd & N Peoria St'\n",
    "filt_k1 = (bt_202101['end_station_name'] == 'W Washington Blvd & N Peoria St')\n",
    "bt_202101.loc[filt_k1, 'end_station_id'] = 1436495109493626544"
   ]
  },
  {
   "cell_type": "code",
   "execution_count": 76,
   "metadata": {},
   "outputs": [],
   "source": [
    "# update station's id with name of 'Avenue L & 114th St'\n",
    "filt_l1 = (bt_202101['end_station_name'] == 'Avenue L & 114th St')\n",
    "bt_202101.loc[filt_l1, 'end_station_id'] = 1448642175142467184"
   ]
  },
  {
   "cell_type": "markdown",
   "metadata": {},
   "source": [
    "<font color='green'><h4>2.11 bike trips of Feburary 2021</h4></font>"
   ]
  },
  {
   "cell_type": "code",
   "execution_count": 77,
   "metadata": {},
   "outputs": [
    {
     "data": {
      "text/plain": [
       "ride_id                object\n",
       "rideable_type          object\n",
       "started_at             object\n",
       "ended_at               object\n",
       "start_station_name     object\n",
       "start_station_id       object\n",
       "end_station_name       object\n",
       "end_station_id         object\n",
       "start_lat             float64\n",
       "start_lng             float64\n",
       "end_lat               float64\n",
       "end_lng               float64\n",
       "member_casual          object\n",
       "dtype: object"
      ]
     },
     "execution_count": 77,
     "metadata": {},
     "output_type": "execute_result"
    }
   ],
   "source": [
    "bt_202102.dtypes"
   ]
  },
  {
   "cell_type": "code",
   "execution_count": 78,
   "metadata": {},
   "outputs": [
    {
     "data": {
      "text/plain": [
       "ride_id                  0\n",
       "rideable_type            0\n",
       "started_at               0\n",
       "ended_at                 0\n",
       "start_station_name    4046\n",
       "start_station_id      4046\n",
       "end_station_name      5358\n",
       "end_station_id        5358\n",
       "start_lat                0\n",
       "start_lng                0\n",
       "end_lat                214\n",
       "end_lng                214\n",
       "member_casual            0\n",
       "dtype: int64"
      ]
     },
     "execution_count": 78,
     "metadata": {},
     "output_type": "execute_result"
    }
   ],
   "source": [
    "bt_202102.isna().sum()"
   ]
  },
  {
   "cell_type": "code",
   "execution_count": 79,
   "metadata": {},
   "outputs": [],
   "source": [
    "# drop all NAN values in bt_202102\n",
    "bt_202102.dropna(inplace=True)"
   ]
  },
  {
   "cell_type": "code",
   "execution_count": 80,
   "metadata": {},
   "outputs": [],
   "source": [
    "# convert 'started_at' column from strings to datetimes\n",
    "bt_202102['started_at'] = pd.to_datetime(bt_202102['started_at'], format = \"%Y-%m-%d %H:%M:%S\")\n",
    "\n",
    "# convert 'ended_at' column from strings to datetimes\n",
    "bt_202102['ended_at'] = pd.to_datetime(bt_202102['ended_at'], format = \"%Y-%m-%d %H:%M:%S\")"
   ]
  },
  {
   "cell_type": "markdown",
   "metadata": {},
   "source": [
    "<h4><font color='red'>After examinging the 'start_station_id' column and 'end_station_id' in this dataset, I found the same inconsistency issue between station ids and their corresponding names as before. </font></h4>\n",
    "    \n",
    "<h4><font color='blue'>Therefore, I will re-run the whole process of validating station names with corresponding ids as before using:</font></h4>\n",
    "\n",
    "- <font color='blue'> the official stations information dataset from Chicago Data Portral website;</font>\n",
    "- <font color='blue'> the dictionary \"station_id\" of all stations and ids existed in the previous 8 datasets;</font>\n",
    "- <font color='blue'> the function \"correct_station_name_id\" to either update ids or catch exceptions;</font>\n",
    "- <font color='blue'> the function \"get_correct_id\" to grab the correct ids for exceptions.</font>"
   ]
  },
  {
   "cell_type": "code",
   "execution_count": 81,
   "metadata": {},
   "outputs": [
    {
     "name": "stdout",
     "output_type": "stream",
     "text": [
      "These stations below are not existed in the previous 8 datasets:\n"
     ]
    },
    {
     "data": {
      "text/plain": [
       "['W Oakdale Ave & N Broadway',\n",
       " 'N Paulina St & Lincoln Ave',\n",
       " 'Broadway & Wilson - Truman College Vaccination Site',\n",
       " 'Base - 2132 W Hubbard Warehouse',\n",
       " 'W Washington Blvd & N Peoria St',\n",
       " 'W Armitage Ave & N Sheffield Ave',\n",
       " 'Malcolm X College Vaccination Site',\n",
       " 'N Sheffield Ave & W Wellington Ave',\n",
       " 'N Hampden Ct & W Diversey Ave',\n",
       " 'N Green St & W Lake St',\n",
       " 'Western & 28th - Velasquez Institute Vaccination Site',\n",
       " 'N Carpenter St & W Lake St']"
      ]
     },
     "execution_count": 81,
     "metadata": {},
     "output_type": "execute_result"
    }
   ],
   "source": [
    "# reset the not_changed list to empty\n",
    "not_changed = []\n",
    "\n",
    "# update stations' ids in bt_202102 or catch stations that're not existed from previous 8 datasets\n",
    "correct_station_name_id(bt_202102)"
   ]
  },
  {
   "cell_type": "code",
   "execution_count": 82,
   "metadata": {
    "scrolled": false
   },
   "outputs": [
    {
     "name": "stdout",
     "output_type": "stream",
     "text": [
      "W Oakdale Ave & N Broadway :  1436495100903691938\n",
      "\n",
      "N Paulina St & Lincoln Ave :  1436495122378528446\n",
      "\n",
      "Broadway & Wilson - Truman College Vaccination Site :  293\n",
      "\n",
      "W Washington Blvd & N Peoria St :  1436495109493626544\n",
      "\n",
      "W Armitage Ave & N Sheffield Ave :  1436495105198659242\n",
      "\n",
      "Malcolm X College Vaccination Site :  631\n",
      "\n",
      "N Sheffield Ave & W Wellington Ave :  1436495118083561146\n",
      "\n",
      "N Green St & W Lake St :  1436495109493626546\n",
      "\n",
      "Western & 28th - Velasquez Institute Vaccination Site :  446\n",
      "\n",
      "N Carpenter St & W Lake St :  1436495105198659246\n",
      "\n",
      "These stations below cannot be found in the official stations information dataset:\n"
     ]
    },
    {
     "data": {
      "text/plain": [
       "['Base - 2132 W Hubbard Warehouse', 'N Hampden Ct & W Diversey Ave']"
      ]
     },
     "execution_count": 82,
     "metadata": {},
     "output_type": "execute_result"
    }
   ],
   "source": [
    "# get the correct ids of exceptional stations in list not_changed\n",
    "get_correct_id()"
   ]
  },
  {
   "cell_type": "markdown",
   "metadata": {},
   "source": [
    "<h4><font color='red'> The stations 'Base - 2132 W Hubbard Warehouse' and 'N Hampden Ct & W Diversey Ave' cannot be found in the official station information dataset. Due to lack of information, I will drop these records.</font></h4>"
   ]
  },
  {
   "cell_type": "code",
   "execution_count": 83,
   "metadata": {},
   "outputs": [],
   "source": [
    "# drop records with start_station_name as 'Base - 2132 W Hubbard Warehouse'\n",
    "bt_202102.drop(bt_202102[bt_202102['start_station_name'] == 'Base - 2132 W Hubbard Warehouse'].index, inplace=True)\n",
    "\n",
    "# drop records with end_station_name as 'Base - 2132 W Hubbard Warehouse'\n",
    "bt_202102.drop(bt_202102[bt_202102['end_station_name'] == 'Base - 2132 W Hubbard Warehouse'].index, inplace=True)\n",
    "\n",
    "# drop records with start_station_name as 'N Hampden Ct & W Diversey Ave'\n",
    "bt_202102.drop(bt_202102[bt_202102['start_station_name'] == 'N Hampden Ct & W Diversey Ave'].index, inplace=True)\n",
    "\n",
    "# drop records with end_station_name as 'N Hampden Ct & W Diversey Ave'\n",
    "bt_202102.drop(bt_202102[bt_202102['end_station_name'] == 'N Hampden Ct & W Diversey Ave'].index, inplace=True)"
   ]
  },
  {
   "cell_type": "markdown",
   "metadata": {},
   "source": [
    "<h4><font color='blue'> For the other 10 stations, I will manually update the ids in bt_202102</font></h4>"
   ]
  },
  {
   "cell_type": "code",
   "execution_count": 84,
   "metadata": {},
   "outputs": [],
   "source": [
    "# update station's id with name of 'Malcolm X College Vaccination Site'\n",
    "filt_a1 = (bt_202102['start_station_name'] == 'Malcolm X College Vaccination Site')\n",
    "bt_202102.loc[filt_a1, 'start_station_id'] = 631\n",
    "\n",
    "filt_a2 = (bt_202102['end_station_name'] == 'Malcolm X College Vaccination Site')\n",
    "bt_202102.loc[filt_a2, 'end_station_id'] = 631"
   ]
  },
  {
   "cell_type": "code",
   "execution_count": 85,
   "metadata": {},
   "outputs": [],
   "source": [
    "# update station's id with name of 'N Paulina St & Lincoln Ave'\n",
    "filt_b1 = (bt_202102['start_station_name'] == 'N Paulina St & Lincoln Ave')\n",
    "bt_202102.loc[filt_b1, 'start_station_id'] = 1436495122378528446\n",
    "\n",
    "filt_b2 = (bt_202102['end_station_name'] == 'N Paulina St & Lincoln Ave')\n",
    "bt_202102.loc[filt_b2, 'end_station_id'] = 1436495122378528446"
   ]
  },
  {
   "cell_type": "code",
   "execution_count": 86,
   "metadata": {},
   "outputs": [],
   "source": [
    "# update station's id with name of 'W Oakdale Ave & N Broadway'\n",
    "filt_c1 = (bt_202102['start_station_name'] == 'W Oakdale Ave & N Broadway')\n",
    "bt_202102.loc[filt_c1, 'start_station_id'] = 1436495100903691938\n",
    "\n",
    "filt_c2 = (bt_202102['end_station_name'] == 'W Oakdale Ave & N Broadway')\n",
    "bt_202102.loc[filt_c2, 'end_station_id'] = 1436495100903691938"
   ]
  },
  {
   "cell_type": "code",
   "execution_count": 87,
   "metadata": {},
   "outputs": [],
   "source": [
    "# update station's id with name of 'W Washington Blvd & N Peoria St'\n",
    "filt_d1 = (bt_202102['start_station_name'] == 'W Washington Blvd & N Peoria St')\n",
    "bt_202102.loc[filt_d1, 'start_station_id'] = 1436495109493626544\n",
    "\n",
    "filt_d2 = (bt_202102['end_station_name'] == 'W Washington Blvd & N Peoria St')\n",
    "bt_202102.loc[filt_d2, 'end_station_id'] = 1436495109493626544"
   ]
  },
  {
   "cell_type": "code",
   "execution_count": 88,
   "metadata": {},
   "outputs": [],
   "source": [
    "# update station's id with name of 'W Armitage Ave & N Sheffield Ave'\n",
    "filt_e1 = (bt_202102['start_station_name'] == 'W Armitage Ave & N Sheffield Ave')\n",
    "bt_202102.loc[filt_e1, 'start_station_id'] = 1436495105198659242\n",
    "\n",
    "filt_e2 = (bt_202102['end_station_name'] == 'W Armitage Ave & N Sheffield Ave')\n",
    "bt_202102.loc[filt_e2, 'end_station_id'] = 1436495105198659242"
   ]
  },
  {
   "cell_type": "code",
   "execution_count": 89,
   "metadata": {},
   "outputs": [],
   "source": [
    "# update station's id with name of 'Broadway & Wilson - Truman College Vaccination Site'\n",
    "filt_f1 = (bt_202102['start_station_name'] == 'Broadway & Wilson - Truman College Vaccination Site')\n",
    "bt_202102.loc[filt_f1, 'start_station_id'] = 293\n",
    "\n",
    "filt_f2 = (bt_202102['end_station_name'] == 'Broadway & Wilson - Truman College Vaccination Site')\n",
    "bt_202102.loc[filt_f2, 'end_station_id'] = 293"
   ]
  },
  {
   "cell_type": "code",
   "execution_count": 90,
   "metadata": {},
   "outputs": [],
   "source": [
    "# update station's id with name of 'N Carpenter St & W Lake St'\n",
    "filt_g1 = (bt_202102['end_station_name'] == 'N Carpenter St & W Lake St')\n",
    "bt_202102.loc[filt_g1, 'end_station_id'] = 1436495105198659246"
   ]
  },
  {
   "cell_type": "code",
   "execution_count": 91,
   "metadata": {},
   "outputs": [],
   "source": [
    "# update station's id with name of 'Western & 28th - Velasquez Institute Vaccination Site'\n",
    "filt_h1 = (bt_202102['end_station_name'] == 'Western & 28th - Velasquez Institute Vaccination Site')\n",
    "bt_202102.loc[filt_h1, 'end_station_id'] = 446"
   ]
  },
  {
   "cell_type": "code",
   "execution_count": 92,
   "metadata": {},
   "outputs": [],
   "source": [
    "# update station's id with name of 'N Sheffield Ave & W Wellington Ave'\n",
    "filt_i1 = (bt_202102['end_station_name'] == 'N Sheffield Ave & W Wellington Ave')\n",
    "bt_202102.loc[filt_i1, 'end_station_id'] = 1436495118083561146"
   ]
  },
  {
   "cell_type": "code",
   "execution_count": 93,
   "metadata": {},
   "outputs": [],
   "source": [
    "# update station's id with name of 'N Green St & W Lake St'\n",
    "filt_j1 = (bt_202102['end_station_name'] == 'N Green St & W Lake St')\n",
    "bt_202102.loc[filt_j1, 'end_station_id'] = 1436495109493626546"
   ]
  },
  {
   "cell_type": "markdown",
   "metadata": {},
   "source": [
    "<font color='green'><h4>2.12 bike trips of March 2021</h4></font>"
   ]
  },
  {
   "cell_type": "code",
   "execution_count": 94,
   "metadata": {},
   "outputs": [
    {
     "data": {
      "text/plain": [
       "ride_id                object\n",
       "rideable_type          object\n",
       "started_at             object\n",
       "ended_at               object\n",
       "start_station_name     object\n",
       "start_station_id       object\n",
       "end_station_name       object\n",
       "end_station_id         object\n",
       "start_lat             float64\n",
       "start_lng             float64\n",
       "end_lat               float64\n",
       "end_lng               float64\n",
       "member_casual          object\n",
       "dtype: object"
      ]
     },
     "execution_count": 94,
     "metadata": {},
     "output_type": "execute_result"
    }
   ],
   "source": [
    "bt_202103.dtypes"
   ]
  },
  {
   "cell_type": "code",
   "execution_count": 95,
   "metadata": {},
   "outputs": [
    {
     "data": {
      "text/plain": [
       "ride_id                   0\n",
       "rideable_type             0\n",
       "started_at                0\n",
       "ended_at                  0\n",
       "start_station_name    14848\n",
       "start_station_id      14848\n",
       "end_station_name      16727\n",
       "end_station_id        16727\n",
       "start_lat                 0\n",
       "start_lng                 0\n",
       "end_lat                 167\n",
       "end_lng                 167\n",
       "member_casual             0\n",
       "dtype: int64"
      ]
     },
     "execution_count": 95,
     "metadata": {},
     "output_type": "execute_result"
    }
   ],
   "source": [
    "bt_202103.isna().sum()"
   ]
  },
  {
   "cell_type": "code",
   "execution_count": 96,
   "metadata": {},
   "outputs": [],
   "source": [
    "# drop all NAN values in bt_202103\n",
    "bt_202103.dropna(inplace=True)"
   ]
  },
  {
   "cell_type": "code",
   "execution_count": 97,
   "metadata": {},
   "outputs": [],
   "source": [
    "# convert 'started_at' column from strings to datetimes\n",
    "bt_202103['started_at'] = pd.to_datetime(bt_202103['started_at'], format = \"%Y-%m-%d %H:%M:%S\")\n",
    "\n",
    "# convert 'ended_at' column from strings to datetimes\n",
    "bt_202103['ended_at'] = pd.to_datetime(bt_202103['ended_at'], format = \"%Y-%m-%d %H:%M:%S\")"
   ]
  },
  {
   "cell_type": "markdown",
   "metadata": {},
   "source": [
    "<h4><font color='red'>After examinging the 'start_station_id' column and 'end_station_id' in this dataset, I found the same inconsistency issue between station ids and their corresponding names as before. </font></h4>\n",
    "    \n",
    "<h4><font color='blue'>Therefore, I will re-run the whole process of validating station names with corresponding ids as before using:</font></h4>\n",
    "\n",
    "- <font color='blue'> the official stations information dataset from Chicago Data Portral website;</font>\n",
    "- <font color='blue'> the dictionary \"station_id\" of all stations and ids existed in the previous 8 datasets;</font>\n",
    "- <font color='blue'> the function \"correct_station_name_id\" to either update ids or catch exceptions;</font>\n",
    "- <font color='blue'> the function \"get_correct_id\" to grab the correct ids for exceptions.</font>"
   ]
  },
  {
   "cell_type": "code",
   "execution_count": 98,
   "metadata": {},
   "outputs": [
    {
     "name": "stdout",
     "output_type": "stream",
     "text": [
      "These stations below are not existed in the previous 8 datasets:\n"
     ]
    },
    {
     "data": {
      "text/plain": [
       "['W Oakdale Ave & N Broadway',\n",
       " 'N Sheffield Ave & W Wellington Ave',\n",
       " 'N Hampden Ct & W Diversey Ave',\n",
       " 'Kedzie Ave & 110th St',\n",
       " 'N Green St & W Lake St',\n",
       " 'N Paulina St & Lincoln Ave',\n",
       " 'Broadway & Wilson - Truman College Vaccination Site',\n",
       " 'Chicago State University',\n",
       " 'Base - 2132 W Hubbard Warehouse',\n",
       " 'W Washington Blvd & N Peoria St',\n",
       " 'N Southport Ave & W Newport Ave',\n",
       " 'Western & 28th - Velasquez Institute Vaccination Site',\n",
       " 'W Armitage Ave & N Sheffield Ave',\n",
       " 'N Carpenter St & W Lake St',\n",
       " 'Malcolm X College Vaccination Site',\n",
       " 'Halsted & 63rd - Kennedy-King Vaccination Site',\n",
       " 'Damen Ave & Wabansia Ave',\n",
       " 'N Damen Ave & W Wabansia St']"
      ]
     },
     "execution_count": 98,
     "metadata": {},
     "output_type": "execute_result"
    }
   ],
   "source": [
    "# reset the not_changed list to empty\n",
    "not_changed = []\n",
    "\n",
    "# update stations' ids in bt_202103 or catch stations that're not existed from previous 8 datasets\n",
    "correct_station_name_id(bt_202103)"
   ]
  },
  {
   "cell_type": "code",
   "execution_count": 99,
   "metadata": {},
   "outputs": [
    {
     "name": "stdout",
     "output_type": "stream",
     "text": [
      "W Oakdale Ave & N Broadway :  1436495100903691938\n",
      "\n",
      "N Sheffield Ave & W Wellington Ave :  1436495118083561146\n",
      "\n",
      "Kedzie Ave & 110th St :  736\n",
      "\n",
      "N Green St & W Lake St :  1436495109493626546\n",
      "\n",
      "N Paulina St & Lincoln Ave :  1436495122378528446\n",
      "\n",
      "Broadway & Wilson - Truman College Vaccination Site :  293\n",
      "\n",
      "Chicago State University :  737\n",
      "\n",
      "W Washington Blvd & N Peoria St :  1436495109493626544\n",
      "\n",
      "N Southport Ave & W Newport Ave :  1436495115557663136\n",
      "\n",
      "Western & 28th - Velasquez Institute Vaccination Site :  446\n",
      "\n",
      "W Armitage Ave & N Sheffield Ave :  1436495105198659242\n",
      "\n",
      "N Carpenter St & W Lake St :  1436495105198659246\n",
      "\n",
      "Malcolm X College Vaccination Site :  631\n",
      "\n",
      "Halsted & 63rd - Kennedy-King Vaccination Site :  388\n",
      "\n",
      "Damen Ave & Wabansia Ave :  1521686986436309688\n",
      "\n",
      "These stations below cannot be found in the official stations information dataset:\n"
     ]
    },
    {
     "data": {
      "text/plain": [
       "['N Hampden Ct & W Diversey Ave',\n",
       " 'Base - 2132 W Hubbard Warehouse',\n",
       " 'N Damen Ave & W Wabansia St']"
      ]
     },
     "execution_count": 99,
     "metadata": {},
     "output_type": "execute_result"
    }
   ],
   "source": [
    "# get the correct ids of exceptional stations in list not_changed\n",
    "get_correct_id()"
   ]
  },
  {
   "cell_type": "markdown",
   "metadata": {},
   "source": [
    "<h4><font color='red'> The stations 'Base - 2132 W Hubbard Warehouse', 'N Hampden Ct & W Diversey Ave', and 'N Damen Ave & W Wabansia St' cannot be found in the official station information dataset. Due to lack of information, I will drop these records.</font></h4>"
   ]
  },
  {
   "cell_type": "code",
   "execution_count": 100,
   "metadata": {},
   "outputs": [],
   "source": [
    "# drop records with start_station_name as 'Base - 2132 W Hubbard Warehouse'\n",
    "bt_202103.drop(bt_202103[bt_202103['start_station_name'] == 'Base - 2132 W Hubbard Warehouse'].index, inplace=True)\n",
    "\n",
    "# drop records with end_station_name as 'Base - 2132 W Hubbard Warehouse'\n",
    "bt_202103.drop(bt_202103[bt_202103['end_station_name'] == 'Base - 2132 W Hubbard Warehouse'].index, inplace=True)\n",
    "\n",
    "# drop records with start_station_name as 'N Hampden Ct & W Diversey Ave'\n",
    "bt_202103.drop(bt_202103[bt_202103['start_station_name'] == 'N Hampden Ct & W Diversey Ave'].index, inplace=True)\n",
    "\n",
    "# drop records with end_station_name as 'N Hampden Ct & W Diversey Ave'\n",
    "bt_202103.drop(bt_202103[bt_202103['end_station_name'] == 'N Hampden Ct & W Diversey Ave'].index, inplace=True)\n",
    "\n",
    "# drop records with start_station_name as 'N Damen Ave & W Wabansia St'\n",
    "bt_202103.drop(bt_202103[bt_202103['start_station_name'] == 'N Damen Ave & W Wabansia St'].index, inplace=True)\n",
    "\n",
    "# drop records with end_station_name as 'N Damen Ave & W Wabansia St'\n",
    "bt_202103.drop(bt_202103[bt_202103['end_station_name'] == 'N Damen Ave & W Wabansia St'].index, inplace=True)"
   ]
  },
  {
   "cell_type": "markdown",
   "metadata": {},
   "source": [
    "<h4><font color='blue'> For the other 15 stations, I will manually update the ids in bt_202102</font></h4>"
   ]
  },
  {
   "cell_type": "code",
   "execution_count": 101,
   "metadata": {},
   "outputs": [],
   "source": [
    "# update station's id with name of 'Broadway & Wilson - Truman College Vaccination Site'\n",
    "filt_a1 = (bt_202103['start_station_name'] == 'Broadway & Wilson - Truman College Vaccination Site')\n",
    "bt_202103.loc[filt_a1, 'start_station_id'] = 293\n",
    "\n",
    "filt_a2 = (bt_202103['end_station_name'] == 'Broadway & Wilson - Truman College Vaccination Site')\n",
    "bt_202103.loc[filt_a2, 'end_station_id'] = 293"
   ]
  },
  {
   "cell_type": "code",
   "execution_count": 102,
   "metadata": {},
   "outputs": [],
   "source": [
    "# update station's id with name of 'Damen Ave & Wabansia Ave'\n",
    "filt_b1 = (bt_202103['start_station_name'] == 'Damen Ave & Wabansia Ave')\n",
    "bt_202103.loc[filt_b1, 'start_station_id'] = 1521686986436309688\n",
    "\n",
    "filt_b2 = (bt_202103['end_station_name'] == 'Damen Ave & Wabansia Ave')\n",
    "bt_202103.loc[filt_b2, 'end_station_id'] = 1521686986436309688"
   ]
  },
  {
   "cell_type": "code",
   "execution_count": 103,
   "metadata": {},
   "outputs": [],
   "source": [
    "# update station's id with name of 'Western & 28th - Velasquez Institute Vaccination Site'\n",
    "filt_c1 = (bt_202103['start_station_name'] == 'Western & 28th - Velasquez Institute Vaccination Site')\n",
    "bt_202103.loc[filt_c1, 'start_station_id'] = 446\n",
    "\n",
    "filt_c2 = (bt_202103['end_station_name'] == 'Western & 28th - Velasquez Institute Vaccination Site')\n",
    "bt_202103.loc[filt_c2, 'end_station_id'] = 446"
   ]
  },
  {
   "cell_type": "code",
   "execution_count": 104,
   "metadata": {},
   "outputs": [],
   "source": [
    "# update station's id with name of 'Chicago State University'\n",
    "filt_d1 = (bt_202103['start_station_name'] == 'Chicago State University')\n",
    "bt_202103.loc[filt_d1, 'start_station_id'] = 737\n",
    "\n",
    "filt_d2 = (bt_202103['end_station_name'] == 'Chicago State University')\n",
    "bt_202103.loc[filt_d2, 'end_station_id'] = 737"
   ]
  },
  {
   "cell_type": "code",
   "execution_count": 105,
   "metadata": {},
   "outputs": [],
   "source": [
    "# update station's id with name of 'W Armitage Ave & N Sheffield Ave'\n",
    "filt_e1 = (bt_202103['start_station_name'] == 'W Armitage Ave & N Sheffield Ave')\n",
    "bt_202103.loc[filt_e1, 'start_station_id'] = 1436495105198659242\n",
    "\n",
    "filt_e2 = (bt_202103['end_station_name'] == 'W Armitage Ave & N Sheffield Ave')\n",
    "bt_202103.loc[filt_e2, 'end_station_id'] = 1436495105198659242"
   ]
  },
  {
   "cell_type": "code",
   "execution_count": 106,
   "metadata": {},
   "outputs": [],
   "source": [
    "# update station's id with name of 'W Washington Blvd & N Peoria St'\n",
    "filt_f1 = (bt_202103['start_station_name'] == 'W Washington Blvd & N Peoria St')\n",
    "bt_202103.loc[filt_f1, 'start_station_id'] = 1436495109493626544\n",
    "\n",
    "filt_f2 = (bt_202103['end_station_name'] == 'W Washington Blvd & N Peoria St')\n",
    "bt_202103.loc[filt_f2, 'end_station_id'] = 1436495109493626544"
   ]
  },
  {
   "cell_type": "code",
   "execution_count": 107,
   "metadata": {},
   "outputs": [],
   "source": [
    "# update station's id with name of 'N Paulina St & Lincoln Ave'\n",
    "filt_g1 = (bt_202103['start_station_name'] == 'N Paulina St & Lincoln Ave')\n",
    "bt_202103.loc[filt_g1, 'start_station_id'] = 1436495122378528446\n",
    "              \n",
    "filt_g2 = (bt_202103['end_station_name'] == 'N Paulina St & Lincoln Ave')\n",
    "bt_202103.loc[filt_g2, 'end_station_id'] = 1436495122378528446"
   ]
  },
  {
   "cell_type": "code",
   "execution_count": 108,
   "metadata": {},
   "outputs": [],
   "source": [
    "# update station's id with name of 'Halsted & 63rd - Kennedy-King Vaccination Site'\n",
    "filt_h1 = (bt_202103['start_station_name'] == 'Halsted & 63rd - Kennedy-King Vaccination Site')\n",
    "bt_202103.loc[filt_h1, 'start_station_id'] = 388\n",
    "\n",
    "filt_h2 = (bt_202103['end_station_name'] == 'Halsted & 63rd - Kennedy-King Vaccination Site')\n",
    "bt_202103.loc[filt_h2, 'end_station_id'] = 388"
   ]
  },
  {
   "cell_type": "code",
   "execution_count": 109,
   "metadata": {},
   "outputs": [],
   "source": [
    "# update station's id with name of 'Kedzie Ave & 110th St'\n",
    "filt_i1 = (bt_202103['start_station_name'] == 'Kedzie Ave & 110th St')\n",
    "bt_202103.loc[filt_i1, 'start_station_id'] = 736\n",
    "\n",
    "filt_i2 = (bt_202103['end_station_name'] == 'Kedzie Ave & 110th St')\n",
    "bt_202103.loc[filt_i2, 'end_station_id'] = 736"
   ]
  },
  {
   "cell_type": "code",
   "execution_count": 110,
   "metadata": {},
   "outputs": [],
   "source": [
    "# update station's id with name of 'N Carpenter St & W Lake St'\n",
    "filt_j1 = (bt_202103['start_station_name'] == 'N Carpenter St & W Lake St')\n",
    "bt_202103.loc[filt_j1, 'start_station_id'] = 1436495105198659246\n",
    "\n",
    "filt_j2 = (bt_202103['end_station_name'] == 'N Carpenter St & W Lake St')\n",
    "bt_202103.loc[filt_j2, 'end_station_id'] = 1436495105198659246"
   ]
  },
  {
   "cell_type": "code",
   "execution_count": 111,
   "metadata": {},
   "outputs": [],
   "source": [
    "# update station's id with name of 'Malcolm X College Vaccination Site'\n",
    "filt_k1 = (bt_202103['start_station_name'] == 'Malcolm X College Vaccination Site')\n",
    "bt_202103.loc[filt_k1, 'start_station_id'] = 631\n",
    "\n",
    "filt_k2 = (bt_202103['end_station_name'] == 'Malcolm X College Vaccination Site')\n",
    "bt_202103.loc[filt_k2, 'end_station_id'] = 631"
   ]
  },
  {
   "cell_type": "code",
   "execution_count": 112,
   "metadata": {},
   "outputs": [],
   "source": [
    "# update station's id with name of 'N Sheffield Ave & W Wellington Ave'\n",
    "filt_l1 = (bt_202103['start_station_name'] == 'N Sheffield Ave & W Wellington Ave')\n",
    "bt_202103.loc[filt_l1, 'start_station_id'] = 1436495118083561146\n",
    "\n",
    "filt_l2 = (bt_202103['end_station_name'] == 'N Sheffield Ave & W Wellington Ave')\n",
    "bt_202103.loc[filt_l2, 'end_station_id'] = 1436495118083561146"
   ]
  },
  {
   "cell_type": "code",
   "execution_count": 113,
   "metadata": {},
   "outputs": [],
   "source": [
    "# update station's id with name of 'W Oakdale Ave & N Broadway'\n",
    "filt_m1 = (bt_202103['start_station_name'] == 'W Oakdale Ave & N Broadway')\n",
    "bt_202103.loc[filt_m1, 'start_station_id'] = 1436495100903691938\n",
    "\n",
    "filt_m2 = (bt_202103['end_station_name'] == 'W Oakdale Ave & N Broadway')\n",
    "bt_202103.loc[filt_m2, 'end_station_id'] = 1436495100903691938"
   ]
  },
  {
   "cell_type": "code",
   "execution_count": 114,
   "metadata": {},
   "outputs": [],
   "source": [
    "# update station's id with name of 'N Southport Ave & W Newport Ave'\n",
    "filt_n1 = (bt_202103['start_station_name'] == 'N Southport Ave & W Newport Ave')\n",
    "bt_202103.loc[filt_n1, 'start_station_id'] = 1436495115557663136\n",
    "\n",
    "filt_n2 = (bt_202103['end_station_name'] == 'N Southport Ave & W Newport Ave')\n",
    "bt_202103.loc[filt_n2, 'end_station_id'] = 1436495115557663136"
   ]
  },
  {
   "cell_type": "code",
   "execution_count": 115,
   "metadata": {},
   "outputs": [],
   "source": [
    "# update station's id with name of 'N Green St & W Lake St'\n",
    "filt_o1 = (bt_202103['start_station_name'] == 'N Green St & W Lake St')\n",
    "bt_202103.loc[filt_o1, 'start_station_id'] = 1436495109493626546\n",
    "\n",
    "filt_o2 = (bt_202103['end_station_name'] == 'N Green St & W Lake St')\n",
    "bt_202103.loc[filt_o2, 'end_station_id'] = 1436495109493626546"
   ]
  },
  {
   "cell_type": "markdown",
   "metadata": {},
   "source": [
    "### 3. Save cleaned datasets"
   ]
  },
  {
   "cell_type": "code",
   "execution_count": 116,
   "metadata": {},
   "outputs": [],
   "source": [
    "bt_202004.to_csv('/home/eemonte/00_PROJECTS/cs_1_bike_share/cleaned_datasets/bt_202004.csv', index=False)\n",
    "bt_202005.to_csv('/home/eemonte/00_PROJECTS/cs_1_bike_share/cleaned_datasets/bt_202005.csv', index=False)\n",
    "bt_202006.to_csv('/home/eemonte/00_PROJECTS/cs_1_bike_share/cleaned_datasets/bt_202006.csv', index=False)\n",
    "bt_202007.to_csv('/home/eemonte/00_PROJECTS/cs_1_bike_share/cleaned_datasets/bt_202007.csv', index=False)\n",
    "bt_202008.to_csv('/home/eemonte/00_PROJECTS/cs_1_bike_share/cleaned_datasets/bt_202008.csv', index=False)\n",
    "bt_202009.to_csv('/home/eemonte/00_PROJECTS/cs_1_bike_share/cleaned_datasets/bt_202009.csv', index=False)\n",
    "bt_202010.to_csv('/home/eemonte/00_PROJECTS/cs_1_bike_share/cleaned_datasets/bt_202010.csv', index=False)\n",
    "bt_202011.to_csv('/home/eemonte/00_PROJECTS/cs_1_bike_share/cleaned_datasets/bt_202011.csv', index=False)\n",
    "bt_202012.to_csv('/home/eemonte/00_PROJECTS/cs_1_bike_share/cleaned_datasets/bt_202012.csv', index=False)\n",
    "bt_202101.to_csv('/home/eemonte/00_PROJECTS/cs_1_bike_share/cleaned_datasets/bt_202101.csv', index=False)\n",
    "bt_202102.to_csv('/home/eemonte/00_PROJECTS/cs_1_bike_share/cleaned_datasets/bt_202102.csv', index=False)\n",
    "bt_202103.to_csv('/home/eemonte/00_PROJECTS/cs_1_bike_share/cleaned_datasets/bt_202103.csv', index=False)"
   ]
  },
  {
   "cell_type": "code",
   "execution_count": 118,
   "metadata": {},
   "outputs": [
    {
     "data": {
      "text/html": [
       "<div>\n",
       "<style scoped>\n",
       "    .dataframe tbody tr th:only-of-type {\n",
       "        vertical-align: middle;\n",
       "    }\n",
       "\n",
       "    .dataframe tbody tr th {\n",
       "        vertical-align: top;\n",
       "    }\n",
       "\n",
       "    .dataframe thead th {\n",
       "        text-align: right;\n",
       "    }\n",
       "</style>\n",
       "<table border=\"1\" class=\"dataframe\">\n",
       "  <thead>\n",
       "    <tr style=\"text-align: right;\">\n",
       "      <th></th>\n",
       "      <th>ride_id</th>\n",
       "      <th>rideable_type</th>\n",
       "      <th>started_at</th>\n",
       "      <th>ended_at</th>\n",
       "      <th>start_station_name</th>\n",
       "      <th>start_station_id</th>\n",
       "      <th>end_station_name</th>\n",
       "      <th>end_station_id</th>\n",
       "      <th>start_lat</th>\n",
       "      <th>start_lng</th>\n",
       "      <th>end_lat</th>\n",
       "      <th>end_lng</th>\n",
       "      <th>member_casual</th>\n",
       "    </tr>\n",
       "  </thead>\n",
       "  <tbody>\n",
       "    <tr>\n",
       "      <th>0</th>\n",
       "      <td>A847FADBBC638E45</td>\n",
       "      <td>docked_bike</td>\n",
       "      <td>2020-04-26 17:45:14</td>\n",
       "      <td>2020-04-26 18:12:03</td>\n",
       "      <td>Eckhart Park</td>\n",
       "      <td>86</td>\n",
       "      <td>Lincoln Ave &amp; Diversey Pkwy</td>\n",
       "      <td>152</td>\n",
       "      <td>41.8964</td>\n",
       "      <td>-87.6610</td>\n",
       "      <td>41.9322</td>\n",
       "      <td>-87.6586</td>\n",
       "      <td>member</td>\n",
       "    </tr>\n",
       "    <tr>\n",
       "      <th>1</th>\n",
       "      <td>5405B80E996FF60D</td>\n",
       "      <td>docked_bike</td>\n",
       "      <td>2020-04-17 17:08:54</td>\n",
       "      <td>2020-04-17 17:17:03</td>\n",
       "      <td>Drake Ave &amp; Fullerton Ave</td>\n",
       "      <td>503</td>\n",
       "      <td>Kosciuszko Park</td>\n",
       "      <td>499</td>\n",
       "      <td>41.9244</td>\n",
       "      <td>-87.7154</td>\n",
       "      <td>41.9306</td>\n",
       "      <td>-87.7238</td>\n",
       "      <td>member</td>\n",
       "    </tr>\n",
       "    <tr>\n",
       "      <th>2</th>\n",
       "      <td>5DD24A79A4E006F4</td>\n",
       "      <td>docked_bike</td>\n",
       "      <td>2020-04-01 17:54:13</td>\n",
       "      <td>2020-04-01 18:08:36</td>\n",
       "      <td>McClurg Ct &amp; Erie St</td>\n",
       "      <td>142</td>\n",
       "      <td>Indiana Ave &amp; Roosevelt Rd</td>\n",
       "      <td>255</td>\n",
       "      <td>41.8945</td>\n",
       "      <td>-87.6179</td>\n",
       "      <td>41.8679</td>\n",
       "      <td>-87.6230</td>\n",
       "      <td>member</td>\n",
       "    </tr>\n",
       "    <tr>\n",
       "      <th>3</th>\n",
       "      <td>2A59BBDF5CDBA725</td>\n",
       "      <td>docked_bike</td>\n",
       "      <td>2020-04-07 12:50:19</td>\n",
       "      <td>2020-04-07 13:02:31</td>\n",
       "      <td>California Ave &amp; Division St</td>\n",
       "      <td>216</td>\n",
       "      <td>Wood St &amp; Augusta Blvd</td>\n",
       "      <td>657</td>\n",
       "      <td>41.9030</td>\n",
       "      <td>-87.6975</td>\n",
       "      <td>41.8992</td>\n",
       "      <td>-87.6722</td>\n",
       "      <td>member</td>\n",
       "    </tr>\n",
       "    <tr>\n",
       "      <th>4</th>\n",
       "      <td>27AD306C119C6158</td>\n",
       "      <td>docked_bike</td>\n",
       "      <td>2020-04-18 10:22:59</td>\n",
       "      <td>2020-04-18 11:15:54</td>\n",
       "      <td>Rush St &amp; Hubbard St</td>\n",
       "      <td>125</td>\n",
       "      <td>Sheridan Rd &amp; Lawrence Ave</td>\n",
       "      <td>323</td>\n",
       "      <td>41.8902</td>\n",
       "      <td>-87.6262</td>\n",
       "      <td>41.9695</td>\n",
       "      <td>-87.6547</td>\n",
       "      <td>casual</td>\n",
       "    </tr>\n",
       "  </tbody>\n",
       "</table>\n",
       "</div>"
      ],
      "text/plain": [
       "            ride_id rideable_type           started_at             ended_at  \\\n",
       "0  A847FADBBC638E45   docked_bike  2020-04-26 17:45:14  2020-04-26 18:12:03   \n",
       "1  5405B80E996FF60D   docked_bike  2020-04-17 17:08:54  2020-04-17 17:17:03   \n",
       "2  5DD24A79A4E006F4   docked_bike  2020-04-01 17:54:13  2020-04-01 18:08:36   \n",
       "3  2A59BBDF5CDBA725   docked_bike  2020-04-07 12:50:19  2020-04-07 13:02:31   \n",
       "4  27AD306C119C6158   docked_bike  2020-04-18 10:22:59  2020-04-18 11:15:54   \n",
       "\n",
       "             start_station_name  start_station_id  \\\n",
       "0                  Eckhart Park                86   \n",
       "1     Drake Ave & Fullerton Ave               503   \n",
       "2          McClurg Ct & Erie St               142   \n",
       "3  California Ave & Division St               216   \n",
       "4          Rush St & Hubbard St               125   \n",
       "\n",
       "              end_station_name  end_station_id  start_lat  start_lng  end_lat  \\\n",
       "0  Lincoln Ave & Diversey Pkwy             152    41.8964   -87.6610  41.9322   \n",
       "1              Kosciuszko Park             499    41.9244   -87.7154  41.9306   \n",
       "2   Indiana Ave & Roosevelt Rd             255    41.8945   -87.6179  41.8679   \n",
       "3       Wood St & Augusta Blvd             657    41.9030   -87.6975  41.8992   \n",
       "4   Sheridan Rd & Lawrence Ave             323    41.8902   -87.6262  41.9695   \n",
       "\n",
       "   end_lng member_casual  \n",
       "0 -87.6586        member  \n",
       "1 -87.7238        member  \n",
       "2 -87.6230        member  \n",
       "3 -87.6722        member  \n",
       "4 -87.6547        casual  "
      ]
     },
     "execution_count": 118,
     "metadata": {},
     "output_type": "execute_result"
    }
   ],
   "source": [
    "test1 = pd.read_csv('/home/eemonte/00_PROJECTS/cs_1_bike_share/cleaned_datasets/bt_202004.csv')\n",
    "test1.head()"
   ]
  },
  {
   "cell_type": "code",
   "execution_count": 119,
   "metadata": {},
   "outputs": [
    {
     "data": {
      "text/plain": [
       "ride_id                object\n",
       "rideable_type          object\n",
       "started_at             object\n",
       "ended_at               object\n",
       "start_station_name     object\n",
       "start_station_id        int64\n",
       "end_station_name       object\n",
       "end_station_id          int64\n",
       "start_lat             float64\n",
       "start_lng             float64\n",
       "end_lat               float64\n",
       "end_lng               float64\n",
       "member_casual          object\n",
       "dtype: object"
      ]
     },
     "execution_count": 119,
     "metadata": {},
     "output_type": "execute_result"
    }
   ],
   "source": [
    "test1.dtypes"
   ]
  }
 ],
 "metadata": {
  "kernelspec": {
   "display_name": "Python 3",
   "language": "python",
   "name": "python3"
  },
  "language_info": {
   "codemirror_mode": {
    "name": "ipython",
    "version": 3
   },
   "file_extension": ".py",
   "mimetype": "text/x-python",
   "name": "python",
   "nbconvert_exporter": "python",
   "pygments_lexer": "ipython3",
   "version": "3.8.5"
  }
 },
 "nbformat": 4,
 "nbformat_minor": 4
}
