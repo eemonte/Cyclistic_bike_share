{
 "cells": [
  {
   "cell_type": "markdown",
   "metadata": {},
   "source": [
    "<h2 align='center'> Cyclistic: a bike-share program </h2>\n",
    "\n",
    "<h4 align='center'> (Part 2: Data Analysis & Visualization) </h4>"
   ]
  },
  {
   "cell_type": "markdown",
   "metadata": {},
   "source": [
    "### 1. Import libraries and datasets"
   ]
  },
  {
   "cell_type": "code",
   "execution_count": 2,
   "metadata": {},
   "outputs": [],
   "source": [
    "import pandas as pd\n",
    "import numpy as np\n",
    "from matplotlib import pyplot as plt"
    "plt.rcParams['figure.figsize'] = [15, 15]"
   ]
  },
  {
   "cell_type": "code",
   "execution_count": 3,
   "metadata": {},
   "outputs": [],
   "source": [
    "# import all cleaned datasets\n",
    "\n",
    "c_bt_202004 = pd.read_csv('/home/eemonte/00_PROJECTS/cs_1_bike_share/cleaned_datasets/bt_202004.csv', \n",
    "                          parse_dates=[\"started_at\", \"ended_at\"])\n",
    "c_bt_202005 = pd.read_csv('/home/eemonte/00_PROJECTS/cs_1_bike_share/cleaned_datasets/bt_202005.csv', \n",
    "                          parse_dates=[\"started_at\", \"ended_at\"])\n",
    "c_bt_202006 = pd.read_csv('/home/eemonte/00_PROJECTS/cs_1_bike_share/cleaned_datasets/bt_202006.csv', \n",
    "                          parse_dates=[\"started_at\", \"ended_at\"])\n",
    "c_bt_202007 = pd.read_csv('/home/eemonte/00_PROJECTS/cs_1_bike_share/cleaned_datasets/bt_202007.csv', \n",
    "                          parse_dates=[\"started_at\", \"ended_at\"])\n",
    "c_bt_202008 = pd.read_csv('/home/eemonte/00_PROJECTS/cs_1_bike_share/cleaned_datasets/bt_202008.csv', \n",
    "                          parse_dates=[\"started_at\", \"ended_at\"])\n",
    "c_bt_202009 = pd.read_csv('/home/eemonte/00_PROJECTS/cs_1_bike_share/cleaned_datasets/bt_202009.csv', \n",
    "                          parse_dates=[\"started_at\", \"ended_at\"])\n",
    "c_bt_202010 = pd.read_csv('/home/eemonte/00_PROJECTS/cs_1_bike_share/cleaned_datasets/bt_202010.csv', \n",
    "                          parse_dates=[\"started_at\", \"ended_at\"])\n",
    "c_bt_202011 = pd.read_csv('/home/eemonte/00_PROJECTS/cs_1_bike_share/cleaned_datasets/bt_202011.csv', \n",
    "                          parse_dates=[\"started_at\", \"ended_at\"])\n",
    "c_bt_202012 = pd.read_csv('/home/eemonte/00_PROJECTS/cs_1_bike_share/cleaned_datasets/bt_202012.csv', \n",
    "                          parse_dates=[\"started_at\", \"ended_at\"])\n",
    "c_bt_202101 = pd.read_csv('/home/eemonte/00_PROJECTS/cs_1_bike_share/cleaned_datasets/bt_202101.csv', \n",
    "                          parse_dates=[\"started_at\", \"ended_at\"])\n",
    "c_bt_202102 = pd.read_csv('/home/eemonte/00_PROJECTS/cs_1_bike_share/cleaned_datasets/bt_202102.csv', \n",
    "                          parse_dates=[\"started_at\", \"ended_at\"])\n",
    "c_bt_202103 = pd.read_csv('/home/eemonte/00_PROJECTS/cs_1_bike_share/cleaned_datasets/bt_202103.csv', \n",
    "                          parse_dates=[\"started_at\", \"ended_at\"])"
   ]
  },
  {
   "cell_type": "markdown",
   "metadata": {},
   "source": [
    "### 2. Aggregatre 12 datasets into a final dataset"
   ]
  },
  {
   "cell_type": "code",
   "execution_count": 4,
   "metadata": {},
   "outputs": [
    {
     "data": {
      "text/html": [
       "<div>\n",
       "<style scoped>\n",
       "    .dataframe tbody tr th:only-of-type {\n",
       "        vertical-align: middle;\n",
       "    }\n",
       "\n",
       "    .dataframe tbody tr th {\n",
       "        vertical-align: top;\n",
       "    }\n",
       "\n",
       "    .dataframe thead th {\n",
       "        text-align: right;\n",
       "    }\n",
       "</style>\n",
       "<table border=\"1\" class=\"dataframe\">\n",
       "  <thead>\n",
       "    <tr style=\"text-align: right;\">\n",
       "      <th></th>\n",
       "      <th>ride_id</th>\n",
       "      <th>rideable_type</th>\n",
       "      <th>started_at</th>\n",
       "      <th>ended_at</th>\n",
       "      <th>start_station_name</th>\n",
       "      <th>start_station_id</th>\n",
       "      <th>end_station_name</th>\n",
       "      <th>end_station_id</th>\n",
       "      <th>start_lat</th>\n",
       "      <th>start_lng</th>\n",
       "      <th>end_lat</th>\n",
       "      <th>end_lng</th>\n",
       "      <th>member_casual</th>\n",
       "    </tr>\n",
       "  </thead>\n",
       "  <tbody>\n",
       "    <tr>\n",
       "      <th>0</th>\n",
       "      <td>A847FADBBC638E45</td>\n",
       "      <td>docked_bike</td>\n",
       "      <td>2020-04-26 17:45:14</td>\n",
       "      <td>2020-04-26 18:12:03</td>\n",
       "      <td>Eckhart Park</td>\n",
       "      <td>86</td>\n",
       "      <td>Lincoln Ave &amp; Diversey Pkwy</td>\n",
       "      <td>152</td>\n",
       "      <td>41.8964</td>\n",
       "      <td>-87.6610</td>\n",
       "      <td>41.9322</td>\n",
       "      <td>-87.6586</td>\n",
       "      <td>member</td>\n",
       "    </tr>\n",
       "    <tr>\n",
       "      <th>1</th>\n",
       "      <td>5405B80E996FF60D</td>\n",
       "      <td>docked_bike</td>\n",
       "      <td>2020-04-17 17:08:54</td>\n",
       "      <td>2020-04-17 17:17:03</td>\n",
       "      <td>Drake Ave &amp; Fullerton Ave</td>\n",
       "      <td>503</td>\n",
       "      <td>Kosciuszko Park</td>\n",
       "      <td>499</td>\n",
       "      <td>41.9244</td>\n",
       "      <td>-87.7154</td>\n",
       "      <td>41.9306</td>\n",
       "      <td>-87.7238</td>\n",
       "      <td>member</td>\n",
       "    </tr>\n",
       "    <tr>\n",
       "      <th>2</th>\n",
       "      <td>5DD24A79A4E006F4</td>\n",
       "      <td>docked_bike</td>\n",
       "      <td>2020-04-01 17:54:13</td>\n",
       "      <td>2020-04-01 18:08:36</td>\n",
       "      <td>McClurg Ct &amp; Erie St</td>\n",
       "      <td>142</td>\n",
       "      <td>Indiana Ave &amp; Roosevelt Rd</td>\n",
       "      <td>255</td>\n",
       "      <td>41.8945</td>\n",
       "      <td>-87.6179</td>\n",
       "      <td>41.8679</td>\n",
       "      <td>-87.6230</td>\n",
       "      <td>member</td>\n",
       "    </tr>\n",
       "    <tr>\n",
       "      <th>3</th>\n",
       "      <td>2A59BBDF5CDBA725</td>\n",
       "      <td>docked_bike</td>\n",
       "      <td>2020-04-07 12:50:19</td>\n",
       "      <td>2020-04-07 13:02:31</td>\n",
       "      <td>California Ave &amp; Division St</td>\n",
       "      <td>216</td>\n",
       "      <td>Wood St &amp; Augusta Blvd</td>\n",
       "      <td>657</td>\n",
       "      <td>41.9030</td>\n",
       "      <td>-87.6975</td>\n",
       "      <td>41.8992</td>\n",
       "      <td>-87.6722</td>\n",
       "      <td>member</td>\n",
       "    </tr>\n",
       "    <tr>\n",
       "      <th>4</th>\n",
       "      <td>27AD306C119C6158</td>\n",
       "      <td>docked_bike</td>\n",
       "      <td>2020-04-18 10:22:59</td>\n",
       "      <td>2020-04-18 11:15:54</td>\n",
       "      <td>Rush St &amp; Hubbard St</td>\n",
       "      <td>125</td>\n",
       "      <td>Sheridan Rd &amp; Lawrence Ave</td>\n",
       "      <td>323</td>\n",
       "      <td>41.8902</td>\n",
       "      <td>-87.6262</td>\n",
       "      <td>41.9695</td>\n",
       "      <td>-87.6547</td>\n",
       "      <td>casual</td>\n",
       "    </tr>\n",
       "  </tbody>\n",
       "</table>\n",
       "</div>"
      ],
      "text/plain": [
       "            ride_id rideable_type          started_at            ended_at  \\\n",
       "0  A847FADBBC638E45   docked_bike 2020-04-26 17:45:14 2020-04-26 18:12:03   \n",
       "1  5405B80E996FF60D   docked_bike 2020-04-17 17:08:54 2020-04-17 17:17:03   \n",
       "2  5DD24A79A4E006F4   docked_bike 2020-04-01 17:54:13 2020-04-01 18:08:36   \n",
       "3  2A59BBDF5CDBA725   docked_bike 2020-04-07 12:50:19 2020-04-07 13:02:31   \n",
       "4  27AD306C119C6158   docked_bike 2020-04-18 10:22:59 2020-04-18 11:15:54   \n",
       "\n",
       "             start_station_name  start_station_id  \\\n",
       "0                  Eckhart Park                86   \n",
       "1     Drake Ave & Fullerton Ave               503   \n",
       "2          McClurg Ct & Erie St               142   \n",
       "3  California Ave & Division St               216   \n",
       "4          Rush St & Hubbard St               125   \n",
       "\n",
       "              end_station_name  end_station_id  start_lat  start_lng  end_lat  \\\n",
       "0  Lincoln Ave & Diversey Pkwy             152    41.8964   -87.6610  41.9322   \n",
       "1              Kosciuszko Park             499    41.9244   -87.7154  41.9306   \n",
       "2   Indiana Ave & Roosevelt Rd             255    41.8945   -87.6179  41.8679   \n",
       "3       Wood St & Augusta Blvd             657    41.9030   -87.6975  41.8992   \n",
       "4   Sheridan Rd & Lawrence Ave             323    41.8902   -87.6262  41.9695   \n",
       "\n",
       "   end_lng member_casual  \n",
       "0 -87.6586        member  \n",
       "1 -87.7238        member  \n",
       "2 -87.6230        member  \n",
       "3 -87.6722        member  \n",
       "4 -87.6547        casual  "
      ]
     },
     "execution_count": 4,
     "metadata": {},
     "output_type": "execute_result"
    }
   ],
   "source": [
    "frames = [c_bt_202004, c_bt_202005, c_bt_202006, c_bt_202007, c_bt_202008, c_bt_202009, \n",
    "          c_bt_202010, c_bt_202011, c_bt_202012, c_bt_202101, c_bt_202102, c_bt_202103]\n",
    "\n",
    "biketrips = pd.concat(frames)\n",
    "\n",
    "biketrips.head()"
   ]
  },
  {
   "cell_type": "markdown",
   "metadata": {},
   "source": [
    "### 3. Analyze this dataset"
   ]
  },
  {
   "cell_type": "markdown",
   "metadata": {},
   "source": [
    "**Note**: For the following analysis, I will trim the dataset \"biketrips\" by deleting the \"start_station_name\", \"end_station_name\", \"start_lat\", \"start_lng\", \"end_lat\", \"end_lng\" columns for now."
   ]
  },
  {
   "cell_type": "code",
   "execution_count": 5,
   "metadata": {},
   "outputs": [],
   "source": [
    "sub_biketrips = biketrips[['ride_id', 'rideable_type', 'started_at', 'ended_at', 'start_station_id', \n",
    "                           'end_station_id', 'member_casual']]"
   ]
  },
  {
   "cell_type": "markdown",
   "metadata": {},
   "source": [
    "<h4 style=\"color:green;\"> (3-1) Calculate the length of each ride </h4>"
   ]
  },
  {
   "cell_type": "code",
   "execution_count": 6,
   "metadata": {
    "scrolled": false
   },
   "outputs": [
    {
     "data": {
      "text/html": [
       "<div>\n",
       "<style scoped>\n",
       "    .dataframe tbody tr th:only-of-type {\n",
       "        vertical-align: middle;\n",
       "    }\n",
       "\n",
       "    .dataframe tbody tr th {\n",
       "        vertical-align: top;\n",
       "    }\n",
       "\n",
       "    .dataframe thead th {\n",
       "        text-align: right;\n",
       "    }\n",
       "</style>\n",
       "<table border=\"1\" class=\"dataframe\">\n",
       "  <thead>\n",
       "    <tr style=\"text-align: right;\">\n",
       "      <th></th>\n",
       "      <th>ride_id</th>\n",
       "      <th>rideable_type</th>\n",
       "      <th>started_at</th>\n",
       "      <th>ended_at</th>\n",
       "      <th>start_station_id</th>\n",
       "      <th>end_station_id</th>\n",
       "      <th>member_casual</th>\n",
       "    </tr>\n",
       "  </thead>\n",
       "  <tbody>\n",
       "    <tr>\n",
       "      <th>2419</th>\n",
       "      <td>7C1E92200AEFF70E</td>\n",
       "      <td>docked_bike</td>\n",
       "      <td>2020-04-27 17:20:30</td>\n",
       "      <td>2020-04-27 17:20:18</td>\n",
       "      <td>211</td>\n",
       "      <td>91</td>\n",
       "      <td>member</td>\n",
       "    </tr>\n",
       "    <tr>\n",
       "      <th>2500</th>\n",
       "      <td>671BB1F73F4CD303</td>\n",
       "      <td>docked_bike</td>\n",
       "      <td>2020-04-20 16:51:18</td>\n",
       "      <td>2020-04-20 16:51:05</td>\n",
       "      <td>334</td>\n",
       "      <td>2</td>\n",
       "      <td>casual</td>\n",
       "    </tr>\n",
       "    <tr>\n",
       "      <th>3132</th>\n",
       "      <td>502B972C6B1FCAE6</td>\n",
       "      <td>docked_bike</td>\n",
       "      <td>2020-04-12 19:09:54</td>\n",
       "      <td>2020-04-12 19:09:40</td>\n",
       "      <td>301</td>\n",
       "      <td>289</td>\n",
       "      <td>member</td>\n",
       "    </tr>\n",
       "    <tr>\n",
       "      <th>3538</th>\n",
       "      <td>68E70FDF06F0A439</td>\n",
       "      <td>docked_bike</td>\n",
       "      <td>2020-04-29 17:37:11</td>\n",
       "      <td>2020-04-29 17:37:07</td>\n",
       "      <td>37</td>\n",
       "      <td>442</td>\n",
       "      <td>member</td>\n",
       "    </tr>\n",
       "    <tr>\n",
       "      <th>8203</th>\n",
       "      <td>6EB323BCC83A9D1D</td>\n",
       "      <td>docked_bike</td>\n",
       "      <td>2020-04-05 15:46:12</td>\n",
       "      <td>2020-04-05 15:46:11</td>\n",
       "      <td>471</td>\n",
       "      <td>163</td>\n",
       "      <td>member</td>\n",
       "    </tr>\n",
       "    <tr>\n",
       "      <th>...</th>\n",
       "      <td>...</td>\n",
       "      <td>...</td>\n",
       "      <td>...</td>\n",
       "      <td>...</td>\n",
       "      <td>...</td>\n",
       "      <td>...</td>\n",
       "      <td>...</td>\n",
       "    </tr>\n",
       "    <tr>\n",
       "      <th>16653</th>\n",
       "      <td>D69558609E2E6E5B</td>\n",
       "      <td>classic_bike</td>\n",
       "      <td>2021-02-13 17:32:01</td>\n",
       "      <td>2021-02-13 17:32:01</td>\n",
       "      <td>172</td>\n",
       "      <td>172</td>\n",
       "      <td>member</td>\n",
       "    </tr>\n",
       "    <tr>\n",
       "      <th>39311</th>\n",
       "      <td>F79335E3A77A57B5</td>\n",
       "      <td>electric_bike</td>\n",
       "      <td>2021-03-29 15:41:21</td>\n",
       "      <td>2021-03-29 15:41:20</td>\n",
       "      <td>246</td>\n",
       "      <td>246</td>\n",
       "      <td>member</td>\n",
       "    </tr>\n",
       "    <tr>\n",
       "      <th>49961</th>\n",
       "      <td>48013AE627711DB0</td>\n",
       "      <td>classic_bike</td>\n",
       "      <td>2021-03-24 19:32:44</td>\n",
       "      <td>2021-03-24 19:32:44</td>\n",
       "      <td>156</td>\n",
       "      <td>156</td>\n",
       "      <td>member</td>\n",
       "    </tr>\n",
       "    <tr>\n",
       "      <th>58850</th>\n",
       "      <td>650661065904F60B</td>\n",
       "      <td>classic_bike</td>\n",
       "      <td>2021-03-05 08:10:51</td>\n",
       "      <td>2021-03-05 08:10:51</td>\n",
       "      <td>334</td>\n",
       "      <td>334</td>\n",
       "      <td>member</td>\n",
       "    </tr>\n",
       "    <tr>\n",
       "      <th>113040</th>\n",
       "      <td>5D2797A8FFA71B49</td>\n",
       "      <td>classic_bike</td>\n",
       "      <td>2021-03-13 18:02:58</td>\n",
       "      <td>2021-03-13 18:02:57</td>\n",
       "      <td>60</td>\n",
       "      <td>60</td>\n",
       "      <td>casual</td>\n",
       "    </tr>\n",
       "  </tbody>\n",
       "</table>\n",
       "<p>10743 rows × 7 columns</p>\n",
       "</div>"
      ],
      "text/plain": [
       "                 ride_id  rideable_type          started_at  \\\n",
       "2419    7C1E92200AEFF70E    docked_bike 2020-04-27 17:20:30   \n",
       "2500    671BB1F73F4CD303    docked_bike 2020-04-20 16:51:18   \n",
       "3132    502B972C6B1FCAE6    docked_bike 2020-04-12 19:09:54   \n",
       "3538    68E70FDF06F0A439    docked_bike 2020-04-29 17:37:11   \n",
       "8203    6EB323BCC83A9D1D    docked_bike 2020-04-05 15:46:12   \n",
       "...                  ...            ...                 ...   \n",
       "16653   D69558609E2E6E5B   classic_bike 2021-02-13 17:32:01   \n",
       "39311   F79335E3A77A57B5  electric_bike 2021-03-29 15:41:21   \n",
       "49961   48013AE627711DB0   classic_bike 2021-03-24 19:32:44   \n",
       "58850   650661065904F60B   classic_bike 2021-03-05 08:10:51   \n",
       "113040  5D2797A8FFA71B49   classic_bike 2021-03-13 18:02:58   \n",
       "\n",
       "                  ended_at  start_station_id  end_station_id member_casual  \n",
       "2419   2020-04-27 17:20:18               211              91        member  \n",
       "2500   2020-04-20 16:51:05               334               2        casual  \n",
       "3132   2020-04-12 19:09:40               301             289        member  \n",
       "3538   2020-04-29 17:37:07                37             442        member  \n",
       "8203   2020-04-05 15:46:11               471             163        member  \n",
       "...                    ...               ...             ...           ...  \n",
       "16653  2021-02-13 17:32:01               172             172        member  \n",
       "39311  2021-03-29 15:41:20               246             246        member  \n",
       "49961  2021-03-24 19:32:44               156             156        member  \n",
       "58850  2021-03-05 08:10:51               334             334        member  \n",
       "113040 2021-03-13 18:02:57                60              60        casual  \n",
       "\n",
       "[10743 rows x 7 columns]"
      ]
     },
     "execution_count": 6,
     "metadata": {},
     "output_type": "execute_result"
    }
   ],
   "source": [
    "# check if there is invalid ride where its end time is earlier than or equal to its start time\n",
    "filt = (sub_biketrips['ended_at'] <= sub_biketrips['started_at'])\n",
    "sub_biketrips[filt]"
   ]
  },
  {
   "cell_type": "code",
   "execution_count": 7,
   "metadata": {},
   "outputs": [],
   "source": [
    "# drop these rides\n",
    "sub_biketrips = sub_biketrips[sub_biketrips['ended_at'] > sub_biketrips['started_at']]"
   ]
  },
  {
   "cell_type": "code",
   "execution_count": 8,
   "metadata": {},
   "outputs": [],
   "source": [
    "# create a column \"ride_length\" by subtracting \"ended_at\" from \"started_at\"\n",
    "sub_biketrips.insert(4, \"ride_length\", sub_biketrips['ended_at'] - sub_biketrips['started_at'])"
   ]
  },
  {
   "cell_type": "markdown",
   "metadata": {},
   "source": [
    "<h4 style=\"color:green;\"> (3-2) Calculate the day of the week that each ride started </h4>"
   ]
  },
  {
   "cell_type": "markdown",
   "metadata": {},
   "source": [
    "**Note**: I will use isoweekday( ) to get the days of the week -- 1 to 7 corresponding to Monday to Sunday."
   ]
  },
  {
   "cell_type": "code",
   "execution_count": 9,
   "metadata": {},
   "outputs": [],
   "source": [
    "# create a column \"iso_day_of_week_started\" that calculate the day of the week each ride started\n",
    "import datetime\n",
    "\n",
    "iso_days = sub_biketrips['started_at'].apply(lambda x: x.isoweekday())\n",
    "sub_biketrips.insert(3, \"iso_day_of_week_started\", iso_days)"
   ]
  },
  {
   "cell_type": "markdown",
   "metadata": {},
   "source": [
    "<h4 style=\"color:green\"> (3-3) Divide this dataset based on member riders versus casual riders </h4>"
   ]
  },
  {
   "cell_type": "code",
   "execution_count": 10,
   "metadata": {},
   "outputs": [],
   "source": [
    "# create a sub dataframe contains all membership rides\n",
    "members = sub_biketrips.groupby(['member_casual']).get_group('member')\n",
    "\n",
    "# create a sub dataframe contains all casual user rides\n",
    "casual_riders = sub_biketrips.groupby(['member_casual']).get_group('casual')"
   ]
  },
  {
   "cell_type": "markdown",
   "metadata": {},
   "source": [
    "<h4 style=\"color:green;\"> (3-4) Calculate the minimum, maximum, and average ride_length for members versus casual riders </h4>"
   ]
  },
  {
   "cell_type": "code",
   "execution_count": 11,
   "metadata": {},
   "outputs": [],
   "source": [
    "# calculate the minimum, the maximum, and the average value of ride length for members\n",
    "members_ride_length_min = members['ride_length'].min()\n",
    "members_ride_length_max = members['ride_length'].max()\n",
    "members_ride_length_avg = members['ride_length'].mean()\n",
    "\n",
    "# calculate the minimum, the maximum, and the average value of ride length for casual riders\n",
    "casual_ride_length_min = casual_riders['ride_length'].min()\n",
    "casual_ride_length_max = casual_riders['ride_length'].max()\n",
    "casual_ride_length_avg = casual_riders['ride_length'].mean()"
   ]
  },
  {
   "cell_type": "markdown",
   "metadata": {},
   "source": [
    "<h4 style=\"color:green;\"> (3-6) How do members versus casual riders use bikes based on the days of a week which the rides started? </h4>"
   ]
  },
  {
   "cell_type": "code",
   "execution_count": 12,
   "metadata": {},
   "outputs": [],
   "source": [
    "l = [1, 2, 3, 4, 5, 6, 7]\n",
    "\n",
    "# for members: create a dict, calculate the total amount of rides on each day of a week\n",
    "members_rides_day = dict()\n",
    "s_members_rides_day = members['iso_day_of_week_started'].value_counts()\n",
    "for e in l:\n",
    "    members_rides_day[e] = s_members_rides_day.loc[e]\n",
    "\n",
    "# for casual riders: create a dict, calculate the total amount of rides on each day of a week\n",
    "casual_rides_day = dict()\n",
    "s_casual_rides_day = casual_riders['iso_day_of_week_started'].value_counts()\n",
    "for e in l:\n",
    "    casual_rides_day[e] = s_casual_rides_day.loc[e]"
   ]
  },
  {
   "cell_type": "code",
   "execution_count": 25,
   "metadata": {},
   "outputs": [
    {
     "data": {
      "image/png": "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\n",
      "text/plain": [
       "<Figure size 432x288 with 1 Axes>"
      ]
     },
     "metadata": {
      "needs_background": "light"
     },
     "output_type": "display_data"
    }
   ],
   "source": [
    "# plot: How do members versus casual riders use bikes based on the days of a week which the rides started?\n",
    "%matplotlib inline\n",
    "\n",
    "wid = 0.35\n",
    "x_indexes = np.arange(len(members_rides_day.keys()))\n",
    "\n",
    "plt.bar(x_indexes, members_rides_day.values(), width=wid, label='members')\n",
    "plt.bar(x_indexes+wid, casual_rides_day.values(), width=wid, label='casual riders')\n",
    "\n",
    "plt.xticks(ticks=x_indexes, labels=[\"Monday\", \"Tuesday\", \"Wednesday\", \"Thursday\", \"Friday\", \"Saturday\", \"Sunday\"])\n",
    "plt.xlabel(\"members versus casual riders\")\n",
    "plt.ylabel(\"total bike rides on this day\")\n",
    "plt.style.use(\"seaborn-paper\")\n",
    "plt.legend()\n",
    "plt.show()"
   ]
  },
  {
   "cell_type": "code",
   "execution_count": 14,
   "metadata": {},
   "outputs": [
    {
     "name": "stdout",
     "output_type": "stream",
     "text": [
      "['Solarize_Light2', '_classic_test_patch', 'bmh', 'classic', 'dark_background', 'fast', 'fivethirtyeight', 'ggplot', 'grayscale', 'seaborn', 'seaborn-bright', 'seaborn-colorblind', 'seaborn-dark', 'seaborn-dark-palette', 'seaborn-darkgrid', 'seaborn-deep', 'seaborn-muted', 'seaborn-notebook', 'seaborn-paper', 'seaborn-pastel', 'seaborn-poster', 'seaborn-talk', 'seaborn-ticks', 'seaborn-white', 'seaborn-whitegrid', 'tableau-colorblind10']\n"
     ]
    }
   ],
   "source": [
    "print(plt.style.available)"
   ]
  },
  {
   "cell_type": "markdown",
   "metadata": {},
   "source": [
    "<h4 style=\"color:green;\"> (3-7) How do members versus casual riders use bikes based on the types of bikes? </h4>"
   ]
  },
  {
   "cell_type": "markdown",
   "metadata": {},
   "source": [
    "<h4 style=\"color:green;\"> (3-5) Calculate the average ride_length by day_of_week_started for members versus casual riders </h4>"
   ]
  },
  {
   "cell_type": "code",
   "execution_count": null,
   "metadata": {},
   "outputs": [],
   "source": []
  }
 ],
 "metadata": {
  "kernelspec": {
   "display_name": "Python 3",
   "language": "python",
   "name": "python3"
  },
  "language_info": {
   "codemirror_mode": {
    "name": "ipython",
    "version": 3
   },
   "file_extension": ".py",
   "mimetype": "text/x-python",
   "name": "python",
   "nbconvert_exporter": "python",
   "pygments_lexer": "ipython3",
   "version": "3.8.5"
  }
 },
 "nbformat": 4,
 "nbformat_minor": 4
}
