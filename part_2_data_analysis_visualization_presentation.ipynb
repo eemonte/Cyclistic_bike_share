{
 "cells": [
  {
   "cell_type": "markdown",
   "metadata": {},
   "source": [
    "<h2 align='center'> Cyclistic: a bike-share program </h2>\n",
    "\n",
    "<h4 align='center'> (Part 2: Data Analysis & Visualization) </h4>"
   ]
  },
  {
   "cell_type": "markdown",
   "metadata": {},
   "source": [
    "### 1. Import libraries and datasets"
   ]
  },
  {
   "cell_type": "code",
   "execution_count": 1,
   "metadata": {},
   "outputs": [],
   "source": [
    "import pandas as pd\n",
    "import numpy as np\n",
    "from matplotlib import pyplot as plt"
   ]
  },
  {
   "cell_type": "code",
   "execution_count": 2,
   "metadata": {},
   "outputs": [],
   "source": [
    "# import all cleaned datasets\n",
    "\n",
    "c_bt_202004 = pd.read_csv('/home/eemonte/00_PROJECTS/cs_1_bike_share/cleaned_datasets/bt_202004.csv', \n",
    "                          parse_dates=[\"started_at\", \"ended_at\"])\n",
    "c_bt_202005 = pd.read_csv('/home/eemonte/00_PROJECTS/cs_1_bike_share/cleaned_datasets/bt_202005.csv', \n",
    "                          parse_dates=[\"started_at\", \"ended_at\"])\n",
    "c_bt_202006 = pd.read_csv('/home/eemonte/00_PROJECTS/cs_1_bike_share/cleaned_datasets/bt_202006.csv', \n",
    "                          parse_dates=[\"started_at\", \"ended_at\"])\n",
    "c_bt_202007 = pd.read_csv('/home/eemonte/00_PROJECTS/cs_1_bike_share/cleaned_datasets/bt_202007.csv', \n",
    "                          parse_dates=[\"started_at\", \"ended_at\"])\n",
    "c_bt_202008 = pd.read_csv('/home/eemonte/00_PROJECTS/cs_1_bike_share/cleaned_datasets/bt_202008.csv', \n",
    "                          parse_dates=[\"started_at\", \"ended_at\"])\n",
    "c_bt_202009 = pd.read_csv('/home/eemonte/00_PROJECTS/cs_1_bike_share/cleaned_datasets/bt_202009.csv', \n",
    "                          parse_dates=[\"started_at\", \"ended_at\"])\n",
    "c_bt_202010 = pd.read_csv('/home/eemonte/00_PROJECTS/cs_1_bike_share/cleaned_datasets/bt_202010.csv', \n",
    "                          parse_dates=[\"started_at\", \"ended_at\"])\n",
    "c_bt_202011 = pd.read_csv('/home/eemonte/00_PROJECTS/cs_1_bike_share/cleaned_datasets/bt_202011.csv', \n",
    "                          parse_dates=[\"started_at\", \"ended_at\"])\n",
    "c_bt_202012 = pd.read_csv('/home/eemonte/00_PROJECTS/cs_1_bike_share/cleaned_datasets/bt_202012.csv', \n",
    "                          parse_dates=[\"started_at\", \"ended_at\"])\n",
    "c_bt_202101 = pd.read_csv('/home/eemonte/00_PROJECTS/cs_1_bike_share/cleaned_datasets/bt_202101.csv', \n",
    "                          parse_dates=[\"started_at\", \"ended_at\"])\n",
    "c_bt_202102 = pd.read_csv('/home/eemonte/00_PROJECTS/cs_1_bike_share/cleaned_datasets/bt_202102.csv', \n",
    "                          parse_dates=[\"started_at\", \"ended_at\"])\n",
    "c_bt_202103 = pd.read_csv('/home/eemonte/00_PROJECTS/cs_1_bike_share/cleaned_datasets/bt_202103.csv', \n",
    "                          parse_dates=[\"started_at\", \"ended_at\"])"
   ]
  },
  {
   "cell_type": "markdown",
   "metadata": {},
   "source": [
    "### 2. Aggregatre 12 datasets into a final dataset"
   ]
  },
  {
   "cell_type": "code",
   "execution_count": 3,
   "metadata": {},
   "outputs": [
    {
     "data": {
      "text/html": [
       "<div>\n",
       "<style scoped>\n",
       "    .dataframe tbody tr th:only-of-type {\n",
       "        vertical-align: middle;\n",
       "    }\n",
       "\n",
       "    .dataframe tbody tr th {\n",
       "        vertical-align: top;\n",
       "    }\n",
       "\n",
       "    .dataframe thead th {\n",
       "        text-align: right;\n",
       "    }\n",
       "</style>\n",
       "<table border=\"1\" class=\"dataframe\">\n",
       "  <thead>\n",
       "    <tr style=\"text-align: right;\">\n",
       "      <th></th>\n",
       "      <th>ride_id</th>\n",
       "      <th>rideable_type</th>\n",
       "      <th>started_at</th>\n",
       "      <th>ended_at</th>\n",
       "      <th>start_station_name</th>\n",
       "      <th>start_station_id</th>\n",
       "      <th>end_station_name</th>\n",
       "      <th>end_station_id</th>\n",
       "      <th>start_lat</th>\n",
       "      <th>start_lng</th>\n",
       "      <th>end_lat</th>\n",
       "      <th>end_lng</th>\n",
       "      <th>member_casual</th>\n",
       "    </tr>\n",
       "  </thead>\n",
       "  <tbody>\n",
       "    <tr>\n",
       "      <th>0</th>\n",
       "      <td>A847FADBBC638E45</td>\n",
       "      <td>docked_bike</td>\n",
       "      <td>2020-04-26 17:45:14</td>\n",
       "      <td>2020-04-26 18:12:03</td>\n",
       "      <td>Eckhart Park</td>\n",
       "      <td>86</td>\n",
       "      <td>Lincoln Ave &amp; Diversey Pkwy</td>\n",
       "      <td>152</td>\n",
       "      <td>41.8964</td>\n",
       "      <td>-87.6610</td>\n",
       "      <td>41.9322</td>\n",
       "      <td>-87.6586</td>\n",
       "      <td>member</td>\n",
       "    </tr>\n",
       "    <tr>\n",
       "      <th>1</th>\n",
       "      <td>5405B80E996FF60D</td>\n",
       "      <td>docked_bike</td>\n",
       "      <td>2020-04-17 17:08:54</td>\n",
       "      <td>2020-04-17 17:17:03</td>\n",
       "      <td>Drake Ave &amp; Fullerton Ave</td>\n",
       "      <td>503</td>\n",
       "      <td>Kosciuszko Park</td>\n",
       "      <td>499</td>\n",
       "      <td>41.9244</td>\n",
       "      <td>-87.7154</td>\n",
       "      <td>41.9306</td>\n",
       "      <td>-87.7238</td>\n",
       "      <td>member</td>\n",
       "    </tr>\n",
       "    <tr>\n",
       "      <th>2</th>\n",
       "      <td>5DD24A79A4E006F4</td>\n",
       "      <td>docked_bike</td>\n",
       "      <td>2020-04-01 17:54:13</td>\n",
       "      <td>2020-04-01 18:08:36</td>\n",
       "      <td>McClurg Ct &amp; Erie St</td>\n",
       "      <td>142</td>\n",
       "      <td>Indiana Ave &amp; Roosevelt Rd</td>\n",
       "      <td>255</td>\n",
       "      <td>41.8945</td>\n",
       "      <td>-87.6179</td>\n",
       "      <td>41.8679</td>\n",
       "      <td>-87.6230</td>\n",
       "      <td>member</td>\n",
       "    </tr>\n",
       "    <tr>\n",
       "      <th>3</th>\n",
       "      <td>2A59BBDF5CDBA725</td>\n",
       "      <td>docked_bike</td>\n",
       "      <td>2020-04-07 12:50:19</td>\n",
       "      <td>2020-04-07 13:02:31</td>\n",
       "      <td>California Ave &amp; Division St</td>\n",
       "      <td>216</td>\n",
       "      <td>Wood St &amp; Augusta Blvd</td>\n",
       "      <td>657</td>\n",
       "      <td>41.9030</td>\n",
       "      <td>-87.6975</td>\n",
       "      <td>41.8992</td>\n",
       "      <td>-87.6722</td>\n",
       "      <td>member</td>\n",
       "    </tr>\n",
       "    <tr>\n",
       "      <th>4</th>\n",
       "      <td>27AD306C119C6158</td>\n",
       "      <td>docked_bike</td>\n",
       "      <td>2020-04-18 10:22:59</td>\n",
       "      <td>2020-04-18 11:15:54</td>\n",
       "      <td>Rush St &amp; Hubbard St</td>\n",
       "      <td>125</td>\n",
       "      <td>Sheridan Rd &amp; Lawrence Ave</td>\n",
       "      <td>323</td>\n",
       "      <td>41.8902</td>\n",
       "      <td>-87.6262</td>\n",
       "      <td>41.9695</td>\n",
       "      <td>-87.6547</td>\n",
       "      <td>casual</td>\n",
       "    </tr>\n",
       "  </tbody>\n",
       "</table>\n",
       "</div>"
      ],
      "text/plain": [
       "            ride_id rideable_type          started_at            ended_at  \\\n",
       "0  A847FADBBC638E45   docked_bike 2020-04-26 17:45:14 2020-04-26 18:12:03   \n",
       "1  5405B80E996FF60D   docked_bike 2020-04-17 17:08:54 2020-04-17 17:17:03   \n",
       "2  5DD24A79A4E006F4   docked_bike 2020-04-01 17:54:13 2020-04-01 18:08:36   \n",
       "3  2A59BBDF5CDBA725   docked_bike 2020-04-07 12:50:19 2020-04-07 13:02:31   \n",
       "4  27AD306C119C6158   docked_bike 2020-04-18 10:22:59 2020-04-18 11:15:54   \n",
       "\n",
       "             start_station_name  start_station_id  \\\n",
       "0                  Eckhart Park                86   \n",
       "1     Drake Ave & Fullerton Ave               503   \n",
       "2          McClurg Ct & Erie St               142   \n",
       "3  California Ave & Division St               216   \n",
       "4          Rush St & Hubbard St               125   \n",
       "\n",
       "              end_station_name  end_station_id  start_lat  start_lng  end_lat  \\\n",
       "0  Lincoln Ave & Diversey Pkwy             152    41.8964   -87.6610  41.9322   \n",
       "1              Kosciuszko Park             499    41.9244   -87.7154  41.9306   \n",
       "2   Indiana Ave & Roosevelt Rd             255    41.8945   -87.6179  41.8679   \n",
       "3       Wood St & Augusta Blvd             657    41.9030   -87.6975  41.8992   \n",
       "4   Sheridan Rd & Lawrence Ave             323    41.8902   -87.6262  41.9695   \n",
       "\n",
       "   end_lng member_casual  \n",
       "0 -87.6586        member  \n",
       "1 -87.7238        member  \n",
       "2 -87.6230        member  \n",
       "3 -87.6722        member  \n",
       "4 -87.6547        casual  "
      ]
     },
     "execution_count": 3,
     "metadata": {},
     "output_type": "execute_result"
    }
   ],
   "source": [
    "frames = [c_bt_202004, c_bt_202005, c_bt_202006, c_bt_202007, c_bt_202008, c_bt_202009, \n",
    "          c_bt_202010, c_bt_202011, c_bt_202012, c_bt_202101, c_bt_202102, c_bt_202103]\n",
    "\n",
    "biketrips = pd.concat(frames)\n",
    "\n",
    "biketrips.head()"
   ]
  },
  {
   "cell_type": "markdown",
   "metadata": {},
   "source": [
    "### 3. Analyze this dataset"
   ]
  },
  {
   "cell_type": "markdown",
   "metadata": {},
   "source": [
    "**Note**: For the following analysis, I will trim the dataset \"biketrips\" by deleting the \"start_station_name\", \"end_station_name\", \"start_lat\", \"start_lng\", \"end_lat\", \"end_lng\" columns for now."
   ]
  },
  {
   "cell_type": "code",
   "execution_count": 4,
   "metadata": {},
   "outputs": [],
   "source": [
    "sub_biketrips = biketrips[['ride_id', 'rideable_type', 'started_at', 'ended_at', 'start_station_id', \n",
    "                           'end_station_id', 'member_casual']]"
   ]
  },
  {
   "cell_type": "markdown",
   "metadata": {},
   "source": [
    "<h4 style=\"color:green;\"> (3-1) Calculate the length of each ride </h4>"
   ]
  },
  {
   "cell_type": "code",
   "execution_count": 5,
   "metadata": {
    "scrolled": false
   },
   "outputs": [
    {
     "data": {
      "text/html": [
       "<div>\n",
       "<style scoped>\n",
       "    .dataframe tbody tr th:only-of-type {\n",
       "        vertical-align: middle;\n",
       "    }\n",
       "\n",
       "    .dataframe tbody tr th {\n",
       "        vertical-align: top;\n",
       "    }\n",
       "\n",
       "    .dataframe thead th {\n",
       "        text-align: right;\n",
       "    }\n",
       "</style>\n",
       "<table border=\"1\" class=\"dataframe\">\n",
       "  <thead>\n",
       "    <tr style=\"text-align: right;\">\n",
       "      <th></th>\n",
       "      <th>ride_id</th>\n",
       "      <th>rideable_type</th>\n",
       "      <th>started_at</th>\n",
       "      <th>ended_at</th>\n",
       "      <th>start_station_id</th>\n",
       "      <th>end_station_id</th>\n",
       "      <th>member_casual</th>\n",
       "    </tr>\n",
       "  </thead>\n",
       "  <tbody>\n",
       "    <tr>\n",
       "      <th>2419</th>\n",
       "      <td>7C1E92200AEFF70E</td>\n",
       "      <td>docked_bike</td>\n",
       "      <td>2020-04-27 17:20:30</td>\n",
       "      <td>2020-04-27 17:20:18</td>\n",
       "      <td>211</td>\n",
       "      <td>91</td>\n",
       "      <td>member</td>\n",
       "    </tr>\n",
       "    <tr>\n",
       "      <th>2500</th>\n",
       "      <td>671BB1F73F4CD303</td>\n",
       "      <td>docked_bike</td>\n",
       "      <td>2020-04-20 16:51:18</td>\n",
       "      <td>2020-04-20 16:51:05</td>\n",
       "      <td>334</td>\n",
       "      <td>2</td>\n",
       "      <td>casual</td>\n",
       "    </tr>\n",
       "    <tr>\n",
       "      <th>3132</th>\n",
       "      <td>502B972C6B1FCAE6</td>\n",
       "      <td>docked_bike</td>\n",
       "      <td>2020-04-12 19:09:54</td>\n",
       "      <td>2020-04-12 19:09:40</td>\n",
       "      <td>301</td>\n",
       "      <td>289</td>\n",
       "      <td>member</td>\n",
       "    </tr>\n",
       "    <tr>\n",
       "      <th>3538</th>\n",
       "      <td>68E70FDF06F0A439</td>\n",
       "      <td>docked_bike</td>\n",
       "      <td>2020-04-29 17:37:11</td>\n",
       "      <td>2020-04-29 17:37:07</td>\n",
       "      <td>37</td>\n",
       "      <td>442</td>\n",
       "      <td>member</td>\n",
       "    </tr>\n",
       "    <tr>\n",
       "      <th>8203</th>\n",
       "      <td>6EB323BCC83A9D1D</td>\n",
       "      <td>docked_bike</td>\n",
       "      <td>2020-04-05 15:46:12</td>\n",
       "      <td>2020-04-05 15:46:11</td>\n",
       "      <td>471</td>\n",
       "      <td>163</td>\n",
       "      <td>member</td>\n",
       "    </tr>\n",
       "    <tr>\n",
       "      <th>...</th>\n",
       "      <td>...</td>\n",
       "      <td>...</td>\n",
       "      <td>...</td>\n",
       "      <td>...</td>\n",
       "      <td>...</td>\n",
       "      <td>...</td>\n",
       "      <td>...</td>\n",
       "    </tr>\n",
       "    <tr>\n",
       "      <th>16653</th>\n",
       "      <td>D69558609E2E6E5B</td>\n",
       "      <td>classic_bike</td>\n",
       "      <td>2021-02-13 17:32:01</td>\n",
       "      <td>2021-02-13 17:32:01</td>\n",
       "      <td>172</td>\n",
       "      <td>172</td>\n",
       "      <td>member</td>\n",
       "    </tr>\n",
       "    <tr>\n",
       "      <th>39311</th>\n",
       "      <td>F79335E3A77A57B5</td>\n",
       "      <td>electric_bike</td>\n",
       "      <td>2021-03-29 15:41:21</td>\n",
       "      <td>2021-03-29 15:41:20</td>\n",
       "      <td>246</td>\n",
       "      <td>246</td>\n",
       "      <td>member</td>\n",
       "    </tr>\n",
       "    <tr>\n",
       "      <th>49961</th>\n",
       "      <td>48013AE627711DB0</td>\n",
       "      <td>classic_bike</td>\n",
       "      <td>2021-03-24 19:32:44</td>\n",
       "      <td>2021-03-24 19:32:44</td>\n",
       "      <td>156</td>\n",
       "      <td>156</td>\n",
       "      <td>member</td>\n",
       "    </tr>\n",
       "    <tr>\n",
       "      <th>58850</th>\n",
       "      <td>650661065904F60B</td>\n",
       "      <td>classic_bike</td>\n",
       "      <td>2021-03-05 08:10:51</td>\n",
       "      <td>2021-03-05 08:10:51</td>\n",
       "      <td>334</td>\n",
       "      <td>334</td>\n",
       "      <td>member</td>\n",
       "    </tr>\n",
       "    <tr>\n",
       "      <th>113040</th>\n",
       "      <td>5D2797A8FFA71B49</td>\n",
       "      <td>classic_bike</td>\n",
       "      <td>2021-03-13 18:02:58</td>\n",
       "      <td>2021-03-13 18:02:57</td>\n",
       "      <td>60</td>\n",
       "      <td>60</td>\n",
       "      <td>casual</td>\n",
       "    </tr>\n",
       "  </tbody>\n",
       "</table>\n",
       "<p>10743 rows × 7 columns</p>\n",
       "</div>"
      ],
      "text/plain": [
       "                 ride_id  rideable_type          started_at  \\\n",
       "2419    7C1E92200AEFF70E    docked_bike 2020-04-27 17:20:30   \n",
       "2500    671BB1F73F4CD303    docked_bike 2020-04-20 16:51:18   \n",
       "3132    502B972C6B1FCAE6    docked_bike 2020-04-12 19:09:54   \n",
       "3538    68E70FDF06F0A439    docked_bike 2020-04-29 17:37:11   \n",
       "8203    6EB323BCC83A9D1D    docked_bike 2020-04-05 15:46:12   \n",
       "...                  ...            ...                 ...   \n",
       "16653   D69558609E2E6E5B   classic_bike 2021-02-13 17:32:01   \n",
       "39311   F79335E3A77A57B5  electric_bike 2021-03-29 15:41:21   \n",
       "49961   48013AE627711DB0   classic_bike 2021-03-24 19:32:44   \n",
       "58850   650661065904F60B   classic_bike 2021-03-05 08:10:51   \n",
       "113040  5D2797A8FFA71B49   classic_bike 2021-03-13 18:02:58   \n",
       "\n",
       "                  ended_at  start_station_id  end_station_id member_casual  \n",
       "2419   2020-04-27 17:20:18               211              91        member  \n",
       "2500   2020-04-20 16:51:05               334               2        casual  \n",
       "3132   2020-04-12 19:09:40               301             289        member  \n",
       "3538   2020-04-29 17:37:07                37             442        member  \n",
       "8203   2020-04-05 15:46:11               471             163        member  \n",
       "...                    ...               ...             ...           ...  \n",
       "16653  2021-02-13 17:32:01               172             172        member  \n",
       "39311  2021-03-29 15:41:20               246             246        member  \n",
       "49961  2021-03-24 19:32:44               156             156        member  \n",
       "58850  2021-03-05 08:10:51               334             334        member  \n",
       "113040 2021-03-13 18:02:57                60              60        casual  \n",
       "\n",
       "[10743 rows x 7 columns]"
      ]
     },
     "execution_count": 5,
     "metadata": {},
     "output_type": "execute_result"
    }
   ],
   "source": [
    "# check if there is invalid ride where its end time is earlier than or equal to its start time\n",
    "filt = (sub_biketrips['ended_at'] <= sub_biketrips['started_at'])\n",
    "sub_biketrips[filt]"
   ]
  },
  {
   "cell_type": "code",
   "execution_count": 6,
   "metadata": {},
   "outputs": [],
   "source": [
    "# drop these rides\n",
    "sub_biketrips = sub_biketrips[sub_biketrips['ended_at'] > sub_biketrips['started_at']]"
   ]
  },
  {
   "cell_type": "code",
   "execution_count": 7,
   "metadata": {},
   "outputs": [],
   "source": [
    "# create a column \"ride_length\" by subtracting \"ended_at\" from \"started_at\"\n",
    "sub_biketrips.insert(4, \"ride_length\", sub_biketrips['ended_at'] - sub_biketrips['started_at'])"
   ]
  },
  {
   "cell_type": "markdown",
   "metadata": {},
   "source": [
    "<h4 style=\"color:green;\"> (3-2) Calculate the day of the week that each ride started </h4>"
   ]
  },
  {
   "cell_type": "markdown",
   "metadata": {},
   "source": [
    "**Note**: I will use isoweekday( ) to get the days of the week -- 1 to 7 corresponding to Monday to Sunday."
   ]
  },
  {
   "cell_type": "code",
   "execution_count": 8,
   "metadata": {},
   "outputs": [],
   "source": [
    "# create a column \"iso_day_of_week_started\" that calculate the day of the week each ride started\n",
    "import datetime\n",
    "\n",
    "iso_days = sub_biketrips['started_at'].apply(lambda x: x.isoweekday())\n",
    "sub_biketrips.insert(3, \"iso_day_of_week_started\", iso_days)"
   ]
  },
  {
   "cell_type": "markdown",
   "metadata": {},
   "source": [
    "<h4 style=\"color:green\"> (3-3) Divide this dataset based on member riders versus casual riders </h4>"
   ]
  },
  {
   "cell_type": "code",
   "execution_count": 9,
   "metadata": {},
   "outputs": [],
   "source": [
    "# create a sub dataframe contains all membership rides\n",
    "members = sub_biketrips.groupby(['member_casual']).get_group('member')\n",
    "\n",
    "# create a sub dataframe contains all casual user rides\n",
    "casual_riders = sub_biketrips.groupby(['member_casual']).get_group('casual')"
   ]
  },
  {
   "cell_type": "markdown",
   "metadata": {},
   "source": [
    "<h4 style=\"color:green;\"> (3-4) Calculate the minimum, maximum, and average ride_length for members versus casual riders </h4>"
   ]
  },
  {
   "cell_type": "code",
   "execution_count": 10,
   "metadata": {},
   "outputs": [],
   "source": [
    "# calculate the minimum, the maximum, and the average value of ride length for members\n",
    "members_ride_length_min = members['ride_length'].min()\n",
    "members_ride_length_max = members['ride_length'].max()\n",
    "members_ride_length_avg = members['ride_length'].mean()\n",
    "\n",
    "# calculate the minimum, the maximum, and the average value of ride length for casual riders\n",
    "casual_ride_length_min = casual_riders['ride_length'].min()\n",
    "casual_ride_length_max = casual_riders['ride_length'].max()\n",
    "casual_ride_length_avg = casual_riders['ride_length'].mean()"
   ]
  },
  {
   "cell_type": "markdown",
   "metadata": {},
   "source": [
    "<h4 style=\"color:green;\"> (3-6) How do members versus casual riders use bikes based on the days of a week which the rides started? </h4>"
   ]
  },
  {
   "cell_type": "code",
   "execution_count": 11,
   "metadata": {},
   "outputs": [],
   "source": [
    "l = [1, 2, 3, 4, 5, 6, 7]\n",
    "\n",
    "# for members: create a dict, calculate the total amount of rides on each day of a week\n",
    "members_rides_day = dict()\n",
    "s_members_rides_day = members['iso_day_of_week_started'].value_counts()\n",
    "for e in l:\n",
    "    members_rides_day[e] = s_members_rides_day.loc[e]\n",
    "\n",
    "# for casual riders: create a dict, calculate the total amount of rides on each day of a week\n",
    "casual_rides_day = dict()\n",
    "s_casual_rides_day = casual_riders['iso_day_of_week_started'].value_counts()\n",
    "for e in l:\n",
    "    casual_rides_day[e] = s_casual_rides_day.loc[e]"
   ]
  },
  {
   "cell_type": "code",
   "execution_count": 12,
   "metadata": {},
   "outputs": [
    {
     "data": {
      "image/png": "[encoded data removed]",
      "text/plain": [
       "<Figure size 432x288 with 1 Axes>"
      ]
     },
     "metadata": {
      "needs_background": "light"
     },
     "output_type": "display_data"
    }
   ],
   "source": [
    "# plot: How do members versus casual riders use bikes based on the days of a week which the rides started?\n",
    "#%matplotlib inline\n",
    "\n",
    "wid = 0.35\n",
    "x_indexes = np.arange(len(members_rides_day.keys()))\n",
    "\n",
    "plt.bar(x_indexes, members_rides_day.values(), width=wid, label='members')\n",
    "plt.bar(x_indexes+wid, casual_rides_day.values(), width=wid, label='casual riders')\n",
    "\n",
    "plt.xticks(ticks=x_indexes, labels=[\"Monday\", \"Tuesday\", \"Wednesday\", \"Thursday\", \"Friday\", \"Saturday\", \"Sunday\"])\n",
    "plt.xlabel(\"members versus casual riders\")\n",
    "plt.ylabel(\"total bike rides on this day\")\n",
    "plt.style.use(\"seaborn-paper\")\n",
    "plt.legend()\n",
    "plt.show()"
   ]
  },
  {
   "cell_type": "markdown",
   "metadata": {},
   "source": [
    "<h4 style=\"color:green;\"> (3-7) How do members versus casual riders use bikes based on the types of bikes? </h4>"
   ]
  },
  {
   "cell_type": "markdown",
   "metadata": {},
   "source": [
    "<h4 style=\"color:green;\"> (3-5) Calculate the average ride_length by day_of_week_started for members versus casual riders </h4>"
   ]
  },
  {
   "cell_type": "code",
   "execution_count": null,
   "metadata": {},
   "outputs": [],
   "source": []
  }
 ],
 "metadata": {
  "kernelspec": {
   "display_name": "Python 3",
   "language": "python",
   "name": "python3"
  },
  "language_info": {
   "codemirror_mode": {
    "name": "ipython",
    "version": 3
   },
   "file_extension": ".py",
   "mimetype": "text/x-python",
   "name": "python",
   "nbconvert_exporter": "python",
   "pygments_lexer": "ipython3",
   "version": "3.8.5"
  }
 },
 "nbformat": 4,
 "nbformat_minor": 4
}
