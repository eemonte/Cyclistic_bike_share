{
 "cells": [
  {
   "cell_type": "markdown",
   "metadata": {},
   "source": [
    "<h2 align='center'> Cyclistic: a bike-share program </h2>\n",
    "\n",
    "<h4 align='center'> (Part 1: Data Cleaning & Transformation) </h4>"
   ]
  },
  {
   "cell_type": "markdown",
   "metadata": {},
   "source": [
    "### 1. Import libraries and datasets"
   ]
  },
  {
   "cell_type": "code",
   "execution_count": 24,
   "metadata": {},
   "outputs": [],
   "source": [
    "import pandas as pd"
   ]
  },
  {
   "cell_type": "code",
   "execution_count": 25,
   "metadata": {},
   "outputs": [],
   "source": [
    "bt_202004 = pd.read_csv('~/00_PROJECTS/cs_1_bike_share/original_datasets/202004-divvy-tripdata.csv')\n",
    "bt_202005 = pd.read_csv('~/00_PROJECTS/cs_1_bike_share/original_datasets/202005-divvy-tripdata.csv')\n",
    "bt_202006 = pd.read_csv('~/00_PROJECTS/cs_1_bike_share/original_datasets/202006-divvy-tripdata.csv')\n",
    "bt_202007 = pd.read_csv('~/00_PROJECTS/cs_1_bike_share/original_datasets/202007-divvy-tripdata.csv')\n",
    "bt_202008 = pd.read_csv('~/00_PROJECTS/cs_1_bike_share/original_datasets/202008-divvy-tripdata.csv')\n",
    "bt_202009 = pd.read_csv('~/00_PROJECTS/cs_1_bike_share/original_datasets/202009-divvy-tripdata.csv')\n",
    "bt_202010 = pd.read_csv('~/00_PROJECTS/cs_1_bike_share/original_datasets/202010-divvy-tripdata.csv')\n",
    "bt_202011 = pd.read_csv('~/00_PROJECTS/cs_1_bike_share/original_datasets/202011-divvy-tripdata.csv')\n",
    "bt_202012 = pd.read_csv('~/00_PROJECTS/cs_1_bike_share/original_datasets/202012-divvy-tripdata.csv')\n",
    "bt_202101 = pd.read_csv('~/00_PROJECTS/cs_1_bike_share/original_datasets/202101-divvy-tripdata.csv')\n",
    "bt_202102 = pd.read_csv('~/00_PROJECTS/cs_1_bike_share/original_datasets/202102-divvy-tripdata.csv')\n",
    "bt_202103 = pd.read_csv('~/00_PROJECTS/cs_1_bike_share/original_datasets/202103-divvy-tripdata.csv')"
   ]
  },
  {
   "cell_type": "markdown",
   "metadata": {},
   "source": [
    "### 2. Examine datasets"
   ]
  },
  {
   "cell_type": "markdown",
   "metadata": {},
   "source": [
    "#### By briefly examining all 12 datasets, I've noticed these datasets have been organized in the same format of 13 columns:\n",
    "\n",
    "| Column | This column measures |\n",
    "| :---: | :---: |\n",
    "| *ride_id* | unique id of each bike ride initiated |\n",
    "| *rideable_type* | 3 types of bikes used by Cycslistic |\n",
    "| *started_at* | start date and time of each bike ride |\n",
    "| *ended_at* | end date and time of each bike ride |\n",
    "| *start_station_name* | bike station name where each bike ride starts |\n",
    "| *start_station_id* | bike station id where each bike ride starts |\n",
    "| *end_station_name* | bike station name where each bike ride ends |\n",
    "| *end_station_id* | bike station id where each bike ride ends |\n",
    "| *start_lat* | latitude of bike station where each bike ride starts |\n",
    "| *start_lng* | longitude of biek station where each bike ride starts |\n",
    "| *end_lat* | latitude of bike station where each bike ride ends |\n",
    "| *end_lng* | longitude of bike station where each bike ride ends |\n",
    "| *member_casual* | whether a bike rider is a member of Cyclistic program or not |\n",
    "\n",
    "#### For each dataset, I will perform these data cleaning and transformations:\n",
    "- check the uniqueness of *ride_id*\n",
    "- drop any NULL values in all columns\n",
    "- check the data types of each column, and convert to the correct type if necessary\n",
    "- check the consistency between *start_station_name* and *start_station_id*\n",
    "- check the consistency between *end_station_name* and *end_station_id*\n",
    "- drop irrelevant columns: *start_lat*, *start_lng*, *end_lat*, *end_lng*\n",
    "\n",
    "***Note:*** \n",
    "\n",
    "For all 12 datasets, *started_at* and *ended_at* columns are strings, which they should be datetimes. However, I will leave them \"as-is\" now since my goal for this this phase of data cleaning is mainly clean out invalid data and transform data for further analysis."
   ]
  },
  {
   "cell_type": "markdown",
   "metadata": {},
   "source": [
    "#### (2-1) dataset: bike trips of April 2020"
   ]
  },
  {
   "cell_type": "code",
   "execution_count": 26,
   "metadata": {},
   "outputs": [],
   "source": [
    "# drop irrelevant columns: start_lat, start_lng, end_lat, end_lng\n",
    "bt_202004.drop(columns = ['start_lat', 'start_lng', 'end_lat', 'end_lng'], inplace = True)"
   ]
  },
  {
   "cell_type": "code",
   "execution_count": 27,
   "metadata": {
    "scrolled": true
   },
   "outputs": [
    {
     "data": {
      "text/plain": [
       "ride_id                object\n",
       "rideable_type          object\n",
       "started_at             object\n",
       "ended_at               object\n",
       "start_station_name     object\n",
       "start_station_id        int64\n",
       "end_station_name       object\n",
       "end_station_id        float64\n",
       "member_casual          object\n",
       "dtype: object"
      ]
     },
     "execution_count": 27,
     "metadata": {},
     "output_type": "execute_result"
    }
   ],
   "source": [
    "bt_202004.dtypes"
   ]
  },
  {
   "cell_type": "code",
   "execution_count": 28,
   "metadata": {},
   "outputs": [
    {
     "data": {
      "text/plain": [
       "3B29581B6A8E22D7    1\n",
       "254DD4C24562607F    1\n",
       "5DDEDC7082F0AC1B    1\n",
       "58BAEAEE02108723    1\n",
       "EE2AD53B40C49813    1\n",
       "                   ..\n",
       "5C39FF732BB18737    1\n",
       "209F1246CFD9954D    1\n",
       "CA6A9CA9BAC086B1    1\n",
       "14F9C3F22693E11B    1\n",
       "B18BA06748C13F7E    1\n",
       "Name: ride_id, Length: 84776, dtype: int64"
      ]
     },
     "execution_count": 28,
     "metadata": {},
     "output_type": "execute_result"
    }
   ],
   "source": [
    "# check uniqueness of ride_id\n",
    "bt_202004['ride_id'].value_counts()"
   ]
  },
  {
   "cell_type": "code",
   "execution_count": 29,
   "metadata": {},
   "outputs": [
    {
     "data": {
      "text/plain": [
       "ride_id                0\n",
       "rideable_type          0\n",
       "started_at             0\n",
       "ended_at               0\n",
       "start_station_name     0\n",
       "start_station_id       0\n",
       "end_station_name      99\n",
       "end_station_id        99\n",
       "member_casual          0\n",
       "dtype: int64"
      ]
     },
     "execution_count": 29,
     "metadata": {},
     "output_type": "execute_result"
    }
   ],
   "source": [
    "# check NAN values\n",
    "bt_202004.isna().sum()"
   ]
  },
  {
   "cell_type": "code",
   "execution_count": 30,
   "metadata": {
    "scrolled": true
   },
   "outputs": [],
   "source": [
    "# drop all NAN values\n",
    "bt_202004.dropna(inplace = True)"
   ]
  },
  {
   "cell_type": "code",
   "execution_count": 31,
   "metadata": {},
   "outputs": [],
   "source": [
    "# convert 'end_station_id' column from floating points to integers\n",
    "bt_202004['end_station_id'] = bt_202004['end_station_id'].astype('int64')"
   ]
  },
  {
   "cell_type": "markdown",
   "metadata": {},
   "source": [
    "#### (2-2) dataset: bike trips of May 2020"
   ]
  },
  {
   "cell_type": "code",
   "execution_count": 32,
   "metadata": {},
   "outputs": [],
   "source": [
    "# drop irrelevant columns: start_lat, start_lng, end_lat, end_lng\n",
    "bt_202005.drop(columns = ['start_lat', 'start_lng', 'end_lat', 'end_lng'], inplace = True)"
   ]
  },
  {
   "cell_type": "code",
   "execution_count": 33,
   "metadata": {
    "scrolled": true
   },
   "outputs": [
    {
     "data": {
      "text/plain": [
       "ride_id                object\n",
       "rideable_type          object\n",
       "started_at             object\n",
       "ended_at               object\n",
       "start_station_name     object\n",
       "start_station_id        int64\n",
       "end_station_name       object\n",
       "end_station_id        float64\n",
       "member_casual          object\n",
       "dtype: object"
      ]
     },
     "execution_count": 33,
     "metadata": {},
     "output_type": "execute_result"
    }
   ],
   "source": [
    "bt_202005.dtypes"
   ]
  },
  {
   "cell_type": "code",
   "execution_count": 34,
   "metadata": {},
   "outputs": [
    {
     "data": {
      "text/plain": [
       "05F7CBF8F1AE96EE    1\n",
       "AE4F2E7BD94BDCDA    1\n",
       "E53ED54D6E019A3B    1\n",
       "EDC233CEFDE5645B    1\n",
       "EE31D242B792801E    1\n",
       "                   ..\n",
       "27EBC65228FDA5E1    1\n",
       "E9710353E1C4050E    1\n",
       "C134C7F2B9D885E4    1\n",
       "1991EFC7A9EE0354    1\n",
       "4B16A622D018FF0E    1\n",
       "Name: ride_id, Length: 200274, dtype: int64"
      ]
     },
     "execution_count": 34,
     "metadata": {},
     "output_type": "execute_result"
    }
   ],
   "source": [
    "# check uniqueness of ride_id\n",
    "bt_202005['ride_id'].value_counts()"
   ]
  },
  {
   "cell_type": "code",
   "execution_count": 35,
   "metadata": {},
   "outputs": [
    {
     "data": {
      "text/plain": [
       "ride_id                 0\n",
       "rideable_type           0\n",
       "started_at              0\n",
       "ended_at                0\n",
       "start_station_name      0\n",
       "start_station_id        0\n",
       "end_station_name      321\n",
       "end_station_id        321\n",
       "member_casual           0\n",
       "dtype: int64"
      ]
     },
     "execution_count": 35,
     "metadata": {},
     "output_type": "execute_result"
    }
   ],
   "source": [
    "# check NAN values\n",
    "bt_202005.isna().sum()"
   ]
  },
  {
   "cell_type": "code",
   "execution_count": 36,
   "metadata": {},
   "outputs": [],
   "source": [
    "# drop all NAN values\n",
    "bt_202005.dropna(inplace = True)"
   ]
  },
  {
   "cell_type": "code",
   "execution_count": 37,
   "metadata": {},
   "outputs": [],
   "source": [
    "# convert 'end_station_id' from floating points to integers\n",
    "bt_202005['end_station_id'] = bt_202005['end_station_id'].astype('int64')"
   ]
  },
  {
   "cell_type": "markdown",
   "metadata": {},
   "source": [
    "#### (2-3) dataset: bike trips of June 2020"
   ]
  },
  {
   "cell_type": "code",
   "execution_count": 38,
   "metadata": {},
   "outputs": [],
   "source": [
    "# drop irrelevant columns: start_lat, start_lng, end_lat, end_lng\n",
    "bt_202006.drop(columns = ['start_lat', 'start_lng', 'end_lat', 'end_lng'], inplace = True)"
   ]
  },
  {
   "cell_type": "code",
   "execution_count": 39,
   "metadata": {},
   "outputs": [
    {
     "data": {
      "text/plain": [
       "ride_id                object\n",
       "rideable_type          object\n",
       "started_at             object\n",
       "ended_at               object\n",
       "start_station_name     object\n",
       "start_station_id        int64\n",
       "end_station_name       object\n",
       "end_station_id        float64\n",
       "member_casual          object\n",
       "dtype: object"
      ]
     },
     "execution_count": 39,
     "metadata": {},
     "output_type": "execute_result"
    }
   ],
   "source": [
    "bt_202006.dtypes"
   ]
  },
  {
   "cell_type": "code",
   "execution_count": 40,
   "metadata": {},
   "outputs": [
    {
     "data": {
      "text/plain": [
       "8FC0355E34E7065F    1\n",
       "6A8F40C6BC26359A    1\n",
       "83E82456A919A137    1\n",
       "AD560791BC9E8F38    1\n",
       "9E5E9FC42591D4C3    1\n",
       "                   ..\n",
       "A28CD736BFCA746D    1\n",
       "6A4A6B787F6AA658    1\n",
       "4F6D4ADC9A069430    1\n",
       "FAA6C57FC25D7774    1\n",
       "E8F6E04B8CD0427B    1\n",
       "Name: ride_id, Length: 343005, dtype: int64"
      ]
     },
     "execution_count": 40,
     "metadata": {},
     "output_type": "execute_result"
    }
   ],
   "source": [
    "# check uniqueness of ride_id\n",
    "bt_202006['ride_id'].value_counts()"
   ]
  },
  {
   "cell_type": "code",
   "execution_count": 41,
   "metadata": {},
   "outputs": [
    {
     "data": {
      "text/plain": [
       "ride_id                 0\n",
       "rideable_type           0\n",
       "started_at              0\n",
       "ended_at                0\n",
       "start_station_name      0\n",
       "start_station_id        0\n",
       "end_station_name      468\n",
       "end_station_id        468\n",
       "member_casual           0\n",
       "dtype: int64"
      ]
     },
     "execution_count": 41,
     "metadata": {},
     "output_type": "execute_result"
    }
   ],
   "source": [
    "# check NAN values\n",
    "bt_202006.isna().sum()"
   ]
  },
  {
   "cell_type": "code",
   "execution_count": 42,
   "metadata": {},
   "outputs": [],
   "source": [
    "# drop all NAN values\n",
    "bt_202006.dropna(inplace = True)"
   ]
  },
  {
   "cell_type": "code",
   "execution_count": 43,
   "metadata": {},
   "outputs": [],
   "source": [
    "# convert 'end_station_id' from floating points to integers\n",
    "bt_202006['end_station_id'] = bt_202006['end_station_id'].astype('int64')"
   ]
  },
  {
   "cell_type": "markdown",
   "metadata": {},
   "source": [
    "#### (2-4) dataset: bike trips of July 2020"
   ]
  },
  {
   "cell_type": "code",
   "execution_count": 44,
   "metadata": {},
   "outputs": [],
   "source": [
    "# drop irrelevant columns: start_lat, start_lng, end_lat, end_lng\n",
    "bt_202007.drop(columns = ['start_lat', 'start_lng', 'end_lat', 'end_lng'], inplace = True)"
   ]
  },
  {
   "cell_type": "code",
   "execution_count": 45,
   "metadata": {
    "scrolled": true
   },
   "outputs": [
    {
     "data": {
      "text/plain": [
       "ride_id                object\n",
       "rideable_type          object\n",
       "started_at             object\n",
       "ended_at               object\n",
       "start_station_name     object\n",
       "start_station_id      float64\n",
       "end_station_name       object\n",
       "end_station_id        float64\n",
       "member_casual          object\n",
       "dtype: object"
      ]
     },
     "execution_count": 45,
     "metadata": {},
     "output_type": "execute_result"
    }
   ],
   "source": [
    "bt_202007.dtypes"
   ]
  },
  {
   "cell_type": "code",
   "execution_count": 47,
   "metadata": {},
   "outputs": [
    {
     "data": {
      "text/plain": [
       "0A8B25EB2325A6FF    1\n",
       "9C4B6216FA1C7058    1\n",
       "5259E6AC97F8A139    1\n",
       "816F8FF2DAB9C725    1\n",
       "FF25AF298D743EC3    1\n",
       "                   ..\n",
       "B61A3513B5E1D17D    1\n",
       "DFBB3AD67B7616EF    1\n",
       "6B3A869605F486B2    1\n",
       "5210E53EC149364B    1\n",
       "53E088D20851A580    1\n",
       "Name: ride_id, Length: 551480, dtype: int64"
      ]
     },
     "execution_count": 47,
     "metadata": {},
     "output_type": "execute_result"
    }
   ],
   "source": [
    "# check uniqueness of ride_id\n",
    "bt_202007['ride_id'].value_counts()"
   ]
  },
  {
   "cell_type": "code",
   "execution_count": 48,
   "metadata": {
    "scrolled": true
   },
   "outputs": [
    {
     "data": {
      "text/plain": [
       "ride_id                 0\n",
       "rideable_type           0\n",
       "started_at              0\n",
       "ended_at                0\n",
       "start_station_name    149\n",
       "start_station_id      152\n",
       "end_station_name      967\n",
       "end_station_id        969\n",
       "member_casual           0\n",
       "dtype: int64"
      ]
     },
     "execution_count": 48,
     "metadata": {},
     "output_type": "execute_result"
    }
   ],
   "source": [
    "# check NAN values\n",
    "bt_202007.isna().sum()"
   ]
  },
  {
   "cell_type": "code",
   "execution_count": 49,
   "metadata": {},
   "outputs": [],
   "source": [
    "# drop all NAN values\n",
    "bt_202007.dropna(inplace = True)"
   ]
  },
  {
   "cell_type": "code",
   "execution_count": 50,
   "metadata": {},
   "outputs": [],
   "source": [
    "# convert 'start_station_id' column from floating points to integers\n",
    "bt_202007['start_station_id'] = bt_202007['start_station_id'].astype('int64')\n",
    "\n",
    "# convert 'end_station_id' column from floating points to integers\n",
    "bt_202007['end_station_id'] = bt_202007['end_station_id'].astype('int64')"
   ]
  },
  {
   "cell_type": "markdown",
   "metadata": {},
   "source": [
    "#### (2-5) dataset: bike trips of August 2020"
   ]
  },
  {
   "cell_type": "code",
   "execution_count": 51,
   "metadata": {},
   "outputs": [],
   "source": [
    "# drop irrelevant columns: start_lat, start_lng, end_lat, end_lng\n",
    "bt_202008.drop(columns = ['start_lat', 'start_lng', 'end_lat', 'end_lng'], inplace = True)"
   ]
  },
  {
   "cell_type": "code",
   "execution_count": 52,
   "metadata": {
    "scrolled": true
   },
   "outputs": [
    {
     "data": {
      "text/plain": [
       "ride_id                object\n",
       "rideable_type          object\n",
       "started_at             object\n",
       "ended_at               object\n",
       "start_station_name     object\n",
       "start_station_id      float64\n",
       "end_station_name       object\n",
       "end_station_id        float64\n",
       "member_casual          object\n",
       "dtype: object"
      ]
     },
     "execution_count": 52,
     "metadata": {},
     "output_type": "execute_result"
    }
   ],
   "source": [
    "bt_202008.dtypes"
   ]
  },
  {
   "cell_type": "code",
   "execution_count": 53,
   "metadata": {},
   "outputs": [
    {
     "data": {
      "text/plain": [
       "356C6D12A5DE6667    1\n",
       "77D7AF2B31975C07    1\n",
       "DDB42AC4C2BAD0F6    1\n",
       "6D2CF8D849742907    1\n",
       "B298AF4329038565    1\n",
       "                   ..\n",
       "B2B8BFE00069054D    1\n",
       "6B685935C6FBC415    1\n",
       "8F540CED4F804177    1\n",
       "9CCE497F921F47B2    1\n",
       "586B6943345703FB    1\n",
       "Name: ride_id, Length: 622361, dtype: int64"
      ]
     },
     "execution_count": 53,
     "metadata": {},
     "output_type": "execute_result"
    }
   ],
   "source": [
    "# check uniqueness of ride_id\n",
    "bt_202008['ride_id'].value_counts()"
   ]
  },
  {
   "cell_type": "code",
   "execution_count": 54,
   "metadata": {},
   "outputs": [
    {
     "data": {
      "text/plain": [
       "ride_id                   0\n",
       "rideable_type             0\n",
       "started_at                0\n",
       "ended_at                  0\n",
       "start_station_name     7595\n",
       "start_station_id       7691\n",
       "end_station_name      10035\n",
       "end_station_id        10110\n",
       "member_casual             0\n",
       "dtype: int64"
      ]
     },
     "execution_count": 54,
     "metadata": {},
     "output_type": "execute_result"
    }
   ],
   "source": [
    "# check NAN values\n",
    "bt_202008.isna().sum()"
   ]
  },
  {
   "cell_type": "code",
   "execution_count": 55,
   "metadata": {},
   "outputs": [],
   "source": [
    "# drop all NAN values\n",
    "bt_202008.dropna(inplace = True)"
   ]
  },
  {
   "cell_type": "code",
   "execution_count": 56,
   "metadata": {},
   "outputs": [],
   "source": [
    "# convert 'start_station_id' column from floating points to integers\n",
    "bt_202008['start_station_id'] = bt_202008['start_station_id'].astype('int64')\n",
    "\n",
    "# convert 'end_station_id' column from floating points to integers\n",
    "bt_202008['end_station_id'] = bt_202008['end_station_id'].astype('int64')"
   ]
  },
  {
   "cell_type": "markdown",
   "metadata": {},
   "source": [
    "#### (2-6) dataset: bike trips of September 2020"
   ]
  },
  {
   "cell_type": "code",
   "execution_count": 57,
   "metadata": {},
   "outputs": [],
   "source": [
    "# drop irrelevant columns: start_lat, start_lng, end_lat, end_lng\n",
    "bt_202009.drop(columns = ['start_lat', 'start_lng', 'end_lat', 'end_lng'], inplace = True)"
   ]
  },
  {
   "cell_type": "code",
   "execution_count": 58,
   "metadata": {},
   "outputs": [
    {
     "data": {
      "text/plain": [
       "ride_id                object\n",
       "rideable_type          object\n",
       "started_at             object\n",
       "ended_at               object\n",
       "start_station_name     object\n",
       "start_station_id      float64\n",
       "end_station_name       object\n",
       "end_station_id        float64\n",
       "member_casual          object\n",
       "dtype: object"
      ]
     },
     "execution_count": 58,
     "metadata": {},
     "output_type": "execute_result"
    }
   ],
   "source": [
    "bt_202009.dtypes"
   ]
  },
  {
   "cell_type": "code",
   "execution_count": 59,
   "metadata": {},
   "outputs": [
    {
     "data": {
      "text/plain": [
       "ECFEE9CD3210340E    1\n",
       "7A8867D93C672321    1\n",
       "204A18305387A124    1\n",
       "34F87B1FE33DA7AA    1\n",
       "5FC9324DDE507C4B    1\n",
       "                   ..\n",
       "1CBA4C93D8724201    1\n",
       "74D7F5F5863E5A76    1\n",
       "E6D00197CB654A30    1\n",
       "09CD8336846C8AC1    1\n",
       "97B1B01817B328F4    1\n",
       "Name: ride_id, Length: 532958, dtype: int64"
      ]
     },
     "execution_count": 59,
     "metadata": {},
     "output_type": "execute_result"
    }
   ],
   "source": [
    "# check uniqueness of ride_id\n",
    "bt_202009['ride_id'].value_counts()"
   ]
  },
  {
   "cell_type": "code",
   "execution_count": 60,
   "metadata": {
    "scrolled": true
   },
   "outputs": [
    {
     "data": {
      "text/plain": [
       "ride_id                   0\n",
       "rideable_type             0\n",
       "started_at                0\n",
       "ended_at                  0\n",
       "start_station_name    19691\n",
       "start_station_id      19901\n",
       "end_station_name      23373\n",
       "end_station_id        23524\n",
       "member_casual             0\n",
       "dtype: int64"
      ]
     },
     "execution_count": 60,
     "metadata": {},
     "output_type": "execute_result"
    }
   ],
   "source": [
    "# check NAN values\n",
    "bt_202009.isna().sum()"
   ]
  },
  {
   "cell_type": "code",
   "execution_count": 61,
   "metadata": {},
   "outputs": [],
   "source": [
    "# drop all NAN values\n",
    "bt_202009.dropna(inplace = True)"
   ]
  },
  {
   "cell_type": "code",
   "execution_count": 62,
   "metadata": {},
   "outputs": [],
   "source": [
    "# convert 'start_station_id' column from floating points to integers\n",
    "bt_202009['start_station_id'] = bt_202009['start_station_id'].astype('int64')\n",
    "\n",
    "# convert 'end_station_id' column from floating points to integers\n",
    "bt_202009['end_station_id'] = bt_202009['end_station_id'].astype('int64')"
   ]
  },
  {
   "cell_type": "markdown",
   "metadata": {},
   "source": [
    "#### (2-7) dataset: bike trips of October 2020"
   ]
  },
  {
   "cell_type": "code",
   "execution_count": 63,
   "metadata": {},
   "outputs": [],
   "source": [
    "# drop irrelevant columns: start_lat, start_lng, end_lat, end_lng\n",
    "bt_202010.drop(columns = ['start_lat', 'start_lng', 'end_lat', 'end_lng'], inplace = True)"
   ]
  },
  {
   "cell_type": "code",
   "execution_count": 64,
   "metadata": {
    "scrolled": true
   },
   "outputs": [
    {
     "data": {
      "text/plain": [
       "ride_id                object\n",
       "rideable_type          object\n",
       "started_at             object\n",
       "ended_at               object\n",
       "start_station_name     object\n",
       "start_station_id      float64\n",
       "end_station_name       object\n",
       "end_station_id        float64\n",
       "member_casual          object\n",
       "dtype: object"
      ]
     },
     "execution_count": 64,
     "metadata": {},
     "output_type": "execute_result"
    }
   ],
   "source": [
    "bt_202010.dtypes"
   ]
  },
  {
   "cell_type": "code",
   "execution_count": 65,
   "metadata": {},
   "outputs": [
    {
     "data": {
      "text/plain": [
       "426CFA980BB3B171    1\n",
       "04855A2A4FF49181    1\n",
       "77FDB517BD89F627    1\n",
       "57C26A779E12EE3D    1\n",
       "6E738B8E44293A0E    1\n",
       "                   ..\n",
       "53A638592958C154    1\n",
       "1F07222CFA75CE8B    1\n",
       "EB042395D2E60CCA    1\n",
       "FC94AA5A5B472D31    1\n",
       "F337C8153E986CF6    1\n",
       "Name: ride_id, Length: 388653, dtype: int64"
      ]
     },
     "execution_count": 65,
     "metadata": {},
     "output_type": "execute_result"
    }
   ],
   "source": [
    "# check uniqueness of ride_id\n",
    "bt_202010['ride_id'].value_counts()"
   ]
  },
  {
   "cell_type": "code",
   "execution_count": 66,
   "metadata": {},
   "outputs": [
    {
     "data": {
      "text/plain": [
       "ride_id                   0\n",
       "rideable_type             0\n",
       "started_at                0\n",
       "ended_at                  0\n",
       "start_station_name    31198\n",
       "start_station_id      31405\n",
       "end_station_name      35631\n",
       "end_station_id        35787\n",
       "member_casual             0\n",
       "dtype: int64"
      ]
     },
     "execution_count": 66,
     "metadata": {},
     "output_type": "execute_result"
    }
   ],
   "source": [
    "# check NAN values\n",
    "bt_202010.isna().sum()"
   ]
  },
  {
   "cell_type": "code",
   "execution_count": 67,
   "metadata": {},
   "outputs": [],
   "source": [
    "# drop all NAN values\n",
    "bt_202010.dropna(inplace = True)"
   ]
  },
  {
   "cell_type": "code",
   "execution_count": 68,
   "metadata": {},
   "outputs": [],
   "source": [
    "# convert 'start_station_id' column from floating points to integers\n",
    "bt_202010['start_station_id'] = bt_202010['start_station_id'].astype('int64')\n",
    "\n",
    "# convert 'end_station_id' column from floating points to integers\n",
    "bt_202010['end_station_id'] = bt_202010['end_station_id'].astype('int64')"
   ]
  },
  {
   "cell_type": "markdown",
   "metadata": {},
   "source": [
    "#### (2-8) dataset: bike trips of November 2020"
   ]
  },
  {
   "cell_type": "code",
   "execution_count": 69,
   "metadata": {},
   "outputs": [],
   "source": [
    "# drop irrelevant columns: start_lat, start_lng, end_lat, end_lng\n",
    "bt_202011.drop(columns = ['start_lat', 'start_lng', 'end_lat', 'end_lng'], inplace = True)"
   ]
  },
  {
   "cell_type": "code",
   "execution_count": 70,
   "metadata": {},
   "outputs": [
    {
     "data": {
      "text/plain": [
       "ride_id                object\n",
       "rideable_type          object\n",
       "started_at             object\n",
       "ended_at               object\n",
       "start_station_name     object\n",
       "start_station_id      float64\n",
       "end_station_name       object\n",
       "end_station_id        float64\n",
       "member_casual          object\n",
       "dtype: object"
      ]
     },
     "execution_count": 70,
     "metadata": {},
     "output_type": "execute_result"
    }
   ],
   "source": [
    "bt_202011.dtypes"
   ]
  },
  {
   "cell_type": "code",
   "execution_count": 71,
   "metadata": {},
   "outputs": [
    {
     "data": {
      "text/plain": [
       "ED10AD3C433F81DA    1\n",
       "FB4EDA636DB4D016    1\n",
       "F9BA33DBF1C2961F    1\n",
       "CD378DC0CBB47892    1\n",
       "A9D7F21606FD8222    1\n",
       "                   ..\n",
       "3FD50A3945786ED5    1\n",
       "B95D606337D3B665    1\n",
       "CF50014060A1768B    1\n",
       "B55EDA92B1054F21    1\n",
       "E8E40842A9358AF6    1\n",
       "Name: ride_id, Length: 259716, dtype: int64"
      ]
     },
     "execution_count": 71,
     "metadata": {},
     "output_type": "execute_result"
    }
   ],
   "source": [
    "# check uniqueness of ride_id\n",
    "bt_202011['ride_id'].value_counts()"
   ]
  },
  {
   "cell_type": "code",
   "execution_count": 72,
   "metadata": {},
   "outputs": [
    {
     "data": {
      "text/plain": [
       "ride_id                   0\n",
       "rideable_type             0\n",
       "started_at                0\n",
       "ended_at                  0\n",
       "start_station_name    24324\n",
       "start_station_id      24434\n",
       "end_station_name      26749\n",
       "end_station_id        26826\n",
       "member_casual             0\n",
       "dtype: int64"
      ]
     },
     "execution_count": 72,
     "metadata": {},
     "output_type": "execute_result"
    }
   ],
   "source": [
    "# check NAN values\n",
    "bt_202011.isna().sum()"
   ]
  },
  {
   "cell_type": "code",
   "execution_count": 73,
   "metadata": {},
   "outputs": [],
   "source": [
    "# drop all NAN values\n",
    "bt_202011.dropna(inplace = True)"
   ]
  },
  {
   "cell_type": "code",
   "execution_count": 74,
   "metadata": {},
   "outputs": [],
   "source": [
    "# convert 'start_station_id' column from floating points to integers\n",
    "bt_202011['start_station_id'] = bt_202011['start_station_id'].astype('int64')\n",
    "\n",
    "# convert 'end_station_id' column from floating points to integers\n",
    "bt_202011['end_station_id'] = bt_202011['end_station_id'].astype('int64')"
   ]
  },
  {
   "cell_type": "markdown",
   "metadata": {},
   "source": [
    "#### (2-9) dataset: bike trips of December 2020"
   ]
  },
  {
   "cell_type": "code",
   "execution_count": 75,
   "metadata": {},
   "outputs": [],
   "source": [
    "# drop irrelevant columns: start_lat, start_lng, end_lat, end_lng\n",
    "bt_202012.drop(columns = ['start_lat', 'start_lng', 'end_lat', 'end_lng'], inplace = True)"
   ]
  },
  {
   "cell_type": "code",
   "execution_count": 76,
   "metadata": {
    "scrolled": true
   },
   "outputs": [
    {
     "data": {
      "text/plain": [
       "ride_id               object\n",
       "rideable_type         object\n",
       "started_at            object\n",
       "ended_at              object\n",
       "start_station_name    object\n",
       "start_station_id      object\n",
       "end_station_name      object\n",
       "end_station_id        object\n",
       "member_casual         object\n",
       "dtype: object"
      ]
     },
     "execution_count": 76,
     "metadata": {},
     "output_type": "execute_result"
    }
   ],
   "source": [
    "bt_202012.dtypes"
   ]
  },
  {
   "cell_type": "code",
   "execution_count": 77,
   "metadata": {},
   "outputs": [
    {
     "data": {
      "text/plain": [
       "2DCC089ACBBFD3E5    1\n",
       "79107F35C888BF20    1\n",
       "E0DFBD3C02669A97    1\n",
       "3207B6B424C30BDF    1\n",
       "2EC8D24B1ADD9C15    1\n",
       "                   ..\n",
       "DFCE1D9244AF1D59    1\n",
       "8A38DCB66EA1CF3A    1\n",
       "073506D22B9368D9    1\n",
       "B6185AC3C44BFFA5    1\n",
       "80410E0079887CF3    1\n",
       "Name: ride_id, Length: 131573, dtype: int64"
      ]
     },
     "execution_count": 77,
     "metadata": {},
     "output_type": "execute_result"
    }
   ],
   "source": [
    "# check uniqueness of ride_id\n",
    "bt_202012['ride_id'].value_counts()"
   ]
  },
  {
   "cell_type": "code",
   "execution_count": 78,
   "metadata": {},
   "outputs": [
    {
     "data": {
      "text/plain": [
       "ride_id                   0\n",
       "rideable_type             0\n",
       "started_at                0\n",
       "ended_at                  0\n",
       "start_station_name    11699\n",
       "start_station_id      11699\n",
       "end_station_name      13237\n",
       "end_station_id        13237\n",
       "member_casual             0\n",
       "dtype: int64"
      ]
     },
     "execution_count": 78,
     "metadata": {},
     "output_type": "execute_result"
    }
   ],
   "source": [
    "# check NAN values\n",
    "bt_202012.isna().sum()"
   ]
  },
  {
   "cell_type": "code",
   "execution_count": 79,
   "metadata": {},
   "outputs": [],
   "source": [
    "# drop all NAN values\n",
    "bt_202012.dropna(inplace = True)"
   ]
  },
  {
   "cell_type": "markdown",
   "metadata": {},
   "source": [
    "***Note:***\n",
    "\n",
    "After examining *start_station_id* and *end_station_id* in this dataset, I found an inconsistency issue between station ids and their corresponding names:\n",
    "- for example, if a start or end station's name is \"Rhodes Ave & 32nd St\", then its corresponding id is 263 in all previous nine datasets; However, in this dataset it is associated with id 13215. \n",
    "\n",
    "Therefore, I will re-validate the correct ids from cross-referecing all previous datasets, and then cast these two columns into integer datatype."
   ]
  },
  {
   "cell_type": "code",
   "execution_count": 80,
   "metadata": {},
   "outputs": [],
   "source": [
    "# get all pairs of station names and ids from previous 8 datasets\n",
    "\n",
    "station_id = dict(zip(bt_202004['start_station_name'], bt_202004['start_station_id']))\n",
    "station_id.update(zip(bt_202004['end_station_name'], bt_202004['end_station_id']))\n",
    "\n",
    "station_id.update(zip(bt_202005['start_station_name'], bt_202005['start_station_id']))\n",
    "station_id.update(zip(bt_202005['end_station_name'], bt_202005['end_station_id']))\n",
    "\n",
    "station_id.update(zip(bt_202006['start_station_name'], bt_202006['start_station_id']))\n",
    "station_id.update(zip(bt_202006['end_station_name'], bt_202006['end_station_id']))\n",
    "\n",
    "station_id.update(zip(bt_202007['start_station_name'], bt_202007['start_station_id']))\n",
    "station_id.update(zip(bt_202007['end_station_name'], bt_202007['end_station_id']))\n",
    "\n",
    "station_id.update(zip(bt_202008['start_station_name'], bt_202008['start_station_id']))\n",
    "station_id.update(zip(bt_202008['end_station_name'], bt_202005['end_station_id']))\n",
    "\n",
    "station_id.update(zip(bt_202009['start_station_name'], bt_202009['start_station_id']))\n",
    "station_id.update(zip(bt_202009['end_station_name'], bt_202009['end_station_id']))\n",
    "\n",
    "station_id.update(zip(bt_202010['start_station_name'], bt_202010['start_station_id']))\n",
    "station_id.update(zip(bt_202010['end_station_name'], bt_202010['end_station_id']))\n",
    "\n",
    "station_id.update(zip(bt_202011['start_station_name'], bt_202011['start_station_id']))\n",
    "station_id.update(zip(bt_202011['end_station_name'], bt_202011['end_station_id']))"
   ]
  },
  {
   "cell_type": "markdown",
   "metadata": {},
   "source": [
    "#### I will create a function 'correct_station_name_id' to grab all start station names and end station names from the input dataframe, and determine if each station's name appears in *station_id* dictionary:\n",
    "- if it does exist, update its corresponding id from the input dataframe to the correct one;\n",
    "- if it does not exist, mark the station's name in a list 'not_changed' for further cleaning."
   ]
  },
  {
   "cell_type": "code",
   "execution_count": 87,
   "metadata": {},
   "outputs": [],
   "source": [
    "not_changed = []\n",
    "\n",
    "def correct_station_name_id(dataframe):\n",
    "    start_station_names = set(dataframe['start_station_name'])\n",
    "    end_station_names = set(dataframe['end_station_name'])\n",
    "    \n",
    "    # correct start_station_ids in the dataset\n",
    "    for name in start_station_names:\n",
    "        if name not in station_id.keys():\n",
    "            not_changed.append(name) # catch exceptions in case any station name haven't appeared in previous 8 datasets\n",
    "        else:\n",
    "            dataframe.loc[dataframe['start_station_name'] == name, 'start_station_id'] = station_id[name]\n",
    "    \n",
    "    # correct end_station_ids in the dataset\n",
    "    for name in end_station_names:\n",
    "        if name in not_changed:\n",
    "            continue\n",
    "        elif name not in station_id.keys():\n",
    "            not_changed.append(name) # catch exceptions in case any station name haven't appeared in previous 8 datasets\n",
    "        else:\n",
    "            dataframe.loc[dataframe['end_station_name'] == name, 'end_station_id'] = station_id[name]\n",
    "    \n",
    "    print('These stations below are not existed in the previous 8 datasets:')\n",
    "    return not_changed"
   ]
  },
  {
   "cell_type": "code",
   "execution_count": 88,
   "metadata": {
    "scrolled": false
   },
   "outputs": [
    {
     "name": "stdout",
     "output_type": "stream",
     "text": [
      "These stations below are not existed in the previous 8 datasets:\n"
     ]
    },
    {
     "data": {
      "text/plain": [
       "['W Oakdale Ave & N Broadway',\n",
       " 'W Armitage Ave & N Sheffield Ave',\n",
       " 'N Green St & W Lake St',\n",
       " 'Base - 2132 W Hubbard Warehouse',\n",
       " 'N Carpenter St & W Lake St']"
      ]
     },
     "execution_count": 88,
     "metadata": {},
     "output_type": "execute_result"
    }
   ],
   "source": [
    "# update stations' ids in bt_202012 and catch stations that're not existed from previous 8 datasets\n",
    "correct_station_name_id(bt_202012)"
   ]
  },
  {
   "cell_type": "markdown",
   "metadata": {},
   "source": [
    "#### As showed above, 5 station names were caught as exceptions in *not_changed*. \n",
    "\n",
    "#### Therefore, I've found the official dataset of all Divvy Bicycle Stations at <a href=\"https://data.cityofchicago.org/d/bbyy-e7gq?category=Transportation&view_name=Divvy-Bicycle-Stations\"> here </a> on <a href=\"httP://data.cityofchicago.org\"> The Chicago Data Portal website. </a></href>\n",
    "- I will download this dataset and import it below as the official reference to get the correct station names and/or corresponding ids.</h4>"
   ]
  },
  {
   "cell_type": "code",
   "execution_count": 83,
   "metadata": {
    "scrolled": false
   },
   "outputs": [],
   "source": [
    "# import the official bike stations information dataset\n",
    "official_station_info = pd.read_csv('~/00_PROJECTS/cs_1_bike_share/original_datasets/official_bike_stations_info.csv')\n",
    "\n",
    "# get the station name and id in pairs from the official station information dataset\n",
    "official_station_name_id = dict(zip(official_station_info['Station Name'], official_station_info['ID']))"
   ]
  },
  {
   "cell_type": "markdown",
   "metadata": {},
   "source": [
    "#### I will create a function 'get_correct_id' to get the correct id of each station from *official_station_name_id* which is not existed in the previous 8 datasets:\n",
    "- if it does exist, print out the station name and its corresponding id;\n",
    "- if it does not exist, print out the station name."
   ]
  },
  {
   "cell_type": "code",
   "execution_count": 90,
   "metadata": {
    "scrolled": true
   },
   "outputs": [],
   "source": [
    "def get_correct_id():\n",
    "    cannot_find_this_station = []\n",
    "    for name in not_changed:\n",
    "        if name not in official_station_name_id.keys():\n",
    "            if name not in cannot_find_this_station:\n",
    "                cannot_find_this_station.append(name)\n",
    "        else:\n",
    "            correct_id = official_station_name_id[name]\n",
    "            print(name, ': ', correct_id)\n",
    "            print()\n",
    "    \n",
    "    print('These stations below cannot be found in the official stations information dataset:')\n",
    "    return cannot_find_this_station"
   ]
  },
  {
   "cell_type": "code",
   "execution_count": 91,
   "metadata": {},
   "outputs": [
    {
     "name": "stdout",
     "output_type": "stream",
     "text": [
      "W Oakdale Ave & N Broadway :  1436495100903691938\n",
      "\n",
      "W Armitage Ave & N Sheffield Ave :  1436495105198659242\n",
      "\n",
      "N Green St & W Lake St :  1436495109493626546\n",
      "\n",
      "N Carpenter St & W Lake St :  1436495105198659246\n",
      "\n",
      "These stations below cannot be found in the official stations information dataset:\n"
     ]
    },
    {
     "data": {
      "text/plain": [
       "['Base - 2132 W Hubbard Warehouse']"
      ]
     },
     "execution_count": 91,
     "metadata": {},
     "output_type": "execute_result"
    }
   ],
   "source": [
    "# get the correct ids of stations in not_changed\n",
    "get_correct_id()"
   ]
  },
  {
   "cell_type": "markdown",
   "metadata": {},
   "source": [
    "***Note:*** \n",
    "\n",
    "The station \"Base - 2132 W Hubbard Warehouse\" cannot be found in the official station information dataset. Due to lack of information, I will drop these records."
   ]
  },
  {
   "cell_type": "code",
   "execution_count": 92,
   "metadata": {},
   "outputs": [],
   "source": [
    "# drop records with start_station_name as 'Base - 2132 W Hubbard Warehouse'\n",
    "bt_202012.drop(bt_202012[bt_202012['start_station_name'] == 'Base - 2132 W Hubbard Warehouse'].index, \n",
    "               inplace = True)\n",
    "\n",
    "# drop records with end_station_name as 'Base - 2132 W Hubbard Warehouse'\n",
    "bt_202012.drop(bt_202012[bt_202012['end_station_name'] == 'Base - 2132 W Hubbard Warehouse'].index, \n",
    "               inplace = True)"
   ]
  },
  {
   "cell_type": "markdown",
   "metadata": {},
   "source": [
    "***Note:***\n",
    "\n",
    "For the other 4 stations, I will manually update the ids in bt_202012 </h4>"
   ]
  },
  {
   "cell_type": "code",
   "execution_count": 93,
   "metadata": {},
   "outputs": [],
   "source": [
    "# update station's id with name of 'N Green St & W Lake St'\n",
    "filt_a1 = (bt_202012['start_station_name'] == 'N Green St & W Lake St')\n",
    "bt_202012.loc[filt_a1, 'start_station_id'] = 1436495109493626546\n",
    "\n",
    "filt_a2 = (bt_202012['end_station_name'] == 'N Green St & W Lake St')\n",
    "bt_202012.loc[filt_a2, 'end_station_id'] = 1436495109493626546"
   ]
  },
  {
   "cell_type": "code",
   "execution_count": 94,
   "metadata": {},
   "outputs": [],
   "source": [
    "# update station's id with name of 'W Oakdale Ave & N Broadway'\n",
    "filt_b1 = (bt_202012['start_station_name'] == 'W Oakdale Ave & N Broadway')\n",
    "bt_202012.loc[filt_b1, 'start_station_id'] = 1436495100903691938\n",
    "\n",
    "filt_b2 = (bt_202012['end_station_name'] == 'W Oakdale Ave & N Broadway')\n",
    "bt_202012.loc[filt_b2, 'end_station_id'] = 1436495100903691938"
   ]
  },
  {
   "cell_type": "code",
   "execution_count": 95,
   "metadata": {},
   "outputs": [],
   "source": [
    "# update station's id with name of 'W Armitage Ave & N Sheffield Ave'\n",
    "filt_c1 = (bt_202012['start_station_name'] == 'W Armitage Ave & N Sheffield Ave')\n",
    "bt_202012.loc[filt_c1, 'start_station_id'] = 1436495105198659242\n",
    "\n",
    "filt_c2 = (bt_202012['end_station_name'] == 'W Armitage Ave & N Sheffield Ave')\n",
    "bt_202012.loc[filt_c2, 'end_station_id'] = 1436495105198659242"
   ]
  },
  {
   "cell_type": "code",
   "execution_count": 96,
   "metadata": {},
   "outputs": [],
   "source": [
    "# update station's id with name of 'N Carpenter St & W Lake St'\n",
    "filt_d1 = (bt_202012['start_station_name'] == 'N Carpenter St & W Lake St')\n",
    "bt_202012.loc[filt_d1, 'start_station_id'] = 1436495105198659246\n",
    "\n",
    "filt_d2 = (bt_202012['end_station_name'] == 'N Carpenter St & W Lake St')\n",
    "bt_202012.loc[filt_d2, 'end_station_id'] = 1436495105198659246"
   ]
  },
  {
   "cell_type": "markdown",
   "metadata": {},
   "source": [
    "#### (2-10) dataset: bike trips of January 2021"
   ]
  },
  {
   "cell_type": "code",
   "execution_count": 97,
   "metadata": {},
   "outputs": [],
   "source": [
    "# drop irrelevant columns: start_lat, start_lng, end_lat, end_lng\n",
    "bt_202101.drop(columns = ['start_lat', 'start_lng', 'end_lat', 'end_lng'], inplace = True)"
   ]
  },
  {
   "cell_type": "code",
   "execution_count": 98,
   "metadata": {},
   "outputs": [
    {
     "data": {
      "text/plain": [
       "ride_id               object\n",
       "rideable_type         object\n",
       "started_at            object\n",
       "ended_at              object\n",
       "start_station_name    object\n",
       "start_station_id      object\n",
       "end_station_name      object\n",
       "end_station_id        object\n",
       "member_casual         object\n",
       "dtype: object"
      ]
     },
     "execution_count": 98,
     "metadata": {},
     "output_type": "execute_result"
    }
   ],
   "source": [
    "bt_202101.dtypes"
   ]
  },
  {
   "cell_type": "code",
   "execution_count": 99,
   "metadata": {},
   "outputs": [
    {
     "data": {
      "text/plain": [
       "F2BB47DB0127959C    1\n",
       "3F9F2E978B9CC6DE    1\n",
       "170AB2BD41896419    1\n",
       "C7E6F8521AF3D6E7    1\n",
       "229CD16AF3911E67    1\n",
       "                   ..\n",
       "6F2C5A9AC50190B3    1\n",
       "9676B2C516016DBF    1\n",
       "50F2FCFADE8B80B7    1\n",
       "EFD410E589F38E1A    1\n",
       "972DE641A97AF722    1\n",
       "Name: ride_id, Length: 96834, dtype: int64"
      ]
     },
     "execution_count": 99,
     "metadata": {},
     "output_type": "execute_result"
    }
   ],
   "source": [
    "# check uniqueness of ride_id\n",
    "bt_202101['ride_id'].value_counts()"
   ]
  },
  {
   "cell_type": "code",
   "execution_count": 100,
   "metadata": {},
   "outputs": [
    {
     "data": {
      "text/plain": [
       "ride_id                   0\n",
       "rideable_type             0\n",
       "started_at                0\n",
       "ended_at                  0\n",
       "start_station_name     8625\n",
       "start_station_id       8625\n",
       "end_station_name      10277\n",
       "end_station_id        10277\n",
       "member_casual             0\n",
       "dtype: int64"
      ]
     },
     "execution_count": 100,
     "metadata": {},
     "output_type": "execute_result"
    }
   ],
   "source": [
    "# check NAN values\n",
    "bt_202101.isna().sum()"
   ]
  },
  {
   "cell_type": "code",
   "execution_count": 101,
   "metadata": {},
   "outputs": [],
   "source": [
    "# drop all NAN values\n",
    "bt_202101.dropna(inplace = True)"
   ]
  },
  {
   "cell_type": "markdown",
   "metadata": {},
   "source": [
    "#### After examining *start_station_id* and *end_station_id* in this dataset, I found the same inconsistency issue between station ids and their corresponding names as before. \n",
    "    \n",
    "#### Therefore, I will re-run the whole process of validating station names with corresponding ids using:\n",
    "- the official stations information dataset from Chicago Data Portal website;\n",
    "- the dictionary \"station_id\" of all stations and ids existed in the previous 8 datasets;\n",
    "- the function \"correct_station_name_id\" to either update ids or catch exceptions;\n",
    "- the function \"get_correct_id\" to grab the correct ids for exceptions."
   ]
  },
  {
   "cell_type": "code",
   "execution_count": 102,
   "metadata": {},
   "outputs": [
    {
     "name": "stdout",
     "output_type": "stream",
     "text": [
      "These stations below are not existed in the previous 8 datasets:\n"
     ]
    },
    {
     "data": {
      "text/plain": [
       "['W Oakdale Ave & N Broadway',\n",
       " 'Broadway & Wilson - Truman College Vaccination Site',\n",
       " 'N Sheffield Ave & W Wellington Ave',\n",
       " 'N Paulina St & Lincoln Ave',\n",
       " 'W Armitage Ave & N Sheffield Ave',\n",
       " 'Malcolm X College Vaccination Site',\n",
       " 'N Southport Ave & W Newport Ave',\n",
       " 'N Green St & W Lake St',\n",
       " 'Base - 2132 W Hubbard Warehouse',\n",
       " 'Western & 28th - Velasquez Institute Vaccination Site',\n",
       " 'Avenue L & 114th St',\n",
       " 'N Damen Ave & W Wabansia St',\n",
       " 'N Carpenter St & W Lake St',\n",
       " 'W Washington Blvd & N Peoria St']"
      ]
     },
     "execution_count": 102,
     "metadata": {},
     "output_type": "execute_result"
    }
   ],
   "source": [
    "# reset the not_changed list to empty\n",
    "not_changed = []\n",
    "\n",
    "# update stations' ids in bt_202101 or catch stations that're not existed from previous 8 datasets\n",
    "correct_station_name_id(bt_202101)"
   ]
  },
  {
   "cell_type": "code",
   "execution_count": 103,
   "metadata": {
    "scrolled": false
   },
   "outputs": [
    {
     "name": "stdout",
     "output_type": "stream",
     "text": [
      "W Oakdale Ave & N Broadway :  1436495100903691938\n",
      "\n",
      "Broadway & Wilson - Truman College Vaccination Site :  293\n",
      "\n",
      "N Sheffield Ave & W Wellington Ave :  1436495118083561146\n",
      "\n",
      "N Paulina St & Lincoln Ave :  1436495122378528446\n",
      "\n",
      "W Armitage Ave & N Sheffield Ave :  1436495105198659242\n",
      "\n",
      "Malcolm X College Vaccination Site :  631\n",
      "\n",
      "N Southport Ave & W Newport Ave :  1436495115557663136\n",
      "\n",
      "N Green St & W Lake St :  1436495109493626546\n",
      "\n",
      "Western & 28th - Velasquez Institute Vaccination Site :  446\n",
      "\n",
      "Avenue L & 114th St :  1448642175142467184\n",
      "\n",
      "N Carpenter St & W Lake St :  1436495105198659246\n",
      "\n",
      "W Washington Blvd & N Peoria St :  1436495109493626544\n",
      "\n",
      "These stations below cannot be found in the official stations information dataset:\n"
     ]
    },
    {
     "data": {
      "text/plain": [
       "['Base - 2132 W Hubbard Warehouse', 'N Damen Ave & W Wabansia St']"
      ]
     },
     "execution_count": 103,
     "metadata": {},
     "output_type": "execute_result"
    }
   ],
   "source": [
    "# get the correct ids of exceptional stations in list not_changed\n",
    "get_correct_id()"
   ]
  },
  {
   "cell_type": "markdown",
   "metadata": {},
   "source": [
    "***Note:***\n",
    "\n",
    "The stations 'Base - 2132 W Hubbard Warehouse' and 'N Damen Ave & W Wabansia St' cannot be found in the official station information dataset. Due to lack of information, I will drop these records."
   ]
  },
  {
   "cell_type": "code",
   "execution_count": 104,
   "metadata": {},
   "outputs": [],
   "source": [
    "# drop records with start_station_name as 'Base - 2132 W Hubbard Warehouse'\n",
    "bt_202101.drop(bt_202101[bt_202101['start_station_name'] == 'Base - 2132 W Hubbard Warehouse'].index, \n",
    "               inplace=True)\n",
    "\n",
    "# drop records with end_station_name as 'Base - 2132 W Hubbard Warehouse'\n",
    "bt_202101.drop(bt_202101[bt_202101['end_station_name'] == 'Base - 2132 W Hubbard Warehouse'].index, \n",
    "               inplace=True)\n",
    "\n",
    "# drop records with start_station_name as 'N Damen Ave & W Wabansia St'\n",
    "bt_202101.drop(bt_202101[bt_202101['start_station_name'] == 'N Damen Ave & W Wabansia St'].index, \n",
    "               inplace=True)\n",
    "\n",
    "# drop records with end_station_name as 'N Damen Ave & W Wabansia St'\n",
    "bt_202101.drop(bt_202101[bt_202101['end_station_name'] == 'N Damen Ave & W Wabansia St'].index, \n",
    "               inplace=True)"
   ]
  },
  {
   "cell_type": "markdown",
   "metadata": {},
   "source": [
    "***Note:***\n",
    "\n",
    "For the other 12 stations, I will manually update the ids in bt_202101 </h4>"
   ]
  },
  {
   "cell_type": "code",
   "execution_count": 105,
   "metadata": {},
   "outputs": [],
   "source": [
    "# update station's id with name of 'Malcolm X College Vaccination Site'\n",
    "filt_a1 = (bt_202101['start_station_name'] == 'Malcolm X College Vaccination Site')\n",
    "bt_202101.loc[filt_a1, 'start_station_id'] = 631\n",
    "\n",
    "filt_a2 = (bt_202101['end_station_name'] == 'Malcolm X College Vaccination Site')\n",
    "bt_202101.loc[filt_a2, 'end_station_id'] = 631"
   ]
  },
  {
   "cell_type": "code",
   "execution_count": 106,
   "metadata": {},
   "outputs": [],
   "source": [
    "# update station's id with name of 'N Southport Ave & W Newport Ave'\n",
    "filt_b1 = (bt_202101['start_station_name'] == 'N Southport Ave & W Newport Ave')\n",
    "bt_202101.loc[filt_b1, 'start_station_id'] = 1436495115557663136\n",
    "\n",
    "filt_b2 = (bt_202101['end_station_name'] == 'N Southport Ave & W Newport Ave')\n",
    "bt_202101.loc[filt_b2, 'end_station_id'] = 1436495115557663136"
   ]
  },
  {
   "cell_type": "code",
   "execution_count": 107,
   "metadata": {},
   "outputs": [],
   "source": [
    "# update station's id with name of 'N Sheffield Ave & W Wellington Ave'\n",
    "filt_c1 = (bt_202101['start_station_name'] == 'N Sheffield Ave & W Wellington Ave')\n",
    "bt_202101.loc[filt_c1, 'start_station_id'] = 1436495118083561146\n",
    "\n",
    "filt_c2 = (bt_202101['end_station_name'] == 'N Sheffield Ave & W Wellington Ave')\n",
    "bt_202101.loc[filt_c2, 'end_station_id'] = 1436495115557663136"
   ]
  },
  {
   "cell_type": "code",
   "execution_count": 108,
   "metadata": {},
   "outputs": [],
   "source": [
    "# update station's id with name of 'N Paulina St & Lincoln Ave'\n",
    "filt_d1 = (bt_202101['start_station_name'] == 'N Paulina St & Lincoln Ave')\n",
    "bt_202101.loc[filt_d1, 'start_station_id'] = 1436495122378528446"
   ]
  },
  {
   "cell_type": "code",
   "execution_count": 109,
   "metadata": {},
   "outputs": [],
   "source": [
    "# update station's id with name of 'N Green St & W Lake St'\n",
    "filt_e1 = (bt_202101['start_station_name'] == 'N Green St & W Lake St')\n",
    "bt_202101.loc[filt_e1, 'start_station_id'] = 1436495109493626546\n",
    "\n",
    "filt_e2 = (bt_202101['end_station_name'] == 'N Green St & W Lake St')\n",
    "bt_202101.loc[filt_e2, 'end_station_id'] = 1436495109493626546"
   ]
  },
  {
   "cell_type": "code",
   "execution_count": 110,
   "metadata": {},
   "outputs": [],
   "source": [
    "# update station's id with name of 'W Oakdale Ave & N Broadway'\n",
    "filt_f1 = (bt_202101['start_station_name'] == 'W Oakdale Ave & N Broadway')\n",
    "bt_202101.loc[filt_f1, 'start_station_id'] = 1436495100903691938\n",
    "\n",
    "filt_f2 = (bt_202101['end_station_name'] == 'W Oakdale Ave & N Broadway')\n",
    "bt_202101.loc[filt_f2, 'end_station_id'] = 1436495100903691938"
   ]
  },
  {
   "cell_type": "code",
   "execution_count": 111,
   "metadata": {},
   "outputs": [],
   "source": [
    "# update station's id with name of 'W Armitage Ave & N Sheffield Ave'\n",
    "filt_g1 = (bt_202101['start_station_name'] == 'W Armitage Ave & N Sheffield Ave')\n",
    "bt_202101.loc[filt_g1, 'start_station_id'] = 1436495105198659242\n",
    "\n",
    "filt_g2 = (bt_202101['end_station_name'] == 'W Armitage Ave & N Sheffield Ave')\n",
    "bt_202101.loc[filt_g2, 'end_station_id'] = 1436495105198659242"
   ]
  },
  {
   "cell_type": "code",
   "execution_count": 112,
   "metadata": {},
   "outputs": [],
   "source": [
    "# update station's id with name of 'Broadway & Wilson - Truman College Vaccination Site'\n",
    "filt_h1 = (bt_202101['start_station_name'] == 'Broadway & Wilson - Truman College Vaccination Site')\n",
    "bt_202101.loc[filt_h1, 'start_station_id'] = 293\n",
    "\n",
    "filt_h2 = (bt_202101['end_station_name'] == 'Broadway & Wilson - Truman College Vaccination Site')\n",
    "bt_202101.loc[filt_h2, 'end_station_id'] = 293"
   ]
  },
  {
   "cell_type": "code",
   "execution_count": 113,
   "metadata": {},
   "outputs": [],
   "source": [
    "# update station's id with name of 'N Carpenter St & W Lake St'\n",
    "filt_i1 = (bt_202101['end_station_name'] == 'N Carpenter St & W Lake St')\n",
    "bt_202101.loc[filt_i1, 'end_station_id'] = 1436495105198659246"
   ]
  },
  {
   "cell_type": "code",
   "execution_count": 114,
   "metadata": {},
   "outputs": [],
   "source": [
    "# update station's id with name of 'Western & 28th - Velasquez Institute Vaccination Site'\n",
    "filt_j1 = (bt_202101['end_station_name'] == 'Western & 28th - Velasquez Institute Vaccination Site')\n",
    "bt_202101.loc[filt_j1, 'end_station_id'] = 446"
   ]
  },
  {
   "cell_type": "code",
   "execution_count": 115,
   "metadata": {},
   "outputs": [],
   "source": [
    "# update station's id with name of 'W Washington Blvd & N Peoria St'\n",
    "filt_k1 = (bt_202101['end_station_name'] == 'W Washington Blvd & N Peoria St')\n",
    "bt_202101.loc[filt_k1, 'end_station_id'] = 1436495109493626544"
   ]
  },
  {
   "cell_type": "code",
   "execution_count": 116,
   "metadata": {},
   "outputs": [],
   "source": [
    "# update station's id with name of 'Avenue L & 114th St'\n",
    "filt_l1 = (bt_202101['end_station_name'] == 'Avenue L & 114th St')\n",
    "bt_202101.loc[filt_l1, 'end_station_id'] = 1448642175142467184"
   ]
  },
  {
   "cell_type": "markdown",
   "metadata": {},
   "source": [
    "#### (2-11) dataset: bike trips of Feburary 2021"
   ]
  },
  {
   "cell_type": "code",
   "execution_count": 117,
   "metadata": {},
   "outputs": [],
   "source": [
    "# drop irrelevant columns: start_lat, start_lng, end_lat, end_lng\n",
    "bt_202102.drop(columns = ['start_lat', 'start_lng', 'end_lat', 'end_lng'], inplace = True)"
   ]
  },
  {
   "cell_type": "code",
   "execution_count": 118,
   "metadata": {
    "scrolled": true
   },
   "outputs": [
    {
     "data": {
      "text/plain": [
       "ride_id               object\n",
       "rideable_type         object\n",
       "started_at            object\n",
       "ended_at              object\n",
       "start_station_name    object\n",
       "start_station_id      object\n",
       "end_station_name      object\n",
       "end_station_id        object\n",
       "member_casual         object\n",
       "dtype: object"
      ]
     },
     "execution_count": 118,
     "metadata": {},
     "output_type": "execute_result"
    }
   ],
   "source": [
    "bt_202102.dtypes"
   ]
  },
  {
   "cell_type": "code",
   "execution_count": 119,
   "metadata": {},
   "outputs": [
    {
     "data": {
      "text/plain": [
       "ED0DEAF2E89D4558    1\n",
       "80EE3772AF4547CE    1\n",
       "BCE8B264129DD466    1\n",
       "5929FB3F5EE6541C    1\n",
       "E005A9CE8BBF5D38    1\n",
       "                   ..\n",
       "803C19A94B1D397D    1\n",
       "A40FCD5F473F9B38    1\n",
       "D2A92973B310228C    1\n",
       "45647EA04B2B3DF4    1\n",
       "6B7A058608B5A06A    1\n",
       "Name: ride_id, Length: 49622, dtype: int64"
      ]
     },
     "execution_count": 119,
     "metadata": {},
     "output_type": "execute_result"
    }
   ],
   "source": [
    "# check uniqueness of ride_id\n",
    "bt_202102['ride_id'].value_counts()"
   ]
  },
  {
   "cell_type": "code",
   "execution_count": 120,
   "metadata": {},
   "outputs": [
    {
     "data": {
      "text/plain": [
       "ride_id                  0\n",
       "rideable_type            0\n",
       "started_at               0\n",
       "ended_at                 0\n",
       "start_station_name    4046\n",
       "start_station_id      4046\n",
       "end_station_name      5358\n",
       "end_station_id        5358\n",
       "member_casual            0\n",
       "dtype: int64"
      ]
     },
     "execution_count": 120,
     "metadata": {},
     "output_type": "execute_result"
    }
   ],
   "source": [
    "# check NAN values\n",
    "bt_202102.isna().sum()"
   ]
  },
  {
   "cell_type": "code",
   "execution_count": 121,
   "metadata": {},
   "outputs": [],
   "source": [
    "# drop all NAN values\n",
    "bt_202102.dropna(inplace = True)"
   ]
  },
  {
   "cell_type": "markdown",
   "metadata": {},
   "source": [
    "#### After examining *start_station_id* and *end_station_id* in this dataset, I found the same inconsistency issue between station ids and their corresponding names as before. \n",
    "    \n",
    "#### Therefore, I will re-run the whole process of validating station names with corresponding ids using:\n",
    "- the official stations information dataset from Chicago Data Portal website;\n",
    "- the dictionary \"station_id\" of all stations and ids existed in the previous 8 datasets;\n",
    "- the function \"correct_station_name_id\" to either update ids or catch exceptions;\n",
    "- the function \"get_correct_id\" to grab the correct ids for exceptions."
   ]
  },
  {
   "cell_type": "code",
   "execution_count": 122,
   "metadata": {},
   "outputs": [
    {
     "name": "stdout",
     "output_type": "stream",
     "text": [
      "These stations below are not existed in the previous 8 datasets:\n"
     ]
    },
    {
     "data": {
      "text/plain": [
       "['W Oakdale Ave & N Broadway',\n",
       " 'Broadway & Wilson - Truman College Vaccination Site',\n",
       " 'N Paulina St & Lincoln Ave',\n",
       " 'W Armitage Ave & N Sheffield Ave',\n",
       " 'Malcolm X College Vaccination Site',\n",
       " 'W Washington Blvd & N Peoria St',\n",
       " 'Base - 2132 W Hubbard Warehouse',\n",
       " 'Western & 28th - Velasquez Institute Vaccination Site',\n",
       " 'N Sheffield Ave & W Wellington Ave',\n",
       " 'N Hampden Ct & W Diversey Ave',\n",
       " 'N Carpenter St & W Lake St',\n",
       " 'N Green St & W Lake St']"
      ]
     },
     "execution_count": 122,
     "metadata": {},
     "output_type": "execute_result"
    }
   ],
   "source": [
    "# reset the not_changed list to empty\n",
    "not_changed = []\n",
    "\n",
    "# update stations' ids in bt_202102 or catch stations that're not existed from previous 8 datasets\n",
    "correct_station_name_id(bt_202102)"
   ]
  },
  {
   "cell_type": "code",
   "execution_count": 123,
   "metadata": {
    "scrolled": false
   },
   "outputs": [
    {
     "name": "stdout",
     "output_type": "stream",
     "text": [
      "W Oakdale Ave & N Broadway :  1436495100903691938\n",
      "\n",
      "Broadway & Wilson - Truman College Vaccination Site :  293\n",
      "\n",
      "N Paulina St & Lincoln Ave :  1436495122378528446\n",
      "\n",
      "W Armitage Ave & N Sheffield Ave :  1436495105198659242\n",
      "\n",
      "Malcolm X College Vaccination Site :  631\n",
      "\n",
      "W Washington Blvd & N Peoria St :  1436495109493626544\n",
      "\n",
      "Western & 28th - Velasquez Institute Vaccination Site :  446\n",
      "\n",
      "N Sheffield Ave & W Wellington Ave :  1436495118083561146\n",
      "\n",
      "N Carpenter St & W Lake St :  1436495105198659246\n",
      "\n",
      "N Green St & W Lake St :  1436495109493626546\n",
      "\n",
      "These stations below cannot be found in the official stations information dataset:\n"
     ]
    },
    {
     "data": {
      "text/plain": [
       "['Base - 2132 W Hubbard Warehouse', 'N Hampden Ct & W Diversey Ave']"
      ]
     },
     "execution_count": 123,
     "metadata": {},
     "output_type": "execute_result"
    }
   ],
   "source": [
    "# get the correct ids of exceptional stations in list not_changed\n",
    "get_correct_id()"
   ]
  },
  {
   "cell_type": "markdown",
   "metadata": {},
   "source": [
    "***Note:***\n",
    "\n",
    "The stations 'Base - 2132 W Hubbard Warehouse' and 'N Hampden Ct & W Diversey Ave' cannot be found in the official station information dataset. Due to lack of information, I will drop these records."
   ]
  },
  {
   "cell_type": "code",
   "execution_count": 124,
   "metadata": {},
   "outputs": [],
   "source": [
    "# drop records with start_station_name as 'Base - 2132 W Hubbard Warehouse'\n",
    "bt_202102.drop(bt_202102[bt_202102['start_station_name'] == 'Base - 2132 W Hubbard Warehouse'].index, \n",
    "               inplace=True)\n",
    "\n",
    "# drop records with end_station_name as 'Base - 2132 W Hubbard Warehouse'\n",
    "bt_202102.drop(bt_202102[bt_202102['end_station_name'] == 'Base - 2132 W Hubbard Warehouse'].index, \n",
    "               inplace=True)\n",
    "\n",
    "# drop records with start_station_name as 'N Hampden Ct & W Diversey Ave'\n",
    "bt_202102.drop(bt_202102[bt_202102['start_station_name'] == 'N Hampden Ct & W Diversey Ave'].index, \n",
    "               inplace=True)\n",
    "\n",
    "# drop records with end_station_name as 'N Hampden Ct & W Diversey Ave'\n",
    "bt_202102.drop(bt_202102[bt_202102['end_station_name'] == 'N Hampden Ct & W Diversey Ave'].index, \n",
    "               inplace=True)"
   ]
  },
  {
   "cell_type": "markdown",
   "metadata": {},
   "source": [
    "***Note:***\n",
    "\n",
    "For the other 10 stations, I will manually update the ids in bt_202102"
   ]
  },
  {
   "cell_type": "code",
   "execution_count": 125,
   "metadata": {},
   "outputs": [],
   "source": [
    "# update station's id with name of 'Malcolm X College Vaccination Site'\n",
    "filt_a1 = (bt_202102['start_station_name'] == 'Malcolm X College Vaccination Site')\n",
    "bt_202102.loc[filt_a1, 'start_station_id'] = 631\n",
    "\n",
    "filt_a2 = (bt_202102['end_station_name'] == 'Malcolm X College Vaccination Site')\n",
    "bt_202102.loc[filt_a2, 'end_station_id'] = 631"
   ]
  },
  {
   "cell_type": "code",
   "execution_count": 126,
   "metadata": {},
   "outputs": [],
   "source": [
    "# update station's id with name of 'N Paulina St & Lincoln Ave'\n",
    "filt_b1 = (bt_202102['start_station_name'] == 'N Paulina St & Lincoln Ave')\n",
    "bt_202102.loc[filt_b1, 'start_station_id'] = 1436495122378528446\n",
    "\n",
    "filt_b2 = (bt_202102['end_station_name'] == 'N Paulina St & Lincoln Ave')\n",
    "bt_202102.loc[filt_b2, 'end_station_id'] = 1436495122378528446"
   ]
  },
  {
   "cell_type": "code",
   "execution_count": 127,
   "metadata": {},
   "outputs": [],
   "source": [
    "# update station's id with name of 'W Oakdale Ave & N Broadway'\n",
    "filt_c1 = (bt_202102['start_station_name'] == 'W Oakdale Ave & N Broadway')\n",
    "bt_202102.loc[filt_c1, 'start_station_id'] = 1436495100903691938\n",
    "\n",
    "filt_c2 = (bt_202102['end_station_name'] == 'W Oakdale Ave & N Broadway')\n",
    "bt_202102.loc[filt_c2, 'end_station_id'] = 1436495100903691938"
   ]
  },
  {
   "cell_type": "code",
   "execution_count": 128,
   "metadata": {},
   "outputs": [],
   "source": [
    "# update station's id with name of 'W Washington Blvd & N Peoria St'\n",
    "filt_d1 = (bt_202102['start_station_name'] == 'W Washington Blvd & N Peoria St')\n",
    "bt_202102.loc[filt_d1, 'start_station_id'] = 1436495109493626544\n",
    "\n",
    "filt_d2 = (bt_202102['end_station_name'] == 'W Washington Blvd & N Peoria St')\n",
    "bt_202102.loc[filt_d2, 'end_station_id'] = 1436495109493626544"
   ]
  },
  {
   "cell_type": "code",
   "execution_count": 129,
   "metadata": {},
   "outputs": [],
   "source": [
    "# update station's id with name of 'W Armitage Ave & N Sheffield Ave'\n",
    "filt_e1 = (bt_202102['start_station_name'] == 'W Armitage Ave & N Sheffield Ave')\n",
    "bt_202102.loc[filt_e1, 'start_station_id'] = 1436495105198659242\n",
    "\n",
    "filt_e2 = (bt_202102['end_station_name'] == 'W Armitage Ave & N Sheffield Ave')\n",
    "bt_202102.loc[filt_e2, 'end_station_id'] = 1436495105198659242"
   ]
  },
  {
   "cell_type": "code",
   "execution_count": 130,
   "metadata": {},
   "outputs": [],
   "source": [
    "# update station's id with name of 'Broadway & Wilson - Truman College Vaccination Site'\n",
    "filt_f1 = (bt_202102['start_station_name'] == 'Broadway & Wilson - Truman College Vaccination Site')\n",
    "bt_202102.loc[filt_f1, 'start_station_id'] = 293\n",
    "\n",
    "filt_f2 = (bt_202102['end_station_name'] == 'Broadway & Wilson - Truman College Vaccination Site')\n",
    "bt_202102.loc[filt_f2, 'end_station_id'] = 293"
   ]
  },
  {
   "cell_type": "code",
   "execution_count": 131,
   "metadata": {},
   "outputs": [],
   "source": [
    "# update station's id with name of 'N Carpenter St & W Lake St'\n",
    "filt_g1 = (bt_202102['end_station_name'] == 'N Carpenter St & W Lake St')\n",
    "bt_202102.loc[filt_g1, 'end_station_id'] = 1436495105198659246"
   ]
  },
  {
   "cell_type": "code",
   "execution_count": 132,
   "metadata": {},
   "outputs": [],
   "source": [
    "# update station's id with name of 'Western & 28th - Velasquez Institute Vaccination Site'\n",
    "filt_h1 = (bt_202102['end_station_name'] == 'Western & 28th - Velasquez Institute Vaccination Site')\n",
    "bt_202102.loc[filt_h1, 'end_station_id'] = 446"
   ]
  },
  {
   "cell_type": "code",
   "execution_count": 133,
   "metadata": {},
   "outputs": [],
   "source": [
    "# update station's id with name of 'N Sheffield Ave & W Wellington Ave'\n",
    "filt_i1 = (bt_202102['end_station_name'] == 'N Sheffield Ave & W Wellington Ave')\n",
    "bt_202102.loc[filt_i1, 'end_station_id'] = 1436495118083561146"
   ]
  },
  {
   "cell_type": "code",
   "execution_count": 134,
   "metadata": {},
   "outputs": [],
   "source": [
    "# update station's id with name of 'N Green St & W Lake St'\n",
    "filt_j1 = (bt_202102['end_station_name'] == 'N Green St & W Lake St')\n",
    "bt_202102.loc[filt_j1, 'end_station_id'] = 1436495109493626546"
   ]
  },
  {
   "cell_type": "markdown",
   "metadata": {},
   "source": [
    "#### (2-12) dataset: bike trips of March 2021"
   ]
  },
  {
   "cell_type": "code",
   "execution_count": 135,
   "metadata": {},
   "outputs": [],
   "source": [
    "# drop irrelevant columns: start_lat, start_lng, end_lat, end_lng\n",
    "bt_202103.drop(columns = ['start_lat', 'start_lng', 'end_lat', 'end_lng'], inplace = True)"
   ]
  },
  {
   "cell_type": "code",
   "execution_count": 136,
   "metadata": {},
   "outputs": [
    {
     "data": {
      "text/plain": [
       "ride_id               object\n",
       "rideable_type         object\n",
       "started_at            object\n",
       "ended_at              object\n",
       "start_station_name    object\n",
       "start_station_id      object\n",
       "end_station_name      object\n",
       "end_station_id        object\n",
       "member_casual         object\n",
       "dtype: object"
      ]
     },
     "execution_count": 136,
     "metadata": {},
     "output_type": "execute_result"
    }
   ],
   "source": [
    "bt_202103.dtypes"
   ]
  },
  {
   "cell_type": "code",
   "execution_count": 137,
   "metadata": {},
   "outputs": [
    {
     "data": {
      "text/plain": [
       "AD650BD37EA593D4    1\n",
       "9C150CE68C86E51A    1\n",
       "2F6DF1E344588326    1\n",
       "FC05D6F3AD21A924    1\n",
       "2DC9DA367EE582BB    1\n",
       "                   ..\n",
       "3F257A750F4D42CC    1\n",
       "C2654F732DA90EBF    1\n",
       "2E786D9EE8E18B7F    1\n",
       "6AB2271D62DAD733    1\n",
       "33F384EB8A9EF698    1\n",
       "Name: ride_id, Length: 228496, dtype: int64"
      ]
     },
     "execution_count": 137,
     "metadata": {},
     "output_type": "execute_result"
    }
   ],
   "source": [
    "# check uniqueness of ride_id\n",
    "bt_202103['ride_id'].value_counts()"
   ]
  },
  {
   "cell_type": "code",
   "execution_count": 138,
   "metadata": {},
   "outputs": [
    {
     "data": {
      "text/plain": [
       "ride_id                   0\n",
       "rideable_type             0\n",
       "started_at                0\n",
       "ended_at                  0\n",
       "start_station_name    14848\n",
       "start_station_id      14848\n",
       "end_station_name      16727\n",
       "end_station_id        16727\n",
       "member_casual             0\n",
       "dtype: int64"
      ]
     },
     "execution_count": 138,
     "metadata": {},
     "output_type": "execute_result"
    }
   ],
   "source": [
    "# check NAN values\n",
    "bt_202103.isna().sum()"
   ]
  },
  {
   "cell_type": "code",
   "execution_count": 139,
   "metadata": {},
   "outputs": [],
   "source": [
    "# drop all NAN values\n",
    "bt_202103.dropna(inplace = True)"
   ]
  },
  {
   "cell_type": "markdown",
   "metadata": {},
   "source": [
    "#### After examining *start_station_id* and *end_station_id* in this dataset, I found the same inconsistency issue between station ids and their corresponding names as before. \n",
    "    \n",
    "#### Therefore, I will re-run the whole process of validating station names with corresponding ids using:\n",
    "- the official stations information dataset from Chicago Data Portal website;\n",
    "- the dictionary \"station_id\" of all stations and ids existed in the previous 8 datasets;\n",
    "- the function \"correct_station_name_id\" to either update ids or catch exceptions;\n",
    "- the function \"get_correct_id\" to grab the correct ids for exceptions."
   ]
  },
  {
   "cell_type": "code",
   "execution_count": 140,
   "metadata": {},
   "outputs": [
    {
     "name": "stdout",
     "output_type": "stream",
     "text": [
      "These stations below are not existed in the previous 8 datasets:\n"
     ]
    },
    {
     "data": {
      "text/plain": [
       "['W Oakdale Ave & N Broadway',\n",
       " 'Broadway & Wilson - Truman College Vaccination Site',\n",
       " 'Western & 28th - Velasquez Institute Vaccination Site',\n",
       " 'N Sheffield Ave & W Wellington Ave',\n",
       " 'N Paulina St & Lincoln Ave',\n",
       " 'N Hampden Ct & W Diversey Ave',\n",
       " 'W Armitage Ave & N Sheffield Ave',\n",
       " 'Malcolm X College Vaccination Site',\n",
       " 'Kedzie Ave & 110th St',\n",
       " 'N Carpenter St & W Lake St',\n",
       " 'N Southport Ave & W Newport Ave',\n",
       " 'Damen Ave & Wabansia Ave',\n",
       " 'N Green St & W Lake St',\n",
       " 'W Washington Blvd & N Peoria St',\n",
       " 'Base - 2132 W Hubbard Warehouse',\n",
       " 'Chicago State University',\n",
       " 'Halsted & 63rd - Kennedy-King Vaccination Site',\n",
       " 'N Damen Ave & W Wabansia St']"
      ]
     },
     "execution_count": 140,
     "metadata": {},
     "output_type": "execute_result"
    }
   ],
   "source": [
    "# reset the not_changed list to empty\n",
    "not_changed = []\n",
    "\n",
    "# update stations' ids in bt_202103 or catch stations that're not existed from previous 8 datasets\n",
    "correct_station_name_id(bt_202103)"
   ]
  },
  {
   "cell_type": "code",
   "execution_count": 141,
   "metadata": {},
   "outputs": [
    {
     "name": "stdout",
     "output_type": "stream",
     "text": [
      "W Oakdale Ave & N Broadway :  1436495100903691938\n",
      "\n",
      "Broadway & Wilson - Truman College Vaccination Site :  293\n",
      "\n",
      "Western & 28th - Velasquez Institute Vaccination Site :  446\n",
      "\n",
      "N Sheffield Ave & W Wellington Ave :  1436495118083561146\n",
      "\n",
      "N Paulina St & Lincoln Ave :  1436495122378528446\n",
      "\n",
      "W Armitage Ave & N Sheffield Ave :  1436495105198659242\n",
      "\n",
      "Malcolm X College Vaccination Site :  631\n",
      "\n",
      "Kedzie Ave & 110th St :  736\n",
      "\n",
      "N Carpenter St & W Lake St :  1436495105198659246\n",
      "\n",
      "N Southport Ave & W Newport Ave :  1436495115557663136\n",
      "\n",
      "Damen Ave & Wabansia Ave :  1521686986436309688\n",
      "\n",
      "N Green St & W Lake St :  1436495109493626546\n",
      "\n",
      "W Washington Blvd & N Peoria St :  1436495109493626544\n",
      "\n",
      "Chicago State University :  737\n",
      "\n",
      "Halsted & 63rd - Kennedy-King Vaccination Site :  388\n",
      "\n",
      "These stations below cannot be found in the official stations information dataset:\n"
     ]
    },
    {
     "data": {
      "text/plain": [
       "['N Hampden Ct & W Diversey Ave',\n",
       " 'Base - 2132 W Hubbard Warehouse',\n",
       " 'N Damen Ave & W Wabansia St']"
      ]
     },
     "execution_count": 141,
     "metadata": {},
     "output_type": "execute_result"
    }
   ],
   "source": [
    "# get the correct ids of exceptional stations in list not_changed\n",
    "get_correct_id()"
   ]
  },
  {
   "cell_type": "markdown",
   "metadata": {},
   "source": [
    "***Note:***\n",
    "\n",
    "The stations 'Base - 2132 W Hubbard Warehouse', 'N Hampden Ct & W Diversey Ave', and 'N Damen Ave & W Wabansia St' cannot be found in the official station information dataset. Due to lack of information, I will drop these records."
   ]
  },
  {
   "cell_type": "code",
   "execution_count": 142,
   "metadata": {},
   "outputs": [],
   "source": [
    "# drop records with start_station_name as 'Base - 2132 W Hubbard Warehouse'\n",
    "bt_202103.drop(bt_202103[bt_202103['start_station_name'] == 'Base - 2132 W Hubbard Warehouse'].index, \n",
    "               inplace=True)\n",
    "\n",
    "# drop records with end_station_name as 'Base - 2132 W Hubbard Warehouse'\n",
    "bt_202103.drop(bt_202103[bt_202103['end_station_name'] == 'Base - 2132 W Hubbard Warehouse'].index, \n",
    "               inplace=True)\n",
    "\n",
    "# drop records with start_station_name as 'N Hampden Ct & W Diversey Ave'\n",
    "bt_202103.drop(bt_202103[bt_202103['start_station_name'] == 'N Hampden Ct & W Diversey Ave'].index, \n",
    "               inplace=True)\n",
    "\n",
    "# drop records with end_station_name as 'N Hampden Ct & W Diversey Ave'\n",
    "bt_202103.drop(bt_202103[bt_202103['end_station_name'] == 'N Hampden Ct & W Diversey Ave'].index, \n",
    "               inplace=True)\n",
    "\n",
    "# drop records with start_station_name as 'N Damen Ave & W Wabansia St'\n",
    "bt_202103.drop(bt_202103[bt_202103['start_station_name'] == 'N Damen Ave & W Wabansia St'].index, \n",
    "               inplace=True)\n",
    "\n",
    "# drop records with end_station_name as 'N Damen Ave & W Wabansia St'\n",
    "bt_202103.drop(bt_202103[bt_202103['end_station_name'] == 'N Damen Ave & W Wabansia St'].index, \n",
    "               inplace=True)"
   ]
  },
  {
   "cell_type": "markdown",
   "metadata": {},
   "source": [
    "***Note:***\n",
    "\n",
    "For the other 15 stations, I will manually update the ids in bt_202102"
   ]
  },
  {
   "cell_type": "code",
   "execution_count": 143,
   "metadata": {},
   "outputs": [],
   "source": [
    "# update station's id with name of 'Broadway & Wilson - Truman College Vaccination Site'\n",
    "filt_a1 = (bt_202103['start_station_name'] == 'Broadway & Wilson - Truman College Vaccination Site')\n",
    "bt_202103.loc[filt_a1, 'start_station_id'] = 293\n",
    "\n",
    "filt_a2 = (bt_202103['end_station_name'] == 'Broadway & Wilson - Truman College Vaccination Site')\n",
    "bt_202103.loc[filt_a2, 'end_station_id'] = 293"
   ]
  },
  {
   "cell_type": "code",
   "execution_count": 144,
   "metadata": {},
   "outputs": [],
   "source": [
    "# update station's id with name of 'Damen Ave & Wabansia Ave'\n",
    "filt_b1 = (bt_202103['start_station_name'] == 'Damen Ave & Wabansia Ave')\n",
    "bt_202103.loc[filt_b1, 'start_station_id'] = 1521686986436309688\n",
    "\n",
    "filt_b2 = (bt_202103['end_station_name'] == 'Damen Ave & Wabansia Ave')\n",
    "bt_202103.loc[filt_b2, 'end_station_id'] = 1521686986436309688"
   ]
  },
  {
   "cell_type": "code",
   "execution_count": 145,
   "metadata": {},
   "outputs": [],
   "source": [
    "# update station's id with name of 'Western & 28th - Velasquez Institute Vaccination Site'\n",
    "filt_c1 = (bt_202103['start_station_name'] == 'Western & 28th - Velasquez Institute Vaccination Site')\n",
    "bt_202103.loc[filt_c1, 'start_station_id'] = 446\n",
    "\n",
    "filt_c2 = (bt_202103['end_station_name'] == 'Western & 28th - Velasquez Institute Vaccination Site')\n",
    "bt_202103.loc[filt_c2, 'end_station_id'] = 446"
   ]
  },
  {
   "cell_type": "code",
   "execution_count": 146,
   "metadata": {},
   "outputs": [],
   "source": [
    "# update station's id with name of 'Chicago State University'\n",
    "filt_d1 = (bt_202103['start_station_name'] == 'Chicago State University')\n",
    "bt_202103.loc[filt_d1, 'start_station_id'] = 737\n",
    "\n",
    "filt_d2 = (bt_202103['end_station_name'] == 'Chicago State University')\n",
    "bt_202103.loc[filt_d2, 'end_station_id'] = 737"
   ]
  },
  {
   "cell_type": "code",
   "execution_count": 147,
   "metadata": {},
   "outputs": [],
   "source": [
    "# update station's id with name of 'W Armitage Ave & N Sheffield Ave'\n",
    "filt_e1 = (bt_202103['start_station_name'] == 'W Armitage Ave & N Sheffield Ave')\n",
    "bt_202103.loc[filt_e1, 'start_station_id'] = 1436495105198659242\n",
    "\n",
    "filt_e2 = (bt_202103['end_station_name'] == 'W Armitage Ave & N Sheffield Ave')\n",
    "bt_202103.loc[filt_e2, 'end_station_id'] = 1436495105198659242"
   ]
  },
  {
   "cell_type": "code",
   "execution_count": 148,
   "metadata": {},
   "outputs": [],
   "source": [
    "# update station's id with name of 'W Washington Blvd & N Peoria St'\n",
    "filt_f1 = (bt_202103['start_station_name'] == 'W Washington Blvd & N Peoria St')\n",
    "bt_202103.loc[filt_f1, 'start_station_id'] = 1436495109493626544\n",
    "\n",
    "filt_f2 = (bt_202103['end_station_name'] == 'W Washington Blvd & N Peoria St')\n",
    "bt_202103.loc[filt_f2, 'end_station_id'] = 1436495109493626544"
   ]
  },
  {
   "cell_type": "code",
   "execution_count": 149,
   "metadata": {},
   "outputs": [],
   "source": [
    "# update station's id with name of 'N Paulina St & Lincoln Ave'\n",
    "filt_g1 = (bt_202103['start_station_name'] == 'N Paulina St & Lincoln Ave')\n",
    "bt_202103.loc[filt_g1, 'start_station_id'] = 1436495122378528446\n",
    "              \n",
    "filt_g2 = (bt_202103['end_station_name'] == 'N Paulina St & Lincoln Ave')\n",
    "bt_202103.loc[filt_g2, 'end_station_id'] = 1436495122378528446"
   ]
  },
  {
   "cell_type": "code",
   "execution_count": 150,
   "metadata": {},
   "outputs": [],
   "source": [
    "# update station's id with name of 'Halsted & 63rd - Kennedy-King Vaccination Site'\n",
    "filt_h1 = (bt_202103['start_station_name'] == 'Halsted & 63rd - Kennedy-King Vaccination Site')\n",
    "bt_202103.loc[filt_h1, 'start_station_id'] = 388\n",
    "\n",
    "filt_h2 = (bt_202103['end_station_name'] == 'Halsted & 63rd - Kennedy-King Vaccination Site')\n",
    "bt_202103.loc[filt_h2, 'end_station_id'] = 388"
   ]
  },
  {
   "cell_type": "code",
   "execution_count": 151,
   "metadata": {},
   "outputs": [],
   "source": [
    "# update station's id with name of 'Kedzie Ave & 110th St'\n",
    "filt_i1 = (bt_202103['start_station_name'] == 'Kedzie Ave & 110th St')\n",
    "bt_202103.loc[filt_i1, 'start_station_id'] = 736\n",
    "\n",
    "filt_i2 = (bt_202103['end_station_name'] == 'Kedzie Ave & 110th St')\n",
    "bt_202103.loc[filt_i2, 'end_station_id'] = 736"
   ]
  },
  {
   "cell_type": "code",
   "execution_count": 152,
   "metadata": {},
   "outputs": [],
   "source": [
    "# update station's id with name of 'N Carpenter St & W Lake St'\n",
    "filt_j1 = (bt_202103['start_station_name'] == 'N Carpenter St & W Lake St')\n",
    "bt_202103.loc[filt_j1, 'start_station_id'] = 1436495105198659246\n",
    "\n",
    "filt_j2 = (bt_202103['end_station_name'] == 'N Carpenter St & W Lake St')\n",
    "bt_202103.loc[filt_j2, 'end_station_id'] = 1436495105198659246"
   ]
  },
  {
   "cell_type": "code",
   "execution_count": 153,
   "metadata": {},
   "outputs": [],
   "source": [
    "# update station's id with name of 'Malcolm X College Vaccination Site'\n",
    "filt_k1 = (bt_202103['start_station_name'] == 'Malcolm X College Vaccination Site')\n",
    "bt_202103.loc[filt_k1, 'start_station_id'] = 631\n",
    "\n",
    "filt_k2 = (bt_202103['end_station_name'] == 'Malcolm X College Vaccination Site')\n",
    "bt_202103.loc[filt_k2, 'end_station_id'] = 631"
   ]
  },
  {
   "cell_type": "code",
   "execution_count": 154,
   "metadata": {},
   "outputs": [],
   "source": [
    "# update station's id with name of 'N Sheffield Ave & W Wellington Ave'\n",
    "filt_l1 = (bt_202103['start_station_name'] == 'N Sheffield Ave & W Wellington Ave')\n",
    "bt_202103.loc[filt_l1, 'start_station_id'] = 1436495118083561146\n",
    "\n",
    "filt_l2 = (bt_202103['end_station_name'] == 'N Sheffield Ave & W Wellington Ave')\n",
    "bt_202103.loc[filt_l2, 'end_station_id'] = 1436495118083561146"
   ]
  },
  {
   "cell_type": "code",
   "execution_count": 155,
   "metadata": {},
   "outputs": [],
   "source": [
    "# update station's id with name of 'W Oakdale Ave & N Broadway'\n",
    "filt_m1 = (bt_202103['start_station_name'] == 'W Oakdale Ave & N Broadway')\n",
    "bt_202103.loc[filt_m1, 'start_station_id'] = 1436495100903691938\n",
    "\n",
    "filt_m2 = (bt_202103['end_station_name'] == 'W Oakdale Ave & N Broadway')\n",
    "bt_202103.loc[filt_m2, 'end_station_id'] = 1436495100903691938"
   ]
  },
  {
   "cell_type": "code",
   "execution_count": 156,
   "metadata": {},
   "outputs": [],
   "source": [
    "# update station's id with name of 'N Southport Ave & W Newport Ave'\n",
    "filt_n1 = (bt_202103['start_station_name'] == 'N Southport Ave & W Newport Ave')\n",
    "bt_202103.loc[filt_n1, 'start_station_id'] = 1436495115557663136\n",
    "\n",
    "filt_n2 = (bt_202103['end_station_name'] == 'N Southport Ave & W Newport Ave')\n",
    "bt_202103.loc[filt_n2, 'end_station_id'] = 1436495115557663136"
   ]
  },
  {
   "cell_type": "code",
   "execution_count": 157,
   "metadata": {},
   "outputs": [],
   "source": [
    "# update station's id with name of 'N Green St & W Lake St'\n",
    "filt_o1 = (bt_202103['start_station_name'] == 'N Green St & W Lake St')\n",
    "bt_202103.loc[filt_o1, 'start_station_id'] = 1436495109493626546\n",
    "\n",
    "filt_o2 = (bt_202103['end_station_name'] == 'N Green St & W Lake St')\n",
    "bt_202103.loc[filt_o2, 'end_station_id'] = 1436495109493626546"
   ]
  },
  {
   "cell_type": "markdown",
   "metadata": {},
   "source": [
    "### 3. Save cleaned datasets for next phase of data analysis"
   ]
  },
  {
   "cell_type": "code",
   "execution_count": 158,
   "metadata": {},
   "outputs": [],
   "source": [
    "bt_202004.to_csv('~/00_PROJECTS/cs_1_bike_share/cleaned_datasets/bt_202004.csv', index = False)\n",
    "bt_202005.to_csv('~/00_PROJECTS/cs_1_bike_share/cleaned_datasets/bt_202005.csv', index = False)\n",
    "bt_202006.to_csv('~/00_PROJECTS/cs_1_bike_share/cleaned_datasets/bt_202006.csv', index = False)\n",
    "bt_202007.to_csv('~/00_PROJECTS/cs_1_bike_share/cleaned_datasets/bt_202007.csv', index = False)\n",
    "bt_202008.to_csv('~/00_PROJECTS/cs_1_bike_share/cleaned_datasets/bt_202008.csv', index = False)\n",
    "bt_202009.to_csv('~/00_PROJECTS/cs_1_bike_share/cleaned_datasets/bt_202009.csv', index = False)\n",
    "bt_202010.to_csv('~/00_PROJECTS/cs_1_bike_share/cleaned_datasets/bt_202010.csv', index = False)\n",
    "bt_202011.to_csv('~/00_PROJECTS/cs_1_bike_share/cleaned_datasets/bt_202011.csv', index = False)\n",
    "bt_202012.to_csv('~/00_PROJECTS/cs_1_bike_share/cleaned_datasets/bt_202012.csv', index = False)\n",
    "bt_202101.to_csv('~/00_PROJECTS/cs_1_bike_share/cleaned_datasets/bt_202101.csv', index = False)\n",
    "bt_202102.to_csv('~/00_PROJECTS/cs_1_bike_share/cleaned_datasets/bt_202102.csv', index = False)\n",
    "bt_202103.to_csv('~/00_PROJECTS/cs_1_bike_share/cleaned_datasets/bt_202103.csv', index = False)"
   ]
  }
 ],
 "metadata": {
  "kernelspec": {
   "display_name": "Python 3",
   "language": "python",
   "name": "python3"
  },
  "language_info": {
   "codemirror_mode": {
    "name": "ipython",
    "version": 3
   },
   "file_extension": ".py",
   "mimetype": "text/x-python",
   "name": "python",
   "nbconvert_exporter": "python",
   "pygments_lexer": "ipython3",
   "version": "3.8.2"
  }
 },
 "nbformat": 4,
 "nbformat_minor": 4
}
